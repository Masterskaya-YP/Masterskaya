{
 "cells": [
  {
   "cell_type": "code",
   "execution_count": 1,
   "id": "ffdc6dc8-8cfb-449c-8f87-2f54a114e2fa",
   "metadata": {},
   "outputs": [],
   "source": [
    "# имортируем необходимые библиотеки\n",
    "import pandas as pd\n",
    "import json\n",
    "import os\n",
    "\n",
    "# библиотека для работы со эмоджи в тексте\n",
    "!pip install emoji -q\n",
    "import emoji"
   ]
  },
  {
   "cell_type": "markdown",
   "id": "0bba0a9c-3ac4-415a-b514-e705460d7411",
   "metadata": {},
   "source": [
    "### Функции загрузки и парсинга файлов"
   ]
  },
  {
   "cell_type": "code",
   "execution_count": 2,
   "id": "a9c25031-4547-402c-bd54-f9eccf3e5203",
   "metadata": {},
   "outputs": [],
   "source": [
    "# Функция загрузки json\n",
    "def load_json(file):\n",
    "    pth1 = f'data\\example\\{file}' # Укажи путь к папке в которой лежат файлы\n",
    "    pth2 = f'{file}' # Если json в текущей папке cо скриптом\n",
    "    if os.path.exists(pth1):\n",
    "        with open(pth1, 'r', encoding='utf-8') as json_file:\n",
    "            data = json.load(json_file)\n",
    "    elif os.path.exists(pth2):\n",
    "        with open(pth2, 'r', encoding='utf-8') as json_file:\n",
    "            data = json.load(json_file)\n",
    "    else:\n",
    "        data = None\n",
    "        print('Что-то пошло не так. Проверьте путь к файлу')\n",
    "    \n",
    "    return data"
   ]
  },
  {
   "cell_type": "code",
   "execution_count": 3,
   "id": "6ea65b11-23e3-4447-ad0f-4b5f1b7fb456",
   "metadata": {},
   "outputs": [],
   "source": [
    "# Функция очистки текста\n",
    "def clean_text(text):\n",
    "    text = emoji.replace_emoji(text, '') # Убираем эмоджи\n",
    "    text = text.replace('\\n', ' ') # Убираем символы переноса строки и заменяем на пробел\n",
    "    text = \" \".join(text.split()) # Убираем множественные пробелы\n",
    "    return text"
   ]
  },
  {
   "cell_type": "code",
   "execution_count": 4,
   "id": "bf1eaf66-b4f1-40bc-8ef3-3760481c6421",
   "metadata": {},
   "outputs": [],
   "source": [
    "# Функция сборки датафрейма из загруженного json\n",
    "def parse_json(data):\n",
    "    messages = data.get(\"messages\", []) # Получаем список сообщений\n",
    "\n",
    "    # Делаем датафрейм из полученных данных\n",
    "    df = pd.DataFrame([\n",
    "        {'date': message.get('date', []), # Получаем дату сообщения\n",
    "         'chat_name': data.get('name', []), # Получаем название чата\n",
    "         'chat_id': data.get('id', []), # Получаем id чата\n",
    "         'sender_id': message.get('from_id', []), # Получаем ID отправителя сообщения\n",
    "         'username': message.get('from', []), # Получаем имя отправителя\n",
    "         # Если t словарь, то возьмем текстовый блок, а если просто строка, то берем без изменений. И объединяем строки в общий текст через join.\n",
    "         # И пропускаем через нашу функцию очистки текста\n",
    "         'text': clean_text(''.join([t['text'] if isinstance(t, dict) else t for t in message.get('text', [])]) )\n",
    "        } for message in messages])\n",
    "\n",
    "    return df"
   ]
  },
  {
   "cell_type": "markdown",
   "id": "e6e4c7cc-a96e-4624-8fc8-7523bf38acef",
   "metadata": {},
   "source": [
    "### Проверка загрузки и парсинга"
   ]
  },
  {
   "cell_type": "code",
   "execution_count": 5,
   "id": "e2d7e05c-d715-479a-8986-d9279fc63700",
   "metadata": {},
   "outputs": [],
   "source": [
    "data = load_json('result.json')"
   ]
  },
  {
   "cell_type": "code",
   "execution_count": 6,
   "id": "4c0f6209-56a7-4aa1-9856-b238ece84634",
   "metadata": {},
   "outputs": [],
   "source": [
    "df = parse_json(data)"
   ]
  },
  {
   "cell_type": "code",
   "execution_count": 7,
   "id": "d18553b9-a699-41c7-b461-fc7ad09bb135",
   "metadata": {},
   "outputs": [
    {
     "data": {
      "text/html": [
       "<div>\n",
       "<style scoped>\n",
       "    .dataframe tbody tr th:only-of-type {\n",
       "        vertical-align: middle;\n",
       "    }\n",
       "\n",
       "    .dataframe tbody tr th {\n",
       "        vertical-align: top;\n",
       "    }\n",
       "\n",
       "    .dataframe thead th {\n",
       "        text-align: right;\n",
       "    }\n",
       "</style>\n",
       "<table border=\"1\" class=\"dataframe\">\n",
       "  <thead>\n",
       "    <tr style=\"text-align: right;\">\n",
       "      <th></th>\n",
       "      <th>date</th>\n",
       "      <th>chat_name</th>\n",
       "      <th>chat_id</th>\n",
       "      <th>sender_id</th>\n",
       "      <th>username</th>\n",
       "      <th>text</th>\n",
       "    </tr>\n",
       "  </thead>\n",
       "  <tbody>\n",
       "    <tr>\n",
       "      <th>0</th>\n",
       "      <td>2025-02-01T14:06:16</td>\n",
       "      <td>MANAGEMENT ALUMNI PRACTICUM</td>\n",
       "      <td>1586396652</td>\n",
       "      <td>channel1586396652</td>\n",
       "      <td>MANAGEMENT ALUMNI PRACTICUM</td>\n",
       "      <td>января Пока мы вспоминали, как работать и выхо...</td>\n",
       "    </tr>\n",
       "    <tr>\n",
       "      <th>1</th>\n",
       "      <td>2025-02-02T14:07:55</td>\n",
       "      <td>MANAGEMENT ALUMNI PRACTICUM</td>\n",
       "      <td>1586396652</td>\n",
       "      <td>channel1586396652</td>\n",
       "      <td>MANAGEMENT ALUMNI PRACTICUM</td>\n",
       "      <td>Переговорный клуб → 6 февраля в 20:00 МСК → Сс...</td>\n",
       "    </tr>\n",
       "    <tr>\n",
       "      <th>2</th>\n",
       "      <td>2025-02-03T14:04:43</td>\n",
       "      <td>MANAGEMENT ALUMNI PRACTICUM</td>\n",
       "      <td>1586396652</td>\n",
       "      <td>channel1586396652</td>\n",
       "      <td>MANAGEMENT ALUMNI PRACTICUM</td>\n",
       "      <td>У Практикума новый знак у выпускников новый ст...</td>\n",
       "    </tr>\n",
       "    <tr>\n",
       "      <th>3</th>\n",
       "      <td>2025-02-04T19:02:42</td>\n",
       "      <td>MANAGEMENT ALUMNI PRACTICUM</td>\n",
       "      <td>1586396652</td>\n",
       "      <td>channel1586396652</td>\n",
       "      <td>MANAGEMENT ALUMNI PRACTICUM</td>\n",
       "      <td>Прямой эфир с Олей Ладошкиной «Лидерство в 202...</td>\n",
       "    </tr>\n",
       "    <tr>\n",
       "      <th>4</th>\n",
       "      <td>2025-02-07T14:07:55</td>\n",
       "      <td>MANAGEMENT ALUMNI PRACTICUM</td>\n",
       "      <td>1586396652</td>\n",
       "      <td>channel1586396652</td>\n",
       "      <td>MANAGEMENT ALUMNI PRACTICUM</td>\n",
       "      <td>Питчинг: как презентовать идею, чтобы её услыш...</td>\n",
       "    </tr>\n",
       "  </tbody>\n",
       "</table>\n",
       "</div>"
      ],
      "text/plain": [
       "                  date                    chat_name     chat_id  \\\n",
       "0  2025-02-01T14:06:16  MANAGEMENT ALUMNI PRACTICUM  1586396652   \n",
       "1  2025-02-02T14:07:55  MANAGEMENT ALUMNI PRACTICUM  1586396652   \n",
       "2  2025-02-03T14:04:43  MANAGEMENT ALUMNI PRACTICUM  1586396652   \n",
       "3  2025-02-04T19:02:42  MANAGEMENT ALUMNI PRACTICUM  1586396652   \n",
       "4  2025-02-07T14:07:55  MANAGEMENT ALUMNI PRACTICUM  1586396652   \n",
       "\n",
       "           sender_id                     username  \\\n",
       "0  channel1586396652  MANAGEMENT ALUMNI PRACTICUM   \n",
       "1  channel1586396652  MANAGEMENT ALUMNI PRACTICUM   \n",
       "2  channel1586396652  MANAGEMENT ALUMNI PRACTICUM   \n",
       "3  channel1586396652  MANAGEMENT ALUMNI PRACTICUM   \n",
       "4  channel1586396652  MANAGEMENT ALUMNI PRACTICUM   \n",
       "\n",
       "                                                text  \n",
       "0  января Пока мы вспоминали, как работать и выхо...  \n",
       "1  Переговорный клуб → 6 февраля в 20:00 МСК → Сс...  \n",
       "2  У Практикума новый знак у выпускников новый ст...  \n",
       "3  Прямой эфир с Олей Ладошкиной «Лидерство в 202...  \n",
       "4  Питчинг: как презентовать идею, чтобы её услыш...  "
      ]
     },
     "execution_count": 7,
     "metadata": {},
     "output_type": "execute_result"
    }
   ],
   "source": [
    "df.head()"
   ]
  },
  {
   "cell_type": "code",
   "execution_count": 8,
   "id": "e66801af-f48a-42b0-bf25-8084fbf9f3bc",
   "metadata": {},
   "outputs": [
    {
     "data": {
      "text/plain": [
       "'У Практикума новый знак у выпускников новый стикерпак Сделали пачку стикеров для ситуаций, когда нужных слов не подобрать. В главной роли — рабочие и учебные будни, а ещё — наш новый логотип. Планируем отправлять их коллегам в неограниченных количествах — присоединяйтесь! Сохраняйте стикеры → по ссылке'"
      ]
     },
     "execution_count": 8,
     "metadata": {},
     "output_type": "execute_result"
    }
   ],
   "source": [
    "df['text'][2]"
   ]
  },
  {
   "cell_type": "code",
   "execution_count": 9,
   "id": "662d875f-acc3-4c23-9290-1efb0de42eac",
   "metadata": {},
   "outputs": [
    {
     "data": {
      "text/plain": [
       "(13, 6)"
      ]
     },
     "execution_count": 9,
     "metadata": {},
     "output_type": "execute_result"
    }
   ],
   "source": [
    "df.shape"
   ]
  },
  {
   "cell_type": "code",
   "execution_count": 10,
   "id": "efe97dc9-1d88-4157-b9c1-a5cfa400e57e",
   "metadata": {},
   "outputs": [],
   "source": [
    "df = parse_json(load_json('data.json'))"
   ]
  },
  {
   "cell_type": "code",
   "execution_count": 11,
   "id": "790fc6e2-88db-465d-ae62-2d55b26cb04a",
   "metadata": {},
   "outputs": [
    {
     "data": {
      "text/html": [
       "<div>\n",
       "<style scoped>\n",
       "    .dataframe tbody tr th:only-of-type {\n",
       "        vertical-align: middle;\n",
       "    }\n",
       "\n",
       "    .dataframe tbody tr th {\n",
       "        vertical-align: top;\n",
       "    }\n",
       "\n",
       "    .dataframe thead th {\n",
       "        text-align: right;\n",
       "    }\n",
       "</style>\n",
       "<table border=\"1\" class=\"dataframe\">\n",
       "  <thead>\n",
       "    <tr style=\"text-align: right;\">\n",
       "      <th></th>\n",
       "      <th>date</th>\n",
       "      <th>chat_name</th>\n",
       "      <th>chat_id</th>\n",
       "      <th>sender_id</th>\n",
       "      <th>username</th>\n",
       "      <th>text</th>\n",
       "    </tr>\n",
       "  </thead>\n",
       "  <tbody>\n",
       "    <tr>\n",
       "      <th>0</th>\n",
       "      <td>2025-02-01T22:40:19</td>\n",
       "      <td>💬 Data Practicum Chat</td>\n",
       "      <td>1379846874</td>\n",
       "      <td>[]</td>\n",
       "      <td>[]</td>\n",
       "      <td></td>\n",
       "    </tr>\n",
       "    <tr>\n",
       "      <th>1</th>\n",
       "      <td>2025-02-02T21:59:34</td>\n",
       "      <td>💬 Data Practicum Chat</td>\n",
       "      <td>1379846874</td>\n",
       "      <td>[]</td>\n",
       "      <td>[]</td>\n",
       "      <td></td>\n",
       "    </tr>\n",
       "    <tr>\n",
       "      <th>2</th>\n",
       "      <td>2025-02-03T11:28:38</td>\n",
       "      <td>💬 Data Practicum Chat</td>\n",
       "      <td>1379846874</td>\n",
       "      <td>user312724902</td>\n",
       "      <td>Olga Varavina</td>\n",
       "      <td>Всем большой привет! Приглашаю на свой уютный ...</td>\n",
       "    </tr>\n",
       "    <tr>\n",
       "      <th>3</th>\n",
       "      <td>2025-02-03T11:52:20</td>\n",
       "      <td>💬 Data Practicum Chat</td>\n",
       "      <td>1379846874</td>\n",
       "      <td>user1349934990</td>\n",
       "      <td>Илья</td>\n",
       "      <td>А у тебя когда будет свой канал про аналитику?</td>\n",
       "    </tr>\n",
       "    <tr>\n",
       "      <th>4</th>\n",
       "      <td>2025-02-03T11:52:37</td>\n",
       "      <td>💬 Data Practicum Chat</td>\n",
       "      <td>1379846874</td>\n",
       "      <td>user1349934990</td>\n",
       "      <td>Илья</td>\n",
       "      <td>Будешь туда голосовухи пятиминутные постить</td>\n",
       "    </tr>\n",
       "  </tbody>\n",
       "</table>\n",
       "</div>"
      ],
      "text/plain": [
       "                  date              chat_name     chat_id       sender_id  \\\n",
       "0  2025-02-01T22:40:19  💬 Data Practicum Chat  1379846874              []   \n",
       "1  2025-02-02T21:59:34  💬 Data Practicum Chat  1379846874              []   \n",
       "2  2025-02-03T11:28:38  💬 Data Practicum Chat  1379846874   user312724902   \n",
       "3  2025-02-03T11:52:20  💬 Data Practicum Chat  1379846874  user1349934990   \n",
       "4  2025-02-03T11:52:37  💬 Data Practicum Chat  1379846874  user1349934990   \n",
       "\n",
       "        username                                               text  \n",
       "0             []                                                     \n",
       "1             []                                                     \n",
       "2  Olga Varavina  Всем большой привет! Приглашаю на свой уютный ...  \n",
       "3           Илья     А у тебя когда будет свой канал про аналитику?  \n",
       "4           Илья        Будешь туда голосовухи пятиминутные постить  "
      ]
     },
     "execution_count": 11,
     "metadata": {},
     "output_type": "execute_result"
    }
   ],
   "source": [
    "df.head()"
   ]
  },
  {
   "cell_type": "code",
   "execution_count": 12,
   "id": "5ed265d2-50f4-467a-a72e-c5f92faf5c02",
   "metadata": {},
   "outputs": [
    {
     "data": {
      "text/html": [
       "<div>\n",
       "<style scoped>\n",
       "    .dataframe tbody tr th:only-of-type {\n",
       "        vertical-align: middle;\n",
       "    }\n",
       "\n",
       "    .dataframe tbody tr th {\n",
       "        vertical-align: top;\n",
       "    }\n",
       "\n",
       "    .dataframe thead th {\n",
       "        text-align: right;\n",
       "    }\n",
       "</style>\n",
       "<table border=\"1\" class=\"dataframe\">\n",
       "  <thead>\n",
       "    <tr style=\"text-align: right;\">\n",
       "      <th></th>\n",
       "      <th>date</th>\n",
       "      <th>chat_name</th>\n",
       "      <th>chat_id</th>\n",
       "      <th>sender_id</th>\n",
       "      <th>username</th>\n",
       "      <th>text</th>\n",
       "    </tr>\n",
       "  </thead>\n",
       "  <tbody>\n",
       "    <tr>\n",
       "      <th>495</th>\n",
       "      <td>2025-02-14T13:48:48</td>\n",
       "      <td>💬 Data Practicum Chat</td>\n",
       "      <td>1379846874</td>\n",
       "      <td>user317277992</td>\n",
       "      <td>Ksenia</td>\n",
       "      <td>спасибо!</td>\n",
       "    </tr>\n",
       "    <tr>\n",
       "      <th>577</th>\n",
       "      <td>2025-02-19T15:41:51</td>\n",
       "      <td>💬 Data Practicum Chat</td>\n",
       "      <td>1379846874</td>\n",
       "      <td>user592714812</td>\n",
       "      <td>Аркадий</td>\n",
       "      <td>ему репутацию подняли, подкуп был</td>\n",
       "    </tr>\n",
       "    <tr>\n",
       "      <th>876</th>\n",
       "      <td>2025-02-24T16:19:53</td>\n",
       "      <td>💬 Data Practicum Chat</td>\n",
       "      <td>1379846874</td>\n",
       "      <td>user295904416</td>\n",
       "      <td>Andrey Novikov</td>\n",
       "      <td>конечно, еще скажи что в генг-бенге не участво...</td>\n",
       "    </tr>\n",
       "    <tr>\n",
       "      <th>372</th>\n",
       "      <td>2025-02-08T17:39:36</td>\n",
       "      <td>💬 Data Practicum Chat</td>\n",
       "      <td>1379846874</td>\n",
       "      <td>user100092469</td>\n",
       "      <td>Irina</td>\n",
       "      <td></td>\n",
       "    </tr>\n",
       "    <tr>\n",
       "      <th>167</th>\n",
       "      <td>2025-02-04T16:25:34</td>\n",
       "      <td>💬 Data Practicum Chat</td>\n",
       "      <td>1379846874</td>\n",
       "      <td>user100092469</td>\n",
       "      <td>Irina</td>\n",
       "      <td></td>\n",
       "    </tr>\n",
       "  </tbody>\n",
       "</table>\n",
       "</div>"
      ],
      "text/plain": [
       "                    date              chat_name     chat_id      sender_id  \\\n",
       "495  2025-02-14T13:48:48  💬 Data Practicum Chat  1379846874  user317277992   \n",
       "577  2025-02-19T15:41:51  💬 Data Practicum Chat  1379846874  user592714812   \n",
       "876  2025-02-24T16:19:53  💬 Data Practicum Chat  1379846874  user295904416   \n",
       "372  2025-02-08T17:39:36  💬 Data Practicum Chat  1379846874  user100092469   \n",
       "167  2025-02-04T16:25:34  💬 Data Practicum Chat  1379846874  user100092469   \n",
       "\n",
       "           username                                               text  \n",
       "495          Ksenia                                           спасибо!  \n",
       "577         Аркадий                  ему репутацию подняли, подкуп был  \n",
       "876  Andrey Novikov  конечно, еще скажи что в генг-бенге не участво...  \n",
       "372           Irina                                                     \n",
       "167           Irina                                                     "
      ]
     },
     "execution_count": 12,
     "metadata": {},
     "output_type": "execute_result"
    }
   ],
   "source": [
    "df.sample(5)"
   ]
  },
  {
   "cell_type": "code",
   "execution_count": 13,
   "id": "a7643ec3-071c-4c02-9f00-5bab2e665267",
   "metadata": {},
   "outputs": [
    {
     "data": {
      "text/plain": [
       "(1007, 6)"
      ]
     },
     "execution_count": 13,
     "metadata": {},
     "output_type": "execute_result"
    }
   ],
   "source": [
    "df.shape"
   ]
  },
  {
   "cell_type": "code",
   "execution_count": 14,
   "id": "be88341c-e2f7-4e3f-a838-b9d671959efd",
   "metadata": {},
   "outputs": [
    {
     "data": {
      "text/plain": [
       "149"
      ]
     },
     "execution_count": 14,
     "metadata": {},
     "output_type": "execute_result"
    }
   ],
   "source": [
    "df[df['text'] == '']['text'].count()"
   ]
  },
  {
   "cell_type": "code",
   "execution_count": 15,
   "id": "ae48a1fe-4243-4754-ab6b-272e32fa2cb8",
   "metadata": {},
   "outputs": [
    {
     "data": {
      "text/html": [
       "<div>\n",
       "<style scoped>\n",
       "    .dataframe tbody tr th:only-of-type {\n",
       "        vertical-align: middle;\n",
       "    }\n",
       "\n",
       "    .dataframe tbody tr th {\n",
       "        vertical-align: top;\n",
       "    }\n",
       "\n",
       "    .dataframe thead th {\n",
       "        text-align: right;\n",
       "    }\n",
       "</style>\n",
       "<table border=\"1\" class=\"dataframe\">\n",
       "  <thead>\n",
       "    <tr style=\"text-align: right;\">\n",
       "      <th></th>\n",
       "      <th>date</th>\n",
       "      <th>chat_name</th>\n",
       "      <th>chat_id</th>\n",
       "      <th>sender_id</th>\n",
       "      <th>username</th>\n",
       "      <th>text</th>\n",
       "    </tr>\n",
       "  </thead>\n",
       "  <tbody>\n",
       "    <tr>\n",
       "      <th>0</th>\n",
       "      <td>2025-02-01T22:40:19</td>\n",
       "      <td>💬 Data Practicum Chat</td>\n",
       "      <td>1379846874</td>\n",
       "      <td>[]</td>\n",
       "      <td>[]</td>\n",
       "      <td></td>\n",
       "    </tr>\n",
       "    <tr>\n",
       "      <th>1</th>\n",
       "      <td>2025-02-02T21:59:34</td>\n",
       "      <td>💬 Data Practicum Chat</td>\n",
       "      <td>1379846874</td>\n",
       "      <td>[]</td>\n",
       "      <td>[]</td>\n",
       "      <td></td>\n",
       "    </tr>\n",
       "    <tr>\n",
       "      <th>30</th>\n",
       "      <td>2025-02-03T12:16:13</td>\n",
       "      <td>💬 Data Practicum Chat</td>\n",
       "      <td>1379846874</td>\n",
       "      <td>user168336377</td>\n",
       "      <td>Мариян Умагалова</td>\n",
       "      <td></td>\n",
       "    </tr>\n",
       "    <tr>\n",
       "      <th>33</th>\n",
       "      <td>2025-02-03T12:18:10</td>\n",
       "      <td>💬 Data Practicum Chat</td>\n",
       "      <td>1379846874</td>\n",
       "      <td>user1349934990</td>\n",
       "      <td>Илья</td>\n",
       "      <td></td>\n",
       "    </tr>\n",
       "    <tr>\n",
       "      <th>37</th>\n",
       "      <td>2025-02-03T12:20:39</td>\n",
       "      <td>💬 Data Practicum Chat</td>\n",
       "      <td>1379846874</td>\n",
       "      <td>user168336377</td>\n",
       "      <td>Мариян Умагалова</td>\n",
       "      <td></td>\n",
       "    </tr>\n",
       "  </tbody>\n",
       "</table>\n",
       "</div>"
      ],
      "text/plain": [
       "                   date              chat_name     chat_id       sender_id  \\\n",
       "0   2025-02-01T22:40:19  💬 Data Practicum Chat  1379846874              []   \n",
       "1   2025-02-02T21:59:34  💬 Data Practicum Chat  1379846874              []   \n",
       "30  2025-02-03T12:16:13  💬 Data Practicum Chat  1379846874   user168336377   \n",
       "33  2025-02-03T12:18:10  💬 Data Practicum Chat  1379846874  user1349934990   \n",
       "37  2025-02-03T12:20:39  💬 Data Practicum Chat  1379846874   user168336377   \n",
       "\n",
       "            username text  \n",
       "0                 []       \n",
       "1                 []       \n",
       "30  Мариян Умагалова       \n",
       "33              Илья       \n",
       "37  Мариян Умагалова       "
      ]
     },
     "execution_count": 15,
     "metadata": {},
     "output_type": "execute_result"
    }
   ],
   "source": [
    "df[df['text'] == ''].head(5)"
   ]
  },
  {
   "cell_type": "code",
   "execution_count": 16,
   "id": "51f2d076-0d88-46e2-972d-b115562af367",
   "metadata": {},
   "outputs": [],
   "source": [
    "df = parse_json(load_json('marketing.json'))"
   ]
  },
  {
   "cell_type": "code",
   "execution_count": 17,
   "id": "d3e34ce0-5790-4371-82e2-40ecc41754c8",
   "metadata": {},
   "outputs": [
    {
     "data": {
      "text/html": [
       "<div>\n",
       "<style scoped>\n",
       "    .dataframe tbody tr th:only-of-type {\n",
       "        vertical-align: middle;\n",
       "    }\n",
       "\n",
       "    .dataframe tbody tr th {\n",
       "        vertical-align: top;\n",
       "    }\n",
       "\n",
       "    .dataframe thead th {\n",
       "        text-align: right;\n",
       "    }\n",
       "</style>\n",
       "<table border=\"1\" class=\"dataframe\">\n",
       "  <thead>\n",
       "    <tr style=\"text-align: right;\">\n",
       "      <th></th>\n",
       "      <th>date</th>\n",
       "      <th>chat_name</th>\n",
       "      <th>chat_id</th>\n",
       "      <th>sender_id</th>\n",
       "      <th>username</th>\n",
       "      <th>text</th>\n",
       "    </tr>\n",
       "  </thead>\n",
       "  <tbody>\n",
       "    <tr>\n",
       "      <th>0</th>\n",
       "      <td>2025-02-01T07:35:54</td>\n",
       "      <td>💬 Marketing Practicum Chat</td>\n",
       "      <td>1782474569</td>\n",
       "      <td>user1272493086</td>\n",
       "      <td>Pasha Sannikov</td>\n",
       "      <td>Доброе утро, люди! Это ОК, в РСЯ алгоритмы выб...</td>\n",
       "    </tr>\n",
       "    <tr>\n",
       "      <th>1</th>\n",
       "      <td>2025-02-01T07:40:03</td>\n",
       "      <td>💬 Marketing Practicum Chat</td>\n",
       "      <td>1782474569</td>\n",
       "      <td>user1272493086</td>\n",
       "      <td>Pasha Sannikov</td>\n",
       "      <td>А вот регионы, в которых живут ITшники с интер...</td>\n",
       "    </tr>\n",
       "    <tr>\n",
       "      <th>2</th>\n",
       "      <td>2025-02-01T07:48:53</td>\n",
       "      <td>💬 Marketing Practicum Chat</td>\n",
       "      <td>1782474569</td>\n",
       "      <td>user1272493086</td>\n",
       "      <td>Pasha Sannikov</td>\n",
       "      <td>Если смотреть по интересам, то кажется, что ау...</td>\n",
       "    </tr>\n",
       "    <tr>\n",
       "      <th>3</th>\n",
       "      <td>2025-02-01T07:50:31</td>\n",
       "      <td>💬 Marketing Practicum Chat</td>\n",
       "      <td>1782474569</td>\n",
       "      <td>user1272493086</td>\n",
       "      <td>Pasha Sannikov</td>\n",
       "      <td>А путь пользователя почему-то выглядит так. Ко...</td>\n",
       "    </tr>\n",
       "    <tr>\n",
       "      <th>4</th>\n",
       "      <td>2025-02-01T08:12:42</td>\n",
       "      <td>💬 Marketing Practicum Chat</td>\n",
       "      <td>1782474569</td>\n",
       "      <td>user1164775873</td>\n",
       "      <td>Данилов | Маркетолог</td>\n",
       "      <td>Опять он</td>\n",
       "    </tr>\n",
       "  </tbody>\n",
       "</table>\n",
       "</div>"
      ],
      "text/plain": [
       "                  date                   chat_name     chat_id  \\\n",
       "0  2025-02-01T07:35:54  💬 Marketing Practicum Chat  1782474569   \n",
       "1  2025-02-01T07:40:03  💬 Marketing Practicum Chat  1782474569   \n",
       "2  2025-02-01T07:48:53  💬 Marketing Practicum Chat  1782474569   \n",
       "3  2025-02-01T07:50:31  💬 Marketing Practicum Chat  1782474569   \n",
       "4  2025-02-01T08:12:42  💬 Marketing Practicum Chat  1782474569   \n",
       "\n",
       "        sender_id              username  \\\n",
       "0  user1272493086        Pasha Sannikov   \n",
       "1  user1272493086        Pasha Sannikov   \n",
       "2  user1272493086        Pasha Sannikov   \n",
       "3  user1272493086        Pasha Sannikov   \n",
       "4  user1164775873  Данилов | Маркетолог   \n",
       "\n",
       "                                                text  \n",
       "0  Доброе утро, люди! Это ОК, в РСЯ алгоритмы выб...  \n",
       "1  А вот регионы, в которых живут ITшники с интер...  \n",
       "2  Если смотреть по интересам, то кажется, что ау...  \n",
       "3  А путь пользователя почему-то выглядит так. Ко...  \n",
       "4                                           Опять он  "
      ]
     },
     "execution_count": 17,
     "metadata": {},
     "output_type": "execute_result"
    }
   ],
   "source": [
    "df.head()"
   ]
  },
  {
   "cell_type": "code",
   "execution_count": 18,
   "id": "d8e25675-7f12-4f29-9061-9c10cb7baf44",
   "metadata": {},
   "outputs": [
    {
     "data": {
      "text/plain": [
       "(3680, 6)"
      ]
     },
     "execution_count": 18,
     "metadata": {},
     "output_type": "execute_result"
    }
   ],
   "source": [
    "df.shape"
   ]
  },
  {
   "cell_type": "code",
   "execution_count": 19,
   "id": "60b1302a-8643-4222-870b-a42977da3286",
   "metadata": {},
   "outputs": [
    {
     "data": {
      "text/plain": [
       "176"
      ]
     },
     "execution_count": 19,
     "metadata": {},
     "output_type": "execute_result"
    }
   ],
   "source": [
    "df[df['text'] == '']['text'].count()"
   ]
  },
  {
   "cell_type": "code",
   "execution_count": 22,
   "id": "af5ecaa0-b54c-4348-9041-9ba5b540de72",
   "metadata": {},
   "outputs": [],
   "source": [
    "parse_json(load_json('data.json')).to_csv('data\\example\\data.csv', sep=',', index=False, encoding='utf-8')"
   ]
  },
  {
   "cell_type": "markdown",
   "id": "27a4f17b-fa52-45a4-af4b-d82a339ff181",
   "metadata": {},
   "source": [
    "### Вывод о проделанной работе\n",
    " - Загрузку и парсинг файла вывел в функции, чтобы было удобно использовать в общем итоговом модуле и для удобства их правки.\n",
    " - При парсинге файла, очищаю текст сообщения от различных смайликов, символов переноса текста, а также множественных пробелов. Так как эти данные в тексте не пригодятся нам для итоговой суммаризации.\n",
    " - Данные собираются в датафрейм со всех предоставленных заказчиком файлов.\n",
    " - Отмечу что есть пустые сообщения - часть из них это служебные, а часть содержащие, например, только эмоджи. Например, в файле 'data.json' таких 149 из 1007 строк, а файле 'marketing.json' 176 из 3680. Считаю, что их не надо включать в итоговый датафрейм.\n",
    "\n",
    "**Вопросы**:\n",
    "- Возможно, стоит указывать ID сообщения, а также, что сообщение является ответом на сообщение, с указанием ID сообщения на который был дан ответ?\n",
    "- Как определять тип пользователя (user, admin, channel)? Брать из 'from_id', но тогда те кто по факту являются админами или ответственными за группу тоже могут попасть в тип 'user'?"
   ]
  },
  {
   "cell_type": "code",
   "execution_count": null,
   "id": "b935e5d5-9e3f-4cf7-a950-d3dcacc9866c",
   "metadata": {},
   "outputs": [],
   "source": []
  }
 ],
 "metadata": {
  "kernelspec": {
   "display_name": "Python 3 (ipykernel)",
   "language": "python",
   "name": "python3"
  },
  "language_info": {
   "codemirror_mode": {
    "name": "ipython",
    "version": 3
   },
   "file_extension": ".py",
   "mimetype": "text/x-python",
   "name": "python",
   "nbconvert_exporter": "python",
   "pygments_lexer": "ipython3",
   "version": "3.9.19"
  }
 },
 "nbformat": 4,
 "nbformat_minor": 5
}
