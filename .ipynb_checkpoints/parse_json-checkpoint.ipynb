{
 "cells": [
  {
   "cell_type": "code",
   "execution_count": 1,
   "id": "ffdc6dc8-8cfb-449c-8f87-2f54a114e2fa",
   "metadata": {},
   "outputs": [],
   "source": [
    "# имортируем необходимые библиотеки\n",
    "import pandas as pd\n",
    "import json\n",
    "import os"
   ]
  },
  {
   "cell_type": "code",
   "execution_count": 8,
   "id": "a9c25031-4547-402c-bd54-f9eccf3e5203",
   "metadata": {},
   "outputs": [],
   "source": [
    "# Загрузка json\n",
    "\n",
    "def load_json(file):\n",
    "    pth1 = f'data\\example\\{file}' # Укажи путь к папке в которой лежат файлы\n",
    "    pth2 = f'{file}' # Если json в текущей папке\n",
    "\n",
    "    if os.path.exists(pth1):\n",
    "        with open(pth1, 'r', encoding='utf-8') as json_file:\n",
    "            data = json.load(json_file)\n",
    "    elif os.path.exists(pth2):\n",
    "        with open(pth2, 'r', encoding='utf-8') as json_file:\n",
    "            data = json.load(json_file)\n",
    "    else:\n",
    "        data = None\n",
    "        print('Что-то пошло не так. Проверьте путь к файлу')\n",
    "    \n",
    "    return data"
   ]
  },
  {
   "cell_type": "code",
   "execution_count": 9,
   "id": "e2d7e05c-d715-479a-8986-d9279fc63700",
   "metadata": {},
   "outputs": [],
   "source": [
    "data = load_json('result.json')"
   ]
  }
 ],
 "metadata": {
  "kernelspec": {
   "display_name": "Python 3 (ipykernel)",
   "language": "python",
   "name": "python3"
  },
  "language_info": {
   "codemirror_mode": {
    "name": "ipython",
    "version": 3
   },
   "file_extension": ".py",
   "mimetype": "text/x-python",
   "name": "python",
   "nbconvert_exporter": "python",
   "pygments_lexer": "ipython3",
   "version": "3.9.19"
  }
 },
 "nbformat": 4,
 "nbformat_minor": 5
}
