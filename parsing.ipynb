{
  "nbformat": 4,
  "nbformat_minor": 0,
  "metadata": {
    "colab": {
      "provenance": []
    },
    "kernelspec": {
      "name": "python3",
      "display_name": "Python 3"
    },
    "language_info": {
      "name": "python"
    }
  },
  "cells": [
    {
      "cell_type": "markdown",
      "source": [
        "# Задача:\n",
        "* от заказчика передан был пример выгрузки из канала https://disk.yandex.ru/d/NcyC_Xp0EyE8ow\n",
        "Что нужно сделать:\n",
        "\n",
        "* распарсить json и положить в структуру pandas DataFrame. Пример того, что ожидается https://drive.google.com/file/d/1Ry4zMi91-qqUVLds2OVCmmG95kH8gllt/view?usp=sharing  \n",
        "\n",
        "каждый участник создает свою ветку и пушит код парсинга"
      ],
      "metadata": {
        "id": "nbCP0H73RVIq"
      }
    },
    {
      "cell_type": "code",
      "execution_count": 1,
      "metadata": {
        "id": "wRnigsOp25xU"
      },
      "outputs": [],
      "source": [
        "import json\n",
        "import pandas as pd\n",
        "import os"
      ]
    },
    {
      "cell_type": "code",
      "source": [
        "# робота с Google Диском\n",
        "from google.colab import drive\n",
        "drive.mount('/content/drive')"
      ],
      "metadata": {
        "colab": {
          "base_uri": "https://localhost:8080/"
        },
        "id": "_g3hWbUL3KFD",
        "outputId": "53ac0648-c511-4e78-fa98-31122bda1992"
      },
      "execution_count": 2,
      "outputs": [
        {
          "output_type": "stream",
          "name": "stdout",
          "text": [
            "Drive already mounted at /content/drive; to attempt to forcibly remount, call drive.mount(\"/content/drive\", force_remount=True).\n"
          ]
        }
      ]
    },
    {
      "cell_type": "code",
      "source": [
        "# Путь к json ввожу вручную\n",
        "%cd /content/drive/My Drive/Colab Notebooks/Projects/Master_Ya\n",
        "path_json = os.getcwd() + '/down/маркетинг/result.json'\n",
        "path_json"
      ],
      "metadata": {
        "colab": {
          "base_uri": "https://localhost:8080/",
          "height": 55
        },
        "id": "vnGCFMYf4ZRo",
        "outputId": "78effc22-b488-404f-b076-760d8b74ee55"
      },
      "execution_count": 3,
      "outputs": [
        {
          "output_type": "stream",
          "name": "stdout",
          "text": [
            "/content/drive/My Drive/Colab Notebooks/Projects/Master_Ya\n"
          ]
        },
        {
          "output_type": "execute_result",
          "data": {
            "text/plain": [
              "'/content/drive/My Drive/Colab Notebooks/Projects/Master_Ya/down/маркетинг/result.json'"
            ],
            "application/vnd.google.colaboratory.intrinsic+json": {
              "type": "string"
            }
          },
          "metadata": {},
          "execution_count": 3
        }
      ]
    },
    {
      "cell_type": "code",
      "source": [
        "# Загружаем JSON-файл\n",
        "with open(path_json, 'r', encoding='utf-8') as file:\n",
        "    chat_data = json.load(file)"
      ],
      "metadata": {
        "id": "VlrKRmr43IHO"
      },
      "execution_count": 4,
      "outputs": []
    },
    {
      "cell_type": "code",
      "source": [
        "# Извлекаем сообщения, а также название чата(в JSON-файл один чат) и chat_id\n",
        "messages = chat_data.get('messages', [])\n",
        "chat_name = chat_data.get('name')\n",
        "chat_id = chat_data.get('id')"
      ],
      "metadata": {
        "id": "AF6JRUlW3IEj"
      },
      "execution_count": 5,
      "outputs": []
    },
    {
      "cell_type": "code",
      "source": [
        "# Парсим текстовые сообщения\n",
        "parsed_messages = []\n",
        "for message in messages:\n",
        "    # отсекаем служебные сообщения  type: service\n",
        "    if message.get('type') == 'message':\n",
        "        text = message['text']\n",
        "        parsed_messages.append({\n",
        "            'message_id': message['id'],\n",
        "            'date': message['date'],\n",
        "            'chat_name': chat_name,\n",
        "            'chat_id': chat_id,\n",
        "            'sender_id': message.get('from_id'),\n",
        "            'from': message.get('from', 'Unknown'),\n",
        "            'text': text\n",
        "        })"
      ],
      "metadata": {
        "id": "jeZ3V0K73ICG"
      },
      "execution_count": 6,
      "outputs": []
    },
    {
      "cell_type": "code",
      "source": [
        "# Создаем датафрейм\n",
        "df = pd.DataFrame(parsed_messages)"
      ],
      "metadata": {
        "id": "xHqq6VyO3H_p"
      },
      "execution_count": 7,
      "outputs": []
    },
    {
      "cell_type": "code",
      "source": [
        "df"
      ],
      "metadata": {
        "colab": {
          "base_uri": "https://localhost:8080/",
          "height": 423
        },
        "id": "p4yNrIfr3H8t",
        "outputId": "e10ef9d1-8185-4dc1-ae86-0ba8756246dd"
      },
      "execution_count": 8,
      "outputs": [
        {
          "output_type": "execute_result",
          "data": {
            "text/plain": [
              "      message_id                 date                   chat_name     chat_id  \\\n",
              "0          42471  2025-02-01T07:35:54  💬 Marketing Practicum Chat  1782474569   \n",
              "1          42472  2025-02-01T07:40:03  💬 Marketing Practicum Chat  1782474569   \n",
              "2          42473  2025-02-01T07:48:53  💬 Marketing Practicum Chat  1782474569   \n",
              "3          42474  2025-02-01T07:50:31  💬 Marketing Practicum Chat  1782474569   \n",
              "4          42475  2025-02-01T08:12:42  💬 Marketing Practicum Chat  1782474569   \n",
              "...          ...                  ...                         ...         ...   \n",
              "3675       46400  2025-02-27T20:11:04  💬 Marketing Practicum Chat  1782474569   \n",
              "3676       46401  2025-02-27T20:23:08  💬 Marketing Practicum Chat  1782474569   \n",
              "3677       46402  2025-02-27T20:24:44  💬 Marketing Practicum Chat  1782474569   \n",
              "3678       46403  2025-02-27T20:29:44  💬 Marketing Practicum Chat  1782474569   \n",
              "3679       46405  2025-02-27T20:30:53  💬 Marketing Practicum Chat  1782474569   \n",
              "\n",
              "           sender_id                  from  \\\n",
              "0     user1272493086        Pasha Sannikov   \n",
              "1     user1272493086        Pasha Sannikov   \n",
              "2     user1272493086        Pasha Sannikov   \n",
              "3     user1272493086        Pasha Sannikov   \n",
              "4     user1164775873  Данилов | Маркетолог   \n",
              "...              ...                   ...   \n",
              "3675  user1829741608       Алексей Ермолов   \n",
              "3676  user1912824918                     S   \n",
              "3677  user1912824918                     S   \n",
              "3678  user1829741608       Алексей Ермолов   \n",
              "3679  user1912824918                     S   \n",
              "\n",
              "                                                   text  \n",
              "0     [Доброе утро, люди! Это ОК, в РСЯ алгоритмы вы...  \n",
              "1     А вот регионы, в которых живут ITшники с интер...  \n",
              "2     Если смотреть по интересам, то кажется, что ау...  \n",
              "3     А путь пользователя почему-то выглядит так. Ко...  \n",
              "4                                              Опять он  \n",
              "...                                                 ...  \n",
              "3675                                Напишу им, спасибо.  \n",
              "3676  Старые профили не удаляются, номер на который ...  \n",
              "3677  Пишите оператору (позовите пожалуйста оператор...  \n",
              "3678                                Отлично! Благодарю.  \n",
              "3679  Да там часто отвечает бот, поэтому надо добить...  \n",
              "\n",
              "[3680 rows x 7 columns]"
            ],
            "text/html": [
              "\n",
              "  <div id=\"df-d022ce47-052e-456a-9e71-f4e7d889b3a8\" class=\"colab-df-container\">\n",
              "    <div>\n",
              "<style scoped>\n",
              "    .dataframe tbody tr th:only-of-type {\n",
              "        vertical-align: middle;\n",
              "    }\n",
              "\n",
              "    .dataframe tbody tr th {\n",
              "        vertical-align: top;\n",
              "    }\n",
              "\n",
              "    .dataframe thead th {\n",
              "        text-align: right;\n",
              "    }\n",
              "</style>\n",
              "<table border=\"1\" class=\"dataframe\">\n",
              "  <thead>\n",
              "    <tr style=\"text-align: right;\">\n",
              "      <th></th>\n",
              "      <th>message_id</th>\n",
              "      <th>date</th>\n",
              "      <th>chat_name</th>\n",
              "      <th>chat_id</th>\n",
              "      <th>sender_id</th>\n",
              "      <th>from</th>\n",
              "      <th>text</th>\n",
              "    </tr>\n",
              "  </thead>\n",
              "  <tbody>\n",
              "    <tr>\n",
              "      <th>0</th>\n",
              "      <td>42471</td>\n",
              "      <td>2025-02-01T07:35:54</td>\n",
              "      <td>💬 Marketing Practicum Chat</td>\n",
              "      <td>1782474569</td>\n",
              "      <td>user1272493086</td>\n",
              "      <td>Pasha Sannikov</td>\n",
              "      <td>[Доброе утро, люди! Это ОК, в РСЯ алгоритмы вы...</td>\n",
              "    </tr>\n",
              "    <tr>\n",
              "      <th>1</th>\n",
              "      <td>42472</td>\n",
              "      <td>2025-02-01T07:40:03</td>\n",
              "      <td>💬 Marketing Practicum Chat</td>\n",
              "      <td>1782474569</td>\n",
              "      <td>user1272493086</td>\n",
              "      <td>Pasha Sannikov</td>\n",
              "      <td>А вот регионы, в которых живут ITшники с интер...</td>\n",
              "    </tr>\n",
              "    <tr>\n",
              "      <th>2</th>\n",
              "      <td>42473</td>\n",
              "      <td>2025-02-01T07:48:53</td>\n",
              "      <td>💬 Marketing Practicum Chat</td>\n",
              "      <td>1782474569</td>\n",
              "      <td>user1272493086</td>\n",
              "      <td>Pasha Sannikov</td>\n",
              "      <td>Если смотреть по интересам, то кажется, что ау...</td>\n",
              "    </tr>\n",
              "    <tr>\n",
              "      <th>3</th>\n",
              "      <td>42474</td>\n",
              "      <td>2025-02-01T07:50:31</td>\n",
              "      <td>💬 Marketing Practicum Chat</td>\n",
              "      <td>1782474569</td>\n",
              "      <td>user1272493086</td>\n",
              "      <td>Pasha Sannikov</td>\n",
              "      <td>А путь пользователя почему-то выглядит так. Ко...</td>\n",
              "    </tr>\n",
              "    <tr>\n",
              "      <th>4</th>\n",
              "      <td>42475</td>\n",
              "      <td>2025-02-01T08:12:42</td>\n",
              "      <td>💬 Marketing Practicum Chat</td>\n",
              "      <td>1782474569</td>\n",
              "      <td>user1164775873</td>\n",
              "      <td>Данилов | Маркетолог</td>\n",
              "      <td>Опять он</td>\n",
              "    </tr>\n",
              "    <tr>\n",
              "      <th>...</th>\n",
              "      <td>...</td>\n",
              "      <td>...</td>\n",
              "      <td>...</td>\n",
              "      <td>...</td>\n",
              "      <td>...</td>\n",
              "      <td>...</td>\n",
              "      <td>...</td>\n",
              "    </tr>\n",
              "    <tr>\n",
              "      <th>3675</th>\n",
              "      <td>46400</td>\n",
              "      <td>2025-02-27T20:11:04</td>\n",
              "      <td>💬 Marketing Practicum Chat</td>\n",
              "      <td>1782474569</td>\n",
              "      <td>user1829741608</td>\n",
              "      <td>Алексей Ермолов</td>\n",
              "      <td>Напишу им, спасибо.</td>\n",
              "    </tr>\n",
              "    <tr>\n",
              "      <th>3676</th>\n",
              "      <td>46401</td>\n",
              "      <td>2025-02-27T20:23:08</td>\n",
              "      <td>💬 Marketing Practicum Chat</td>\n",
              "      <td>1782474569</td>\n",
              "      <td>user1912824918</td>\n",
              "      <td>S</td>\n",
              "      <td>Старые профили не удаляются, номер на который ...</td>\n",
              "    </tr>\n",
              "    <tr>\n",
              "      <th>3677</th>\n",
              "      <td>46402</td>\n",
              "      <td>2025-02-27T20:24:44</td>\n",
              "      <td>💬 Marketing Practicum Chat</td>\n",
              "      <td>1782474569</td>\n",
              "      <td>user1912824918</td>\n",
              "      <td>S</td>\n",
              "      <td>Пишите оператору (позовите пожалуйста оператор...</td>\n",
              "    </tr>\n",
              "    <tr>\n",
              "      <th>3678</th>\n",
              "      <td>46403</td>\n",
              "      <td>2025-02-27T20:29:44</td>\n",
              "      <td>💬 Marketing Practicum Chat</td>\n",
              "      <td>1782474569</td>\n",
              "      <td>user1829741608</td>\n",
              "      <td>Алексей Ермолов</td>\n",
              "      <td>Отлично! Благодарю.</td>\n",
              "    </tr>\n",
              "    <tr>\n",
              "      <th>3679</th>\n",
              "      <td>46405</td>\n",
              "      <td>2025-02-27T20:30:53</td>\n",
              "      <td>💬 Marketing Practicum Chat</td>\n",
              "      <td>1782474569</td>\n",
              "      <td>user1912824918</td>\n",
              "      <td>S</td>\n",
              "      <td>Да там часто отвечает бот, поэтому надо добить...</td>\n",
              "    </tr>\n",
              "  </tbody>\n",
              "</table>\n",
              "<p>3680 rows × 7 columns</p>\n",
              "</div>\n",
              "    <div class=\"colab-df-buttons\">\n",
              "\n",
              "  <div class=\"colab-df-container\">\n",
              "    <button class=\"colab-df-convert\" onclick=\"convertToInteractive('df-d022ce47-052e-456a-9e71-f4e7d889b3a8')\"\n",
              "            title=\"Convert this dataframe to an interactive table.\"\n",
              "            style=\"display:none;\">\n",
              "\n",
              "  <svg xmlns=\"http://www.w3.org/2000/svg\" height=\"24px\" viewBox=\"0 -960 960 960\">\n",
              "    <path d=\"M120-120v-720h720v720H120Zm60-500h600v-160H180v160Zm220 220h160v-160H400v160Zm0 220h160v-160H400v160ZM180-400h160v-160H180v160Zm440 0h160v-160H620v160ZM180-180h160v-160H180v160Zm440 0h160v-160H620v160Z\"/>\n",
              "  </svg>\n",
              "    </button>\n",
              "\n",
              "  <style>\n",
              "    .colab-df-container {\n",
              "      display:flex;\n",
              "      gap: 12px;\n",
              "    }\n",
              "\n",
              "    .colab-df-convert {\n",
              "      background-color: #E8F0FE;\n",
              "      border: none;\n",
              "      border-radius: 50%;\n",
              "      cursor: pointer;\n",
              "      display: none;\n",
              "      fill: #1967D2;\n",
              "      height: 32px;\n",
              "      padding: 0 0 0 0;\n",
              "      width: 32px;\n",
              "    }\n",
              "\n",
              "    .colab-df-convert:hover {\n",
              "      background-color: #E2EBFA;\n",
              "      box-shadow: 0px 1px 2px rgba(60, 64, 67, 0.3), 0px 1px 3px 1px rgba(60, 64, 67, 0.15);\n",
              "      fill: #174EA6;\n",
              "    }\n",
              "\n",
              "    .colab-df-buttons div {\n",
              "      margin-bottom: 4px;\n",
              "    }\n",
              "\n",
              "    [theme=dark] .colab-df-convert {\n",
              "      background-color: #3B4455;\n",
              "      fill: #D2E3FC;\n",
              "    }\n",
              "\n",
              "    [theme=dark] .colab-df-convert:hover {\n",
              "      background-color: #434B5C;\n",
              "      box-shadow: 0px 1px 3px 1px rgba(0, 0, 0, 0.15);\n",
              "      filter: drop-shadow(0px 1px 2px rgba(0, 0, 0, 0.3));\n",
              "      fill: #FFFFFF;\n",
              "    }\n",
              "  </style>\n",
              "\n",
              "    <script>\n",
              "      const buttonEl =\n",
              "        document.querySelector('#df-d022ce47-052e-456a-9e71-f4e7d889b3a8 button.colab-df-convert');\n",
              "      buttonEl.style.display =\n",
              "        google.colab.kernel.accessAllowed ? 'block' : 'none';\n",
              "\n",
              "      async function convertToInteractive(key) {\n",
              "        const element = document.querySelector('#df-d022ce47-052e-456a-9e71-f4e7d889b3a8');\n",
              "        const dataTable =\n",
              "          await google.colab.kernel.invokeFunction('convertToInteractive',\n",
              "                                                    [key], {});\n",
              "        if (!dataTable) return;\n",
              "\n",
              "        const docLinkHtml = 'Like what you see? Visit the ' +\n",
              "          '<a target=\"_blank\" href=https://colab.research.google.com/notebooks/data_table.ipynb>data table notebook</a>'\n",
              "          + ' to learn more about interactive tables.';\n",
              "        element.innerHTML = '';\n",
              "        dataTable['output_type'] = 'display_data';\n",
              "        await google.colab.output.renderOutput(dataTable, element);\n",
              "        const docLink = document.createElement('div');\n",
              "        docLink.innerHTML = docLinkHtml;\n",
              "        element.appendChild(docLink);\n",
              "      }\n",
              "    </script>\n",
              "  </div>\n",
              "\n",
              "\n",
              "<div id=\"df-9a71cf34-842a-4d7e-8e92-8a403a3aee05\">\n",
              "  <button class=\"colab-df-quickchart\" onclick=\"quickchart('df-9a71cf34-842a-4d7e-8e92-8a403a3aee05')\"\n",
              "            title=\"Suggest charts\"\n",
              "            style=\"display:none;\">\n",
              "\n",
              "<svg xmlns=\"http://www.w3.org/2000/svg\" height=\"24px\"viewBox=\"0 0 24 24\"\n",
              "     width=\"24px\">\n",
              "    <g>\n",
              "        <path d=\"M19 3H5c-1.1 0-2 .9-2 2v14c0 1.1.9 2 2 2h14c1.1 0 2-.9 2-2V5c0-1.1-.9-2-2-2zM9 17H7v-7h2v7zm4 0h-2V7h2v10zm4 0h-2v-4h2v4z\"/>\n",
              "    </g>\n",
              "</svg>\n",
              "  </button>\n",
              "\n",
              "<style>\n",
              "  .colab-df-quickchart {\n",
              "      --bg-color: #E8F0FE;\n",
              "      --fill-color: #1967D2;\n",
              "      --hover-bg-color: #E2EBFA;\n",
              "      --hover-fill-color: #174EA6;\n",
              "      --disabled-fill-color: #AAA;\n",
              "      --disabled-bg-color: #DDD;\n",
              "  }\n",
              "\n",
              "  [theme=dark] .colab-df-quickchart {\n",
              "      --bg-color: #3B4455;\n",
              "      --fill-color: #D2E3FC;\n",
              "      --hover-bg-color: #434B5C;\n",
              "      --hover-fill-color: #FFFFFF;\n",
              "      --disabled-bg-color: #3B4455;\n",
              "      --disabled-fill-color: #666;\n",
              "  }\n",
              "\n",
              "  .colab-df-quickchart {\n",
              "    background-color: var(--bg-color);\n",
              "    border: none;\n",
              "    border-radius: 50%;\n",
              "    cursor: pointer;\n",
              "    display: none;\n",
              "    fill: var(--fill-color);\n",
              "    height: 32px;\n",
              "    padding: 0;\n",
              "    width: 32px;\n",
              "  }\n",
              "\n",
              "  .colab-df-quickchart:hover {\n",
              "    background-color: var(--hover-bg-color);\n",
              "    box-shadow: 0 1px 2px rgba(60, 64, 67, 0.3), 0 1px 3px 1px rgba(60, 64, 67, 0.15);\n",
              "    fill: var(--button-hover-fill-color);\n",
              "  }\n",
              "\n",
              "  .colab-df-quickchart-complete:disabled,\n",
              "  .colab-df-quickchart-complete:disabled:hover {\n",
              "    background-color: var(--disabled-bg-color);\n",
              "    fill: var(--disabled-fill-color);\n",
              "    box-shadow: none;\n",
              "  }\n",
              "\n",
              "  .colab-df-spinner {\n",
              "    border: 2px solid var(--fill-color);\n",
              "    border-color: transparent;\n",
              "    border-bottom-color: var(--fill-color);\n",
              "    animation:\n",
              "      spin 1s steps(1) infinite;\n",
              "  }\n",
              "\n",
              "  @keyframes spin {\n",
              "    0% {\n",
              "      border-color: transparent;\n",
              "      border-bottom-color: var(--fill-color);\n",
              "      border-left-color: var(--fill-color);\n",
              "    }\n",
              "    20% {\n",
              "      border-color: transparent;\n",
              "      border-left-color: var(--fill-color);\n",
              "      border-top-color: var(--fill-color);\n",
              "    }\n",
              "    30% {\n",
              "      border-color: transparent;\n",
              "      border-left-color: var(--fill-color);\n",
              "      border-top-color: var(--fill-color);\n",
              "      border-right-color: var(--fill-color);\n",
              "    }\n",
              "    40% {\n",
              "      border-color: transparent;\n",
              "      border-right-color: var(--fill-color);\n",
              "      border-top-color: var(--fill-color);\n",
              "    }\n",
              "    60% {\n",
              "      border-color: transparent;\n",
              "      border-right-color: var(--fill-color);\n",
              "    }\n",
              "    80% {\n",
              "      border-color: transparent;\n",
              "      border-right-color: var(--fill-color);\n",
              "      border-bottom-color: var(--fill-color);\n",
              "    }\n",
              "    90% {\n",
              "      border-color: transparent;\n",
              "      border-bottom-color: var(--fill-color);\n",
              "    }\n",
              "  }\n",
              "</style>\n",
              "\n",
              "  <script>\n",
              "    async function quickchart(key) {\n",
              "      const quickchartButtonEl =\n",
              "        document.querySelector('#' + key + ' button');\n",
              "      quickchartButtonEl.disabled = true;  // To prevent multiple clicks.\n",
              "      quickchartButtonEl.classList.add('colab-df-spinner');\n",
              "      try {\n",
              "        const charts = await google.colab.kernel.invokeFunction(\n",
              "            'suggestCharts', [key], {});\n",
              "      } catch (error) {\n",
              "        console.error('Error during call to suggestCharts:', error);\n",
              "      }\n",
              "      quickchartButtonEl.classList.remove('colab-df-spinner');\n",
              "      quickchartButtonEl.classList.add('colab-df-quickchart-complete');\n",
              "    }\n",
              "    (() => {\n",
              "      let quickchartButtonEl =\n",
              "        document.querySelector('#df-9a71cf34-842a-4d7e-8e92-8a403a3aee05 button');\n",
              "      quickchartButtonEl.style.display =\n",
              "        google.colab.kernel.accessAllowed ? 'block' : 'none';\n",
              "    })();\n",
              "  </script>\n",
              "</div>\n",
              "    </div>\n",
              "  </div>\n"
            ],
            "application/vnd.google.colaboratory.intrinsic+json": {
              "type": "dataframe",
              "variable_name": "df",
              "summary": "{\n  \"name\": \"df\",\n  \"rows\": 3680,\n  \"fields\": [\n    {\n      \"column\": \"message_id\",\n      \"properties\": {\n        \"dtype\": \"number\",\n        \"std\": 1137,\n        \"min\": 42471,\n        \"max\": 46405,\n        \"num_unique_values\": 3680,\n        \"samples\": [\n          43622,\n          45420,\n          45046\n        ],\n        \"semantic_type\": \"\",\n        \"description\": \"\"\n      }\n    },\n    {\n      \"column\": \"date\",\n      \"properties\": {\n        \"dtype\": \"object\",\n        \"num_unique_values\": 3650,\n        \"samples\": [\n          \"2025-02-07T17:23:18\",\n          \"2025-02-10T18:15:14\",\n          \"2025-02-02T20:42:00\"\n        ],\n        \"semantic_type\": \"\",\n        \"description\": \"\"\n      }\n    },\n    {\n      \"column\": \"chat_name\",\n      \"properties\": {\n        \"dtype\": \"category\",\n        \"num_unique_values\": 1,\n        \"samples\": [\n          \"\\ud83d\\udcac Marketing Practicum Chat\"\n        ],\n        \"semantic_type\": \"\",\n        \"description\": \"\"\n      }\n    },\n    {\n      \"column\": \"chat_id\",\n      \"properties\": {\n        \"dtype\": \"number\",\n        \"std\": 0,\n        \"min\": 1782474569,\n        \"max\": 1782474569,\n        \"num_unique_values\": 1,\n        \"samples\": [\n          1782474569\n        ],\n        \"semantic_type\": \"\",\n        \"description\": \"\"\n      }\n    },\n    {\n      \"column\": \"sender_id\",\n      \"properties\": {\n        \"dtype\": \"category\",\n        \"num_unique_values\": 88,\n        \"samples\": [\n          \"user6425223466\"\n        ],\n        \"semantic_type\": \"\",\n        \"description\": \"\"\n      }\n    },\n    {\n      \"column\": \"from\",\n      \"properties\": {\n        \"dtype\": \"category\",\n        \"num_unique_values\": 85,\n        \"samples\": [\n          \"Oleg Vladimirovich\"\n        ],\n        \"semantic_type\": \"\",\n        \"description\": \"\"\n      }\n    },\n    {\n      \"column\": \"text\",\n      \"properties\": {\n        \"dtype\": \"object\",\n        \"semantic_type\": \"\",\n        \"description\": \"\"\n      }\n    }\n  ]\n}"
            }
          },
          "metadata": {},
          "execution_count": 8
        }
      ]
    },
    {
      "cell_type": "markdown",
      "source": [
        "## Попробывал анализировать данные"
      ],
      "metadata": {
        "id": "vxDyDt6qVcB4"
      }
    },
    {
      "cell_type": "code",
      "source": [
        "# Топ 10 активных участников\n",
        "message_counts = df['from'].value_counts()\n",
        "print(message_counts.head(10))"
      ],
      "metadata": {
        "colab": {
          "base_uri": "https://localhost:8080/"
        },
        "id": "ZLwQcVGcFSBt",
        "outputId": "58fb536e-29ad-4693-a0cb-f6998758f8c5"
      },
      "execution_count": 9,
      "outputs": [
        {
          "output_type": "stream",
          "name": "stdout",
          "text": [
            "from\n",
            "Андрей Дамаскин         614\n",
            "Олег                    563\n",
            "Pasha Sannikov          455\n",
            "Данилов | Маркетолог    405\n",
            "Алексей Ермолов         315\n",
            "Ed                      281\n",
            "Екатерина               160\n",
            "Андрей                  131\n",
            "Дмитрий                  85\n",
            "Марина                   66\n",
            "Name: count, dtype: int64\n"
          ]
        }
      ]
    },
    {
      "cell_type": "code",
      "source": [
        "# Топ 10 дней активноти\n",
        "df['date'] = pd.to_datetime(df['date'])\n",
        "df['day'] = df['date'].dt.date\n",
        "active_days = df['day'].value_counts()\n",
        "print(active_days.head(10))"
      ],
      "metadata": {
        "colab": {
          "base_uri": "https://localhost:8080/"
        },
        "id": "d_6mV4gaFR_B",
        "outputId": "ab46417d-a98f-44f0-a6ee-f30b6448b1e4"
      },
      "execution_count": 10,
      "outputs": [
        {
          "output_type": "stream",
          "name": "stdout",
          "text": [
            "day\n",
            "2025-02-05    387\n",
            "2025-02-06    301\n",
            "2025-02-19    229\n",
            "2025-02-25    221\n",
            "2025-02-10    204\n",
            "2025-02-03    192\n",
            "2025-02-21    180\n",
            "2025-02-18    168\n",
            "2025-02-01    160\n",
            "2025-02-12    157\n",
            "Name: count, dtype: int64\n"
          ]
        }
      ]
    }
  ]
}