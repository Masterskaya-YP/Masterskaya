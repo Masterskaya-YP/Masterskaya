{
 "cells": [
  {
   "cell_type": "markdown",
   "id": "1f0d1778-92b8-47c4-8884-8fd845214b69",
   "metadata": {},
   "source": [
    "#### 1. Импорты + insttall  Bertopic + загрузка  russian_stopwords\n",
    " DictToDataFrameParser класс  из пакета module,  преобразует json в  df"
   ]
  },
  {
   "cell_type": "code",
   "execution_count": 329,
   "id": "93d2190f-23ad-4008-b97a-fdaade0a94b7",
   "metadata": {},
   "outputs": [],
   "source": [
    "import warnings\n",
    "import nltk\n",
    "import torch\n",
    "import  numpy as np\n",
    "import re\n",
    "import pandas as pd\n",
    "\n",
    "from typing import Optional\n",
    "\n",
    "from  module import DictToDataFrameParser\n",
    "\n",
    "from transformers import AutoTokenizer, pipeline\n",
    "from pathlib import Path\n",
    "\n",
    "\n",
    "from sklearn.feature_extraction.text import CountVectorizer\n",
    "from umap import UMAP\n",
    "from hdbscan import HDBSCAN\n",
    "from bertopic.vectorizers import ClassTfidfTransformer\n",
    "from nltk.corpus import stopwords  \n"
   ]
  },
  {
   "cell_type": "code",
   "execution_count": 13,
   "id": "87554c89-a3cf-4a3a-9987-78f045826e7a",
   "metadata": {
    "collapsed": true,
    "jupyter": {
     "outputs_hidden": true
    }
   },
   "outputs": [
    {
     "name": "stdout",
     "output_type": "stream",
     "text": [
      "Collecting bertopic\n",
      "  Downloading bertopic-0.17.0-py3-none-any.whl.metadata (23 kB)\n",
      "Collecting hdbscan>=0.8.29 (from bertopic)\n",
      "  Downloading hdbscan-0.8.40-cp312-cp312-win_amd64.whl.metadata (15 kB)\n",
      "Requirement already satisfied: numpy>=1.20.0 in c:\\users\\dmitr\\anaconda3\\envs\\env_nlp\\lib\\site-packages (from bertopic) (1.26.4)\n",
      "Requirement already satisfied: pandas>=1.1.5 in c:\\users\\dmitr\\anaconda3\\envs\\env_nlp\\lib\\site-packages (from bertopic) (2.2.2)\n",
      "Requirement already satisfied: plotly>=4.7.0 in c:\\users\\dmitr\\anaconda3\\envs\\env_nlp\\lib\\site-packages (from bertopic) (5.24.1)\n",
      "Requirement already satisfied: scikit-learn>=1.0 in c:\\users\\dmitr\\anaconda3\\envs\\env_nlp\\lib\\site-packages (from bertopic) (1.6.1)\n",
      "Requirement already satisfied: sentence-transformers>=0.4.1 in c:\\users\\dmitr\\anaconda3\\envs\\env_nlp\\lib\\site-packages (from bertopic) (3.3.1)\n",
      "Requirement already satisfied: tqdm>=4.41.1 in c:\\users\\dmitr\\anaconda3\\envs\\env_nlp\\lib\\site-packages (from bertopic) (4.66.5)\n",
      "Requirement already satisfied: umap-learn>=0.5.0 in c:\\users\\dmitr\\anaconda3\\envs\\env_nlp\\lib\\site-packages (from bertopic) (0.5.7)\n",
      "Requirement already satisfied: scipy>=1.0 in c:\\users\\dmitr\\anaconda3\\envs\\env_nlp\\lib\\site-packages (from hdbscan>=0.8.29->bertopic) (1.13.1)\n",
      "Requirement already satisfied: joblib>=1.0 in c:\\users\\dmitr\\anaconda3\\envs\\env_nlp\\lib\\site-packages (from hdbscan>=0.8.29->bertopic) (1.4.2)\n",
      "Requirement already satisfied: python-dateutil>=2.8.2 in c:\\users\\dmitr\\anaconda3\\envs\\env_nlp\\lib\\site-packages (from pandas>=1.1.5->bertopic) (2.9.0.post0)\n",
      "Requirement already satisfied: pytz>=2020.1 in c:\\users\\dmitr\\anaconda3\\envs\\env_nlp\\lib\\site-packages (from pandas>=1.1.5->bertopic) (2024.1)\n",
      "Requirement already satisfied: tzdata>=2022.7 in c:\\users\\dmitr\\anaconda3\\envs\\env_nlp\\lib\\site-packages (from pandas>=1.1.5->bertopic) (2024.1)\n",
      "Requirement already satisfied: tenacity>=6.2.0 in c:\\users\\dmitr\\anaconda3\\envs\\env_nlp\\lib\\site-packages (from plotly>=4.7.0->bertopic) (9.0.0)\n",
      "Requirement already satisfied: packaging in c:\\users\\dmitr\\anaconda3\\envs\\env_nlp\\lib\\site-packages (from plotly>=4.7.0->bertopic) (24.0)\n",
      "Requirement already satisfied: threadpoolctl>=3.1.0 in c:\\users\\dmitr\\anaconda3\\envs\\env_nlp\\lib\\site-packages (from scikit-learn>=1.0->bertopic) (3.5.0)\n",
      "Requirement already satisfied: transformers<5.0.0,>=4.41.0 in c:\\users\\dmitr\\anaconda3\\envs\\env_nlp\\lib\\site-packages (from sentence-transformers>=0.4.1->bertopic) (4.44.2)\n",
      "Requirement already satisfied: torch>=1.11.0 in c:\\users\\dmitr\\anaconda3\\envs\\env_nlp\\lib\\site-packages (from sentence-transformers>=0.4.1->bertopic) (2.6.0)\n",
      "Requirement already satisfied: huggingface-hub>=0.20.0 in c:\\users\\dmitr\\anaconda3\\envs\\env_nlp\\lib\\site-packages (from sentence-transformers>=0.4.1->bertopic) (0.23.4)\n",
      "Requirement already satisfied: Pillow in c:\\users\\dmitr\\anaconda3\\envs\\env_nlp\\lib\\site-packages (from sentence-transformers>=0.4.1->bertopic) (10.4.0)\n",
      "Requirement already satisfied: colorama in c:\\users\\dmitr\\anaconda3\\envs\\env_nlp\\lib\\site-packages (from tqdm>=4.41.1->bertopic) (0.4.6)\n",
      "Requirement already satisfied: numba>=0.51.2 in c:\\users\\dmitr\\anaconda3\\envs\\env_nlp\\lib\\site-packages (from umap-learn>=0.5.0->bertopic) (0.60.0)\n",
      "Requirement already satisfied: pynndescent>=0.5 in c:\\users\\dmitr\\anaconda3\\envs\\env_nlp\\lib\\site-packages (from umap-learn>=0.5.0->bertopic) (0.5.13)\n",
      "Requirement already satisfied: filelock in c:\\users\\dmitr\\anaconda3\\envs\\env_nlp\\lib\\site-packages (from huggingface-hub>=0.20.0->sentence-transformers>=0.4.1->bertopic) (3.15.4)\n",
      "Requirement already satisfied: fsspec>=2023.5.0 in c:\\users\\dmitr\\anaconda3\\envs\\env_nlp\\lib\\site-packages (from huggingface-hub>=0.20.0->sentence-transformers>=0.4.1->bertopic) (2024.6.1)\n",
      "Requirement already satisfied: pyyaml>=5.1 in c:\\users\\dmitr\\anaconda3\\envs\\env_nlp\\lib\\site-packages (from huggingface-hub>=0.20.0->sentence-transformers>=0.4.1->bertopic) (6.0.2)\n",
      "Requirement already satisfied: requests in c:\\users\\dmitr\\anaconda3\\envs\\env_nlp\\lib\\site-packages (from huggingface-hub>=0.20.0->sentence-transformers>=0.4.1->bertopic) (2.32.3)\n",
      "Requirement already satisfied: typing-extensions>=3.7.4.3 in c:\\users\\dmitr\\anaconda3\\envs\\env_nlp\\lib\\site-packages (from huggingface-hub>=0.20.0->sentence-transformers>=0.4.1->bertopic) (4.12.2)\n",
      "Requirement already satisfied: llvmlite<0.44,>=0.43.0dev0 in c:\\users\\dmitr\\anaconda3\\envs\\env_nlp\\lib\\site-packages (from numba>=0.51.2->umap-learn>=0.5.0->bertopic) (0.43.0)\n",
      "Requirement already satisfied: six>=1.5 in c:\\users\\dmitr\\anaconda3\\envs\\env_nlp\\lib\\site-packages (from python-dateutil>=2.8.2->pandas>=1.1.5->bertopic) (1.16.0)\n",
      "Requirement already satisfied: networkx in c:\\users\\dmitr\\anaconda3\\envs\\env_nlp\\lib\\site-packages (from torch>=1.11.0->sentence-transformers>=0.4.1->bertopic) (3.3)\n",
      "Requirement already satisfied: jinja2 in c:\\users\\dmitr\\anaconda3\\envs\\env_nlp\\lib\\site-packages (from torch>=1.11.0->sentence-transformers>=0.4.1->bertopic) (3.1.4)\n",
      "Requirement already satisfied: setuptools in c:\\users\\dmitr\\anaconda3\\envs\\env_nlp\\lib\\site-packages (from torch>=1.11.0->sentence-transformers>=0.4.1->bertopic) (72.2.0)\n",
      "Requirement already satisfied: sympy==1.13.1 in c:\\users\\dmitr\\anaconda3\\envs\\env_nlp\\lib\\site-packages (from torch>=1.11.0->sentence-transformers>=0.4.1->bertopic) (1.13.1)\n",
      "Requirement already satisfied: mpmath<1.4,>=1.1.0 in c:\\users\\dmitr\\anaconda3\\envs\\env_nlp\\lib\\site-packages (from sympy==1.13.1->torch>=1.11.0->sentence-transformers>=0.4.1->bertopic) (1.3.0)\n",
      "Requirement already satisfied: regex!=2019.12.17 in c:\\users\\dmitr\\anaconda3\\envs\\env_nlp\\lib\\site-packages (from transformers<5.0.0,>=4.41.0->sentence-transformers>=0.4.1->bertopic) (2024.7.24)\n",
      "Requirement already satisfied: safetensors>=0.4.1 in c:\\users\\dmitr\\anaconda3\\envs\\env_nlp\\lib\\site-packages (from transformers<5.0.0,>=4.41.0->sentence-transformers>=0.4.1->bertopic) (0.4.4)\n",
      "Requirement already satisfied: tokenizers<0.20,>=0.19 in c:\\users\\dmitr\\anaconda3\\envs\\env_nlp\\lib\\site-packages (from transformers<5.0.0,>=4.41.0->sentence-transformers>=0.4.1->bertopic) (0.19.1)\n",
      "Requirement already satisfied: MarkupSafe>=2.0 in c:\\users\\dmitr\\anaconda3\\envs\\env_nlp\\lib\\site-packages (from jinja2->torch>=1.11.0->sentence-transformers>=0.4.1->bertopic) (2.1.5)\n",
      "Requirement already satisfied: charset-normalizer<4,>=2 in c:\\users\\dmitr\\anaconda3\\envs\\env_nlp\\lib\\site-packages (from requests->huggingface-hub>=0.20.0->sentence-transformers>=0.4.1->bertopic) (3.3.2)\n",
      "Requirement already satisfied: idna<4,>=2.5 in c:\\users\\dmitr\\anaconda3\\envs\\env_nlp\\lib\\site-packages (from requests->huggingface-hub>=0.20.0->sentence-transformers>=0.4.1->bertopic) (3.8)\n",
      "Requirement already satisfied: urllib3<3,>=1.21.1 in c:\\users\\dmitr\\anaconda3\\envs\\env_nlp\\lib\\site-packages (from requests->huggingface-hub>=0.20.0->sentence-transformers>=0.4.1->bertopic) (2.2.2)\n",
      "Requirement already satisfied: certifi>=2017.4.17 in c:\\users\\dmitr\\anaconda3\\envs\\env_nlp\\lib\\site-packages (from requests->huggingface-hub>=0.20.0->sentence-transformers>=0.4.1->bertopic) (2024.8.30)\n",
      "Downloading bertopic-0.17.0-py3-none-any.whl (150 kB)\n",
      "Downloading hdbscan-0.8.40-cp312-cp312-win_amd64.whl (726 kB)\n",
      "   ---------------------------------------- 0.0/726.2 kB ? eta -:--:--\n",
      "   ---------------------------- ----------- 524.3/726.2 kB 4.2 MB/s eta 0:00:01\n",
      "   ---------------------------------------- 726.2/726.2 kB 4.9 MB/s eta 0:00:00\n",
      "Installing collected packages: hdbscan, bertopic\n",
      "Successfully installed bertopic-0.17.0 hdbscan-0.8.40\n"
     ]
    }
   ],
   "source": [
    "try:\n",
    "    from bertopic import BERTopic\n",
    "except:\n",
    "    !pip install bertopic\n",
    "    from bertopic import BERTopic"
   ]
  },
  {
   "cell_type": "code",
   "execution_count": null,
   "id": "2d85f391-8e7a-494d-944b-d1f5eee807d5",
   "metadata": {},
   "outputs": [],
   "source": [
    "warnings.filterwarnings('ignore', category=UserWarning, module='transformers')\n",
    "warnings.filterwarnings('ignore', category=FutureWarning, module='transformers')"
   ]
  },
  {
   "cell_type": "code",
   "execution_count": 5,
   "id": "3125886c-6b4a-4a9a-bbe4-6365d718c22e",
   "metadata": {},
   "outputs": [],
   "source": [
    "# список необходим для корректной работы  DictToDataFrameParser (class для создания df из json),\n",
    "columns ={'date': 'date', 'id':'message_id','type':'type', 'from_id': 'from_id', 'actor_id':'actor_id' , 'reply_to_message_id': 'reply_to_message_id',\n",
    "         'from': 'user_name', 'actor':'user_name_actor'}"
   ]
  },
  {
   "cell_type": "code",
   "execution_count": 287,
   "id": "55fdec21-6b11-4b67-b4c4-8a153a6416ac",
   "metadata": {},
   "outputs": [],
   "source": [
    "# stop words для 'Vectorizers in BERTopic'\n",
    "try:\n",
    "    russian_stopwords = stopwords.words(\"russian\") \n",
    "except:\n",
    "    nltk.download(\"stopwords\")\n",
    "    russian_stopwords = stopwords.words(\"russian\")"
   ]
  },
  {
   "cell_type": "code",
   "execution_count": 288,
   "id": "70096a0d-b88f-4d6d-a7c0-97dfc13446ae",
   "metadata": {},
   "outputs": [],
   "source": [
    "pattern  = r'[^\\w,.\\!? ]'\n",
    "def cleaned_string(string: str, pattern: str = pattern) -> str: \n",
    "    '''\n",
    "    По умолчанию  удаляются все символы, не являющиеся буквами, цифрами, пробелами и знаками \n",
    "                   препинания.\n",
    "    Замена гиперссылок на  подстроку \"гиперссылка\"\n",
    "    '''\n",
    "    \n",
    "    string = re.sub(r'https?://\\S+', 'гиперсссылка', string)\n",
    "    return re.sub(pattern, '', string).strip()"
   ]
  },
  {
   "cell_type": "markdown",
   "id": "b174b216-dd20-468f-9050-187eb61537ea",
   "metadata": {},
   "source": [
    "###  Загрузка данных "
   ]
  },
  {
   "cell_type": "code",
   "execution_count": 3,
   "id": "0f1696ab-be3e-4cf8-99ea-9afad845b9d1",
   "metadata": {},
   "outputs": [],
   "source": [
    "folder_ignore = '.ipynb_checkpoints'\n",
    "path_list =[  i for i  in Path.cwd().rglob('*.json') if folder_ignore not in list(i.parent.parts) ]"
   ]
  },
  {
   "cell_type": "code",
   "execution_count": 291,
   "id": "64e864ba-72a8-4135-a02c-b7094a3737d7",
   "metadata": {},
   "outputs": [
    {
     "data": {
      "text/plain": [
       "[(WindowsPath('C:/Users/dmitr/project_loc/masterskay/Masterskaya/data/example/result.json'),\n",
       "  'id_path:0'),\n",
       " (WindowsPath('C:/Users/dmitr/project_loc/masterskay/Masterskaya/data/дата/result.json'),\n",
       "  'id_path:1'),\n",
       " (WindowsPath('C:/Users/dmitr/project_loc/masterskay/Masterskaya/data/маркетинг/result.json'),\n",
       "  'id_path:2'),\n",
       " (WindowsPath('C:/Users/dmitr/project_loc/masterskay/Masterskaya/data/менеджмент/result.json'),\n",
       "  'id_path:3')]"
      ]
     },
     "execution_count": 291,
     "metadata": {},
     "output_type": "execute_result"
    }
   ],
   "source": [
    "# Список путей с json\n",
    "[ (path_list, f'id_path:{i}')   for i, path_list      in enumerate(path_list)]"
   ]
  },
  {
   "cell_type": "code",
   "execution_count": 310,
   "id": "6d848ef6-097a-4bcc-b422-e59255f88722",
   "metadata": {},
   "outputs": [
    {
     "name": "stdin",
     "output_type": "stream",
     "text": [
      "Введи id_path (число от 0 до 3) 1\n"
     ]
    }
   ],
   "source": [
    "INDEX =len(path_list)\n",
    "while INDEX >= len(path_list) or INDEX <0:\n",
    "    INDEX = int(input(f'Введи id_path (число от 0 до {len(path_list)-1})'))\n",
    "    if INDEX >= len(path_list):\n",
    "        print( 'Введенное значение превышает допустимый диапазон')"
   ]
  },
  {
   "cell_type": "code",
   "execution_count": 311,
   "id": "d85dc54a-1fae-4d84-a6a7-353a9604a4e9",
   "metadata": {},
   "outputs": [
    {
     "data": {
      "text/plain": [
       "1"
      ]
     },
     "execution_count": 311,
     "metadata": {},
     "output_type": "execute_result"
    }
   ],
   "source": [
    "INDEX"
   ]
  },
  {
   "cell_type": "code",
   "execution_count": 312,
   "id": "8b8b0254-656b-433e-9122-4c95bf78ece5",
   "metadata": {},
   "outputs": [],
   "source": [
    "df_1 = DictToDataFrameParser(path_list[INDEX], columns)"
   ]
  },
  {
   "cell_type": "code",
   "execution_count": 214,
   "id": "11c549bb-77b8-4984-87dd-9b613d54b2e9",
   "metadata": {},
   "outputs": [
    {
     "data": {
      "text/html": [
       "<div>\n",
       "<style scoped>\n",
       "    .dataframe tbody tr th:only-of-type {\n",
       "        vertical-align: middle;\n",
       "    }\n",
       "\n",
       "    .dataframe tbody tr th {\n",
       "        vertical-align: top;\n",
       "    }\n",
       "\n",
       "    .dataframe thead th {\n",
       "        text-align: right;\n",
       "    }\n",
       "</style>\n",
       "<table border=\"1\" class=\"dataframe\">\n",
       "  <thead>\n",
       "    <tr style=\"text-align: right;\">\n",
       "      <th></th>\n",
       "      <th>date</th>\n",
       "      <th>chat_name</th>\n",
       "      <th>chat_id</th>\n",
       "      <th>sender_id</th>\n",
       "      <th>sender_type</th>\n",
       "      <th>message_id</th>\n",
       "      <th>type</th>\n",
       "      <th>reply_to_message_id</th>\n",
       "      <th>user_name</th>\n",
       "      <th>first_name</th>\n",
       "      <th>last_name</th>\n",
       "      <th>text</th>\n",
       "    </tr>\n",
       "  </thead>\n",
       "  <tbody>\n",
       "    <tr>\n",
       "      <th>0</th>\n",
       "      <td>2025-02-01 22:40:19</td>\n",
       "      <td>💬 Data Practicum Chat</td>\n",
       "      <td>1379846874</td>\n",
       "      <td>200103497</td>\n",
       "      <td>user</td>\n",
       "      <td>266690</td>\n",
       "      <td>service</td>\n",
       "      <td>NaN</td>\n",
       "      <td>Елизавета</td>\n",
       "      <td>Елизавета</td>\n",
       "      <td></td>\n",
       "      <td></td>\n",
       "    </tr>\n",
       "    <tr>\n",
       "      <th>1</th>\n",
       "      <td>2025-02-02 21:59:34</td>\n",
       "      <td>💬 Data Practicum Chat</td>\n",
       "      <td>1379846874</td>\n",
       "      <td>217302209</td>\n",
       "      <td>user</td>\n",
       "      <td>266691</td>\n",
       "      <td>service</td>\n",
       "      <td>NaN</td>\n",
       "      <td>Agamet Agametov</td>\n",
       "      <td>Agamet</td>\n",
       "      <td>Agametov</td>\n",
       "      <td></td>\n",
       "    </tr>\n",
       "    <tr>\n",
       "      <th>2</th>\n",
       "      <td>2025-02-03 11:28:38</td>\n",
       "      <td>💬 Data Practicum Chat</td>\n",
       "      <td>1379846874</td>\n",
       "      <td>312724902</td>\n",
       "      <td>user</td>\n",
       "      <td>266693</td>\n",
       "      <td>message</td>\n",
       "      <td>NaN</td>\n",
       "      <td>Olga Varavina</td>\n",
       "      <td>Olga</td>\n",
       "      <td>Varavina</td>\n",
       "      <td>Всем большой привет! Приглашаю на свой уютный ...</td>\n",
       "    </tr>\n",
       "    <tr>\n",
       "      <th>3</th>\n",
       "      <td>2025-02-03 11:52:20</td>\n",
       "      <td>💬 Data Practicum Chat</td>\n",
       "      <td>1379846874</td>\n",
       "      <td>1349934990</td>\n",
       "      <td>user</td>\n",
       "      <td>266694</td>\n",
       "      <td>message</td>\n",
       "      <td>266689.0</td>\n",
       "      <td>Илья</td>\n",
       "      <td>Илья</td>\n",
       "      <td></td>\n",
       "      <td>А у тебя когда будет свой канал про аналитику?</td>\n",
       "    </tr>\n",
       "    <tr>\n",
       "      <th>4</th>\n",
       "      <td>2025-02-03 11:52:37</td>\n",
       "      <td>💬 Data Practicum Chat</td>\n",
       "      <td>1379846874</td>\n",
       "      <td>1349934990</td>\n",
       "      <td>user</td>\n",
       "      <td>266695</td>\n",
       "      <td>message</td>\n",
       "      <td>NaN</td>\n",
       "      <td>Илья</td>\n",
       "      <td>Илья</td>\n",
       "      <td></td>\n",
       "      <td>Будешь туда голосовухи пятиминутные постить</td>\n",
       "    </tr>\n",
       "    <tr>\n",
       "      <th>...</th>\n",
       "      <td>...</td>\n",
       "      <td>...</td>\n",
       "      <td>...</td>\n",
       "      <td>...</td>\n",
       "      <td>...</td>\n",
       "      <td>...</td>\n",
       "      <td>...</td>\n",
       "      <td>...</td>\n",
       "      <td>...</td>\n",
       "      <td>...</td>\n",
       "      <td>...</td>\n",
       "      <td>...</td>\n",
       "    </tr>\n",
       "    <tr>\n",
       "      <th>1002</th>\n",
       "      <td>2025-02-27 14:20:29</td>\n",
       "      <td>💬 Data Practicum Chat</td>\n",
       "      <td>1379846874</td>\n",
       "      <td>345678846</td>\n",
       "      <td>user</td>\n",
       "      <td>267829</td>\n",
       "      <td>service</td>\n",
       "      <td>NaN</td>\n",
       "      <td>Anastasia Shevaldina</td>\n",
       "      <td>Anastasia</td>\n",
       "      <td>Shevaldina</td>\n",
       "      <td></td>\n",
       "    </tr>\n",
       "    <tr>\n",
       "      <th>1003</th>\n",
       "      <td>2025-02-27 18:27:05</td>\n",
       "      <td>💬 Data Practicum Chat</td>\n",
       "      <td>1379846874</td>\n",
       "      <td>295904416</td>\n",
       "      <td>user</td>\n",
       "      <td>267830</td>\n",
       "      <td>message</td>\n",
       "      <td>267820.0</td>\n",
       "      <td>Andrey Novikov</td>\n",
       "      <td>Andrey</td>\n",
       "      <td>Novikov</td>\n",
       "      <td>Может это просто возраст 🤔\\n\\nА ты на курс гре...</td>\n",
       "    </tr>\n",
       "    <tr>\n",
       "      <th>1004</th>\n",
       "      <td>2025-02-27 18:33:30</td>\n",
       "      <td>💬 Data Practicum Chat</td>\n",
       "      <td>1379846874</td>\n",
       "      <td>5459178210</td>\n",
       "      <td>user</td>\n",
       "      <td>267831</td>\n",
       "      <td>message</td>\n",
       "      <td>267830.0</td>\n",
       "      <td>Дмитрий Лукьянов</td>\n",
       "      <td>Дмитрий</td>\n",
       "      <td>Лукьянов</td>\n",
       "      <td>Может, тебе просто пойти в лес?</td>\n",
       "    </tr>\n",
       "    <tr>\n",
       "      <th>1005</th>\n",
       "      <td>2025-02-27 20:01:03</td>\n",
       "      <td>💬 Data Practicum Chat</td>\n",
       "      <td>1379846874</td>\n",
       "      <td>1763861461</td>\n",
       "      <td>channel</td>\n",
       "      <td>267832</td>\n",
       "      <td>message</td>\n",
       "      <td>NaN</td>\n",
       "      <td>DATA ALUMNI PRACTICUM</td>\n",
       "      <td>DATA</td>\n",
       "      <td>ALUMNI</td>\n",
       "      <td>Книжный клуб «Data Insights!» \\n\\n «Data Insig...</td>\n",
       "    </tr>\n",
       "    <tr>\n",
       "      <th>1006</th>\n",
       "      <td>2025-02-27 22:33:36</td>\n",
       "      <td>💬 Data Practicum Chat</td>\n",
       "      <td>1379846874</td>\n",
       "      <td>295904416</td>\n",
       "      <td>user</td>\n",
       "      <td>267833</td>\n",
       "      <td>message</td>\n",
       "      <td>267831.0</td>\n",
       "      <td>Andrey Novikov</td>\n",
       "      <td>Andrey</td>\n",
       "      <td>Novikov</td>\n",
       "      <td>сам не можешь, нужен сопровождаюший?\\n\\nбез пр...</td>\n",
       "    </tr>\n",
       "  </tbody>\n",
       "</table>\n",
       "<p>1007 rows × 12 columns</p>\n",
       "</div>"
      ],
      "text/plain": [
       "                    date              chat_name     chat_id   sender_id  \\\n",
       "0    2025-02-01 22:40:19  💬 Data Practicum Chat  1379846874   200103497   \n",
       "1    2025-02-02 21:59:34  💬 Data Practicum Chat  1379846874   217302209   \n",
       "2    2025-02-03 11:28:38  💬 Data Practicum Chat  1379846874   312724902   \n",
       "3    2025-02-03 11:52:20  💬 Data Practicum Chat  1379846874  1349934990   \n",
       "4    2025-02-03 11:52:37  💬 Data Practicum Chat  1379846874  1349934990   \n",
       "...                  ...                    ...         ...         ...   \n",
       "1002 2025-02-27 14:20:29  💬 Data Practicum Chat  1379846874   345678846   \n",
       "1003 2025-02-27 18:27:05  💬 Data Practicum Chat  1379846874   295904416   \n",
       "1004 2025-02-27 18:33:30  💬 Data Practicum Chat  1379846874  5459178210   \n",
       "1005 2025-02-27 20:01:03  💬 Data Practicum Chat  1379846874  1763861461   \n",
       "1006 2025-02-27 22:33:36  💬 Data Practicum Chat  1379846874   295904416   \n",
       "\n",
       "     sender_type  message_id     type  reply_to_message_id  \\\n",
       "0           user      266690  service                  NaN   \n",
       "1           user      266691  service                  NaN   \n",
       "2           user      266693  message                  NaN   \n",
       "3           user      266694  message             266689.0   \n",
       "4           user      266695  message                  NaN   \n",
       "...          ...         ...      ...                  ...   \n",
       "1002        user      267829  service                  NaN   \n",
       "1003        user      267830  message             267820.0   \n",
       "1004        user      267831  message             267830.0   \n",
       "1005     channel      267832  message                  NaN   \n",
       "1006        user      267833  message             267831.0   \n",
       "\n",
       "                  user_name first_name   last_name  \\\n",
       "0                 Елизавета  Елизавета               \n",
       "1           Agamet Agametov     Agamet    Agametov   \n",
       "2             Olga Varavina       Olga    Varavina   \n",
       "3                      Илья       Илья               \n",
       "4                      Илья       Илья               \n",
       "...                     ...        ...         ...   \n",
       "1002   Anastasia Shevaldina  Anastasia  Shevaldina   \n",
       "1003         Andrey Novikov     Andrey     Novikov   \n",
       "1004       Дмитрий Лукьянов    Дмитрий    Лукьянов   \n",
       "1005  DATA ALUMNI PRACTICUM       DATA      ALUMNI   \n",
       "1006         Andrey Novikov     Andrey     Novikov   \n",
       "\n",
       "                                                   text  \n",
       "0                                                        \n",
       "1                                                        \n",
       "2     Всем большой привет! Приглашаю на свой уютный ...  \n",
       "3        А у тебя когда будет свой канал про аналитику?  \n",
       "4           Будешь туда голосовухи пятиминутные постить  \n",
       "...                                                 ...  \n",
       "1002                                                     \n",
       "1003  Может это просто возраст 🤔\\n\\nА ты на курс гре...  \n",
       "1004                    Может, тебе просто пойти в лес?  \n",
       "1005  Книжный клуб «Data Insights!» \\n\\n «Data Insig...  \n",
       "1006  сам не можешь, нужен сопровождаюший?\\n\\nбез пр...  \n",
       "\n",
       "[1007 rows x 12 columns]"
      ]
     },
     "execution_count": 214,
     "metadata": {},
     "output_type": "execute_result"
    }
   ],
   "source": [
    "df_1.df"
   ]
  },
  {
   "cell_type": "code",
   "execution_count": null,
   "id": "98f63fe1-3dda-4c55-8941-857973e0d477",
   "metadata": {},
   "outputs": [],
   "source": [
    "text = [i[:511] if len(i) > 512 else i for i  in df_1.df.text.to_list() ]\n",
    "text = [(cleaned_string(i), num)  for num, i in enumerate (text)if len(i)>3]\n",
    "text, index_df = zip(*text)"
   ]
  },
  {
   "cell_type": "markdown",
   "id": "a947d96a-b793-4f5d-9bc8-760cbb79c834",
   "metadata": {},
   "source": [
    "index_df - список индексов для разметки  df (некоторые тексты не вошли  в итоговый корпус)"
   ]
  },
  {
   "cell_type": "markdown",
   "id": "a15a88a7-2718-487d-8060-844ab8790d17",
   "metadata": {},
   "source": [
    "### 3. Bertopic, инициализация,  пробный topic modeling."
   ]
  },
  {
   "cell_type": "markdown",
   "id": "32720bdd-b62a-4dd3-9264-c3eba6cfa29d",
   "metadata": {},
   "source": [
    "submodels of Bertopic:\n",
    "1. Embedding Models\n",
    "2. Dimensionality Reduction(UMAP)\n",
    "3. Clustering (HDBSCAN)\n",
    "4. Vectorizers(CountVectorizer)\n",
    "5. c-TF-IDF (TF-IDF was adjusted to work on a cluster/categorical/topic level instead of a document level)  \n",
    "6. Fine-tune Topics"
   ]
  },
  {
   "cell_type": "code",
   "execution_count": 405,
   "id": "bc9a3c0e-0938-4033-b2ee-2beedcf4d548",
   "metadata": {},
   "outputs": [],
   "source": [
    "##### модель для Embedding Models\n",
    "# model = 'sentence-transformers/paraphrase-multilingual-MiniLM-L12-v2'\n",
    "model = \"DeepPavlov/rubert-base-cased-conversational\"\n",
    "##### параметры модели понижения размерности\n",
    "umap_dict = dict(n_neighbors=3, n_components=5, min_dist=0.0, metric='cosine')\n",
    "##### параметры модели кластеризации\n",
    "hdbscan_dict = dict(min_cluster_size=10, metric='euclidean', cluster_selection_method='eom', prediction_data=True)\n",
    "##### параметры для Vectorizers\n",
    "vectorizer_dict = dict(stop_words=russian_stopwords, ngram_range=(1, 3), min_df=1)\n",
    "##### параметры для TF_IDF\n",
    "tf_idf_dict = dict(seed_words=[\"ссылка\", \"яндекс\", \"практикум\", \"стажировка\", \"курсы\",'вакансия'],\n",
    "                   seed_multiplier=2\n",
    "                  )\n",
    "                  \n",
    "# nr_topics - количество  тем(ориентировочно)\n",
    "# top_n_words - количество наиболее значимых слов для каждой темы."
   ]
  },
  {
   "cell_type": "code",
   "execution_count": 406,
   "id": "a9479bec-8c36-4f88-a961-d635936e88ca",
   "metadata": {},
   "outputs": [],
   "source": [
    "class InitBertopic:\n",
    "    '''\n",
    "    Инициализирует Bertopic c заданными парамтрами,\n",
    "     атрибут topic_model-инициализированная модель Bertopic:\n",
    "     <name_model>.topic_model.fit_transform(text: list[str]) - кластеризация\n",
    "     <name_model>.topic_model.get_topic_info() - результат\n",
    "     <name_model>.topic_model.get_topic([int]) - ключевые слова топика\n",
    "    '''\n",
    "    \n",
    "    def __init__(self,\n",
    "             nr_topics: Optional[int] = None,\n",
    "             top_n_words: int = 10,   \n",
    "             model: Optional[str] = None, \n",
    "             umap_dict: Optional[dict] = None, \n",
    "             hdbscan_dict: Optional[dict] = None,\n",
    "             vectorizer_dict: Optional[dict] = None, \n",
    "             tf_idf_dict: Optional[dict] = None) -> None:\n",
    "\n",
    "        self.nr_topics = nr_topics\n",
    "        self.top_n_words = top_n_words\n",
    "        self.model = model\n",
    "        self.umap_dict = umap_dict\n",
    "        self.hdbscan_dict = hdbscan_dict\n",
    "        self.vectorizer_dict = vectorizer_dict\n",
    "        self.tf_idf_dict =  tf_idf_dict\n",
    "        self.bertopic_dict, self.topic_model = self.init_bertopic()\n",
    "        \n",
    "    \n",
    "    def init_bertopic(self):\n",
    "        embedding_model = pipeline(\"feature-extraction\", model=self.model)\n",
    "        bertopic_dict = dict(embedding_model=embedding_model, nr_topics= self.nr_topics, top_n_words=self.top_n_words)\n",
    "            \n",
    "        if self.umap_dict:\n",
    "            umap_model = UMAP(**self.umap_dict)\n",
    "            bertopic_dict['umap_model'] = umap_model\n",
    "            \n",
    "        if self.hdbscan_dict:\n",
    "             hdbscan_model = HDBSCAN(**self.hdbscan_dict)\n",
    "             bertopic_dict['hdbscan_model'] =  hdbscan_model\n",
    "            \n",
    "        if  self.vectorizer_dict:\n",
    "            vectorizer_model = CountVectorizer(**self.vectorizer_dict)\n",
    "            bertopic_dict['vectorizer_model'] =   vectorizer_model\n",
    "            \n",
    "        if  self.tf_idf_dict:\n",
    "            ctfidf_model = ClassTfidfTransformer(**self.tf_idf_dict)\n",
    "            bertopic_dict['ctfidf_model'] =  ctfidf_model\n",
    "\n",
    "        \n",
    "        return bertopic_dict, BERTopic(**bertopic_dict)\n",
    "        \n",
    "        \n",
    "\n",
    "        \n",
    "\n",
    "        "
   ]
  },
  {
   "cell_type": "code",
   "execution_count": 407,
   "id": "bdf53a99-0cea-4618-88ea-e427be4c504f",
   "metadata": {},
   "outputs": [
    {
     "name": "stderr",
     "output_type": "stream",
     "text": [
      "Some weights of the model checkpoint at DeepPavlov/rubert-base-cased-conversational were not used when initializing BertModel: ['cls.predictions.bias', 'cls.predictions.decoder.bias', 'cls.predictions.decoder.weight', 'cls.predictions.transform.LayerNorm.bias', 'cls.predictions.transform.LayerNorm.weight', 'cls.predictions.transform.dense.bias', 'cls.predictions.transform.dense.weight', 'cls.seq_relationship.bias', 'cls.seq_relationship.weight']\n",
      "- This IS expected if you are initializing BertModel from the checkpoint of a model trained on another task or with another architecture (e.g. initializing a BertForSequenceClassification model from a BertForPreTraining model).\n",
      "- This IS NOT expected if you are initializing BertModel from the checkpoint of a model that you expect to be exactly identical (initializing a BertForSequenceClassification model from a BertForSequenceClassification model).\n"
     ]
    }
   ],
   "source": [
    "bertopic_model = InitBertopic(nr_topics=20,\n",
    "               top_n_words=15,\n",
    "               model=model,\n",
    "               umap_dict=umap_dict, \n",
    "               hdbscan_dict=hdbscan_dict, \n",
    "               vectorizer_dict=vectorizer_dict, \n",
    "               tf_idf_dict=tf_idf_dict)"
   ]
  },
  {
   "cell_type": "code",
   "execution_count": 408,
   "id": "62a296fc-001d-40e4-8287-da8e227d3e4e",
   "metadata": {},
   "outputs": [
    {
     "data": {
      "text/plain": [
       "{'embedding_model': <transformers.pipelines.feature_extraction.FeatureExtractionPipeline at 0x246baf5b8c0>,\n",
       " 'nr_topics': 20,\n",
       " 'top_n_words': 15,\n",
       " 'umap_model': UMAP(metric='cosine', min_dist=0.0, n_components=5, n_neighbors=3),\n",
       " 'hdbscan_model': HDBSCAN(min_cluster_size=10, prediction_data=True),\n",
       " 'vectorizer_model': CountVectorizer(ngram_range=(1, 3),\n",
       "                 stop_words=['и', 'в', 'во', 'не', 'что', 'он', 'на', 'я', 'с',\n",
       "                             'со', 'как', 'а', 'то', 'все', 'она', 'так', 'его',\n",
       "                             'но', 'да', 'ты', 'к', 'у', 'же', 'вы', 'за', 'бы',\n",
       "                             'по', 'только', 'ее', 'мне', ...]),\n",
       " 'ctfidf_model': ClassTfidfTransformer(seed_words=['ссылка', 'яндекс', 'практикум', 'стажировка',\n",
       "                                   'курсы', 'вакансия'])}"
      ]
     },
     "execution_count": 408,
     "metadata": {},
     "output_type": "execute_result"
    }
   ],
   "source": [
    "bertopic_model.bertopic_dict"
   ]
  },
  {
   "cell_type": "code",
   "execution_count": 455,
   "id": "01659824-2923-486c-aba9-62efba35c59a",
   "metadata": {},
   "outputs": [
    {
     "name": "stdout",
     "output_type": "stream",
     "text": [
      "CPU times: total: 2min 51s\n",
      "Wall time: 1min 30s\n"
     ]
    }
   ],
   "source": [
    "%%time\n",
    "topics, probs = bertopic_model.topic_model.fit_transform(text)"
   ]
  },
  {
   "cell_type": "code",
   "execution_count": 458,
   "id": "b3f37545-f222-4fac-8668-8a6b74d702a0",
   "metadata": {},
   "outputs": [
    {
     "data": {
      "text/html": [
       "<div>\n",
       "<style scoped>\n",
       "    .dataframe tbody tr th:only-of-type {\n",
       "        vertical-align: middle;\n",
       "    }\n",
       "\n",
       "    .dataframe tbody tr th {\n",
       "        vertical-align: top;\n",
       "    }\n",
       "\n",
       "    .dataframe thead th {\n",
       "        text-align: right;\n",
       "    }\n",
       "</style>\n",
       "<table border=\"1\" class=\"dataframe\">\n",
       "  <thead>\n",
       "    <tr style=\"text-align: right;\">\n",
       "      <th></th>\n",
       "      <th>Topic</th>\n",
       "      <th>Count</th>\n",
       "      <th>Name</th>\n",
       "      <th>Representation</th>\n",
       "      <th>Representative_Docs</th>\n",
       "    </tr>\n",
       "  </thead>\n",
       "  <tbody>\n",
       "    <tr>\n",
       "      <th>0</th>\n",
       "      <td>-1</td>\n",
       "      <td>158</td>\n",
       "      <td>-1_это_всем_ссылка_всем привет</td>\n",
       "      <td>[это, всем, ссылка, всем привет, привет, спаси...</td>\n",
       "      <td>[3 марта стартует новый поток Карьерного трека...</td>\n",
       "    </tr>\n",
       "    <tr>\n",
       "      <th>1</th>\n",
       "      <td>0</td>\n",
       "      <td>178</td>\n",
       "      <td>0_это_просто_ссылка_курс</td>\n",
       "      <td>[это, просто, ссылка, курс, nda, голосовухи, ф...</td>\n",
       "      <td>[KatyEfr  С телефона вот такая ошибка  не поня...</td>\n",
       "    </tr>\n",
       "    <tr>\n",
       "      <th>2</th>\n",
       "      <td>1</td>\n",
       "      <td>125</td>\n",
       "      <td>1_спасибо_тебе_тебе спасибо_super_ira</td>\n",
       "      <td>[спасибо, тебе, тебе спасибо, super_ira, ещё, ...</td>\n",
       "      <td>[Ну вот, чувствуется что тут не токсичная атмо...</td>\n",
       "    </tr>\n",
       "    <tr>\n",
       "      <th>3</th>\n",
       "      <td>2</td>\n",
       "      <td>59</td>\n",
       "      <td>2_данных_курсов_яндекс_привет</td>\n",
       "      <td>[данных, курсов, яндекс, привет, практикума, в...</td>\n",
       "      <td>[Предложение поучаствовать в бетатестировании ...</td>\n",
       "    </tr>\n",
       "    <tr>\n",
       "      <th>4</th>\n",
       "      <td>3</td>\n",
       "      <td>42</td>\n",
       "      <td>3_ссылка_nda_заявку_неактивна</td>\n",
       "      <td>[ссылка, nda, заявку, неактивна, заявку nda, п...</td>\n",
       "      <td>[Не могу подписать NDA Ссылка неактивна. Запро...</td>\n",
       "    </tr>\n",
       "    <tr>\n",
       "      <th>5</th>\n",
       "      <td>4</td>\n",
       "      <td>31</td>\n",
       "      <td>4_toprepyndxcbot_toprepyndxcbot toprepyndxcbot...</td>\n",
       "      <td>[toprepyndxcbot, toprepyndxcbot toprepyndxcbot...</td>\n",
       "      <td>[toprepyndxcbot, toprepyndxcbot, toprepyndxcbot]</td>\n",
       "    </tr>\n",
       "    <tr>\n",
       "      <th>6</th>\n",
       "      <td>5</td>\n",
       "      <td>30</td>\n",
       "      <td>5_яндекс_ритейл_это_тех</td>\n",
       "      <td>[яндекс, ритейл, это, тех, помогает, интервью,...</td>\n",
       "      <td>[Самая проблема курсов , как я понял у всех, ч...</td>\n",
       "    </tr>\n",
       "    <tr>\n",
       "      <th>7</th>\n",
       "      <td>6</td>\n",
       "      <td>27</td>\n",
       "      <td>6_лс_можешь_гитхаба_утп</td>\n",
       "      <td>[лс, можешь, гитхаба, утп, напиши, кинуть, вк,...</td>\n",
       "      <td>[Я тоже только по отзывам местных работяг знаю...</td>\n",
       "    </tr>\n",
       "    <tr>\n",
       "      <th>8</th>\n",
       "      <td>7</td>\n",
       "      <td>23</td>\n",
       "      <td>7_чате_кофе_правило_чата</td>\n",
       "      <td>[чате, кофе, правило, чата, сегодня, котики, с...</td>\n",
       "      <td>[Это сообщение считаю неуместным, если тебе нр...</td>\n",
       "    </tr>\n",
       "    <tr>\n",
       "      <th>9</th>\n",
       "      <td>8</td>\n",
       "      <td>22</td>\n",
       "      <td>8_ахахахаха_увеличила репутацию_увеличила_репу...</td>\n",
       "      <td>[ахахахаха, увеличила репутацию, увеличила, ре...</td>\n",
       "      <td>[Ирина по прежнему лидирует в нашем соревнован...</td>\n",
       "    </tr>\n",
       "    <tr>\n",
       "      <th>10</th>\n",
       "      <td>9</td>\n",
       "      <td>20</td>\n",
       "      <td>9_наверное_мммм попробуй_скидавай илья ахахаха...</td>\n",
       "      <td>[наверное, мммм попробуй, скидавай илья ахахах...</td>\n",
       "      <td>[Дешево чтото, смотрела всегда говори да?, Вин...</td>\n",
       "    </tr>\n",
       "    <tr>\n",
       "      <th>11</th>\n",
       "      <td>10</td>\n",
       "      <td>19</td>\n",
       "      <td>10_это_чат_лично_hr</td>\n",
       "      <td>[это, чат, лично, hr, реплай, пишут, 2000, пос...</td>\n",
       "      <td>[Да я вроде не лично ему писала. Но увы это не...</td>\n",
       "    </tr>\n",
       "    <tr>\n",
       "      <th>12</th>\n",
       "      <td>11</td>\n",
       "      <td>17</td>\n",
       "      <td>11_общаться_нюдсов_это просто друзья_посмотрел</td>\n",
       "      <td>[общаться, нюдсов, это просто друзья, посмотре...</td>\n",
       "      <td>[я продолжаю с тобой общаться несмотря на отсу...</td>\n",
       "    </tr>\n",
       "    <tr>\n",
       "      <th>13</th>\n",
       "      <td>12</td>\n",
       "      <td>14</td>\n",
       "      <td>12_спасибо спасибо спасибо_спасибо спасибо_спа...</td>\n",
       "      <td>[спасибо спасибо спасибо, спасибо спасибо, спа...</td>\n",
       "      <td>[Спасибо, Спасибо, Спасибо]</td>\n",
       "    </tr>\n",
       "    <tr>\n",
       "      <th>14</th>\n",
       "      <td>13</td>\n",
       "      <td>14</td>\n",
       "      <td>13_андрюх_нужны голосовуки эээ_нужны голосовук...</td>\n",
       "      <td>[андрюх, нужны голосовуки эээ, нужны голосовук...</td>\n",
       "      <td>[Ушла из этого рассадника злобы и негатива. Си...</td>\n",
       "    </tr>\n",
       "    <tr>\n",
       "      <th>15</th>\n",
       "      <td>14</td>\n",
       "      <td>13</td>\n",
       "      <td>14_слишком_820_наверное вытаскивать контекста_...</td>\n",
       "      <td>[слишком, 820, наверное вытаскивать контекста,...</td>\n",
       "      <td>[Слишком большой набор людей, наверное, Чот сл...</td>\n",
       "    </tr>\n",
       "    <tr>\n",
       "      <th>16</th>\n",
       "      <td>15</td>\n",
       "      <td>11</td>\n",
       "      <td>15_вступительную_тожеу_найди самое_оставь найди</td>\n",
       "      <td>[вступительную, тожеу, найди самое, оставь най...</td>\n",
       "      <td>[Я тожеУ нас так много общего, Самое смешное ч...</td>\n",
       "    </tr>\n",
       "    <tr>\n",
       "      <th>17</th>\n",
       "      <td>16</td>\n",
       "      <td>11</td>\n",
       "      <td>16_гиперсссылка_ссылка_гиперсссылка гиперсссыл...</td>\n",
       "      <td>[гиперсссылка, ссылка, гиперсссылка гиперсссыл...</td>\n",
       "      <td>[гиперсссылка, гиперсссылка, Также все прописа...</td>\n",
       "    </tr>\n",
       "    <tr>\n",
       "      <th>18</th>\n",
       "      <td>17</td>\n",
       "      <td>10</td>\n",
       "      <td>17_мессенджер команда_мессенджер_команда_какойто</td>\n",
       "      <td>[мессенджер команда, мессенджер, команда, како...</td>\n",
       "      <td>[Так же ди обучался. Три дня на коннекторы s3 ...</td>\n",
       "    </tr>\n",
       "    <tr>\n",
       "      <th>19</th>\n",
       "      <td>18</td>\n",
       "      <td>10</td>\n",
       "      <td>18_спасибо_спасибо спасибо_дорогой_ура спасибо...</td>\n",
       "      <td>[спасибо, спасибо спасибо, дорогой, ура спасиб...</td>\n",
       "      <td>[спасибо!, спасибо, спасибо!]</td>\n",
       "    </tr>\n",
       "  </tbody>\n",
       "</table>\n",
       "</div>"
      ],
      "text/plain": [
       "    Topic  Count                                               Name  \\\n",
       "0      -1    158                     -1_это_всем_ссылка_всем привет   \n",
       "1       0    178                           0_это_просто_ссылка_курс   \n",
       "2       1    125              1_спасибо_тебе_тебе спасибо_super_ira   \n",
       "3       2     59                      2_данных_курсов_яндекс_привет   \n",
       "4       3     42                      3_ссылка_nda_заявку_неактивна   \n",
       "5       4     31  4_toprepyndxcbot_toprepyndxcbot toprepyndxcbot...   \n",
       "6       5     30                            5_яндекс_ритейл_это_тех   \n",
       "7       6     27                            6_лс_можешь_гитхаба_утп   \n",
       "8       7     23                           7_чате_кофе_правило_чата   \n",
       "9       8     22  8_ахахахаха_увеличила репутацию_увеличила_репу...   \n",
       "10      9     20  9_наверное_мммм попробуй_скидавай илья ахахаха...   \n",
       "11     10     19                                10_это_чат_лично_hr   \n",
       "12     11     17     11_общаться_нюдсов_это просто друзья_посмотрел   \n",
       "13     12     14  12_спасибо спасибо спасибо_спасибо спасибо_спа...   \n",
       "14     13     14  13_андрюх_нужны голосовуки эээ_нужны голосовук...   \n",
       "15     14     13  14_слишком_820_наверное вытаскивать контекста_...   \n",
       "16     15     11    15_вступительную_тожеу_найди самое_оставь найди   \n",
       "17     16     11  16_гиперсссылка_ссылка_гиперсссылка гиперсссыл...   \n",
       "18     17     10   17_мессенджер команда_мессенджер_команда_какойто   \n",
       "19     18     10  18_спасибо_спасибо спасибо_дорогой_ура спасибо...   \n",
       "\n",
       "                                       Representation  \\\n",
       "0   [это, всем, ссылка, всем привет, привет, спаси...   \n",
       "1   [это, просто, ссылка, курс, nda, голосовухи, ф...   \n",
       "2   [спасибо, тебе, тебе спасибо, super_ira, ещё, ...   \n",
       "3   [данных, курсов, яндекс, привет, практикума, в...   \n",
       "4   [ссылка, nda, заявку, неактивна, заявку nda, п...   \n",
       "5   [toprepyndxcbot, toprepyndxcbot toprepyndxcbot...   \n",
       "6   [яндекс, ритейл, это, тех, помогает, интервью,...   \n",
       "7   [лс, можешь, гитхаба, утп, напиши, кинуть, вк,...   \n",
       "8   [чате, кофе, правило, чата, сегодня, котики, с...   \n",
       "9   [ахахахаха, увеличила репутацию, увеличила, ре...   \n",
       "10  [наверное, мммм попробуй, скидавай илья ахахах...   \n",
       "11  [это, чат, лично, hr, реплай, пишут, 2000, пос...   \n",
       "12  [общаться, нюдсов, это просто друзья, посмотре...   \n",
       "13  [спасибо спасибо спасибо, спасибо спасибо, спа...   \n",
       "14  [андрюх, нужны голосовуки эээ, нужны голосовук...   \n",
       "15  [слишком, 820, наверное вытаскивать контекста,...   \n",
       "16  [вступительную, тожеу, найди самое, оставь най...   \n",
       "17  [гиперсссылка, ссылка, гиперсссылка гиперсссыл...   \n",
       "18  [мессенджер команда, мессенджер, команда, како...   \n",
       "19  [спасибо, спасибо спасибо, дорогой, ура спасиб...   \n",
       "\n",
       "                                  Representative_Docs  \n",
       "0   [3 марта стартует новый поток Карьерного трека...  \n",
       "1   [KatyEfr  С телефона вот такая ошибка  не поня...  \n",
       "2   [Ну вот, чувствуется что тут не токсичная атмо...  \n",
       "3   [Предложение поучаствовать в бетатестировании ...  \n",
       "4   [Не могу подписать NDA Ссылка неактивна. Запро...  \n",
       "5    [toprepyndxcbot, toprepyndxcbot, toprepyndxcbot]  \n",
       "6   [Самая проблема курсов , как я понял у всех, ч...  \n",
       "7   [Я тоже только по отзывам местных работяг знаю...  \n",
       "8   [Это сообщение считаю неуместным, если тебе нр...  \n",
       "9   [Ирина по прежнему лидирует в нашем соревнован...  \n",
       "10  [Дешево чтото, смотрела всегда говори да?, Вин...  \n",
       "11  [Да я вроде не лично ему писала. Но увы это не...  \n",
       "12  [я продолжаю с тобой общаться несмотря на отсу...  \n",
       "13                        [Спасибо, Спасибо, Спасибо]  \n",
       "14  [Ушла из этого рассадника злобы и негатива. Си...  \n",
       "15  [Слишком большой набор людей, наверное, Чот сл...  \n",
       "16  [Я тожеУ нас так много общего, Самое смешное ч...  \n",
       "17  [гиперсссылка, гиперсссылка, Также все прописа...  \n",
       "18  [Так же ди обучался. Три дня на коннекторы s3 ...  \n",
       "19                      [спасибо!, спасибо, спасибо!]  "
      ]
     },
     "execution_count": 458,
     "metadata": {},
     "output_type": "execute_result"
    }
   ],
   "source": [
    "model_info = info = bertopic_model.topic_model.get_topic_info()\n",
    "model_info"
   ]
  },
  {
   "cell_type": "code",
   "execution_count": 459,
   "id": "14bc93e8-e79a-4f6c-a2aa-87d882864ae3",
   "metadata": {},
   "outputs": [
    {
     "data": {
      "text/plain": [
       "[('ссылка', 0.12140949139642458),\n",
       " ('nda', 0.10864577651472243),\n",
       " ('заявку', 0.07595376716191302),\n",
       " ('неактивна', 0.044454557951856384),\n",
       " ('заявку nda', 0.044454557951856384),\n",
       " ('подписать', 0.0430092222483835),\n",
       " ('ссылка nda', 0.040658134064074695),\n",
       " ('ссылка неактивна', 0.038612219623767485),\n",
       " ('отправила', 0.03556364636148511),\n",
       " ('отправил', 0.03556364636148511),\n",
       " ('готова', 0.0344073777987068),\n",
       " ('nda ссылка неактивна', 0.03058502750345637),\n",
       " ('nda ссылка', 0.03058502750345637),\n",
       " ('подписать nda', 0.03058502750345637),\n",
       " ('ссылки', 0.028959164717825614)]"
      ]
     },
     "execution_count": 459,
     "metadata": {},
     "output_type": "execute_result"
    }
   ],
   "source": [
    "bertopic_model.topic_model.get_topic(3)"
   ]
  },
  {
   "cell_type": "code",
   "execution_count": 460,
   "id": "11582f56-6bac-4983-984a-dd245cce42d6",
   "metadata": {
    "scrolled": true
   },
   "outputs": [
    {
     "name": "stdout",
     "output_type": "stream",
     "text": [
      "0                                                                                                                                                                                                                                                                                                                 [это, всем, ссылка, всем привет, привет, спасибо, блин, вопрос, людей, кажется, hr, яндекс, вопросы, пока, ёклмн]\n",
      "1                                                                                                                                                                                                                                                                                                               [это, просто, ссылка, курс, nda, голосовухи, форма, отправить, файл, какие, вопросы, пока, работает, вчера, раньше]\n",
      "2                                                                                                                                                                                                                                                                                [спасибо, тебе, тебе спасибо, super_ira, ещё, появляются, тебе спасибо спасибо, регулярно, атмосфера, пробник, покемона, кем, звучит, поймал, это]\n",
      "3                                                                                                                                                                                                                                                                                            [данных, курсов, яндекс, привет, практикума, всем, коллеги, курсы, курса, карьерный, карьерный трек, практикум, трек, команды, работы]\n",
      "4                                                                                                                                                                                                                                                       [ссылка, nda, заявку, неактивна, заявку nda, подписать, ссылка nda, ссылка неактивна, отправила, отправил, готова, nda ссылка неактивна, nda ссылка, подписать nda, ссылки]\n",
      "5     [toprepyndxcbot, toprepyndxcbot toprepyndxcbot, toprepyndxcbot toprepyndxcbot toprepyndxcbot, toprepyndxcbot toprepyndxcbot rabotat381bot, toprepyndxcbot rabotat381bot, toprepyndxcbot countdistinct client_id, toprepyndxcbot countdistinct, rabotat381bot, countdistinct client_id toprepyndxcbot, countdistinct client_id, countdistinct, client_id toprepyndxcbot toprepyndxcbot, client_id toprepyndxcbot, client_id, ]\n",
      "6                                                                                                                                                                                                                                                                                         [яндекс, ритейл, это, тех, помогает, интервью, найти, накрутивший, насколько, надеюсь, доп, зная ждать, зная, проще подготовиться, проще]\n",
      "7                                                                                                                                                                                                                                                                               [лс, можешь, гитхаба, утп, напиши, кинуть, вк, знаю, работать напиши лс, работяг, сегодня вебинар, секция, сегодня вебинар с3, реквизиты, подробно]\n",
      "8                                                                                                                                                                                                                                                                                                   [чате, кофе, правило, чата, сегодня, котики, сильно, обсуждаем, обсуждаем политику, политику, злобы, правила, можешь, чат, это]\n",
      "9                                                                                                                                                              [ахахахаха, увеличила репутацию, увеличила, репутацию, яндекс, догонишь ахахахахаспасибо, ире ахахахахахахахаха ирина, яндекс ахахахаха, догонишь ахахахахаспасибо илюша, жестко, илюша, начала борьбу призы, ире ахахахахахахахаха, жестко спасибо, илюша darya 23]\n",
      "10                                                                                                                                                                       [наверное, мммм попробуй, скидавай илья ахахахахаха, скидавай, смотрела говори наверное, скидавай илья, суши мммм, смотрела говори, просто предположение, суши, предположение ахахаха, суши мммм попробуй, сяпас вино, сяпас вино суши, такая история бля]\n",
      "11                                                                                                                                                                                                                                                             [это, чат, лично, hr, реплай, пишут, 2000, посмотрите спам это, посмотрите, посмотрите спам, провоцируйте это, спину, провоцируйте это постом, реплаит, реплаит мое]\n",
      "12                                                                                                                                                                                                                                                                                       [общаться, нюдсов, это просто друзья, посмотрел, просто друзья, друзья, ой, это просто, продолжаю, просто, тобой, вообще, это, блин, могу]\n",
      "13                                                                                                                                                                                                                                                                        [спасибо спасибо спасибо, спасибо спасибо, спасибо, спасибо плюсую спасибо, спасибо плюсую, плюсую спасибо спасибо, плюсую спасибо, плюсую, , , , , , , ]\n",
      "14                                                                                                                                                                                     [андрюх, нужны голосовуки эээ, нужны голосовуки, обещали голосовухи необходима, паузами против имею, обещали, паузами, перехожу сторону добра, обещали голосовухи, подпишись, нууу 10 секундными, нууу 10, нууу, эээ нууу, перехожу сторону]\n",
      "15                                                                                                                                                                                 [слишком, 820, наверное вытаскивать контекста, разбуди 820, набор людей наверное, ящитаю разбуди, преемнику поставь, преемнику, поставь место, поставь, поразному выше стеб, поразному выше, поразному, пора устроили заморозили, пора устроили]\n",
      "16                                                                                                                                                        [вступительную, тожеу, найди самое, оставь найди, пошерьте, мониторь сообщения, мониторь, готовлю вступительную речь, готовлю вступительную, готовлю, вступительную речь тожеу, вступительную речь, мониторь сообщения оставь, тожеу общего мониторь, оставь найди самое]\n",
      "17                                                                                                                     [гиперсссылка, ссылка, гиперсссылка гиперсссылка, короткое видео 12, прорабатывали, фото попробуй гиперсссылка, короткое видео, также прописано, тему гиперсссылка, также прописано странице, реферальная программа, команде гиперсссылка, реферальная, прорабатывали тему гиперсссылка, прорабатывали тему]\n",
      "18                                                                                                                                                                              [мессенджер команда, мессенджер, команда, какойто, s3, попахивает, попахивает обидой хуевый, порыв обычно сконтролированный, просто разбить, положил оч вкутно, положил оч, положил, подтверждение втб мессенджер, подтверждение втб, порыв обычно]\n",
      "19                                                                                                                                                                  [спасибо, спасибо спасибо, дорогой, ура спасибо тебе, пожалуйста ура, пока топе, пожалуйста ура спасибо, спасибо дорогой, подправила, открытку спасибо спасибо, спасибо открытку спасибо, открытку спасибо, открытку, дорогой спасибо спасибо, дорогой спасибо]\n",
      "Name: Representation, dtype: object\n"
     ]
    }
   ],
   "source": [
    "with pd.option_context('display.max_rows', None, 'display.max_colwidth', None):\n",
    "    print(model_info['Representation'])"
   ]
  },
  {
   "cell_type": "code",
   "execution_count": 466,
   "id": "2c78ea2c-be45-441f-81bf-15f94799f3ad",
   "metadata": {},
   "outputs": [],
   "source": [
    "df_1_clust = df_1.df.join(pd.DataFrame({'num_topic': topics},index=index_df),how='left')"
   ]
  },
  {
   "cell_type": "code",
   "execution_count": 468,
   "id": "41fb7e50-4c28-4b1e-b66e-fabb2f01d023",
   "metadata": {},
   "outputs": [
    {
     "data": {
      "text/html": [
       "<div>\n",
       "<style scoped>\n",
       "    .dataframe tbody tr th:only-of-type {\n",
       "        vertical-align: middle;\n",
       "    }\n",
       "\n",
       "    .dataframe tbody tr th {\n",
       "        vertical-align: top;\n",
       "    }\n",
       "\n",
       "    .dataframe thead th {\n",
       "        text-align: right;\n",
       "    }\n",
       "</style>\n",
       "<table border=\"1\" class=\"dataframe\">\n",
       "  <thead>\n",
       "    <tr style=\"text-align: right;\">\n",
       "      <th></th>\n",
       "      <th>date</th>\n",
       "      <th>chat_name</th>\n",
       "      <th>chat_id</th>\n",
       "      <th>sender_id</th>\n",
       "      <th>sender_type</th>\n",
       "      <th>message_id</th>\n",
       "      <th>type</th>\n",
       "      <th>reply_to_message_id</th>\n",
       "      <th>user_name</th>\n",
       "      <th>first_name</th>\n",
       "      <th>last_name</th>\n",
       "      <th>text</th>\n",
       "      <th>num_topic</th>\n",
       "    </tr>\n",
       "  </thead>\n",
       "  <tbody>\n",
       "    <tr>\n",
       "      <th>127</th>\n",
       "      <td>2025-02-04 15:37:00</td>\n",
       "      <td>💬 Data Practicum Chat</td>\n",
       "      <td>1379846874</td>\n",
       "      <td>262309349</td>\n",
       "      <td>user</td>\n",
       "      <td>266827</td>\n",
       "      <td>message</td>\n",
       "      <td>266824.0</td>\n",
       "      <td>Arsen (არსენა) Хабибуллин</td>\n",
       "      <td>Arsen</td>\n",
       "      <td>(არსენა)</td>\n",
       "      <td>мазохистичный порыв да</td>\n",
       "      <td>17.0</td>\n",
       "    </tr>\n",
       "    <tr>\n",
       "      <th>299</th>\n",
       "      <td>2025-02-06 07:39:23</td>\n",
       "      <td>💬 Data Practicum Chat</td>\n",
       "      <td>1379846874</td>\n",
       "      <td>1745402363</td>\n",
       "      <td>user</td>\n",
       "      <td>267004</td>\n",
       "      <td>message</td>\n",
       "      <td>266752.0</td>\n",
       "      <td>Ирина</td>\n",
       "      <td>Ирина</td>\n",
       "      <td></td>\n",
       "      <td>И у меня тоже так и не подучилось по ссылке пе...</td>\n",
       "      <td>0.0</td>\n",
       "    </tr>\n",
       "    <tr>\n",
       "      <th>520</th>\n",
       "      <td>2025-02-17 12:10:58</td>\n",
       "      <td>💬 Data Practicum Chat</td>\n",
       "      <td>1379846874</td>\n",
       "      <td>348947770</td>\n",
       "      <td>user</td>\n",
       "      <td>267298</td>\n",
       "      <td>message</td>\n",
       "      <td>267289.0</td>\n",
       "      <td>Юлия</td>\n",
       "      <td>Юлия</td>\n",
       "      <td></td>\n",
       "      <td>Они в Акселерации регулярно появляются)</td>\n",
       "      <td>1.0</td>\n",
       "    </tr>\n",
       "    <tr>\n",
       "      <th>357</th>\n",
       "      <td>2025-02-08 13:37:32</td>\n",
       "      <td>💬 Data Practicum Chat</td>\n",
       "      <td>1379846874</td>\n",
       "      <td>100092469</td>\n",
       "      <td>user</td>\n",
       "      <td>267071</td>\n",
       "      <td>message</td>\n",
       "      <td>NaN</td>\n",
       "      <td>Irina</td>\n",
       "      <td>Irina</td>\n",
       "      <td></td>\n",
       "      <td>грешу этим, да</td>\n",
       "      <td>0.0</td>\n",
       "    </tr>\n",
       "    <tr>\n",
       "      <th>802</th>\n",
       "      <td>2025-02-24 11:29:33</td>\n",
       "      <td>💬 Data Practicum Chat</td>\n",
       "      <td>1379846874</td>\n",
       "      <td>60031833</td>\n",
       "      <td>user</td>\n",
       "      <td>267620</td>\n",
       "      <td>message</td>\n",
       "      <td>267619.0</td>\n",
       "      <td>Sergey</td>\n",
       "      <td>Sergey</td>\n",
       "      <td></td>\n",
       "      <td>Пиво пить?</td>\n",
       "      <td>0.0</td>\n",
       "    </tr>\n",
       "  </tbody>\n",
       "</table>\n",
       "</div>"
      ],
      "text/plain": [
       "                   date              chat_name     chat_id   sender_id  \\\n",
       "127 2025-02-04 15:37:00  💬 Data Practicum Chat  1379846874   262309349   \n",
       "299 2025-02-06 07:39:23  💬 Data Practicum Chat  1379846874  1745402363   \n",
       "520 2025-02-17 12:10:58  💬 Data Practicum Chat  1379846874   348947770   \n",
       "357 2025-02-08 13:37:32  💬 Data Practicum Chat  1379846874   100092469   \n",
       "802 2025-02-24 11:29:33  💬 Data Practicum Chat  1379846874    60031833   \n",
       "\n",
       "    sender_type  message_id     type  reply_to_message_id  \\\n",
       "127        user      266827  message             266824.0   \n",
       "299        user      267004  message             266752.0   \n",
       "520        user      267298  message             267289.0   \n",
       "357        user      267071  message                  NaN   \n",
       "802        user      267620  message             267619.0   \n",
       "\n",
       "                     user_name first_name last_name  \\\n",
       "127  Arsen (არსენა) Хабибуллин      Arsen  (არსენა)   \n",
       "299                      Ирина      Ирина             \n",
       "520                       Юлия       Юлия             \n",
       "357                      Irina      Irina             \n",
       "802                     Sergey     Sergey             \n",
       "\n",
       "                                                  text  num_topic  \n",
       "127                             мазохистичный порыв да       17.0  \n",
       "299  И у меня тоже так и не подучилось по ссылке пе...        0.0  \n",
       "520            Они в Акселерации регулярно появляются)        1.0  \n",
       "357                                     грешу этим, да        0.0  \n",
       "802                                         Пиво пить?        0.0  "
      ]
     },
     "execution_count": 468,
     "metadata": {},
     "output_type": "execute_result"
    }
   ],
   "source": [
    "df_1_clust.sample(5)"
   ]
  },
  {
   "cell_type": "markdown",
   "id": "291fe39c-23bd-4c5f-b682-d9bc4879ea8f",
   "metadata": {},
   "source": [
    "### 4. Визуализации"
   ]
  },
  {
   "cell_type": "code",
   "execution_count": 474,
   "id": "0c461a0c-2e4c-42d0-8f8c-fb87cb6903ed",
   "metadata": {},
   "outputs": [
    {
     "data": {
      "application/vnd.plotly.v1+json": {
       "config": {
        "plotlyServerURL": "https://plot.ly"
       },
       "data": [
        {
         "customdata": [
          [
           0,
           "это | просто | ссылка | курс | nda",
           178
          ],
          [
           1,
           "спасибо | тебе | тебе спасибо | super_ira | ещё",
           125
          ],
          [
           2,
           "данных | курсов | яндекс | привет | практикума",
           59
          ],
          [
           3,
           "ссылка | nda | заявку | неактивна | заявку nda",
           42
          ],
          [
           4,
           "toprepyndxcbot | toprepyndxcbot toprepyndxcbot | toprepyndxcbot toprepyndxcbot toprepyndxcbot | toprepyndxcbot toprepyndxcbot rabotat381bot | toprepyndxcbot rabotat381bot",
           31
          ],
          [
           5,
           "яндекс | ритейл | это | тех | помогает",
           30
          ],
          [
           6,
           "лс | можешь | гитхаба | утп | напиши",
           27
          ],
          [
           7,
           "чате | кофе | правило | чата | сегодня",
           23
          ],
          [
           8,
           "ахахахаха | увеличила репутацию | увеличила | репутацию | яндекс",
           22
          ],
          [
           9,
           "наверное | мммм попробуй | скидавай илья ахахахахаха | скидавай | смотрела говори наверное",
           20
          ],
          [
           10,
           "это | чат | лично | hr | реплай",
           19
          ],
          [
           11,
           "общаться | нюдсов | это просто друзья | посмотрел | просто друзья",
           17
          ],
          [
           12,
           "спасибо спасибо спасибо | спасибо спасибо | спасибо | спасибо плюсую спасибо | спасибо плюсую",
           14
          ],
          [
           13,
           "андрюх | нужны голосовуки эээ | нужны голосовуки | обещали голосовухи необходима | паузами против имею",
           14
          ],
          [
           14,
           "слишком | 820 | наверное вытаскивать контекста | разбуди 820 | набор людей наверное",
           13
          ],
          [
           15,
           "вступительную | тожеу | найди самое | оставь найди | пошерьте",
           11
          ],
          [
           16,
           "гиперсссылка | ссылка | гиперсссылка гиперсссылка | короткое видео 12 | прорабатывали",
           11
          ],
          [
           17,
           "мессенджер команда | мессенджер | команда | какойто | s3",
           10
          ],
          [
           18,
           "спасибо | спасибо спасибо | дорогой | ура спасибо тебе | пожалуйста ура",
           10
          ]
         ],
         "hovertemplate": "<b>Topic %{customdata[0]}</b><br>%{customdata[1]}<br>Size: %{customdata[2]}",
         "legendgroup": "",
         "marker": {
          "color": [
           "#B0BEC5",
           "#B0BEC5",
           "#B0BEC5",
           "#B0BEC5",
           "#B0BEC5",
           "#B0BEC5",
           "#B0BEC5",
           "#B0BEC5",
           "#B0BEC5",
           "#B0BEC5",
           "#B0BEC5",
           "#B0BEC5",
           "#B0BEC5",
           "#B0BEC5",
           "#B0BEC5",
           "#B0BEC5",
           "#B0BEC5",
           "#B0BEC5",
           "red"
          ],
          "line": {
           "color": "DarkSlateGrey",
           "width": 2
          },
          "size": [
           178,
           125,
           59,
           42,
           31,
           30,
           27,
           23,
           22,
           20,
           19,
           17,
           14,
           14,
           13,
           11,
           11,
           10,
           10
          ],
          "sizemode": "area",
          "sizeref": 0.11125,
          "symbol": "circle"
         },
         "mode": "markers",
         "name": "",
         "orientation": "v",
         "showlegend": false,
         "type": "scatter",
         "x": [
          18.969498,
          -1.5676812,
          19.470182,
          0.47675985,
          -2.8764555,
          19.82126,
          18.62629,
          18.83048,
          -2.181819,
          -6.3413525,
          0.16845226,
          -1.2519059,
          -6.05145,
          -0.78930867,
          -1.6841943,
          -1.3272375,
          -2.622312,
          -0.9599892,
          -5.8531876
         ],
         "xaxis": "x",
         "y": [
          11.7731085,
          -1.0078516,
          11.851958,
          -0.2817551,
          0.026196068,
          12.057711,
          12.0009,
          11.345641,
          -0.5870931,
          6.5974336,
          -0.5725331,
          -0.7943299,
          6.888998,
          -0.100214764,
          -0.5824688,
          0.51891327,
          -0.2744237,
          -1.1675261,
          7.086769
         ],
         "yaxis": "y"
        }
       ],
       "layout": {
        "annotations": [
         {
          "showarrow": false,
          "text": "D1",
          "x": -7.292555332183838,
          "y": 6.261856099963189,
          "yshift": 10
         },
         {
          "showarrow": false,
          "text": "D2",
          "x": 7.750947093963623,
          "xshift": 10,
          "y": 13.86636724472046
         }
        ],
        "height": 600,
        "hoverlabel": {
         "bgcolor": "white",
         "font": {
          "family": "Rockwell",
          "size": 16
         }
        },
        "legend": {
         "itemsizing": "constant",
         "tracegroupgap": 0
        },
        "margin": {
         "t": 60
        },
        "shapes": [
         {
          "line": {
           "color": "#CFD8DC",
           "width": 2
          },
          "type": "line",
          "x0": 7.750947093963623,
          "x1": 7.750947093963623,
          "y0": -1.3426550447940826,
          "y1": 13.86636724472046
         },
         {
          "line": {
           "color": "#9E9E9E",
           "width": 2
          },
          "type": "line",
          "x0": -7.292555332183838,
          "x1": 22.794449520111083,
          "y0": 6.261856099963189,
          "y1": 6.261856099963189
         }
        ],
        "sliders": [
         {
          "active": 18,
          "pad": {
           "t": 50
          },
          "steps": [
           {
            "args": [
             {
              "marker.color": [
               [
                "red",
                "#B0BEC5",
                "#B0BEC5",
                "#B0BEC5",
                "#B0BEC5",
                "#B0BEC5",
                "#B0BEC5",
                "#B0BEC5",
                "#B0BEC5",
                "#B0BEC5",
                "#B0BEC5",
                "#B0BEC5",
                "#B0BEC5",
                "#B0BEC5",
                "#B0BEC5",
                "#B0BEC5",
                "#B0BEC5",
                "#B0BEC5",
                "#B0BEC5"
               ]
              ]
             }
            ],
            "label": "Topic 0",
            "method": "update"
           },
           {
            "args": [
             {
              "marker.color": [
               [
                "#B0BEC5",
                "red",
                "#B0BEC5",
                "#B0BEC5",
                "#B0BEC5",
                "#B0BEC5",
                "#B0BEC5",
                "#B0BEC5",
                "#B0BEC5",
                "#B0BEC5",
                "#B0BEC5",
                "#B0BEC5",
                "#B0BEC5",
                "#B0BEC5",
                "#B0BEC5",
                "#B0BEC5",
                "#B0BEC5",
                "#B0BEC5",
                "#B0BEC5"
               ]
              ]
             }
            ],
            "label": "Topic 1",
            "method": "update"
           },
           {
            "args": [
             {
              "marker.color": [
               [
                "#B0BEC5",
                "#B0BEC5",
                "red",
                "#B0BEC5",
                "#B0BEC5",
                "#B0BEC5",
                "#B0BEC5",
                "#B0BEC5",
                "#B0BEC5",
                "#B0BEC5",
                "#B0BEC5",
                "#B0BEC5",
                "#B0BEC5",
                "#B0BEC5",
                "#B0BEC5",
                "#B0BEC5",
                "#B0BEC5",
                "#B0BEC5",
                "#B0BEC5"
               ]
              ]
             }
            ],
            "label": "Topic 2",
            "method": "update"
           },
           {
            "args": [
             {
              "marker.color": [
               [
                "#B0BEC5",
                "#B0BEC5",
                "#B0BEC5",
                "red",
                "#B0BEC5",
                "#B0BEC5",
                "#B0BEC5",
                "#B0BEC5",
                "#B0BEC5",
                "#B0BEC5",
                "#B0BEC5",
                "#B0BEC5",
                "#B0BEC5",
                "#B0BEC5",
                "#B0BEC5",
                "#B0BEC5",
                "#B0BEC5",
                "#B0BEC5",
                "#B0BEC5"
               ]
              ]
             }
            ],
            "label": "Topic 3",
            "method": "update"
           },
           {
            "args": [
             {
              "marker.color": [
               [
                "#B0BEC5",
                "#B0BEC5",
                "#B0BEC5",
                "#B0BEC5",
                "red",
                "#B0BEC5",
                "#B0BEC5",
                "#B0BEC5",
                "#B0BEC5",
                "#B0BEC5",
                "#B0BEC5",
                "#B0BEC5",
                "#B0BEC5",
                "#B0BEC5",
                "#B0BEC5",
                "#B0BEC5",
                "#B0BEC5",
                "#B0BEC5",
                "#B0BEC5"
               ]
              ]
             }
            ],
            "label": "Topic 4",
            "method": "update"
           },
           {
            "args": [
             {
              "marker.color": [
               [
                "#B0BEC5",
                "#B0BEC5",
                "#B0BEC5",
                "#B0BEC5",
                "#B0BEC5",
                "red",
                "#B0BEC5",
                "#B0BEC5",
                "#B0BEC5",
                "#B0BEC5",
                "#B0BEC5",
                "#B0BEC5",
                "#B0BEC5",
                "#B0BEC5",
                "#B0BEC5",
                "#B0BEC5",
                "#B0BEC5",
                "#B0BEC5",
                "#B0BEC5"
               ]
              ]
             }
            ],
            "label": "Topic 5",
            "method": "update"
           },
           {
            "args": [
             {
              "marker.color": [
               [
                "#B0BEC5",
                "#B0BEC5",
                "#B0BEC5",
                "#B0BEC5",
                "#B0BEC5",
                "#B0BEC5",
                "red",
                "#B0BEC5",
                "#B0BEC5",
                "#B0BEC5",
                "#B0BEC5",
                "#B0BEC5",
                "#B0BEC5",
                "#B0BEC5",
                "#B0BEC5",
                "#B0BEC5",
                "#B0BEC5",
                "#B0BEC5",
                "#B0BEC5"
               ]
              ]
             }
            ],
            "label": "Topic 6",
            "method": "update"
           },
           {
            "args": [
             {
              "marker.color": [
               [
                "#B0BEC5",
                "#B0BEC5",
                "#B0BEC5",
                "#B0BEC5",
                "#B0BEC5",
                "#B0BEC5",
                "#B0BEC5",
                "red",
                "#B0BEC5",
                "#B0BEC5",
                "#B0BEC5",
                "#B0BEC5",
                "#B0BEC5",
                "#B0BEC5",
                "#B0BEC5",
                "#B0BEC5",
                "#B0BEC5",
                "#B0BEC5",
                "#B0BEC5"
               ]
              ]
             }
            ],
            "label": "Topic 7",
            "method": "update"
           },
           {
            "args": [
             {
              "marker.color": [
               [
                "#B0BEC5",
                "#B0BEC5",
                "#B0BEC5",
                "#B0BEC5",
                "#B0BEC5",
                "#B0BEC5",
                "#B0BEC5",
                "#B0BEC5",
                "red",
                "#B0BEC5",
                "#B0BEC5",
                "#B0BEC5",
                "#B0BEC5",
                "#B0BEC5",
                "#B0BEC5",
                "#B0BEC5",
                "#B0BEC5",
                "#B0BEC5",
                "#B0BEC5"
               ]
              ]
             }
            ],
            "label": "Topic 8",
            "method": "update"
           },
           {
            "args": [
             {
              "marker.color": [
               [
                "#B0BEC5",
                "#B0BEC5",
                "#B0BEC5",
                "#B0BEC5",
                "#B0BEC5",
                "#B0BEC5",
                "#B0BEC5",
                "#B0BEC5",
                "#B0BEC5",
                "red",
                "#B0BEC5",
                "#B0BEC5",
                "#B0BEC5",
                "#B0BEC5",
                "#B0BEC5",
                "#B0BEC5",
                "#B0BEC5",
                "#B0BEC5",
                "#B0BEC5"
               ]
              ]
             }
            ],
            "label": "Topic 9",
            "method": "update"
           },
           {
            "args": [
             {
              "marker.color": [
               [
                "#B0BEC5",
                "#B0BEC5",
                "#B0BEC5",
                "#B0BEC5",
                "#B0BEC5",
                "#B0BEC5",
                "#B0BEC5",
                "#B0BEC5",
                "#B0BEC5",
                "#B0BEC5",
                "red",
                "#B0BEC5",
                "#B0BEC5",
                "#B0BEC5",
                "#B0BEC5",
                "#B0BEC5",
                "#B0BEC5",
                "#B0BEC5",
                "#B0BEC5"
               ]
              ]
             }
            ],
            "label": "Topic 10",
            "method": "update"
           },
           {
            "args": [
             {
              "marker.color": [
               [
                "#B0BEC5",
                "#B0BEC5",
                "#B0BEC5",
                "#B0BEC5",
                "#B0BEC5",
                "#B0BEC5",
                "#B0BEC5",
                "#B0BEC5",
                "#B0BEC5",
                "#B0BEC5",
                "#B0BEC5",
                "red",
                "#B0BEC5",
                "#B0BEC5",
                "#B0BEC5",
                "#B0BEC5",
                "#B0BEC5",
                "#B0BEC5",
                "#B0BEC5"
               ]
              ]
             }
            ],
            "label": "Topic 11",
            "method": "update"
           },
           {
            "args": [
             {
              "marker.color": [
               [
                "#B0BEC5",
                "#B0BEC5",
                "#B0BEC5",
                "#B0BEC5",
                "#B0BEC5",
                "#B0BEC5",
                "#B0BEC5",
                "#B0BEC5",
                "#B0BEC5",
                "#B0BEC5",
                "#B0BEC5",
                "#B0BEC5",
                "red",
                "#B0BEC5",
                "#B0BEC5",
                "#B0BEC5",
                "#B0BEC5",
                "#B0BEC5",
                "#B0BEC5"
               ]
              ]
             }
            ],
            "label": "Topic 12",
            "method": "update"
           },
           {
            "args": [
             {
              "marker.color": [
               [
                "#B0BEC5",
                "#B0BEC5",
                "#B0BEC5",
                "#B0BEC5",
                "#B0BEC5",
                "#B0BEC5",
                "#B0BEC5",
                "#B0BEC5",
                "#B0BEC5",
                "#B0BEC5",
                "#B0BEC5",
                "#B0BEC5",
                "#B0BEC5",
                "red",
                "#B0BEC5",
                "#B0BEC5",
                "#B0BEC5",
                "#B0BEC5",
                "#B0BEC5"
               ]
              ]
             }
            ],
            "label": "Topic 13",
            "method": "update"
           },
           {
            "args": [
             {
              "marker.color": [
               [
                "#B0BEC5",
                "#B0BEC5",
                "#B0BEC5",
                "#B0BEC5",
                "#B0BEC5",
                "#B0BEC5",
                "#B0BEC5",
                "#B0BEC5",
                "#B0BEC5",
                "#B0BEC5",
                "#B0BEC5",
                "#B0BEC5",
                "#B0BEC5",
                "#B0BEC5",
                "red",
                "#B0BEC5",
                "#B0BEC5",
                "#B0BEC5",
                "#B0BEC5"
               ]
              ]
             }
            ],
            "label": "Topic 14",
            "method": "update"
           },
           {
            "args": [
             {
              "marker.color": [
               [
                "#B0BEC5",
                "#B0BEC5",
                "#B0BEC5",
                "#B0BEC5",
                "#B0BEC5",
                "#B0BEC5",
                "#B0BEC5",
                "#B0BEC5",
                "#B0BEC5",
                "#B0BEC5",
                "#B0BEC5",
                "#B0BEC5",
                "#B0BEC5",
                "#B0BEC5",
                "#B0BEC5",
                "red",
                "#B0BEC5",
                "#B0BEC5",
                "#B0BEC5"
               ]
              ]
             }
            ],
            "label": "Topic 15",
            "method": "update"
           },
           {
            "args": [
             {
              "marker.color": [
               [
                "#B0BEC5",
                "#B0BEC5",
                "#B0BEC5",
                "#B0BEC5",
                "#B0BEC5",
                "#B0BEC5",
                "#B0BEC5",
                "#B0BEC5",
                "#B0BEC5",
                "#B0BEC5",
                "#B0BEC5",
                "#B0BEC5",
                "#B0BEC5",
                "#B0BEC5",
                "#B0BEC5",
                "#B0BEC5",
                "red",
                "#B0BEC5",
                "#B0BEC5"
               ]
              ]
             }
            ],
            "label": "Topic 16",
            "method": "update"
           },
           {
            "args": [
             {
              "marker.color": [
               [
                "#B0BEC5",
                "#B0BEC5",
                "#B0BEC5",
                "#B0BEC5",
                "#B0BEC5",
                "#B0BEC5",
                "#B0BEC5",
                "#B0BEC5",
                "#B0BEC5",
                "#B0BEC5",
                "#B0BEC5",
                "#B0BEC5",
                "#B0BEC5",
                "#B0BEC5",
                "#B0BEC5",
                "#B0BEC5",
                "#B0BEC5",
                "red",
                "#B0BEC5"
               ]
              ]
             }
            ],
            "label": "Topic 17",
            "method": "update"
           },
           {
            "args": [
             {
              "marker.color": [
               [
                "#B0BEC5",
                "#B0BEC5",
                "#B0BEC5",
                "#B0BEC5",
                "#B0BEC5",
                "#B0BEC5",
                "#B0BEC5",
                "#B0BEC5",
                "#B0BEC5",
                "#B0BEC5",
                "#B0BEC5",
                "#B0BEC5",
                "#B0BEC5",
                "#B0BEC5",
                "#B0BEC5",
                "#B0BEC5",
                "#B0BEC5",
                "#B0BEC5",
                "red"
               ]
              ]
             }
            ],
            "label": "Topic 18",
            "method": "update"
           }
          ]
         }
        ],
        "template": {
         "data": {
          "bar": [
           {
            "error_x": {
             "color": "rgb(36,36,36)"
            },
            "error_y": {
             "color": "rgb(36,36,36)"
            },
            "marker": {
             "line": {
              "color": "white",
              "width": 0.5
             },
             "pattern": {
              "fillmode": "overlay",
              "size": 10,
              "solidity": 0.2
             }
            },
            "type": "bar"
           }
          ],
          "barpolar": [
           {
            "marker": {
             "line": {
              "color": "white",
              "width": 0.5
             },
             "pattern": {
              "fillmode": "overlay",
              "size": 10,
              "solidity": 0.2
             }
            },
            "type": "barpolar"
           }
          ],
          "carpet": [
           {
            "aaxis": {
             "endlinecolor": "rgb(36,36,36)",
             "gridcolor": "white",
             "linecolor": "white",
             "minorgridcolor": "white",
             "startlinecolor": "rgb(36,36,36)"
            },
            "baxis": {
             "endlinecolor": "rgb(36,36,36)",
             "gridcolor": "white",
             "linecolor": "white",
             "minorgridcolor": "white",
             "startlinecolor": "rgb(36,36,36)"
            },
            "type": "carpet"
           }
          ],
          "choropleth": [
           {
            "colorbar": {
             "outlinewidth": 1,
             "tickcolor": "rgb(36,36,36)",
             "ticks": "outside"
            },
            "type": "choropleth"
           }
          ],
          "contour": [
           {
            "colorbar": {
             "outlinewidth": 1,
             "tickcolor": "rgb(36,36,36)",
             "ticks": "outside"
            },
            "colorscale": [
             [
              0,
              "#440154"
             ],
             [
              0.1111111111111111,
              "#482878"
             ],
             [
              0.2222222222222222,
              "#3e4989"
             ],
             [
              0.3333333333333333,
              "#31688e"
             ],
             [
              0.4444444444444444,
              "#26828e"
             ],
             [
              0.5555555555555556,
              "#1f9e89"
             ],
             [
              0.6666666666666666,
              "#35b779"
             ],
             [
              0.7777777777777778,
              "#6ece58"
             ],
             [
              0.8888888888888888,
              "#b5de2b"
             ],
             [
              1,
              "#fde725"
             ]
            ],
            "type": "contour"
           }
          ],
          "contourcarpet": [
           {
            "colorbar": {
             "outlinewidth": 1,
             "tickcolor": "rgb(36,36,36)",
             "ticks": "outside"
            },
            "type": "contourcarpet"
           }
          ],
          "heatmap": [
           {
            "colorbar": {
             "outlinewidth": 1,
             "tickcolor": "rgb(36,36,36)",
             "ticks": "outside"
            },
            "colorscale": [
             [
              0,
              "#440154"
             ],
             [
              0.1111111111111111,
              "#482878"
             ],
             [
              0.2222222222222222,
              "#3e4989"
             ],
             [
              0.3333333333333333,
              "#31688e"
             ],
             [
              0.4444444444444444,
              "#26828e"
             ],
             [
              0.5555555555555556,
              "#1f9e89"
             ],
             [
              0.6666666666666666,
              "#35b779"
             ],
             [
              0.7777777777777778,
              "#6ece58"
             ],
             [
              0.8888888888888888,
              "#b5de2b"
             ],
             [
              1,
              "#fde725"
             ]
            ],
            "type": "heatmap"
           }
          ],
          "heatmapgl": [
           {
            "colorbar": {
             "outlinewidth": 1,
             "tickcolor": "rgb(36,36,36)",
             "ticks": "outside"
            },
            "colorscale": [
             [
              0,
              "#440154"
             ],
             [
              0.1111111111111111,
              "#482878"
             ],
             [
              0.2222222222222222,
              "#3e4989"
             ],
             [
              0.3333333333333333,
              "#31688e"
             ],
             [
              0.4444444444444444,
              "#26828e"
             ],
             [
              0.5555555555555556,
              "#1f9e89"
             ],
             [
              0.6666666666666666,
              "#35b779"
             ],
             [
              0.7777777777777778,
              "#6ece58"
             ],
             [
              0.8888888888888888,
              "#b5de2b"
             ],
             [
              1,
              "#fde725"
             ]
            ],
            "type": "heatmapgl"
           }
          ],
          "histogram": [
           {
            "marker": {
             "line": {
              "color": "white",
              "width": 0.6
             }
            },
            "type": "histogram"
           }
          ],
          "histogram2d": [
           {
            "colorbar": {
             "outlinewidth": 1,
             "tickcolor": "rgb(36,36,36)",
             "ticks": "outside"
            },
            "colorscale": [
             [
              0,
              "#440154"
             ],
             [
              0.1111111111111111,
              "#482878"
             ],
             [
              0.2222222222222222,
              "#3e4989"
             ],
             [
              0.3333333333333333,
              "#31688e"
             ],
             [
              0.4444444444444444,
              "#26828e"
             ],
             [
              0.5555555555555556,
              "#1f9e89"
             ],
             [
              0.6666666666666666,
              "#35b779"
             ],
             [
              0.7777777777777778,
              "#6ece58"
             ],
             [
              0.8888888888888888,
              "#b5de2b"
             ],
             [
              1,
              "#fde725"
             ]
            ],
            "type": "histogram2d"
           }
          ],
          "histogram2dcontour": [
           {
            "colorbar": {
             "outlinewidth": 1,
             "tickcolor": "rgb(36,36,36)",
             "ticks": "outside"
            },
            "colorscale": [
             [
              0,
              "#440154"
             ],
             [
              0.1111111111111111,
              "#482878"
             ],
             [
              0.2222222222222222,
              "#3e4989"
             ],
             [
              0.3333333333333333,
              "#31688e"
             ],
             [
              0.4444444444444444,
              "#26828e"
             ],
             [
              0.5555555555555556,
              "#1f9e89"
             ],
             [
              0.6666666666666666,
              "#35b779"
             ],
             [
              0.7777777777777778,
              "#6ece58"
             ],
             [
              0.8888888888888888,
              "#b5de2b"
             ],
             [
              1,
              "#fde725"
             ]
            ],
            "type": "histogram2dcontour"
           }
          ],
          "mesh3d": [
           {
            "colorbar": {
             "outlinewidth": 1,
             "tickcolor": "rgb(36,36,36)",
             "ticks": "outside"
            },
            "type": "mesh3d"
           }
          ],
          "parcoords": [
           {
            "line": {
             "colorbar": {
              "outlinewidth": 1,
              "tickcolor": "rgb(36,36,36)",
              "ticks": "outside"
             }
            },
            "type": "parcoords"
           }
          ],
          "pie": [
           {
            "automargin": true,
            "type": "pie"
           }
          ],
          "scatter": [
           {
            "fillpattern": {
             "fillmode": "overlay",
             "size": 10,
             "solidity": 0.2
            },
            "type": "scatter"
           }
          ],
          "scatter3d": [
           {
            "line": {
             "colorbar": {
              "outlinewidth": 1,
              "tickcolor": "rgb(36,36,36)",
              "ticks": "outside"
             }
            },
            "marker": {
             "colorbar": {
              "outlinewidth": 1,
              "tickcolor": "rgb(36,36,36)",
              "ticks": "outside"
             }
            },
            "type": "scatter3d"
           }
          ],
          "scattercarpet": [
           {
            "marker": {
             "colorbar": {
              "outlinewidth": 1,
              "tickcolor": "rgb(36,36,36)",
              "ticks": "outside"
             }
            },
            "type": "scattercarpet"
           }
          ],
          "scattergeo": [
           {
            "marker": {
             "colorbar": {
              "outlinewidth": 1,
              "tickcolor": "rgb(36,36,36)",
              "ticks": "outside"
             }
            },
            "type": "scattergeo"
           }
          ],
          "scattergl": [
           {
            "marker": {
             "colorbar": {
              "outlinewidth": 1,
              "tickcolor": "rgb(36,36,36)",
              "ticks": "outside"
             }
            },
            "type": "scattergl"
           }
          ],
          "scattermapbox": [
           {
            "marker": {
             "colorbar": {
              "outlinewidth": 1,
              "tickcolor": "rgb(36,36,36)",
              "ticks": "outside"
             }
            },
            "type": "scattermapbox"
           }
          ],
          "scatterpolar": [
           {
            "marker": {
             "colorbar": {
              "outlinewidth": 1,
              "tickcolor": "rgb(36,36,36)",
              "ticks": "outside"
             }
            },
            "type": "scatterpolar"
           }
          ],
          "scatterpolargl": [
           {
            "marker": {
             "colorbar": {
              "outlinewidth": 1,
              "tickcolor": "rgb(36,36,36)",
              "ticks": "outside"
             }
            },
            "type": "scatterpolargl"
           }
          ],
          "scatterternary": [
           {
            "marker": {
             "colorbar": {
              "outlinewidth": 1,
              "tickcolor": "rgb(36,36,36)",
              "ticks": "outside"
             }
            },
            "type": "scatterternary"
           }
          ],
          "surface": [
           {
            "colorbar": {
             "outlinewidth": 1,
             "tickcolor": "rgb(36,36,36)",
             "ticks": "outside"
            },
            "colorscale": [
             [
              0,
              "#440154"
             ],
             [
              0.1111111111111111,
              "#482878"
             ],
             [
              0.2222222222222222,
              "#3e4989"
             ],
             [
              0.3333333333333333,
              "#31688e"
             ],
             [
              0.4444444444444444,
              "#26828e"
             ],
             [
              0.5555555555555556,
              "#1f9e89"
             ],
             [
              0.6666666666666666,
              "#35b779"
             ],
             [
              0.7777777777777778,
              "#6ece58"
             ],
             [
              0.8888888888888888,
              "#b5de2b"
             ],
             [
              1,
              "#fde725"
             ]
            ],
            "type": "surface"
           }
          ],
          "table": [
           {
            "cells": {
             "fill": {
              "color": "rgb(237,237,237)"
             },
             "line": {
              "color": "white"
             }
            },
            "header": {
             "fill": {
              "color": "rgb(217,217,217)"
             },
             "line": {
              "color": "white"
             }
            },
            "type": "table"
           }
          ]
         },
         "layout": {
          "annotationdefaults": {
           "arrowhead": 0,
           "arrowwidth": 1
          },
          "autotypenumbers": "strict",
          "coloraxis": {
           "colorbar": {
            "outlinewidth": 1,
            "tickcolor": "rgb(36,36,36)",
            "ticks": "outside"
           }
          },
          "colorscale": {
           "diverging": [
            [
             0,
             "rgb(103,0,31)"
            ],
            [
             0.1,
             "rgb(178,24,43)"
            ],
            [
             0.2,
             "rgb(214,96,77)"
            ],
            [
             0.3,
             "rgb(244,165,130)"
            ],
            [
             0.4,
             "rgb(253,219,199)"
            ],
            [
             0.5,
             "rgb(247,247,247)"
            ],
            [
             0.6,
             "rgb(209,229,240)"
            ],
            [
             0.7,
             "rgb(146,197,222)"
            ],
            [
             0.8,
             "rgb(67,147,195)"
            ],
            [
             0.9,
             "rgb(33,102,172)"
            ],
            [
             1,
             "rgb(5,48,97)"
            ]
           ],
           "sequential": [
            [
             0,
             "#440154"
            ],
            [
             0.1111111111111111,
             "#482878"
            ],
            [
             0.2222222222222222,
             "#3e4989"
            ],
            [
             0.3333333333333333,
             "#31688e"
            ],
            [
             0.4444444444444444,
             "#26828e"
            ],
            [
             0.5555555555555556,
             "#1f9e89"
            ],
            [
             0.6666666666666666,
             "#35b779"
            ],
            [
             0.7777777777777778,
             "#6ece58"
            ],
            [
             0.8888888888888888,
             "#b5de2b"
            ],
            [
             1,
             "#fde725"
            ]
           ],
           "sequentialminus": [
            [
             0,
             "#440154"
            ],
            [
             0.1111111111111111,
             "#482878"
            ],
            [
             0.2222222222222222,
             "#3e4989"
            ],
            [
             0.3333333333333333,
             "#31688e"
            ],
            [
             0.4444444444444444,
             "#26828e"
            ],
            [
             0.5555555555555556,
             "#1f9e89"
            ],
            [
             0.6666666666666666,
             "#35b779"
            ],
            [
             0.7777777777777778,
             "#6ece58"
            ],
            [
             0.8888888888888888,
             "#b5de2b"
            ],
            [
             1,
             "#fde725"
            ]
           ]
          },
          "colorway": [
           "#1F77B4",
           "#FF7F0E",
           "#2CA02C",
           "#D62728",
           "#9467BD",
           "#8C564B",
           "#E377C2",
           "#7F7F7F",
           "#BCBD22",
           "#17BECF"
          ],
          "font": {
           "color": "rgb(36,36,36)"
          },
          "geo": {
           "bgcolor": "white",
           "lakecolor": "white",
           "landcolor": "white",
           "showlakes": true,
           "showland": true,
           "subunitcolor": "white"
          },
          "hoverlabel": {
           "align": "left"
          },
          "hovermode": "closest",
          "mapbox": {
           "style": "light"
          },
          "paper_bgcolor": "white",
          "plot_bgcolor": "white",
          "polar": {
           "angularaxis": {
            "gridcolor": "rgb(232,232,232)",
            "linecolor": "rgb(36,36,36)",
            "showgrid": false,
            "showline": true,
            "ticks": "outside"
           },
           "bgcolor": "white",
           "radialaxis": {
            "gridcolor": "rgb(232,232,232)",
            "linecolor": "rgb(36,36,36)",
            "showgrid": false,
            "showline": true,
            "ticks": "outside"
           }
          },
          "scene": {
           "xaxis": {
            "backgroundcolor": "white",
            "gridcolor": "rgb(232,232,232)",
            "gridwidth": 2,
            "linecolor": "rgb(36,36,36)",
            "showbackground": true,
            "showgrid": false,
            "showline": true,
            "ticks": "outside",
            "zeroline": false,
            "zerolinecolor": "rgb(36,36,36)"
           },
           "yaxis": {
            "backgroundcolor": "white",
            "gridcolor": "rgb(232,232,232)",
            "gridwidth": 2,
            "linecolor": "rgb(36,36,36)",
            "showbackground": true,
            "showgrid": false,
            "showline": true,
            "ticks": "outside",
            "zeroline": false,
            "zerolinecolor": "rgb(36,36,36)"
           },
           "zaxis": {
            "backgroundcolor": "white",
            "gridcolor": "rgb(232,232,232)",
            "gridwidth": 2,
            "linecolor": "rgb(36,36,36)",
            "showbackground": true,
            "showgrid": false,
            "showline": true,
            "ticks": "outside",
            "zeroline": false,
            "zerolinecolor": "rgb(36,36,36)"
           }
          },
          "shapedefaults": {
           "fillcolor": "black",
           "line": {
            "width": 0
           },
           "opacity": 0.3
          },
          "ternary": {
           "aaxis": {
            "gridcolor": "rgb(232,232,232)",
            "linecolor": "rgb(36,36,36)",
            "showgrid": false,
            "showline": true,
            "ticks": "outside"
           },
           "baxis": {
            "gridcolor": "rgb(232,232,232)",
            "linecolor": "rgb(36,36,36)",
            "showgrid": false,
            "showline": true,
            "ticks": "outside"
           },
           "bgcolor": "white",
           "caxis": {
            "gridcolor": "rgb(232,232,232)",
            "linecolor": "rgb(36,36,36)",
            "showgrid": false,
            "showline": true,
            "ticks": "outside"
           }
          },
          "title": {
           "x": 0.05
          },
          "xaxis": {
           "automargin": true,
           "gridcolor": "rgb(232,232,232)",
           "linecolor": "rgb(36,36,36)",
           "showgrid": false,
           "showline": true,
           "ticks": "outside",
           "title": {
            "standoff": 15
           },
           "zeroline": false,
           "zerolinecolor": "rgb(36,36,36)"
          },
          "yaxis": {
           "automargin": true,
           "gridcolor": "rgb(232,232,232)",
           "linecolor": "rgb(36,36,36)",
           "showgrid": false,
           "showline": true,
           "ticks": "outside",
           "title": {
            "standoff": 15
           },
           "zeroline": false,
           "zerolinecolor": "rgb(36,36,36)"
          }
         }
        },
        "title": {
         "font": {
          "color": "Black",
          "size": 22
         },
         "text": "<b>Intertopic Distance Map</b>",
         "x": 0.5,
         "xanchor": "center",
         "y": 0.95,
         "yanchor": "top"
        },
        "width": 600,
        "xaxis": {
         "anchor": "y",
         "domain": [
          0,
          1
         ],
         "range": [
          -7.292555332183838,
          22.794449520111083
         ],
         "title": {
          "text": ""
         },
         "type": "linear",
         "visible": false
        },
        "yaxis": {
         "anchor": "x",
         "domain": [
          0,
          1
         ],
         "range": [
          -1.3426550447940826,
          13.86636724472046
         ],
         "title": {
          "text": ""
         },
         "type": "linear",
         "visible": false
        }
       }
      },
      "image/png": "[encoded data removed]",
      "text/html": [
       "<div>                            <div id=\"63171cfc-01ae-47b4-a3e5-9682417d18cf\" class=\"plotly-graph-div\" style=\"height:600px; width:600px;\"></div>            <script type=\"text/javascript\">                require([\"plotly\"], function(Plotly) {                    window.PLOTLYENV=window.PLOTLYENV || {};                                    if (document.getElementById(\"63171cfc-01ae-47b4-a3e5-9682417d18cf\")) {                    Plotly.newPlot(                        \"63171cfc-01ae-47b4-a3e5-9682417d18cf\",                        [{\"customdata\":[[0,\"это | просто | ссылка | курс | nda\",178],[1,\"спасибо | тебе | тебе спасибо | super_ira | ещё\",125],[2,\"данных | курсов | яндекс | привет | практикума\",59],[3,\"ссылка | nda | заявку | неактивна | заявку nda\",42],[4,\"toprepyndxcbot | toprepyndxcbot toprepyndxcbot | toprepyndxcbot toprepyndxcbot toprepyndxcbot | toprepyndxcbot toprepyndxcbot rabotat381bot | toprepyndxcbot rabotat381bot\",31],[5,\"яндекс | ритейл | это | тех | помогает\",30],[6,\"лс | можешь | гитхаба | утп | напиши\",27],[7,\"чате | кофе | правило | чата | сегодня\",23],[8,\"ахахахаха | увеличила репутацию | увеличила | репутацию | яндекс\",22],[9,\"наверное | мммм попробуй | скидавай илья ахахахахаха | скидавай | смотрела говори наверное\",20],[10,\"это | чат | лично | hr | реплай\",19],[11,\"общаться | нюдсов | это просто друзья | посмотрел | просто друзья\",17],[12,\"спасибо спасибо спасибо | спасибо спасибо | спасибо | спасибо плюсую спасибо | спасибо плюсую\",14],[13,\"андрюх | нужны голосовуки эээ | нужны голосовуки | обещали голосовухи необходима | паузами против имею\",14],[14,\"слишком | 820 | наверное вытаскивать контекста | разбуди 820 | набор людей наверное\",13],[15,\"вступительную | тожеу | найди самое | оставь найди | пошерьте\",11],[16,\"гиперсссылка | ссылка | гиперсссылка гиперсссылка | короткое видео 12 | прорабатывали\",11],[17,\"мессенджер команда | мессенджер | команда | какойто | s3\",10],[18,\"спасибо | спасибо спасибо | дорогой | ура спасибо тебе | пожалуйста ура\",10]],\"hovertemplate\":\"\\u003cb\\u003eTopic %{customdata[0]}\\u003c\\u002fb\\u003e\\u003cbr\\u003e%{customdata[1]}\\u003cbr\\u003eSize: %{customdata[2]}\",\"legendgroup\":\"\",\"marker\":{\"color\":\"#B0BEC5\",\"size\":[178,125,59,42,31,30,27,23,22,20,19,17,14,14,13,11,11,10,10],\"sizemode\":\"area\",\"sizeref\":0.11125,\"symbol\":\"circle\",\"line\":{\"color\":\"DarkSlateGrey\",\"width\":2}},\"mode\":\"markers\",\"name\":\"\",\"orientation\":\"v\",\"showlegend\":false,\"x\":[18.969498,-1.5676812,19.470182,0.47675985,-2.8764555,19.82126,18.62629,18.83048,-2.181819,-6.3413525,0.16845226,-1.2519059,-6.05145,-0.78930867,-1.6841943,-1.3272375,-2.622312,-0.9599892,-5.8531876],\"xaxis\":\"x\",\"y\":[11.7731085,-1.0078516,11.851958,-0.2817551,0.026196068,12.057711,12.0009,11.345641,-0.5870931,6.5974336,-0.5725331,-0.7943299,6.888998,-0.100214764,-0.5824688,0.51891327,-0.2744237,-1.1675261,7.086769],\"yaxis\":\"y\",\"type\":\"scatter\"}],                        {\"template\":{\"data\":{\"barpolar\":[{\"marker\":{\"line\":{\"color\":\"white\",\"width\":0.5},\"pattern\":{\"fillmode\":\"overlay\",\"size\":10,\"solidity\":0.2}},\"type\":\"barpolar\"}],\"bar\":[{\"error_x\":{\"color\":\"rgb(36,36,36)\"},\"error_y\":{\"color\":\"rgb(36,36,36)\"},\"marker\":{\"line\":{\"color\":\"white\",\"width\":0.5},\"pattern\":{\"fillmode\":\"overlay\",\"size\":10,\"solidity\":0.2}},\"type\":\"bar\"}],\"carpet\":[{\"aaxis\":{\"endlinecolor\":\"rgb(36,36,36)\",\"gridcolor\":\"white\",\"linecolor\":\"white\",\"minorgridcolor\":\"white\",\"startlinecolor\":\"rgb(36,36,36)\"},\"baxis\":{\"endlinecolor\":\"rgb(36,36,36)\",\"gridcolor\":\"white\",\"linecolor\":\"white\",\"minorgridcolor\":\"white\",\"startlinecolor\":\"rgb(36,36,36)\"},\"type\":\"carpet\"}],\"choropleth\":[{\"colorbar\":{\"outlinewidth\":1,\"tickcolor\":\"rgb(36,36,36)\",\"ticks\":\"outside\"},\"type\":\"choropleth\"}],\"contourcarpet\":[{\"colorbar\":{\"outlinewidth\":1,\"tickcolor\":\"rgb(36,36,36)\",\"ticks\":\"outside\"},\"type\":\"contourcarpet\"}],\"contour\":[{\"colorbar\":{\"outlinewidth\":1,\"tickcolor\":\"rgb(36,36,36)\",\"ticks\":\"outside\"},\"colorscale\":[[0.0,\"#440154\"],[0.1111111111111111,\"#482878\"],[0.2222222222222222,\"#3e4989\"],[0.3333333333333333,\"#31688e\"],[0.4444444444444444,\"#26828e\"],[0.5555555555555556,\"#1f9e89\"],[0.6666666666666666,\"#35b779\"],[0.7777777777777778,\"#6ece58\"],[0.8888888888888888,\"#b5de2b\"],[1.0,\"#fde725\"]],\"type\":\"contour\"}],\"heatmapgl\":[{\"colorbar\":{\"outlinewidth\":1,\"tickcolor\":\"rgb(36,36,36)\",\"ticks\":\"outside\"},\"colorscale\":[[0.0,\"#440154\"],[0.1111111111111111,\"#482878\"],[0.2222222222222222,\"#3e4989\"],[0.3333333333333333,\"#31688e\"],[0.4444444444444444,\"#26828e\"],[0.5555555555555556,\"#1f9e89\"],[0.6666666666666666,\"#35b779\"],[0.7777777777777778,\"#6ece58\"],[0.8888888888888888,\"#b5de2b\"],[1.0,\"#fde725\"]],\"type\":\"heatmapgl\"}],\"heatmap\":[{\"colorbar\":{\"outlinewidth\":1,\"tickcolor\":\"rgb(36,36,36)\",\"ticks\":\"outside\"},\"colorscale\":[[0.0,\"#440154\"],[0.1111111111111111,\"#482878\"],[0.2222222222222222,\"#3e4989\"],[0.3333333333333333,\"#31688e\"],[0.4444444444444444,\"#26828e\"],[0.5555555555555556,\"#1f9e89\"],[0.6666666666666666,\"#35b779\"],[0.7777777777777778,\"#6ece58\"],[0.8888888888888888,\"#b5de2b\"],[1.0,\"#fde725\"]],\"type\":\"heatmap\"}],\"histogram2dcontour\":[{\"colorbar\":{\"outlinewidth\":1,\"tickcolor\":\"rgb(36,36,36)\",\"ticks\":\"outside\"},\"colorscale\":[[0.0,\"#440154\"],[0.1111111111111111,\"#482878\"],[0.2222222222222222,\"#3e4989\"],[0.3333333333333333,\"#31688e\"],[0.4444444444444444,\"#26828e\"],[0.5555555555555556,\"#1f9e89\"],[0.6666666666666666,\"#35b779\"],[0.7777777777777778,\"#6ece58\"],[0.8888888888888888,\"#b5de2b\"],[1.0,\"#fde725\"]],\"type\":\"histogram2dcontour\"}],\"histogram2d\":[{\"colorbar\":{\"outlinewidth\":1,\"tickcolor\":\"rgb(36,36,36)\",\"ticks\":\"outside\"},\"colorscale\":[[0.0,\"#440154\"],[0.1111111111111111,\"#482878\"],[0.2222222222222222,\"#3e4989\"],[0.3333333333333333,\"#31688e\"],[0.4444444444444444,\"#26828e\"],[0.5555555555555556,\"#1f9e89\"],[0.6666666666666666,\"#35b779\"],[0.7777777777777778,\"#6ece58\"],[0.8888888888888888,\"#b5de2b\"],[1.0,\"#fde725\"]],\"type\":\"histogram2d\"}],\"histogram\":[{\"marker\":{\"line\":{\"color\":\"white\",\"width\":0.6}},\"type\":\"histogram\"}],\"mesh3d\":[{\"colorbar\":{\"outlinewidth\":1,\"tickcolor\":\"rgb(36,36,36)\",\"ticks\":\"outside\"},\"type\":\"mesh3d\"}],\"parcoords\":[{\"line\":{\"colorbar\":{\"outlinewidth\":1,\"tickcolor\":\"rgb(36,36,36)\",\"ticks\":\"outside\"}},\"type\":\"parcoords\"}],\"pie\":[{\"automargin\":true,\"type\":\"pie\"}],\"scatter3d\":[{\"line\":{\"colorbar\":{\"outlinewidth\":1,\"tickcolor\":\"rgb(36,36,36)\",\"ticks\":\"outside\"}},\"marker\":{\"colorbar\":{\"outlinewidth\":1,\"tickcolor\":\"rgb(36,36,36)\",\"ticks\":\"outside\"}},\"type\":\"scatter3d\"}],\"scattercarpet\":[{\"marker\":{\"colorbar\":{\"outlinewidth\":1,\"tickcolor\":\"rgb(36,36,36)\",\"ticks\":\"outside\"}},\"type\":\"scattercarpet\"}],\"scattergeo\":[{\"marker\":{\"colorbar\":{\"outlinewidth\":1,\"tickcolor\":\"rgb(36,36,36)\",\"ticks\":\"outside\"}},\"type\":\"scattergeo\"}],\"scattergl\":[{\"marker\":{\"colorbar\":{\"outlinewidth\":1,\"tickcolor\":\"rgb(36,36,36)\",\"ticks\":\"outside\"}},\"type\":\"scattergl\"}],\"scattermapbox\":[{\"marker\":{\"colorbar\":{\"outlinewidth\":1,\"tickcolor\":\"rgb(36,36,36)\",\"ticks\":\"outside\"}},\"type\":\"scattermapbox\"}],\"scatterpolargl\":[{\"marker\":{\"colorbar\":{\"outlinewidth\":1,\"tickcolor\":\"rgb(36,36,36)\",\"ticks\":\"outside\"}},\"type\":\"scatterpolargl\"}],\"scatterpolar\":[{\"marker\":{\"colorbar\":{\"outlinewidth\":1,\"tickcolor\":\"rgb(36,36,36)\",\"ticks\":\"outside\"}},\"type\":\"scatterpolar\"}],\"scatter\":[{\"fillpattern\":{\"fillmode\":\"overlay\",\"size\":10,\"solidity\":0.2},\"type\":\"scatter\"}],\"scatterternary\":[{\"marker\":{\"colorbar\":{\"outlinewidth\":1,\"tickcolor\":\"rgb(36,36,36)\",\"ticks\":\"outside\"}},\"type\":\"scatterternary\"}],\"surface\":[{\"colorbar\":{\"outlinewidth\":1,\"tickcolor\":\"rgb(36,36,36)\",\"ticks\":\"outside\"},\"colorscale\":[[0.0,\"#440154\"],[0.1111111111111111,\"#482878\"],[0.2222222222222222,\"#3e4989\"],[0.3333333333333333,\"#31688e\"],[0.4444444444444444,\"#26828e\"],[0.5555555555555556,\"#1f9e89\"],[0.6666666666666666,\"#35b779\"],[0.7777777777777778,\"#6ece58\"],[0.8888888888888888,\"#b5de2b\"],[1.0,\"#fde725\"]],\"type\":\"surface\"}],\"table\":[{\"cells\":{\"fill\":{\"color\":\"rgb(237,237,237)\"},\"line\":{\"color\":\"white\"}},\"header\":{\"fill\":{\"color\":\"rgb(217,217,217)\"},\"line\":{\"color\":\"white\"}},\"type\":\"table\"}]},\"layout\":{\"annotationdefaults\":{\"arrowhead\":0,\"arrowwidth\":1},\"autotypenumbers\":\"strict\",\"coloraxis\":{\"colorbar\":{\"outlinewidth\":1,\"tickcolor\":\"rgb(36,36,36)\",\"ticks\":\"outside\"}},\"colorscale\":{\"diverging\":[[0.0,\"rgb(103,0,31)\"],[0.1,\"rgb(178,24,43)\"],[0.2,\"rgb(214,96,77)\"],[0.3,\"rgb(244,165,130)\"],[0.4,\"rgb(253,219,199)\"],[0.5,\"rgb(247,247,247)\"],[0.6,\"rgb(209,229,240)\"],[0.7,\"rgb(146,197,222)\"],[0.8,\"rgb(67,147,195)\"],[0.9,\"rgb(33,102,172)\"],[1.0,\"rgb(5,48,97)\"]],\"sequential\":[[0.0,\"#440154\"],[0.1111111111111111,\"#482878\"],[0.2222222222222222,\"#3e4989\"],[0.3333333333333333,\"#31688e\"],[0.4444444444444444,\"#26828e\"],[0.5555555555555556,\"#1f9e89\"],[0.6666666666666666,\"#35b779\"],[0.7777777777777778,\"#6ece58\"],[0.8888888888888888,\"#b5de2b\"],[1.0,\"#fde725\"]],\"sequentialminus\":[[0.0,\"#440154\"],[0.1111111111111111,\"#482878\"],[0.2222222222222222,\"#3e4989\"],[0.3333333333333333,\"#31688e\"],[0.4444444444444444,\"#26828e\"],[0.5555555555555556,\"#1f9e89\"],[0.6666666666666666,\"#35b779\"],[0.7777777777777778,\"#6ece58\"],[0.8888888888888888,\"#b5de2b\"],[1.0,\"#fde725\"]]},\"colorway\":[\"#1F77B4\",\"#FF7F0E\",\"#2CA02C\",\"#D62728\",\"#9467BD\",\"#8C564B\",\"#E377C2\",\"#7F7F7F\",\"#BCBD22\",\"#17BECF\"],\"font\":{\"color\":\"rgb(36,36,36)\"},\"geo\":{\"bgcolor\":\"white\",\"lakecolor\":\"white\",\"landcolor\":\"white\",\"showlakes\":true,\"showland\":true,\"subunitcolor\":\"white\"},\"hoverlabel\":{\"align\":\"left\"},\"hovermode\":\"closest\",\"mapbox\":{\"style\":\"light\"},\"paper_bgcolor\":\"white\",\"plot_bgcolor\":\"white\",\"polar\":{\"angularaxis\":{\"gridcolor\":\"rgb(232,232,232)\",\"linecolor\":\"rgb(36,36,36)\",\"showgrid\":false,\"showline\":true,\"ticks\":\"outside\"},\"bgcolor\":\"white\",\"radialaxis\":{\"gridcolor\":\"rgb(232,232,232)\",\"linecolor\":\"rgb(36,36,36)\",\"showgrid\":false,\"showline\":true,\"ticks\":\"outside\"}},\"scene\":{\"xaxis\":{\"backgroundcolor\":\"white\",\"gridcolor\":\"rgb(232,232,232)\",\"gridwidth\":2,\"linecolor\":\"rgb(36,36,36)\",\"showbackground\":true,\"showgrid\":false,\"showline\":true,\"ticks\":\"outside\",\"zeroline\":false,\"zerolinecolor\":\"rgb(36,36,36)\"},\"yaxis\":{\"backgroundcolor\":\"white\",\"gridcolor\":\"rgb(232,232,232)\",\"gridwidth\":2,\"linecolor\":\"rgb(36,36,36)\",\"showbackground\":true,\"showgrid\":false,\"showline\":true,\"ticks\":\"outside\",\"zeroline\":false,\"zerolinecolor\":\"rgb(36,36,36)\"},\"zaxis\":{\"backgroundcolor\":\"white\",\"gridcolor\":\"rgb(232,232,232)\",\"gridwidth\":2,\"linecolor\":\"rgb(36,36,36)\",\"showbackground\":true,\"showgrid\":false,\"showline\":true,\"ticks\":\"outside\",\"zeroline\":false,\"zerolinecolor\":\"rgb(36,36,36)\"}},\"shapedefaults\":{\"fillcolor\":\"black\",\"line\":{\"width\":0},\"opacity\":0.3},\"ternary\":{\"aaxis\":{\"gridcolor\":\"rgb(232,232,232)\",\"linecolor\":\"rgb(36,36,36)\",\"showgrid\":false,\"showline\":true,\"ticks\":\"outside\"},\"baxis\":{\"gridcolor\":\"rgb(232,232,232)\",\"linecolor\":\"rgb(36,36,36)\",\"showgrid\":false,\"showline\":true,\"ticks\":\"outside\"},\"bgcolor\":\"white\",\"caxis\":{\"gridcolor\":\"rgb(232,232,232)\",\"linecolor\":\"rgb(36,36,36)\",\"showgrid\":false,\"showline\":true,\"ticks\":\"outside\"}},\"title\":{\"x\":0.05},\"xaxis\":{\"automargin\":true,\"gridcolor\":\"rgb(232,232,232)\",\"linecolor\":\"rgb(36,36,36)\",\"showgrid\":false,\"showline\":true,\"ticks\":\"outside\",\"title\":{\"standoff\":15},\"zeroline\":false,\"zerolinecolor\":\"rgb(36,36,36)\"},\"yaxis\":{\"automargin\":true,\"gridcolor\":\"rgb(232,232,232)\",\"linecolor\":\"rgb(36,36,36)\",\"showgrid\":false,\"showline\":true,\"ticks\":\"outside\",\"title\":{\"standoff\":15},\"zeroline\":false,\"zerolinecolor\":\"rgb(36,36,36)\"}}},\"xaxis\":{\"anchor\":\"y\",\"domain\":[0.0,1.0],\"title\":{\"text\":\"\"},\"visible\":false,\"range\":[-7.292555332183838,22.794449520111083]},\"yaxis\":{\"anchor\":\"x\",\"domain\":[0.0,1.0],\"title\":{\"text\":\"\"},\"visible\":false,\"range\":[-1.3426550447940826,13.86636724472046]},\"legend\":{\"tracegroupgap\":0,\"itemsizing\":\"constant\"},\"margin\":{\"t\":60},\"title\":{\"font\":{\"size\":22,\"color\":\"Black\"},\"text\":\"\\u003cb\\u003eIntertopic Distance Map\\u003c\\u002fb\\u003e\",\"y\":0.95,\"x\":0.5,\"xanchor\":\"center\",\"yanchor\":\"top\"},\"hoverlabel\":{\"font\":{\"size\":16,\"family\":\"Rockwell\"},\"bgcolor\":\"white\"},\"width\":600,\"height\":600,\"sliders\":[{\"active\":0,\"pad\":{\"t\":50},\"steps\":[{\"args\":[{\"marker.color\":[[\"red\",\"#B0BEC5\",\"#B0BEC5\",\"#B0BEC5\",\"#B0BEC5\",\"#B0BEC5\",\"#B0BEC5\",\"#B0BEC5\",\"#B0BEC5\",\"#B0BEC5\",\"#B0BEC5\",\"#B0BEC5\",\"#B0BEC5\",\"#B0BEC5\",\"#B0BEC5\",\"#B0BEC5\",\"#B0BEC5\",\"#B0BEC5\",\"#B0BEC5\"]]}],\"label\":\"Topic 0\",\"method\":\"update\"},{\"args\":[{\"marker.color\":[[\"#B0BEC5\",\"red\",\"#B0BEC5\",\"#B0BEC5\",\"#B0BEC5\",\"#B0BEC5\",\"#B0BEC5\",\"#B0BEC5\",\"#B0BEC5\",\"#B0BEC5\",\"#B0BEC5\",\"#B0BEC5\",\"#B0BEC5\",\"#B0BEC5\",\"#B0BEC5\",\"#B0BEC5\",\"#B0BEC5\",\"#B0BEC5\",\"#B0BEC5\"]]}],\"label\":\"Topic 1\",\"method\":\"update\"},{\"args\":[{\"marker.color\":[[\"#B0BEC5\",\"#B0BEC5\",\"red\",\"#B0BEC5\",\"#B0BEC5\",\"#B0BEC5\",\"#B0BEC5\",\"#B0BEC5\",\"#B0BEC5\",\"#B0BEC5\",\"#B0BEC5\",\"#B0BEC5\",\"#B0BEC5\",\"#B0BEC5\",\"#B0BEC5\",\"#B0BEC5\",\"#B0BEC5\",\"#B0BEC5\",\"#B0BEC5\"]]}],\"label\":\"Topic 2\",\"method\":\"update\"},{\"args\":[{\"marker.color\":[[\"#B0BEC5\",\"#B0BEC5\",\"#B0BEC5\",\"red\",\"#B0BEC5\",\"#B0BEC5\",\"#B0BEC5\",\"#B0BEC5\",\"#B0BEC5\",\"#B0BEC5\",\"#B0BEC5\",\"#B0BEC5\",\"#B0BEC5\",\"#B0BEC5\",\"#B0BEC5\",\"#B0BEC5\",\"#B0BEC5\",\"#B0BEC5\",\"#B0BEC5\"]]}],\"label\":\"Topic 3\",\"method\":\"update\"},{\"args\":[{\"marker.color\":[[\"#B0BEC5\",\"#B0BEC5\",\"#B0BEC5\",\"#B0BEC5\",\"red\",\"#B0BEC5\",\"#B0BEC5\",\"#B0BEC5\",\"#B0BEC5\",\"#B0BEC5\",\"#B0BEC5\",\"#B0BEC5\",\"#B0BEC5\",\"#B0BEC5\",\"#B0BEC5\",\"#B0BEC5\",\"#B0BEC5\",\"#B0BEC5\",\"#B0BEC5\"]]}],\"label\":\"Topic 4\",\"method\":\"update\"},{\"args\":[{\"marker.color\":[[\"#B0BEC5\",\"#B0BEC5\",\"#B0BEC5\",\"#B0BEC5\",\"#B0BEC5\",\"red\",\"#B0BEC5\",\"#B0BEC5\",\"#B0BEC5\",\"#B0BEC5\",\"#B0BEC5\",\"#B0BEC5\",\"#B0BEC5\",\"#B0BEC5\",\"#B0BEC5\",\"#B0BEC5\",\"#B0BEC5\",\"#B0BEC5\",\"#B0BEC5\"]]}],\"label\":\"Topic 5\",\"method\":\"update\"},{\"args\":[{\"marker.color\":[[\"#B0BEC5\",\"#B0BEC5\",\"#B0BEC5\",\"#B0BEC5\",\"#B0BEC5\",\"#B0BEC5\",\"red\",\"#B0BEC5\",\"#B0BEC5\",\"#B0BEC5\",\"#B0BEC5\",\"#B0BEC5\",\"#B0BEC5\",\"#B0BEC5\",\"#B0BEC5\",\"#B0BEC5\",\"#B0BEC5\",\"#B0BEC5\",\"#B0BEC5\"]]}],\"label\":\"Topic 6\",\"method\":\"update\"},{\"args\":[{\"marker.color\":[[\"#B0BEC5\",\"#B0BEC5\",\"#B0BEC5\",\"#B0BEC5\",\"#B0BEC5\",\"#B0BEC5\",\"#B0BEC5\",\"red\",\"#B0BEC5\",\"#B0BEC5\",\"#B0BEC5\",\"#B0BEC5\",\"#B0BEC5\",\"#B0BEC5\",\"#B0BEC5\",\"#B0BEC5\",\"#B0BEC5\",\"#B0BEC5\",\"#B0BEC5\"]]}],\"label\":\"Topic 7\",\"method\":\"update\"},{\"args\":[{\"marker.color\":[[\"#B0BEC5\",\"#B0BEC5\",\"#B0BEC5\",\"#B0BEC5\",\"#B0BEC5\",\"#B0BEC5\",\"#B0BEC5\",\"#B0BEC5\",\"red\",\"#B0BEC5\",\"#B0BEC5\",\"#B0BEC5\",\"#B0BEC5\",\"#B0BEC5\",\"#B0BEC5\",\"#B0BEC5\",\"#B0BEC5\",\"#B0BEC5\",\"#B0BEC5\"]]}],\"label\":\"Topic 8\",\"method\":\"update\"},{\"args\":[{\"marker.color\":[[\"#B0BEC5\",\"#B0BEC5\",\"#B0BEC5\",\"#B0BEC5\",\"#B0BEC5\",\"#B0BEC5\",\"#B0BEC5\",\"#B0BEC5\",\"#B0BEC5\",\"red\",\"#B0BEC5\",\"#B0BEC5\",\"#B0BEC5\",\"#B0BEC5\",\"#B0BEC5\",\"#B0BEC5\",\"#B0BEC5\",\"#B0BEC5\",\"#B0BEC5\"]]}],\"label\":\"Topic 9\",\"method\":\"update\"},{\"args\":[{\"marker.color\":[[\"#B0BEC5\",\"#B0BEC5\",\"#B0BEC5\",\"#B0BEC5\",\"#B0BEC5\",\"#B0BEC5\",\"#B0BEC5\",\"#B0BEC5\",\"#B0BEC5\",\"#B0BEC5\",\"red\",\"#B0BEC5\",\"#B0BEC5\",\"#B0BEC5\",\"#B0BEC5\",\"#B0BEC5\",\"#B0BEC5\",\"#B0BEC5\",\"#B0BEC5\"]]}],\"label\":\"Topic 10\",\"method\":\"update\"},{\"args\":[{\"marker.color\":[[\"#B0BEC5\",\"#B0BEC5\",\"#B0BEC5\",\"#B0BEC5\",\"#B0BEC5\",\"#B0BEC5\",\"#B0BEC5\",\"#B0BEC5\",\"#B0BEC5\",\"#B0BEC5\",\"#B0BEC5\",\"red\",\"#B0BEC5\",\"#B0BEC5\",\"#B0BEC5\",\"#B0BEC5\",\"#B0BEC5\",\"#B0BEC5\",\"#B0BEC5\"]]}],\"label\":\"Topic 11\",\"method\":\"update\"},{\"args\":[{\"marker.color\":[[\"#B0BEC5\",\"#B0BEC5\",\"#B0BEC5\",\"#B0BEC5\",\"#B0BEC5\",\"#B0BEC5\",\"#B0BEC5\",\"#B0BEC5\",\"#B0BEC5\",\"#B0BEC5\",\"#B0BEC5\",\"#B0BEC5\",\"red\",\"#B0BEC5\",\"#B0BEC5\",\"#B0BEC5\",\"#B0BEC5\",\"#B0BEC5\",\"#B0BEC5\"]]}],\"label\":\"Topic 12\",\"method\":\"update\"},{\"args\":[{\"marker.color\":[[\"#B0BEC5\",\"#B0BEC5\",\"#B0BEC5\",\"#B0BEC5\",\"#B0BEC5\",\"#B0BEC5\",\"#B0BEC5\",\"#B0BEC5\",\"#B0BEC5\",\"#B0BEC5\",\"#B0BEC5\",\"#B0BEC5\",\"#B0BEC5\",\"red\",\"#B0BEC5\",\"#B0BEC5\",\"#B0BEC5\",\"#B0BEC5\",\"#B0BEC5\"]]}],\"label\":\"Topic 13\",\"method\":\"update\"},{\"args\":[{\"marker.color\":[[\"#B0BEC5\",\"#B0BEC5\",\"#B0BEC5\",\"#B0BEC5\",\"#B0BEC5\",\"#B0BEC5\",\"#B0BEC5\",\"#B0BEC5\",\"#B0BEC5\",\"#B0BEC5\",\"#B0BEC5\",\"#B0BEC5\",\"#B0BEC5\",\"#B0BEC5\",\"red\",\"#B0BEC5\",\"#B0BEC5\",\"#B0BEC5\",\"#B0BEC5\"]]}],\"label\":\"Topic 14\",\"method\":\"update\"},{\"args\":[{\"marker.color\":[[\"#B0BEC5\",\"#B0BEC5\",\"#B0BEC5\",\"#B0BEC5\",\"#B0BEC5\",\"#B0BEC5\",\"#B0BEC5\",\"#B0BEC5\",\"#B0BEC5\",\"#B0BEC5\",\"#B0BEC5\",\"#B0BEC5\",\"#B0BEC5\",\"#B0BEC5\",\"#B0BEC5\",\"red\",\"#B0BEC5\",\"#B0BEC5\",\"#B0BEC5\"]]}],\"label\":\"Topic 15\",\"method\":\"update\"},{\"args\":[{\"marker.color\":[[\"#B0BEC5\",\"#B0BEC5\",\"#B0BEC5\",\"#B0BEC5\",\"#B0BEC5\",\"#B0BEC5\",\"#B0BEC5\",\"#B0BEC5\",\"#B0BEC5\",\"#B0BEC5\",\"#B0BEC5\",\"#B0BEC5\",\"#B0BEC5\",\"#B0BEC5\",\"#B0BEC5\",\"#B0BEC5\",\"red\",\"#B0BEC5\",\"#B0BEC5\"]]}],\"label\":\"Topic 16\",\"method\":\"update\"},{\"args\":[{\"marker.color\":[[\"#B0BEC5\",\"#B0BEC5\",\"#B0BEC5\",\"#B0BEC5\",\"#B0BEC5\",\"#B0BEC5\",\"#B0BEC5\",\"#B0BEC5\",\"#B0BEC5\",\"#B0BEC5\",\"#B0BEC5\",\"#B0BEC5\",\"#B0BEC5\",\"#B0BEC5\",\"#B0BEC5\",\"#B0BEC5\",\"#B0BEC5\",\"red\",\"#B0BEC5\"]]}],\"label\":\"Topic 17\",\"method\":\"update\"},{\"args\":[{\"marker.color\":[[\"#B0BEC5\",\"#B0BEC5\",\"#B0BEC5\",\"#B0BEC5\",\"#B0BEC5\",\"#B0BEC5\",\"#B0BEC5\",\"#B0BEC5\",\"#B0BEC5\",\"#B0BEC5\",\"#B0BEC5\",\"#B0BEC5\",\"#B0BEC5\",\"#B0BEC5\",\"#B0BEC5\",\"#B0BEC5\",\"#B0BEC5\",\"#B0BEC5\",\"red\"]]}],\"label\":\"Topic 18\",\"method\":\"update\"}]}],\"shapes\":[{\"line\":{\"color\":\"#CFD8DC\",\"width\":2},\"type\":\"line\",\"x0\":7.750947093963623,\"x1\":7.750947093963623,\"y0\":-1.3426550447940826,\"y1\":13.86636724472046},{\"line\":{\"color\":\"#9E9E9E\",\"width\":2},\"type\":\"line\",\"x0\":-7.292555332183838,\"x1\":22.794449520111083,\"y0\":6.261856099963189,\"y1\":6.261856099963189}],\"annotations\":[{\"showarrow\":false,\"text\":\"D1\",\"x\":-7.292555332183838,\"y\":6.261856099963189,\"yshift\":10},{\"showarrow\":false,\"text\":\"D2\",\"x\":7.750947093963623,\"xshift\":10,\"y\":13.86636724472046}]},                        {\"responsive\": true}                    ).then(function(){\n",
       "                            \n",
       "var gd = document.getElementById('63171cfc-01ae-47b4-a3e5-9682417d18cf');\n",
       "var x = new MutationObserver(function (mutations, observer) {{\n",
       "        var display = window.getComputedStyle(gd).display;\n",
       "        if (!display || display === 'none') {{\n",
       "            console.log([gd, 'removed!']);\n",
       "            Plotly.purge(gd);\n",
       "            observer.disconnect();\n",
       "        }}\n",
       "}});\n",
       "\n",
       "// Listen for the removal of the full notebook cells\n",
       "var notebookContainer = gd.closest('#notebook-container');\n",
       "if (notebookContainer) {{\n",
       "    x.observe(notebookContainer, {childList: true});\n",
       "}}\n",
       "\n",
       "// Listen for the clearing of the current output cell\n",
       "var outputEl = gd.closest('.output');\n",
       "if (outputEl) {{\n",
       "    x.observe(outputEl, {childList: true});\n",
       "}}\n",
       "\n",
       "                        })                };                });            </script>        </div>"
      ]
     },
     "metadata": {},
     "output_type": "display_data"
    }
   ],
   "source": [
    "bertopic_model.topic_model.visualize_topics(width = 600, height = 600)"
   ]
  },
  {
   "cell_type": "code",
   "execution_count": 476,
   "id": "9c579cd2-fb44-4aae-a7bb-97e2133ce8f0",
   "metadata": {},
   "outputs": [
    {
     "data": {
      "application/vnd.plotly.v1+json": {
       "config": {
        "plotlyServerURL": "https://plot.ly"
       },
       "data": [
        {
         "coloraxis": "coloraxis",
         "hovertemplate": "x: %{x}<br>y: %{y}<br>Similarity Score: %{z}<extra></extra>",
         "name": "0",
         "type": "heatmap",
         "x": [
          "0_это_просто_ссылка",
          "1_спасибо_тебе_тебе спасибо",
          "2_данных_курсов_яндекс",
          "3_ссылка_nda_заявку",
          "4_toprepyndxcbot_toprepyndx...",
          "5_яндекс_ритейл_это",
          "6_лс_можешь_гитхаба",
          "7_чате_кофе_правило",
          "8_ахахахаха_увеличила репут...",
          "9_наверное_мммм попробуй_ск...",
          "10_это_чат_лично",
          "11_общаться_нюдсов_это прос...",
          "12_спасибо спасибо спасибо_...",
          "13_андрюх_нужны голосовуки ...",
          "14_слишком_820_наверное выт...",
          "15_вступительную_тожеу_найд...",
          "16_гиперсссылка_ссылка_гипе...",
          "17_мессенджер команда_мессе...",
          "18_спасибо_спасибо спасибо_..."
         ],
         "xaxis": "x",
         "y": [
          "0_это_просто_ссылка",
          "1_спасибо_тебе_тебе спасибо",
          "2_данных_курсов_яндекс",
          "3_ссылка_nda_заявку",
          "4_toprepyndxcbot_toprepyndx...",
          "5_яндекс_ритейл_это",
          "6_лс_можешь_гитхаба",
          "7_чате_кофе_правило",
          "8_ахахахаха_увеличила репут...",
          "9_наверное_мммм попробуй_ск...",
          "10_это_чат_лично",
          "11_общаться_нюдсов_это прос...",
          "12_спасибо спасибо спасибо_...",
          "13_андрюх_нужны голосовуки ...",
          "14_слишком_820_наверное выт...",
          "15_вступительную_тожеу_найд...",
          "16_гиперсссылка_ссылка_гипе...",
          "17_мессенджер команда_мессе...",
          "18_спасибо_спасибо спасибо_..."
         ],
         "yaxis": "y",
         "z": [
          [
           1.0000000000000007,
           0.807771608734017,
           0.8731041391277161,
           0.7086642464549093,
           0.3651714817949929,
           0.7782236933888115,
           0.8063375293045206,
           0.8234477473988042,
           0.6183661805512688,
           0.6152564738732954,
           0.7643888676960005,
           0.7402881419727447,
           0.4400824131513782,
           0.6829870443420987,
           0.660757398157598,
           0.600810516097805,
           0.4705177563147197,
           0.7191172435920683,
           0.5703392962373244
          ],
          [
           0.807771608734017,
           0.9999999999999996,
           0.7053278310446969,
           0.745649592013857,
           0.4380588653861788,
           0.7963871709555987,
           0.7756706997262715,
           0.7758693527814466,
           0.7324574650758425,
           0.48453410629292715,
           0.8238272845808017,
           0.829620811320652,
           0.35441876553713303,
           0.8115761385452,
           0.7975847152569997,
           0.714015744757636,
           0.5474174874218615,
           0.7966235577425855,
           0.5035330901628435
          ],
          [
           0.8731041391277161,
           0.7053278310446969,
           0.9999999999999996,
           0.6417781790876333,
           0.3564612568480005,
           0.8185795436307208,
           0.709587528777139,
           0.8223901865179992,
           0.5805859931832069,
           0.47949741039508287,
           0.6658674548577906,
           0.6353184931626752,
           0.3370982002827405,
           0.613972424705892,
           0.5594486544990537,
           0.5436831694347541,
           0.48778911169362177,
           0.6530321571244251,
           0.4693908864556419
          ],
          [
           0.7086642464549093,
           0.745649592013857,
           0.6417781790876333,
           0.9999999999999997,
           0.3857079931139721,
           0.6720990194721519,
           0.7694788939335284,
           0.6840586805315476,
           0.6423013693179875,
           0.39129655263738394,
           0.7865606142599242,
           0.6961499413968797,
           0.3350515539951515,
           0.6582342129798854,
           0.6233162661477134,
           0.5827086907801007,
           0.5598955872981781,
           0.6859245690856265,
           0.4173891400696971
          ],
          [
           0.3651714817949929,
           0.4380588653861788,
           0.3564612568480005,
           0.3857079931139721,
           1.0000000000000002,
           0.39208951139387777,
           0.4183309894168097,
           0.328495980224018,
           0.39300264934228646,
           0.20016618389859,
           0.4165517497052601,
           0.37501848763793866,
           0.19481603356167204,
           0.3693449607044383,
           0.3753689972469172,
           0.36609088769275616,
           0.46553385398394664,
           0.39200347724331086,
           0.2697454117863048
          ],
          [
           0.7782236933888115,
           0.7963871709555987,
           0.8185795436307208,
           0.6720990194721519,
           0.39208951139387777,
           1.0000000000000004,
           0.7827760135904605,
           0.7015263781446669,
           0.5681928248738751,
           0.3858085841584122,
           0.7704373749028787,
           0.7199858852492879,
           0.26988768462773205,
           0.6759918078571535,
           0.6279560091079212,
           0.5734091956783453,
           0.4742088947543427,
           0.7705682432725478,
           0.39681876342137673
          ],
          [
           0.8063375293045206,
           0.7756706997262715,
           0.709587528777139,
           0.7694788939335284,
           0.4183309894168097,
           0.7827760135904605,
           1.0000000000000002,
           0.6811244609491968,
           0.5922399256022015,
           0.41758265434062997,
           0.8009289998662101,
           0.7433081518434932,
           0.30655812582225833,
           0.6649594999527058,
           0.6255050017062896,
           0.5642616643050894,
           0.5323204404889194,
           0.744655374116933,
           0.42063580271745604
          ],
          [
           0.8234477473988042,
           0.7758693527814466,
           0.8223901865179992,
           0.6840586805315476,
           0.328495980224018,
           0.7015263781446669,
           0.6811244609491968,
           0.9999999999999993,
           0.6081675698827258,
           0.4892495999452468,
           0.7439137419116844,
           0.6904227921002518,
           0.32774509113009687,
           0.6891434161190034,
           0.6386439829635804,
           0.5963404045525538,
           0.46123810786087194,
           0.6700506601920526,
           0.43661341466241876
          ],
          [
           0.6183661805512688,
           0.7324574650758425,
           0.5805859931832069,
           0.6423013693179875,
           0.39300264934228646,
           0.5681928248738751,
           0.5922399256022015,
           0.6081675698827258,
           1,
           0.3795536727289264,
           0.611145211164834,
           0.6329863553475377,
           0.3129753918249523,
           0.7173320548984045,
           0.6554702535466295,
           0.605493569096603,
           0.5682421112016428,
           0.5418906343218681,
           0.38747198177726005
          ],
          [
           0.6152564738732954,
           0.48453410629292715,
           0.47949741039508287,
           0.39129655263738394,
           0.20016618389859,
           0.3858085841584122,
           0.41758265434062997,
           0.4892495999452468,
           0.3795536727289264,
           1.0000000000000002,
           0.4050565388741959,
           0.40920952482606615,
           0.7574712685059455,
           0.4117073334328065,
           0.37781266142495057,
           0.40691171532075626,
           0.26064659778918375,
           0.3682276435414614,
           0.6628256559060437
          ],
          [
           0.7643888676960005,
           0.8238272845808017,
           0.6658674548577906,
           0.7865606142599242,
           0.4165517497052601,
           0.7704373749028787,
           0.8009289998662101,
           0.7439137419116844,
           0.611145211164834,
           0.4050565388741959,
           0.9999999999999996,
           0.7612476316961768,
           0.3001852748792379,
           0.715750910229012,
           0.664225207002884,
           0.6092350081273162,
           0.493843417092749,
           0.7920708760892355,
           0.3998182517125555
          ],
          [
           0.7402881419727447,
           0.829620811320652,
           0.6353184931626752,
           0.6961499413968797,
           0.37501848763793866,
           0.7199858852492879,
           0.7433081518434932,
           0.6904227921002518,
           0.6329863553475377,
           0.40920952482606615,
           0.7612476316961768,
           0.9999999999999998,
           0.2958782507397997,
           0.6470627499258989,
           0.6312797886532201,
           0.6192120571384556,
           0.46763512112045164,
           0.7087094969066198,
           0.4542697141381663
          ],
          [
           0.4400824131513782,
           0.35441876553713303,
           0.3370982002827405,
           0.3350515539951515,
           0.19481603356167204,
           0.26988768462773205,
           0.30655812582225833,
           0.32774509113009687,
           0.3129753918249523,
           0.7574712685059455,
           0.3001852748792379,
           0.2958782507397997,
           1.0000000000000002,
           0.26981193925339797,
           0.2498454745645038,
           0.3409073205605623,
           0.19754849210697648,
           0.23114482846156192,
           0.8068332532672728
          ],
          [
           0.6829870443420987,
           0.8115761385452,
           0.613972424705892,
           0.6582342129798854,
           0.3693449607044383,
           0.6759918078571535,
           0.6649594999527058,
           0.6891434161190034,
           0.7173320548984045,
           0.4117073334328065,
           0.715750910229012,
           0.6470627499258989,
           0.26981193925339797,
           1.0000000000000004,
           0.7057054127449675,
           0.6274796381305151,
           0.5383470470374115,
           0.6633835113102031,
           0.29645324536434897
          ],
          [
           0.660757398157598,
           0.7975847152569997,
           0.5594486544990537,
           0.6233162661477134,
           0.3753689972469172,
           0.6279560091079212,
           0.6255050017062896,
           0.6386439829635804,
           0.6554702535466295,
           0.37781266142495057,
           0.664225207002884,
           0.6312797886532201,
           0.2498454745645038,
           0.7057054127449675,
           1.0000000000000004,
           0.5810929606405314,
           0.46459810024913695,
           0.6411660801457736,
           0.3348668020696861
          ],
          [
           0.600810516097805,
           0.714015744757636,
           0.5436831694347541,
           0.5827086907801007,
           0.36609088769275616,
           0.5734091956783453,
           0.5642616643050894,
           0.5963404045525538,
           0.605493569096603,
           0.40691171532075626,
           0.6092350081273162,
           0.6192120571384556,
           0.3409073205605623,
           0.6274796381305151,
           0.5810929606405314,
           0.9999999999999993,
           0.4343118273722931,
           0.5657442881607827,
           0.40666906688277826
          ],
          [
           0.4705177563147197,
           0.5474174874218615,
           0.48778911169362177,
           0.5598955872981781,
           0.46553385398394664,
           0.4742088947543427,
           0.5323204404889194,
           0.46123810786087194,
           0.5682421112016428,
           0.26064659778918375,
           0.493843417092749,
           0.46763512112045164,
           0.19754849210697648,
           0.5383470470374115,
           0.46459810024913695,
           0.4343118273722931,
           0.9999999999999996,
           0.48419530551846923,
           0.2895223765479463
          ],
          [
           0.7191172435920683,
           0.7966235577425855,
           0.6530321571244251,
           0.6859245690856265,
           0.39200347724331086,
           0.7705682432725478,
           0.744655374116933,
           0.6700506601920526,
           0.5418906343218681,
           0.3682276435414614,
           0.7920708760892355,
           0.7087094969066198,
           0.23114482846156192,
           0.6633835113102031,
           0.6411660801457736,
           0.5657442881607827,
           0.48419530551846923,
           1,
           0.36792161265012013
          ],
          [
           0.5703392962373244,
           0.5035330901628435,
           0.4693908864556419,
           0.4173891400696971,
           0.2697454117863048,
           0.39681876342137673,
           0.42063580271745604,
           0.43661341466241876,
           0.38747198177726005,
           0.6628256559060437,
           0.3998182517125555,
           0.4542697141381663,
           0.8068332532672728,
           0.29645324536434897,
           0.3348668020696861,
           0.40666906688277826,
           0.2895223765479463,
           0.36792161265012013,
           1.0000000000000009
          ]
         ]
        }
       ],
       "layout": {
        "coloraxis": {
         "colorbar": {
          "title": {
           "text": "Similarity Score"
          }
         },
         "colorscale": [
          [
           0,
           "rgb(247,252,240)"
          ],
          [
           0.125,
           "rgb(224,243,219)"
          ],
          [
           0.25,
           "rgb(204,235,197)"
          ],
          [
           0.375,
           "rgb(168,221,181)"
          ],
          [
           0.5,
           "rgb(123,204,196)"
          ],
          [
           0.625,
           "rgb(78,179,211)"
          ],
          [
           0.75,
           "rgb(43,140,190)"
          ],
          [
           0.875,
           "rgb(8,104,172)"
          ],
          [
           1,
           "rgb(8,64,129)"
          ]
         ]
        },
        "height": 800,
        "hoverlabel": {
         "bgcolor": "white",
         "font": {
          "family": "Rockwell",
          "size": 16
         }
        },
        "legend": {
         "title": {
          "text": "Trend"
         }
        },
        "margin": {
         "t": 60
        },
        "showlegend": true,
        "template": {
         "data": {
          "bar": [
           {
            "error_x": {
             "color": "#2a3f5f"
            },
            "error_y": {
             "color": "#2a3f5f"
            },
            "marker": {
             "line": {
              "color": "#E5ECF6",
              "width": 0.5
             },
             "pattern": {
              "fillmode": "overlay",
              "size": 10,
              "solidity": 0.2
             }
            },
            "type": "bar"
           }
          ],
          "barpolar": [
           {
            "marker": {
             "line": {
              "color": "#E5ECF6",
              "width": 0.5
             },
             "pattern": {
              "fillmode": "overlay",
              "size": 10,
              "solidity": 0.2
             }
            },
            "type": "barpolar"
           }
          ],
          "carpet": [
           {
            "aaxis": {
             "endlinecolor": "#2a3f5f",
             "gridcolor": "white",
             "linecolor": "white",
             "minorgridcolor": "white",
             "startlinecolor": "#2a3f5f"
            },
            "baxis": {
             "endlinecolor": "#2a3f5f",
             "gridcolor": "white",
             "linecolor": "white",
             "minorgridcolor": "white",
             "startlinecolor": "#2a3f5f"
            },
            "type": "carpet"
           }
          ],
          "choropleth": [
           {
            "colorbar": {
             "outlinewidth": 0,
             "ticks": ""
            },
            "type": "choropleth"
           }
          ],
          "contour": [
           {
            "colorbar": {
             "outlinewidth": 0,
             "ticks": ""
            },
            "colorscale": [
             [
              0,
              "#0d0887"
             ],
             [
              0.1111111111111111,
              "#46039f"
             ],
             [
              0.2222222222222222,
              "#7201a8"
             ],
             [
              0.3333333333333333,
              "#9c179e"
             ],
             [
              0.4444444444444444,
              "#bd3786"
             ],
             [
              0.5555555555555556,
              "#d8576b"
             ],
             [
              0.6666666666666666,
              "#ed7953"
             ],
             [
              0.7777777777777778,
              "#fb9f3a"
             ],
             [
              0.8888888888888888,
              "#fdca26"
             ],
             [
              1,
              "#f0f921"
             ]
            ],
            "type": "contour"
           }
          ],
          "contourcarpet": [
           {
            "colorbar": {
             "outlinewidth": 0,
             "ticks": ""
            },
            "type": "contourcarpet"
           }
          ],
          "heatmap": [
           {
            "colorbar": {
             "outlinewidth": 0,
             "ticks": ""
            },
            "colorscale": [
             [
              0,
              "#0d0887"
             ],
             [
              0.1111111111111111,
              "#46039f"
             ],
             [
              0.2222222222222222,
              "#7201a8"
             ],
             [
              0.3333333333333333,
              "#9c179e"
             ],
             [
              0.4444444444444444,
              "#bd3786"
             ],
             [
              0.5555555555555556,
              "#d8576b"
             ],
             [
              0.6666666666666666,
              "#ed7953"
             ],
             [
              0.7777777777777778,
              "#fb9f3a"
             ],
             [
              0.8888888888888888,
              "#fdca26"
             ],
             [
              1,
              "#f0f921"
             ]
            ],
            "type": "heatmap"
           }
          ],
          "heatmapgl": [
           {
            "colorbar": {
             "outlinewidth": 0,
             "ticks": ""
            },
            "colorscale": [
             [
              0,
              "#0d0887"
             ],
             [
              0.1111111111111111,
              "#46039f"
             ],
             [
              0.2222222222222222,
              "#7201a8"
             ],
             [
              0.3333333333333333,
              "#9c179e"
             ],
             [
              0.4444444444444444,
              "#bd3786"
             ],
             [
              0.5555555555555556,
              "#d8576b"
             ],
             [
              0.6666666666666666,
              "#ed7953"
             ],
             [
              0.7777777777777778,
              "#fb9f3a"
             ],
             [
              0.8888888888888888,
              "#fdca26"
             ],
             [
              1,
              "#f0f921"
             ]
            ],
            "type": "heatmapgl"
           }
          ],
          "histogram": [
           {
            "marker": {
             "pattern": {
              "fillmode": "overlay",
              "size": 10,
              "solidity": 0.2
             }
            },
            "type": "histogram"
           }
          ],
          "histogram2d": [
           {
            "colorbar": {
             "outlinewidth": 0,
             "ticks": ""
            },
            "colorscale": [
             [
              0,
              "#0d0887"
             ],
             [
              0.1111111111111111,
              "#46039f"
             ],
             [
              0.2222222222222222,
              "#7201a8"
             ],
             [
              0.3333333333333333,
              "#9c179e"
             ],
             [
              0.4444444444444444,
              "#bd3786"
             ],
             [
              0.5555555555555556,
              "#d8576b"
             ],
             [
              0.6666666666666666,
              "#ed7953"
             ],
             [
              0.7777777777777778,
              "#fb9f3a"
             ],
             [
              0.8888888888888888,
              "#fdca26"
             ],
             [
              1,
              "#f0f921"
             ]
            ],
            "type": "histogram2d"
           }
          ],
          "histogram2dcontour": [
           {
            "colorbar": {
             "outlinewidth": 0,
             "ticks": ""
            },
            "colorscale": [
             [
              0,
              "#0d0887"
             ],
             [
              0.1111111111111111,
              "#46039f"
             ],
             [
              0.2222222222222222,
              "#7201a8"
             ],
             [
              0.3333333333333333,
              "#9c179e"
             ],
             [
              0.4444444444444444,
              "#bd3786"
             ],
             [
              0.5555555555555556,
              "#d8576b"
             ],
             [
              0.6666666666666666,
              "#ed7953"
             ],
             [
              0.7777777777777778,
              "#fb9f3a"
             ],
             [
              0.8888888888888888,
              "#fdca26"
             ],
             [
              1,
              "#f0f921"
             ]
            ],
            "type": "histogram2dcontour"
           }
          ],
          "mesh3d": [
           {
            "colorbar": {
             "outlinewidth": 0,
             "ticks": ""
            },
            "type": "mesh3d"
           }
          ],
          "parcoords": [
           {
            "line": {
             "colorbar": {
              "outlinewidth": 0,
              "ticks": ""
             }
            },
            "type": "parcoords"
           }
          ],
          "pie": [
           {
            "automargin": true,
            "type": "pie"
           }
          ],
          "scatter": [
           {
            "fillpattern": {
             "fillmode": "overlay",
             "size": 10,
             "solidity": 0.2
            },
            "type": "scatter"
           }
          ],
          "scatter3d": [
           {
            "line": {
             "colorbar": {
              "outlinewidth": 0,
              "ticks": ""
             }
            },
            "marker": {
             "colorbar": {
              "outlinewidth": 0,
              "ticks": ""
             }
            },
            "type": "scatter3d"
           }
          ],
          "scattercarpet": [
           {
            "marker": {
             "colorbar": {
              "outlinewidth": 0,
              "ticks": ""
             }
            },
            "type": "scattercarpet"
           }
          ],
          "scattergeo": [
           {
            "marker": {
             "colorbar": {
              "outlinewidth": 0,
              "ticks": ""
             }
            },
            "type": "scattergeo"
           }
          ],
          "scattergl": [
           {
            "marker": {
             "colorbar": {
              "outlinewidth": 0,
              "ticks": ""
             }
            },
            "type": "scattergl"
           }
          ],
          "scattermapbox": [
           {
            "marker": {
             "colorbar": {
              "outlinewidth": 0,
              "ticks": ""
             }
            },
            "type": "scattermapbox"
           }
          ],
          "scatterpolar": [
           {
            "marker": {
             "colorbar": {
              "outlinewidth": 0,
              "ticks": ""
             }
            },
            "type": "scatterpolar"
           }
          ],
          "scatterpolargl": [
           {
            "marker": {
             "colorbar": {
              "outlinewidth": 0,
              "ticks": ""
             }
            },
            "type": "scatterpolargl"
           }
          ],
          "scatterternary": [
           {
            "marker": {
             "colorbar": {
              "outlinewidth": 0,
              "ticks": ""
             }
            },
            "type": "scatterternary"
           }
          ],
          "surface": [
           {
            "colorbar": {
             "outlinewidth": 0,
             "ticks": ""
            },
            "colorscale": [
             [
              0,
              "#0d0887"
             ],
             [
              0.1111111111111111,
              "#46039f"
             ],
             [
              0.2222222222222222,
              "#7201a8"
             ],
             [
              0.3333333333333333,
              "#9c179e"
             ],
             [
              0.4444444444444444,
              "#bd3786"
             ],
             [
              0.5555555555555556,
              "#d8576b"
             ],
             [
              0.6666666666666666,
              "#ed7953"
             ],
             [
              0.7777777777777778,
              "#fb9f3a"
             ],
             [
              0.8888888888888888,
              "#fdca26"
             ],
             [
              1,
              "#f0f921"
             ]
            ],
            "type": "surface"
           }
          ],
          "table": [
           {
            "cells": {
             "fill": {
              "color": "#EBF0F8"
             },
             "line": {
              "color": "white"
             }
            },
            "header": {
             "fill": {
              "color": "#C8D4E3"
             },
             "line": {
              "color": "white"
             }
            },
            "type": "table"
           }
          ]
         },
         "layout": {
          "annotationdefaults": {
           "arrowcolor": "#2a3f5f",
           "arrowhead": 0,
           "arrowwidth": 1
          },
          "autotypenumbers": "strict",
          "coloraxis": {
           "colorbar": {
            "outlinewidth": 0,
            "ticks": ""
           }
          },
          "colorscale": {
           "diverging": [
            [
             0,
             "#8e0152"
            ],
            [
             0.1,
             "#c51b7d"
            ],
            [
             0.2,
             "#de77ae"
            ],
            [
             0.3,
             "#f1b6da"
            ],
            [
             0.4,
             "#fde0ef"
            ],
            [
             0.5,
             "#f7f7f7"
            ],
            [
             0.6,
             "#e6f5d0"
            ],
            [
             0.7,
             "#b8e186"
            ],
            [
             0.8,
             "#7fbc41"
            ],
            [
             0.9,
             "#4d9221"
            ],
            [
             1,
             "#276419"
            ]
           ],
           "sequential": [
            [
             0,
             "#0d0887"
            ],
            [
             0.1111111111111111,
             "#46039f"
            ],
            [
             0.2222222222222222,
             "#7201a8"
            ],
            [
             0.3333333333333333,
             "#9c179e"
            ],
            [
             0.4444444444444444,
             "#bd3786"
            ],
            [
             0.5555555555555556,
             "#d8576b"
            ],
            [
             0.6666666666666666,
             "#ed7953"
            ],
            [
             0.7777777777777778,
             "#fb9f3a"
            ],
            [
             0.8888888888888888,
             "#fdca26"
            ],
            [
             1,
             "#f0f921"
            ]
           ],
           "sequentialminus": [
            [
             0,
             "#0d0887"
            ],
            [
             0.1111111111111111,
             "#46039f"
            ],
            [
             0.2222222222222222,
             "#7201a8"
            ],
            [
             0.3333333333333333,
             "#9c179e"
            ],
            [
             0.4444444444444444,
             "#bd3786"
            ],
            [
             0.5555555555555556,
             "#d8576b"
            ],
            [
             0.6666666666666666,
             "#ed7953"
            ],
            [
             0.7777777777777778,
             "#fb9f3a"
            ],
            [
             0.8888888888888888,
             "#fdca26"
            ],
            [
             1,
             "#f0f921"
            ]
           ]
          },
          "colorway": [
           "#636efa",
           "#EF553B",
           "#00cc96",
           "#ab63fa",
           "#FFA15A",
           "#19d3f3",
           "#FF6692",
           "#B6E880",
           "#FF97FF",
           "#FECB52"
          ],
          "font": {
           "color": "#2a3f5f"
          },
          "geo": {
           "bgcolor": "white",
           "lakecolor": "white",
           "landcolor": "#E5ECF6",
           "showlakes": true,
           "showland": true,
           "subunitcolor": "white"
          },
          "hoverlabel": {
           "align": "left"
          },
          "hovermode": "closest",
          "mapbox": {
           "style": "light"
          },
          "paper_bgcolor": "white",
          "plot_bgcolor": "#E5ECF6",
          "polar": {
           "angularaxis": {
            "gridcolor": "white",
            "linecolor": "white",
            "ticks": ""
           },
           "bgcolor": "#E5ECF6",
           "radialaxis": {
            "gridcolor": "white",
            "linecolor": "white",
            "ticks": ""
           }
          },
          "scene": {
           "xaxis": {
            "backgroundcolor": "#E5ECF6",
            "gridcolor": "white",
            "gridwidth": 2,
            "linecolor": "white",
            "showbackground": true,
            "ticks": "",
            "zerolinecolor": "white"
           },
           "yaxis": {
            "backgroundcolor": "#E5ECF6",
            "gridcolor": "white",
            "gridwidth": 2,
            "linecolor": "white",
            "showbackground": true,
            "ticks": "",
            "zerolinecolor": "white"
           },
           "zaxis": {
            "backgroundcolor": "#E5ECF6",
            "gridcolor": "white",
            "gridwidth": 2,
            "linecolor": "white",
            "showbackground": true,
            "ticks": "",
            "zerolinecolor": "white"
           }
          },
          "shapedefaults": {
           "line": {
            "color": "#2a3f5f"
           }
          },
          "ternary": {
           "aaxis": {
            "gridcolor": "white",
            "linecolor": "white",
            "ticks": ""
           },
           "baxis": {
            "gridcolor": "white",
            "linecolor": "white",
            "ticks": ""
           },
           "bgcolor": "#E5ECF6",
           "caxis": {
            "gridcolor": "white",
            "linecolor": "white",
            "ticks": ""
           }
          },
          "title": {
           "x": 0.05
          },
          "xaxis": {
           "automargin": true,
           "gridcolor": "white",
           "linecolor": "white",
           "ticks": "",
           "title": {
            "standoff": 15
           },
           "zerolinecolor": "white",
           "zerolinewidth": 2
          },
          "yaxis": {
           "automargin": true,
           "gridcolor": "white",
           "linecolor": "white",
           "ticks": "",
           "title": {
            "standoff": 15
           },
           "zerolinecolor": "white",
           "zerolinewidth": 2
          }
         }
        },
        "title": {
         "font": {
          "color": "Black",
          "size": 22
         },
         "text": "<b>Similarity Matrix</b>",
         "x": 0.55,
         "xanchor": "center",
         "y": 0.95,
         "yanchor": "top"
        },
        "width": 800,
        "xaxis": {
         "anchor": "y",
         "autorange": true,
         "constrain": "domain",
         "domain": [
          0,
          1
         ],
         "range": [
          -0.5,
          18.5
         ],
         "scaleanchor": "y",
         "type": "category"
        },
        "yaxis": {
         "anchor": "x",
         "autorange": true,
         "constrain": "domain",
         "domain": [
          0.14442567567567566,
          0.8555743243243243
         ],
         "range": [
          18.5,
          -0.5
         ],
         "type": "category"
        }
       }
      },
      "image/png": "[encoded data removed]",
      "text/html": [
       "<div>                            <div id=\"e53dff64-d4f6-4604-a0e3-daf4e5978553\" class=\"plotly-graph-div\" style=\"height:800px; width:800px;\"></div>            <script type=\"text/javascript\">                require([\"plotly\"], function(Plotly) {                    window.PLOTLYENV=window.PLOTLYENV || {};                                    if (document.getElementById(\"e53dff64-d4f6-4604-a0e3-daf4e5978553\")) {                    Plotly.newPlot(                        \"e53dff64-d4f6-4604-a0e3-daf4e5978553\",                        [{\"coloraxis\":\"coloraxis\",\"name\":\"0\",\"x\":[\"0_это_просто_ссылка\",\"1_спасибо_тебе_тебе спасибо\",\"2_данных_курсов_яндекс\",\"3_ссылка_nda_заявку\",\"4_toprepyndxcbot_toprepyndx...\",\"5_яндекс_ритейл_это\",\"6_лс_можешь_гитхаба\",\"7_чате_кофе_правило\",\"8_ахахахаха_увеличила репут...\",\"9_наверное_мммм попробуй_ск...\",\"10_это_чат_лично\",\"11_общаться_нюдсов_это прос...\",\"12_спасибо спасибо спасибо_...\",\"13_андрюх_нужны голосовуки ...\",\"14_слишком_820_наверное выт...\",\"15_вступительную_тожеу_найд...\",\"16_гиперсссылка_ссылка_гипе...\",\"17_мессенджер команда_мессе...\",\"18_спасибо_спасибо спасибо_...\"],\"y\":[\"0_это_просто_ссылка\",\"1_спасибо_тебе_тебе спасибо\",\"2_данных_курсов_яндекс\",\"3_ссылка_nda_заявку\",\"4_toprepyndxcbot_toprepyndx...\",\"5_яндекс_ритейл_это\",\"6_лс_можешь_гитхаба\",\"7_чате_кофе_правило\",\"8_ахахахаха_увеличила репут...\",\"9_наверное_мммм попробуй_ск...\",\"10_это_чат_лично\",\"11_общаться_нюдсов_это прос...\",\"12_спасибо спасибо спасибо_...\",\"13_андрюх_нужны голосовуки ...\",\"14_слишком_820_наверное выт...\",\"15_вступительную_тожеу_найд...\",\"16_гиперсссылка_ссылка_гипе...\",\"17_мессенджер команда_мессе...\",\"18_спасибо_спасибо спасибо_...\"],\"z\":[[1.0000000000000007,0.807771608734017,0.8731041391277161,0.7086642464549093,0.3651714817949929,0.7782236933888115,0.8063375293045206,0.8234477473988042,0.6183661805512688,0.6152564738732954,0.7643888676960005,0.7402881419727447,0.4400824131513782,0.6829870443420987,0.660757398157598,0.600810516097805,0.4705177563147197,0.7191172435920683,0.5703392962373244],[0.807771608734017,0.9999999999999996,0.7053278310446969,0.745649592013857,0.4380588653861788,0.7963871709555987,0.7756706997262715,0.7758693527814466,0.7324574650758425,0.48453410629292715,0.8238272845808017,0.829620811320652,0.35441876553713303,0.8115761385452,0.7975847152569997,0.714015744757636,0.5474174874218615,0.7966235577425855,0.5035330901628435],[0.8731041391277161,0.7053278310446969,0.9999999999999996,0.6417781790876333,0.3564612568480005,0.8185795436307208,0.709587528777139,0.8223901865179992,0.5805859931832069,0.47949741039508287,0.6658674548577906,0.6353184931626752,0.3370982002827405,0.613972424705892,0.5594486544990537,0.5436831694347541,0.48778911169362177,0.6530321571244251,0.4693908864556419],[0.7086642464549093,0.745649592013857,0.6417781790876333,0.9999999999999997,0.3857079931139721,0.6720990194721519,0.7694788939335284,0.6840586805315476,0.6423013693179875,0.39129655263738394,0.7865606142599242,0.6961499413968797,0.3350515539951515,0.6582342129798854,0.6233162661477134,0.5827086907801007,0.5598955872981781,0.6859245690856265,0.4173891400696971],[0.3651714817949929,0.4380588653861788,0.3564612568480005,0.3857079931139721,1.0000000000000002,0.39208951139387777,0.4183309894168097,0.328495980224018,0.39300264934228646,0.20016618389859,0.4165517497052601,0.37501848763793866,0.19481603356167204,0.3693449607044383,0.3753689972469172,0.36609088769275616,0.46553385398394664,0.39200347724331086,0.2697454117863048],[0.7782236933888115,0.7963871709555987,0.8185795436307208,0.6720990194721519,0.39208951139387777,1.0000000000000004,0.7827760135904605,0.7015263781446669,0.5681928248738751,0.3858085841584122,0.7704373749028787,0.7199858852492879,0.26988768462773205,0.6759918078571535,0.6279560091079212,0.5734091956783453,0.4742088947543427,0.7705682432725478,0.39681876342137673],[0.8063375293045206,0.7756706997262715,0.709587528777139,0.7694788939335284,0.4183309894168097,0.7827760135904605,1.0000000000000002,0.6811244609491968,0.5922399256022015,0.41758265434062997,0.8009289998662101,0.7433081518434932,0.30655812582225833,0.6649594999527058,0.6255050017062896,0.5642616643050894,0.5323204404889194,0.744655374116933,0.42063580271745604],[0.8234477473988042,0.7758693527814466,0.8223901865179992,0.6840586805315476,0.328495980224018,0.7015263781446669,0.6811244609491968,0.9999999999999993,0.6081675698827258,0.4892495999452468,0.7439137419116844,0.6904227921002518,0.32774509113009687,0.6891434161190034,0.6386439829635804,0.5963404045525538,0.46123810786087194,0.6700506601920526,0.43661341466241876],[0.6183661805512688,0.7324574650758425,0.5805859931832069,0.6423013693179875,0.39300264934228646,0.5681928248738751,0.5922399256022015,0.6081675698827258,1.0,0.3795536727289264,0.611145211164834,0.6329863553475377,0.3129753918249523,0.7173320548984045,0.6554702535466295,0.605493569096603,0.5682421112016428,0.5418906343218681,0.38747198177726005],[0.6152564738732954,0.48453410629292715,0.47949741039508287,0.39129655263738394,0.20016618389859,0.3858085841584122,0.41758265434062997,0.4892495999452468,0.3795536727289264,1.0000000000000002,0.4050565388741959,0.40920952482606615,0.7574712685059455,0.4117073334328065,0.37781266142495057,0.40691171532075626,0.26064659778918375,0.3682276435414614,0.6628256559060437],[0.7643888676960005,0.8238272845808017,0.6658674548577906,0.7865606142599242,0.4165517497052601,0.7704373749028787,0.8009289998662101,0.7439137419116844,0.611145211164834,0.4050565388741959,0.9999999999999996,0.7612476316961768,0.3001852748792379,0.715750910229012,0.664225207002884,0.6092350081273162,0.493843417092749,0.7920708760892355,0.3998182517125555],[0.7402881419727447,0.829620811320652,0.6353184931626752,0.6961499413968797,0.37501848763793866,0.7199858852492879,0.7433081518434932,0.6904227921002518,0.6329863553475377,0.40920952482606615,0.7612476316961768,0.9999999999999998,0.2958782507397997,0.6470627499258989,0.6312797886532201,0.6192120571384556,0.46763512112045164,0.7087094969066198,0.4542697141381663],[0.4400824131513782,0.35441876553713303,0.3370982002827405,0.3350515539951515,0.19481603356167204,0.26988768462773205,0.30655812582225833,0.32774509113009687,0.3129753918249523,0.7574712685059455,0.3001852748792379,0.2958782507397997,1.0000000000000002,0.26981193925339797,0.2498454745645038,0.3409073205605623,0.19754849210697648,0.23114482846156192,0.8068332532672728],[0.6829870443420987,0.8115761385452,0.613972424705892,0.6582342129798854,0.3693449607044383,0.6759918078571535,0.6649594999527058,0.6891434161190034,0.7173320548984045,0.4117073334328065,0.715750910229012,0.6470627499258989,0.26981193925339797,1.0000000000000004,0.7057054127449675,0.6274796381305151,0.5383470470374115,0.6633835113102031,0.29645324536434897],[0.660757398157598,0.7975847152569997,0.5594486544990537,0.6233162661477134,0.3753689972469172,0.6279560091079212,0.6255050017062896,0.6386439829635804,0.6554702535466295,0.37781266142495057,0.664225207002884,0.6312797886532201,0.2498454745645038,0.7057054127449675,1.0000000000000004,0.5810929606405314,0.46459810024913695,0.6411660801457736,0.3348668020696861],[0.600810516097805,0.714015744757636,0.5436831694347541,0.5827086907801007,0.36609088769275616,0.5734091956783453,0.5642616643050894,0.5963404045525538,0.605493569096603,0.40691171532075626,0.6092350081273162,0.6192120571384556,0.3409073205605623,0.6274796381305151,0.5810929606405314,0.9999999999999993,0.4343118273722931,0.5657442881607827,0.40666906688277826],[0.4705177563147197,0.5474174874218615,0.48778911169362177,0.5598955872981781,0.46553385398394664,0.4742088947543427,0.5323204404889194,0.46123810786087194,0.5682421112016428,0.26064659778918375,0.493843417092749,0.46763512112045164,0.19754849210697648,0.5383470470374115,0.46459810024913695,0.4343118273722931,0.9999999999999996,0.48419530551846923,0.2895223765479463],[0.7191172435920683,0.7966235577425855,0.6530321571244251,0.6859245690856265,0.39200347724331086,0.7705682432725478,0.744655374116933,0.6700506601920526,0.5418906343218681,0.3682276435414614,0.7920708760892355,0.7087094969066198,0.23114482846156192,0.6633835113102031,0.6411660801457736,0.5657442881607827,0.48419530551846923,1.0,0.36792161265012013],[0.5703392962373244,0.5035330901628435,0.4693908864556419,0.4173891400696971,0.2697454117863048,0.39681876342137673,0.42063580271745604,0.43661341466241876,0.38747198177726005,0.6628256559060437,0.3998182517125555,0.4542697141381663,0.8068332532672728,0.29645324536434897,0.3348668020696861,0.40666906688277826,0.2895223765479463,0.36792161265012013,1.0000000000000009]],\"type\":\"heatmap\",\"xaxis\":\"x\",\"yaxis\":\"y\",\"hovertemplate\":\"x: %{x}\\u003cbr\\u003ey: %{y}\\u003cbr\\u003eSimilarity Score: %{z}\\u003cextra\\u003e\\u003c\\u002fextra\\u003e\"}],                        {\"template\":{\"data\":{\"histogram2dcontour\":[{\"type\":\"histogram2dcontour\",\"colorbar\":{\"outlinewidth\":0,\"ticks\":\"\"},\"colorscale\":[[0.0,\"#0d0887\"],[0.1111111111111111,\"#46039f\"],[0.2222222222222222,\"#7201a8\"],[0.3333333333333333,\"#9c179e\"],[0.4444444444444444,\"#bd3786\"],[0.5555555555555556,\"#d8576b\"],[0.6666666666666666,\"#ed7953\"],[0.7777777777777778,\"#fb9f3a\"],[0.8888888888888888,\"#fdca26\"],[1.0,\"#f0f921\"]]}],\"choropleth\":[{\"type\":\"choropleth\",\"colorbar\":{\"outlinewidth\":0,\"ticks\":\"\"}}],\"histogram2d\":[{\"type\":\"histogram2d\",\"colorbar\":{\"outlinewidth\":0,\"ticks\":\"\"},\"colorscale\":[[0.0,\"#0d0887\"],[0.1111111111111111,\"#46039f\"],[0.2222222222222222,\"#7201a8\"],[0.3333333333333333,\"#9c179e\"],[0.4444444444444444,\"#bd3786\"],[0.5555555555555556,\"#d8576b\"],[0.6666666666666666,\"#ed7953\"],[0.7777777777777778,\"#fb9f3a\"],[0.8888888888888888,\"#fdca26\"],[1.0,\"#f0f921\"]]}],\"heatmap\":[{\"type\":\"heatmap\",\"colorbar\":{\"outlinewidth\":0,\"ticks\":\"\"},\"colorscale\":[[0.0,\"#0d0887\"],[0.1111111111111111,\"#46039f\"],[0.2222222222222222,\"#7201a8\"],[0.3333333333333333,\"#9c179e\"],[0.4444444444444444,\"#bd3786\"],[0.5555555555555556,\"#d8576b\"],[0.6666666666666666,\"#ed7953\"],[0.7777777777777778,\"#fb9f3a\"],[0.8888888888888888,\"#fdca26\"],[1.0,\"#f0f921\"]]}],\"heatmapgl\":[{\"type\":\"heatmapgl\",\"colorbar\":{\"outlinewidth\":0,\"ticks\":\"\"},\"colorscale\":[[0.0,\"#0d0887\"],[0.1111111111111111,\"#46039f\"],[0.2222222222222222,\"#7201a8\"],[0.3333333333333333,\"#9c179e\"],[0.4444444444444444,\"#bd3786\"],[0.5555555555555556,\"#d8576b\"],[0.6666666666666666,\"#ed7953\"],[0.7777777777777778,\"#fb9f3a\"],[0.8888888888888888,\"#fdca26\"],[1.0,\"#f0f921\"]]}],\"contourcarpet\":[{\"type\":\"contourcarpet\",\"colorbar\":{\"outlinewidth\":0,\"ticks\":\"\"}}],\"contour\":[{\"type\":\"contour\",\"colorbar\":{\"outlinewidth\":0,\"ticks\":\"\"},\"colorscale\":[[0.0,\"#0d0887\"],[0.1111111111111111,\"#46039f\"],[0.2222222222222222,\"#7201a8\"],[0.3333333333333333,\"#9c179e\"],[0.4444444444444444,\"#bd3786\"],[0.5555555555555556,\"#d8576b\"],[0.6666666666666666,\"#ed7953\"],[0.7777777777777778,\"#fb9f3a\"],[0.8888888888888888,\"#fdca26\"],[1.0,\"#f0f921\"]]}],\"surface\":[{\"type\":\"surface\",\"colorbar\":{\"outlinewidth\":0,\"ticks\":\"\"},\"colorscale\":[[0.0,\"#0d0887\"],[0.1111111111111111,\"#46039f\"],[0.2222222222222222,\"#7201a8\"],[0.3333333333333333,\"#9c179e\"],[0.4444444444444444,\"#bd3786\"],[0.5555555555555556,\"#d8576b\"],[0.6666666666666666,\"#ed7953\"],[0.7777777777777778,\"#fb9f3a\"],[0.8888888888888888,\"#fdca26\"],[1.0,\"#f0f921\"]]}],\"mesh3d\":[{\"type\":\"mesh3d\",\"colorbar\":{\"outlinewidth\":0,\"ticks\":\"\"}}],\"scatter\":[{\"fillpattern\":{\"fillmode\":\"overlay\",\"size\":10,\"solidity\":0.2},\"type\":\"scatter\"}],\"parcoords\":[{\"type\":\"parcoords\",\"line\":{\"colorbar\":{\"outlinewidth\":0,\"ticks\":\"\"}}}],\"scatterpolargl\":[{\"type\":\"scatterpolargl\",\"marker\":{\"colorbar\":{\"outlinewidth\":0,\"ticks\":\"\"}}}],\"bar\":[{\"error_x\":{\"color\":\"#2a3f5f\"},\"error_y\":{\"color\":\"#2a3f5f\"},\"marker\":{\"line\":{\"color\":\"#E5ECF6\",\"width\":0.5},\"pattern\":{\"fillmode\":\"overlay\",\"size\":10,\"solidity\":0.2}},\"type\":\"bar\"}],\"scattergeo\":[{\"type\":\"scattergeo\",\"marker\":{\"colorbar\":{\"outlinewidth\":0,\"ticks\":\"\"}}}],\"scatterpolar\":[{\"type\":\"scatterpolar\",\"marker\":{\"colorbar\":{\"outlinewidth\":0,\"ticks\":\"\"}}}],\"histogram\":[{\"marker\":{\"pattern\":{\"fillmode\":\"overlay\",\"size\":10,\"solidity\":0.2}},\"type\":\"histogram\"}],\"scattergl\":[{\"type\":\"scattergl\",\"marker\":{\"colorbar\":{\"outlinewidth\":0,\"ticks\":\"\"}}}],\"scatter3d\":[{\"type\":\"scatter3d\",\"line\":{\"colorbar\":{\"outlinewidth\":0,\"ticks\":\"\"}},\"marker\":{\"colorbar\":{\"outlinewidth\":0,\"ticks\":\"\"}}}],\"scattermapbox\":[{\"type\":\"scattermapbox\",\"marker\":{\"colorbar\":{\"outlinewidth\":0,\"ticks\":\"\"}}}],\"scatterternary\":[{\"type\":\"scatterternary\",\"marker\":{\"colorbar\":{\"outlinewidth\":0,\"ticks\":\"\"}}}],\"scattercarpet\":[{\"type\":\"scattercarpet\",\"marker\":{\"colorbar\":{\"outlinewidth\":0,\"ticks\":\"\"}}}],\"carpet\":[{\"aaxis\":{\"endlinecolor\":\"#2a3f5f\",\"gridcolor\":\"white\",\"linecolor\":\"white\",\"minorgridcolor\":\"white\",\"startlinecolor\":\"#2a3f5f\"},\"baxis\":{\"endlinecolor\":\"#2a3f5f\",\"gridcolor\":\"white\",\"linecolor\":\"white\",\"minorgridcolor\":\"white\",\"startlinecolor\":\"#2a3f5f\"},\"type\":\"carpet\"}],\"table\":[{\"cells\":{\"fill\":{\"color\":\"#EBF0F8\"},\"line\":{\"color\":\"white\"}},\"header\":{\"fill\":{\"color\":\"#C8D4E3\"},\"line\":{\"color\":\"white\"}},\"type\":\"table\"}],\"barpolar\":[{\"marker\":{\"line\":{\"color\":\"#E5ECF6\",\"width\":0.5},\"pattern\":{\"fillmode\":\"overlay\",\"size\":10,\"solidity\":0.2}},\"type\":\"barpolar\"}],\"pie\":[{\"automargin\":true,\"type\":\"pie\"}]},\"layout\":{\"autotypenumbers\":\"strict\",\"colorway\":[\"#636efa\",\"#EF553B\",\"#00cc96\",\"#ab63fa\",\"#FFA15A\",\"#19d3f3\",\"#FF6692\",\"#B6E880\",\"#FF97FF\",\"#FECB52\"],\"font\":{\"color\":\"#2a3f5f\"},\"hovermode\":\"closest\",\"hoverlabel\":{\"align\":\"left\"},\"paper_bgcolor\":\"white\",\"plot_bgcolor\":\"#E5ECF6\",\"polar\":{\"bgcolor\":\"#E5ECF6\",\"angularaxis\":{\"gridcolor\":\"white\",\"linecolor\":\"white\",\"ticks\":\"\"},\"radialaxis\":{\"gridcolor\":\"white\",\"linecolor\":\"white\",\"ticks\":\"\"}},\"ternary\":{\"bgcolor\":\"#E5ECF6\",\"aaxis\":{\"gridcolor\":\"white\",\"linecolor\":\"white\",\"ticks\":\"\"},\"baxis\":{\"gridcolor\":\"white\",\"linecolor\":\"white\",\"ticks\":\"\"},\"caxis\":{\"gridcolor\":\"white\",\"linecolor\":\"white\",\"ticks\":\"\"}},\"coloraxis\":{\"colorbar\":{\"outlinewidth\":0,\"ticks\":\"\"}},\"colorscale\":{\"sequential\":[[0.0,\"#0d0887\"],[0.1111111111111111,\"#46039f\"],[0.2222222222222222,\"#7201a8\"],[0.3333333333333333,\"#9c179e\"],[0.4444444444444444,\"#bd3786\"],[0.5555555555555556,\"#d8576b\"],[0.6666666666666666,\"#ed7953\"],[0.7777777777777778,\"#fb9f3a\"],[0.8888888888888888,\"#fdca26\"],[1.0,\"#f0f921\"]],\"sequentialminus\":[[0.0,\"#0d0887\"],[0.1111111111111111,\"#46039f\"],[0.2222222222222222,\"#7201a8\"],[0.3333333333333333,\"#9c179e\"],[0.4444444444444444,\"#bd3786\"],[0.5555555555555556,\"#d8576b\"],[0.6666666666666666,\"#ed7953\"],[0.7777777777777778,\"#fb9f3a\"],[0.8888888888888888,\"#fdca26\"],[1.0,\"#f0f921\"]],\"diverging\":[[0,\"#8e0152\"],[0.1,\"#c51b7d\"],[0.2,\"#de77ae\"],[0.3,\"#f1b6da\"],[0.4,\"#fde0ef\"],[0.5,\"#f7f7f7\"],[0.6,\"#e6f5d0\"],[0.7,\"#b8e186\"],[0.8,\"#7fbc41\"],[0.9,\"#4d9221\"],[1,\"#276419\"]]},\"xaxis\":{\"gridcolor\":\"white\",\"linecolor\":\"white\",\"ticks\":\"\",\"title\":{\"standoff\":15},\"zerolinecolor\":\"white\",\"automargin\":true,\"zerolinewidth\":2},\"yaxis\":{\"gridcolor\":\"white\",\"linecolor\":\"white\",\"ticks\":\"\",\"title\":{\"standoff\":15},\"zerolinecolor\":\"white\",\"automargin\":true,\"zerolinewidth\":2},\"scene\":{\"xaxis\":{\"backgroundcolor\":\"#E5ECF6\",\"gridcolor\":\"white\",\"linecolor\":\"white\",\"showbackground\":true,\"ticks\":\"\",\"zerolinecolor\":\"white\",\"gridwidth\":2},\"yaxis\":{\"backgroundcolor\":\"#E5ECF6\",\"gridcolor\":\"white\",\"linecolor\":\"white\",\"showbackground\":true,\"ticks\":\"\",\"zerolinecolor\":\"white\",\"gridwidth\":2},\"zaxis\":{\"backgroundcolor\":\"#E5ECF6\",\"gridcolor\":\"white\",\"linecolor\":\"white\",\"showbackground\":true,\"ticks\":\"\",\"zerolinecolor\":\"white\",\"gridwidth\":2}},\"shapedefaults\":{\"line\":{\"color\":\"#2a3f5f\"}},\"annotationdefaults\":{\"arrowcolor\":\"#2a3f5f\",\"arrowhead\":0,\"arrowwidth\":1},\"geo\":{\"bgcolor\":\"white\",\"landcolor\":\"#E5ECF6\",\"subunitcolor\":\"white\",\"showland\":true,\"showlakes\":true,\"lakecolor\":\"white\"},\"title\":{\"x\":0.05},\"mapbox\":{\"style\":\"light\"}}},\"xaxis\":{\"anchor\":\"y\",\"domain\":[0.0,1.0],\"scaleanchor\":\"y\",\"constrain\":\"domain\"},\"yaxis\":{\"anchor\":\"x\",\"domain\":[0.0,1.0],\"autorange\":\"reversed\",\"constrain\":\"domain\"},\"coloraxis\":{\"colorbar\":{\"title\":{\"text\":\"Similarity Score\"}},\"colorscale\":[[0.0,\"rgb(247,252,240)\"],[0.125,\"rgb(224,243,219)\"],[0.25,\"rgb(204,235,197)\"],[0.375,\"rgb(168,221,181)\"],[0.5,\"rgb(123,204,196)\"],[0.625,\"rgb(78,179,211)\"],[0.75,\"rgb(43,140,190)\"],[0.875,\"rgb(8,104,172)\"],[1.0,\"rgb(8,64,129)\"]]},\"margin\":{\"t\":60},\"title\":{\"font\":{\"size\":22,\"color\":\"Black\"},\"text\":\"\\u003cb\\u003eSimilarity Matrix\\u003c\\u002fb\\u003e\",\"y\":0.95,\"x\":0.55,\"xanchor\":\"center\",\"yanchor\":\"top\"},\"hoverlabel\":{\"font\":{\"size\":16,\"family\":\"Rockwell\"},\"bgcolor\":\"white\"},\"width\":800,\"height\":800,\"showlegend\":true,\"legend\":{\"title\":{\"text\":\"Trend\"}}},                        {\"responsive\": true}                    ).then(function(){\n",
       "                            \n",
       "var gd = document.getElementById('e53dff64-d4f6-4604-a0e3-daf4e5978553');\n",
       "var x = new MutationObserver(function (mutations, observer) {{\n",
       "        var display = window.getComputedStyle(gd).display;\n",
       "        if (!display || display === 'none') {{\n",
       "            console.log([gd, 'removed!']);\n",
       "            Plotly.purge(gd);\n",
       "            observer.disconnect();\n",
       "        }}\n",
       "}});\n",
       "\n",
       "// Listen for the removal of the full notebook cells\n",
       "var notebookContainer = gd.closest('#notebook-container');\n",
       "if (notebookContainer) {{\n",
       "    x.observe(notebookContainer, {childList: true});\n",
       "}}\n",
       "\n",
       "// Listen for the clearing of the current output cell\n",
       "var outputEl = gd.closest('.output');\n",
       "if (outputEl) {{\n",
       "    x.observe(outputEl, {childList: true});\n",
       "}}\n",
       "\n",
       "                        })                };                });            </script>        </div>"
      ]
     },
     "metadata": {},
     "output_type": "display_data"
    }
   ],
   "source": [
    "bertopic_model.topic_model.visualize_heatmap()"
   ]
  },
  {
   "cell_type": "code",
   "execution_count": 512,
   "id": "a2b327d8-15f5-410b-a452-b091054abffe",
   "metadata": {},
   "outputs": [
    {
     "name": "stderr",
     "output_type": "stream",
     "text": [
      "2025-03-26 20:34:14,549 - BERTopic - WARNING: There are more than 100 unique timestamps (i.e., 829) which significantly slows down the application. Consider setting `nr_bins` to a value lower than 100 to speed up calculation. \n"
     ]
    },
    {
     "name": "stdout",
     "output_type": "stream",
     "text": [
      "CPU times: total: 23.5 s\n",
      "Wall time: 25.2 s\n"
     ]
    },
    {
     "data": {
      "application/vnd.plotly.v1+json": {
       "config": {
        "plotlyServerURL": "https://plot.ly"
       },
       "data": [
        {
         "hoverinfo": "text",
         "hovertext": [
          "<b>Topic 0</b><br>Words: канал аналитику, свой канал аналитику, свой канал, аналитику, свой",
          "<b>Topic 0</b><br>Words: голосовухи пятиминутные, туда голосовухи, будешь туда голосовухи, пятиминутные, голосовухи пятиминутные постить",
          "<b>Topic 0</b><br>Words: поводу ошибки дизайном, лет цать особенно, устарели, дизайном, времен",
          "<b>Topic 0</b><br>Words: подкаст, это, просто, ссылка, курс",
          "<b>Topic 0</b><br>Words: хотел сказать ждут, хотел сказать, сказать ждут мастеркласс, сказать ждут, мастеркласс",
          "<b>Topic 0</b><br>Words: убивают, далеко, далеко ребята, топ10 далеко ребята, топ10 далеко",
          "<b>Topic 0</b><br>Words: посмотреть потребность, пост голосовалку, голосовалку, сделать пост, голосовалку посмотреть потребность",
          "<b>Topic 0</b><br>Words: таких мои, 5ти, таких мои голосовухи, мои голосовухи 5ти, голосовухи 5ти минутные",
          "<b>Topic 0</b><br>Words: удивлен ещё канала, ещё канала, удивлен, поэтому удивлен, поэтому удивлен ещё",
          "<b>Topic 0</b><br>Words: самозванца, синдром самозванца, отбрось, отбрось свой, отбрось свой синдром",
          "<b>Topic 0</b><br>Words: толк, слушаешь мои, канале равно, канале равно слушаешь, слушаешь мои голосовухи",
          "<b>Topic 0</b><br>Words: начинай, это, просто, ссылка, курс",
          "<b>Topic 0</b><br>Words: толкаете, понимаете, понимаете толкаете, это, просто",
          "<b>Topic 0</b><br>Words: выбор это всё, осознанный классный выбор, осознанный классный, осознанный, классный",
          "<b>Topic 0</b><br>Words: будешь слушать, слушать мои, слушать мои голосовухи, будешь слушать мои, будешь",
          "<b>Topic 0</b><br>Words: dsникам, дают такую возможность, дают такую, такую возможность, dsникам дают такую",
          "<b>Topic 0</b><br>Words: ссылка, обозначили, обозначили ссылка, обозначили ссылка nda, nda неактивна",
          "<b>Topic 0</b><br>Words: вообще неплохо участники, инсайты любом, записывали туда какие, участники записывали туда, участники",
          "<b>Topic 0</b><br>Words: написал сопровождение, написал сопровождение прежнему, прежнему тишина, сопровождение, сопровождение прежнему",
          "<b>Topic 0</b><br>Words: годосовухи, годосовухи писали, хочешь годосовухи писали, хочешь годосовухи, хочешь",
          "<b>Topic 0</b><br>Words: подписывался, зря подписывался, голосовухи зря, голосовухи зря подписывался, зря",
          "<b>Topic 0</b><br>Words: возможность подписчикам, возможность подписчикам записывать, подписчикам записывать, подписчикам, записывать",
          "<b>Topic 0</b><br>Words: будешь конвертировать, конвертировать голосовые зачитывать, зачитывать, голосовые зачитывать, конвертировать",
          "<b>Topic 0</b><br>Words: могли записывать глянуть, могли записывать, планировалось могли, вообще планировалось могли, записывать глянуть настройки",
          "<b>Topic 0</b><br>Words: курс забить, курс забить неделюкто, подумать, желающих записаться, неделюкто",
          "<b>Topic 0</b><br>Words: ссылка, написать чат заполнил, является обязательным, условием, условием участия",
          "<b>Topic 0</b><br>Words: ссылка, написать nda работает, сначала нужно, нужно написать nda, нужно написать",
          "<b>Topic 0</b><br>Words: мальчик заполнил, мальчик заполнил написал, слышал историю мальчик, заполнил написал умер, заполнил написал",
          "<b>Topic 0</b><br>Words: отбор, написал прошёл отбор, возможно написал прошёл, возможно написал, прошёл отбор",
          "<b>Topic 0</b><br>Words: неопределенному кругу лиц, нарушил, нарушил nda раскрыв, проверил нарушил nda, проверил нарушил",
          "<b>Topic 0</b><br>Words: подписывал, это, просто, ссылка, курс",
          "<b>Topic 0</b><br>Words: черном, ссылку черном, черном списке, ссылку черном списке, списке",
          "<b>Topic 0</b><br>Words: какие дела, дела, какие, это, просто",
          "<b>Topic 0</b><br>Words: удобно, вопрос спасибо, удобно буду смешивать, смешивать какие люди, удобно буду",
          "<b>Topic 0</b><br>Words: твой, это, просто, ссылка, курс",
          "<b>Topic 0</b><br>Words: коллективный разум, мотивирован делать, работа причем трудная, работа причем, коллективный разум мотивирован",
          "<b>Topic 0</b><br>Words: контент, umagalova 12, подписчиков контент, 12 подписчиков, 12 подписчиков контент",
          "<b>Topic 0</b><br>Words: откуда оно, подготовиться нужно, откуда оно появляться, откуда, подготовиться нужно чтото",
          "<b>Topic 0</b><br>Words: будут мотивированы сбрасывать, мотивированы сбрасывать это, будут мотивированы, мотивированы, мотивированы сбрасывать",
          "<b>Topic 0</b><br>Words: мариян канал, мариян, канал, это, просто",
          "<b>Topic 0</b><br>Words: подготовиться пусто, пусто, подготовиться, это, просто",
          "<b>Topic 0</b><br>Words: читаешь, люди отписываются, отписываются, отписываются узнала, чат читаешь это",
          "<b>Topic 0</b><br>Words: ходячий забыл, ходячий, забыл, это, просто",
          "<b>Topic 0</b><br>Words: одиноко, грустно одиноко, грустно, это, просто",
          "<b>Topic 0</b><br>Words: мужик бросил, мужик, твой мужик бросил, твой мужик, бросил",
          "<b>Topic 0</b><br>Words: откачали потери, сообщения снова, откачали, извини откачали потери, извини откачали",
          "<b>Topic 0</b><br>Words: скинешь денег карту, скинешь денег, скинешь, карту, денег карту",
          "<b>Topic 0</b><br>Words: наеобманул, это, просто, ссылка, курс",
          "<b>Topic 0</b><br>Words: откроешь форточку, откроешь, форточку, это, просто",
          "<b>Topic 0</b><br>Words: это такое, такое, это, просто, ссылка",
          "<b>Topic 0</b><br>Words: 10 смотрит, смотрит, платит 10 смотрит, пусть платит 10, платит 10",
          "<b>Topic 0</b><br>Words: миллионы онлайн, оно нам, заниматься, заниматься аналитикой быстро, быстро накопит миллионы",
          "<b>Topic 0</b><br>Words: скидки будут, скидки, будут, это, просто",
          "<b>Topic 0</b><br>Words: одним первых, буду одним, буду одним первых, лично буду одним, лично буду",
          "<b>Topic 0</b><br>Words: аж ушах зазвучало, зазвучало, аж ушах, аж, ушах зазвучало делаешь",
          "<b>Topic 0</b><br>Words: делать отправил, делать отправил заявку, отправил заявку nda, отправил заявку, делать",
          "<b>Topic 0</b><br>Words: курса подать заявку, подать, подать заявку, курса подать, курса",
          "<b>Topic 0</b><br>Words: заново отправлять отправила, отправлять отправила, нужно заново отправлять, нужно заново, отправлять отправила заполнила",
          "<b>Topic 0</b><br>Words: вчера, нда, форму, работало перезаполнять форму, форму нда заполняю",
          "<b>Topic 0</b><br>Words: файл, отправить, файл сохраняется подписать, подписать выполнить пункт, выполнить",
          "<b>Topic 0</b><br>Words: гуглдоках, форма гуглдоках, форма, это, просто",
          "<b>Topic 0</b><br>Words: распечатывать подписывать, ошибка понятно итоге, телефона такая, понятно итоге ушла, телефона такая ошибка",
          "<b>Topic 0</b><br>Words: это применить, форму телефона, применить, телефона знаю, телефона знаю это",
          "<b>Topic 0</b><br>Words: шучу это, код, шучу, backendа, это код",
          "<b>Topic 0</b><br>Words: форма активна, ндаформу форма активна, попытке зайти ндаформу, попытке зайти, пишет попытке зайти",
          "<b>Topic 0</b><br>Words: работал чисто, работал чисто аналитик, смысле раньше, смысле раньше работал, раньше работал",
          "<b>Topic 0</b><br>Words: это, просто, ссылка, курс, nda",
          "<b>Topic 0</b><br>Words: каким мылом, каким мылом пользуешься, пользуешься, мылом пользуешься, мылом",
          "<b>Topic 0</b><br>Words: ссылка, та понимаю остальных, активна такая, такая ошибка та, nda активна такая",
          "<b>Topic 0</b><br>Words: норм кукикеш, кукикеш, сбросить, норм кукикеш попробуйте, кукикеш попробуйте сбросить",
          "<b>Topic 0</b><br>Words: ссылку nda, ссылку nda поправят, nda поправят, поправят, ссылку",
          "<b>Topic 0</b><br>Words: перейти, ссылке перейти, подучилось, перейти активна, ссылке перейти активна",
          "<b>Topic 0</b><br>Words: найди баги, тестировщиком, проблемы nda, начинает, тестирования найди баги",
          "<b>Topic 0</b><br>Words: пока починили, починили, пока, это, просто",
          "<b>Topic 0</b><br>Words: тренажер выдает это, тренажер, выдает это, выдает, тренажер выдает",
          "<b>Topic 0</b><br>Words: онлифанс подписался, онлифанс, подписался, это, просто",
          "<b>Topic 0</b><br>Words: подписку, платим просто, подписку платим просто, платим, просто получаешь",
          "<b>Topic 0</b><br>Words: карьерном, карьерном треке, треке, это, просто",
          "<b>Topic 0</b><br>Words: осталось акселерация, акселерация, осталось, это, просто",
          "<b>Topic 0</b><br>Words: грешу, грешу этим, этим, это, просто",
          "<b>Topic 0</b><br>Words: опоздал, закрыта успел, закрыта успел опоздал, опоздал получается, форма закрыта",
          "<b>Topic 0</b><br>Words: рейтинг, это, просто, ссылка, курс",
          "<b>Topic 0</b><br>Words: это, просто, ссылка, курс, nda",
          "<b>Topic 0</b><br>Words: судя всемуспасибо, бот мексиканец, мексиканец судя всемуспасибо, мексиканец, мексиканец судя",
          "<b>Topic 0</b><br>Words: ума выжил, ума, выжил, это, просто",
          "<b>Topic 0</b><br>Words: сомневалась, это, просто, ссылка, курс",
          "<b>Topic 0</b><br>Words: позвонить, это, просто, ссылка, курс",
          "<b>Topic 0</b><br>Words: развидеть, это, просто, ссылка, курс",
          "<b>Topic 0</b><br>Words: святая, которая фото, вода это та, вода это, та которая",
          "<b>Topic 0</b><br>Words: это, просто, ссылка, курс, nda",
          "<b>Topic 0</b><br>Words: почему финальный колл, почему финальный, колл, финальный, финальный колл",
          "<b>Topic 0</b><br>Words: жили курса жопа, точно чистой, раньше жили курса, раньше жили, жили курса",
          "<b>Topic 0</b><br>Words: появиться, это, просто, ссылка, курс",
          "<b>Topic 0</b><br>Words: поймай, это, просто, ссылка, курс",
          "<b>Topic 0</b><br>Words: стороне, это, просто, ссылка, курс",
          "<b>Topic 0</b><br>Words: работает, это, просто, ссылка, курс",
          "<b>Topic 0</b><br>Words: именно работает, именно, работает, это, просто",
          "<b>Topic 0</b><br>Words: кнопок карточка открывается, никакой понятен смысл, открывается, квадратикам подсвечиваются, кнопки должны вожу",
          "<b>Topic 0</b><br>Words: прогружается открываетсяи, виде борды, борды карточками, виде борды карточками, кнопок это",
          "<b>Topic 0</b><br>Words: проверил снова, снова заработало, проверил снова заработало, проверил, заработало",
          "<b>Topic 0</b><br>Words: это, просто, ссылка, курс, nda",
          "<b>Topic 0</b><br>Words: токсиков дата алюмни, измельчало поколение токсиков, поколение, поколение токсиков, дата алюмни",
          "<b>Topic 0</b><br>Words: алюмнай, это, просто, ссылка, курс",
          "<b>Topic 0</b><br>Words: две вакансии, вакансии открыты, две вакансии открыты, открыты, вакансии",
          "<b>Topic 0</b><br>Words: зочем, это, просто, ссылка, курс",
          "<b>Topic 0</b><br>Words: найдем тебе, кальянщицу, найдем тебе кальянщицу, тебе кальянщицу, найдем",
          "<b>Topic 0</b><br>Words: ладно, самую классную, тебе самую классную, самую, самую классную найдём",
          "<b>Topic 0</b><br>Words: сделают, это, просто, ссылка, курс",
          "<b>Topic 0</b><br>Words: подробности знают ответят, знают, узнаешь, узнаешь иначе, подробности знают",
          "<b>Topic 0</b><br>Words: добрячки отрабатывали зп, отрабатывали, отрабатывали зп, добрячки отрабатывали, добрячки",
          "<b>Topic 0</b><br>Words: скажи собес проходил, собес проходил эйчаров, собес проходил, проходил, проходил эйчаров",
          "<b>Topic 0</b><br>Words: настолько, настолько неинтересный, настолько неинтересный настолько, настолько привлекательный, привлекательный",
          "<b>Topic 0</b><br>Words: собирались стартовать, вроде собирались стартовать, этому проекту вроде, новости этому, середине февраля",
          "<b>Topic 0</b><br>Words: предполагаю идет, предполагаю, идет, это, просто",
          "<b>Topic 0</b><br>Words: пока тишина, кабинете пока тишина, расшарить, тишина добавили, расшарить доступ",
          "<b>Topic 0</b><br>Words: заполнил, это, просто, ссылка, курс",
          "<b>Topic 0</b><br>Words: отправить сделал, работаетего подписать прикрепить, прикрепить, подписать прикрепить, работаетего",
          "<b>Topic 0</b><br>Words: выбрал первое, первое, выбрал, лично выбрал первое, лично выбрал",
          "<b>Topic 0</b><br>Words: успехи, это, просто, ссылка, курс",
          "<b>Topic 0</b><br>Words: хочется, смотреть некоторых собесах, некоторых собесах хочется, смотреть некоторых, 10 собесов",
          "<b>Topic 0</b><br>Words: накручивают, шедевры бывают плюс, направлении, многие, задаешь",
          "<b>Topic 0</b><br>Words: лев, лев толстой деле, обудамала резюме, толстой деле, простой",
          "<b>Topic 0</b><br>Words: обманом, первую работу, работу обманом получила, обманом получила, первую работу обманом",
          "<b>Topic 0</b><br>Words: 28 02, 28, 02, это, просто",
          "<b>Topic 0</b><br>Words: поздравляю, поздравляю дальше, дальше, это, просто",
          "<b>Topic 0</b><br>Words: другие чаты, чаты, другие, это, просто",
          "<b>Topic 0</b><br>Words: говорящим названием, помню говорящим названием, названием тройничок, тройничок, названием",
          "<b>Topic 0</b><br>Words: синей волне, синей волне осуждения, осуждения, синей, ктото синей волне",
          "<b>Topic 0</b><br>Words: ага, это, просто, ссылка, курс",
          "<b>Topic 0</b><br>Words: обучаться открываешь календарь, че обучаться, открываешь, календарь смотришь сегодня, открываешь календарь смотришь",
          "<b>Topic 0</b><br>Words: добро пожаловать, добро пожаловать каламбурную, добро, пожаловать каламбурную, каламбурную",
          "<b>Topic 0</b><br>Words: както проанализировать, каждый день, както проанализировать дату, проанализировать дату каждый, дату каждый",
          "<b>Topic 0</b><br>Words: это, просто, ссылка, курс, nda",
          "<b>Topic 0</b><br>Words: это, просто, ссылка, курс, nda",
          "<b>Topic 0</b><br>Words: пиво, пить, пиво пить, это, просто",
          "<b>Topic 0</b><br>Words: это бот, бот, это, просто, ссылка",
          "<b>Topic 0</b><br>Words: разработка, это разработка, yonote это разработка, yonote это, yonote",
          "<b>Topic 0</b><br>Words: душными, тяжко душными аналитиками, аналитиками, душными аналитиками, тяжко душными",
          "<b>Topic 0</b><br>Words: подкол, знала подкол равно, подкол равно идёшь, идёшь, идёшь поводу",
          "<b>Topic 0</b><br>Words: поддаешься, это, просто, ссылка, курс",
          "<b>Topic 0</b><br>Words: это, просто, ссылка, курс, nda",
          "<b>Topic 0</b><br>Words: эксель считается, эксель, считается, это, просто",
          "<b>Topic 0</b><br>Words: это почему раньше, почему раньше злая, почему раньше, одном чате сидела, злая тобой одном",
          "<b>Topic 0</b><br>Words: происходит, это, просто, ссылка, курс",
          "<b>Topic 0</b><br>Words: мариян umagalova, umagalova, мариян, это, просто",
          "<b>Topic 0</b><br>Words: топоваянадпись чисто твой, ава топоваянадпись чисто, чисто твой девиз, топоваянадпись чисто, топоваянадпись",
          "<b>Topic 0</b><br>Words: удалят, думаешь удалят, думаешь, это, просто",
          "<b>Topic 0</b><br>Words: нехочу людям утра, утра настроение портить, утра настроение, утра, нехочу людям",
          "<b>Topic 0</b><br>Words: 6к вместо изза, инфляции берешь, 6к вместо, изза инфляции, вместо изза инфляции",
          "<b>Topic 0</b><br>Words: мск вернулась, вернулась, мск, это, просто",
          "<b>Topic 0</b><br>Words: должен ща просто, должен ща, ща просто, должен, ща",
          "<b>Topic 0</b><br>Words: это, просто, ссылка, курс, nda",
          "<b>Topic 0</b><br>Words: громко, громко сказано, берешь громко, пока никто, берешь громко сказано",
          "<b>Topic 0</b><br>Words: писать этим, этим вопросам могу, могу узнать твою, твою, вопросам могу узнать",
          "<b>Topic 0</b><br>Words: программы практикума просто, слово всем, всем писали честнее, всем писали, программы практикума",
          "<b>Topic 0</b><br>Words: ди залететь обучаясь, млии нужны меньше, хайпово млии нужны, нужны меньше, хайпово млии",
          "<b>Topic 0</b><br>Words: всё, осталась обманутыми ожиданиями, таким обм, положен итоге обучения, куратору качестве",
          "<b>Topic 0</b><br>Words: ожиданий, обманутых ожиданий, обманутых, трека правило, правило обманутых ожиданий",
          "<b>Topic 0</b><br>Words: че работяги, че работяги говорят, работяги говорят, работяги, че",
          "<b>Topic 0</b><br>Words: дада, дада шо, дада шо работяги, работяги думают, шо",
          "<b>Topic 0</b><br>Words: половину прошел, ниасилил половину, выгорел херам, прошел выгорел херам, прошел выгорел",
          "<b>Topic 0</b><br>Words: печаль, популярный, печаль прям, должен старт, почему перенесли",
          "<b>Topic 0</b><br>Words: какие знания входе, какие знания, входе, знаю какие знания, знаю какие",
          "<b>Topic 0</b><br>Words: ооп питона, питона, ооп, это, просто",
          "<b>Topic 0</b><br>Words: ктото, ктото ооп, ооп этих, стиле ктото, ктото функциональном",
          "<b>Topic 0</b><br>Words: проблема тесты, бывало, тупо принимали, моё время основная, одним заданием",
          "<b>Topic 0</b><br>Words: понимаю автотесты, гите, попробую понимаю, попробую, автотесты гите",
          "<b>Topic 0</b><br>Words: тренажере, это, просто, ссылка, курс",
          "<b>Topic 0</b><br>Words: докер образ окружением, образ, докер образ, докер, окружением нем занимаешься",
          "<b>Topic 0</b><br>Words: интересно курс, интересно, курс, это, просто",
          "<b>Topic 0</b><br>Words: курс, сутки жить увы, увы самостоятельно, отвечали вопросы сутки, отвечали вопросы",
          "<b>Topic 0</b><br>Words: проблем, изза, данные ожидал, переставали проходить проверки, предоставляют довольно",
          "<b>Topic 0</b><br>Words: использовал закончил, привет прям нуля, нихрена, вымораживали, спринтов пятый",
          "<b>Topic 0</b><br>Words: сразу вопросы, легче, вопросы отвечали быстрее, вопросы отвечали, стресса претензий практикуму",
          "<b>Topic 0</b><br>Words: грешишь, это просто возраст, курс грешишь, возраст, возраст курс",
          "<b>Topic 0</b><br>Words: пойти, тебе просто пойти, тебе просто, просто пойти лес, пойти лес"
         ],
         "marker": {
          "color": "#E69F00"
         },
         "mode": "lines",
         "name": "0_это_просто_ссылка_курс",
         "type": "scatter",
         "x": [
          "2025-02-03T11:52:20",
          "2025-02-03T11:52:37",
          "2025-02-03T11:55:09",
          "2025-02-03T11:56:57",
          "2025-02-03T11:59:48",
          "2025-02-03T12:04:34",
          "2025-02-03T12:14:45",
          "2025-02-03T12:15:23",
          "2025-02-03T12:16:12",
          "2025-02-03T12:17:54",
          "2025-02-03T12:20:00",
          "2025-02-03T12:20:07",
          "2025-02-03T12:20:32",
          "2025-02-03T12:20:52",
          "2025-02-03T12:23:11",
          "2025-02-04T11:07:27",
          "2025-02-04T11:30:03",
          "2025-02-04T11:42:07",
          "2025-02-04T11:49:08",
          "2025-02-04T11:55:05",
          "2025-02-04T12:12:46",
          "2025-02-04T12:14:51",
          "2025-02-04T12:14:57",
          "2025-02-04T12:15:34",
          "2025-02-04T13:22:41",
          "2025-02-04T14:54:20",
          "2025-02-04T14:55:17",
          "2025-02-04T14:55:59",
          "2025-02-04T14:56:45",
          "2025-02-04T15:24:55",
          "2025-02-04T15:25:40",
          "2025-02-04T15:26:57",
          "2025-02-04T16:02:36",
          "2025-02-04T16:04:17",
          "2025-02-04T16:10:49",
          "2025-02-04T16:12:22",
          "2025-02-04T16:14:04",
          "2025-02-04T16:14:32",
          "2025-02-04T16:15:38",
          "2025-02-04T16:16:13",
          "2025-02-04T16:18:00",
          "2025-02-04T16:18:41",
          "2025-02-04T16:18:59",
          "2025-02-04T16:24:21",
          "2025-02-04T16:24:35",
          "2025-02-04T17:57:47",
          "2025-02-04T18:26:08",
          "2025-02-04T18:26:31",
          "2025-02-04T18:27:04",
          "2025-02-04T18:30:57",
          "2025-02-04T19:46:20",
          "2025-02-04T19:48:50",
          "2025-02-04T19:50:39",
          "2025-02-04T19:51:30",
          "2025-02-04T19:57:11",
          "2025-02-05T18:22:25",
          "2025-02-05T18:23:58",
          "2025-02-05T18:30:41",
          "2025-02-05T18:32:23",
          "2025-02-05T18:55:48",
          "2025-02-05T20:09:56",
          "2025-02-05T20:12:35",
          "2025-02-05T21:28:25",
          "2025-02-05T21:29:07",
          "2025-02-05T21:59:31",
          "2025-02-05T22:01:15",
          "2025-02-05T22:02:39",
          "2025-02-05T22:04:50",
          "2025-02-05T22:52:23",
          "2025-02-05T22:56:48",
          "2025-02-06T03:40:17",
          "2025-02-06T07:39:23",
          "2025-02-06T09:10:51",
          "2025-02-06T09:15:52",
          "2025-02-06T14:23:52",
          "2025-02-06T22:01:28",
          "2025-02-06T22:03:37",
          "2025-02-07T19:18:53",
          "2025-02-07T19:19:13",
          "2025-02-08T13:37:32",
          "2025-02-08T23:59:59",
          "2025-02-10T11:33:34",
          "2025-02-10T11:35:59",
          "2025-02-10T12:01:39",
          "2025-02-10T12:02:11",
          "2025-02-10T12:02:48",
          "2025-02-11T23:49:27",
          "2025-02-12T08:44:27",
          "2025-02-12T08:58:52",
          "2025-02-13T17:44:03",
          "2025-02-13T19:44:58",
          "2025-02-14T13:48:21",
          "2025-02-17T10:55:30",
          "2025-02-17T13:18:28",
          "2025-02-17T14:14:43",
          "2025-02-19T10:48:03",
          "2025-02-19T11:41:53",
          "2025-02-19T11:44:15",
          "2025-02-19T12:33:35",
          "2025-02-19T12:36:17",
          "2025-02-19T13:46:14",
          "2025-02-19T13:49:25",
          "2025-02-19T15:01:53",
          "2025-02-20T20:57:20",
          "2025-02-20T22:07:55",
          "2025-02-20T22:18:00",
          "2025-02-20T22:21:05",
          "2025-02-20T22:22:52",
          "2025-02-20T23:38:48",
          "2025-02-20T23:45:32",
          "2025-02-21T00:33:12",
          "2025-02-21T09:57:49",
          "2025-02-21T14:36:37",
          "2025-02-21T14:39:09",
          "2025-02-21T14:43:01",
          "2025-02-21T14:46:04",
          "2025-02-21T14:47:58",
          "2025-02-21T23:35:17",
          "2025-02-22T07:15:17",
          "2025-02-22T09:51:07",
          "2025-02-22T09:53:42",
          "2025-02-22T09:54:57",
          "2025-02-22T09:55:57",
          "2025-02-22T09:58:20",
          "2025-02-22T09:59:25",
          "2025-02-22T14:23:38",
          "2025-02-22T14:57:50",
          "2025-02-24T10:00:50",
          "2025-02-24T10:29:50",
          "2025-02-24T10:51:40",
          "2025-02-24T10:53:21",
          "2025-02-24T10:55:23",
          "2025-02-24T11:16:44",
          "2025-02-24T11:27:52",
          "2025-02-24T11:29:33",
          "2025-02-24T11:39:28",
          "2025-02-24T12:21:59",
          "2025-02-24T13:05:29",
          "2025-02-24T13:14:24",
          "2025-02-24T13:15:21",
          "2025-02-24T13:42:13",
          "2025-02-24T14:43:33",
          "2025-02-24T15:52:43",
          "2025-02-24T16:12:08",
          "2025-02-24T16:17:06",
          "2025-02-24T16:22:09",
          "2025-02-25T10:10:10",
          "2025-02-25T10:13:24",
          "2025-02-25T19:10:02",
          "2025-02-25T19:11:32",
          "2025-02-25T19:15:45",
          "2025-02-25T19:25:51",
          "2025-02-25T19:33:47",
          "2025-02-26T10:22:56",
          "2025-02-26T10:31:34",
          "2025-02-26T10:41:04",
          "2025-02-26T10:59:08",
          "2025-02-26T11:25:31",
          "2025-02-26T17:05:23",
          "2025-02-26T17:10:11",
          "2025-02-27T10:41:14",
          "2025-02-27T10:42:10",
          "2025-02-27T10:42:47",
          "2025-02-27T10:44:24",
          "2025-02-27T10:45:26",
          "2025-02-27T10:46:13",
          "2025-02-27T10:46:44",
          "2025-02-27T10:46:52",
          "2025-02-27T10:55:24",
          "2025-02-27T11:01:50",
          "2025-02-27T11:05:37",
          "2025-02-27T12:12:13",
          "2025-02-27T13:20:39",
          "2025-02-27T13:27:37",
          "2025-02-27T18:27:05",
          "2025-02-27T18:33:30"
         ],
         "y": [
          1,
          1,
          1,
          1,
          1,
          1,
          1,
          1,
          1,
          1,
          1,
          1,
          1,
          2,
          1,
          1,
          1,
          1,
          1,
          1,
          1,
          1,
          1,
          1,
          1,
          1,
          1,
          1,
          1,
          1,
          1,
          1,
          1,
          1,
          1,
          1,
          1,
          1,
          1,
          1,
          1,
          1,
          1,
          1,
          2,
          1,
          1,
          1,
          1,
          1,
          1,
          1,
          1,
          1,
          1,
          1,
          1,
          1,
          1,
          1,
          1,
          1,
          1,
          1,
          1,
          1,
          1,
          1,
          1,
          1,
          1,
          1,
          1,
          1,
          1,
          1,
          1,
          1,
          1,
          1,
          1,
          1,
          1,
          1,
          1,
          1,
          1,
          1,
          1,
          1,
          1,
          1,
          1,
          1,
          1,
          1,
          1,
          1,
          1,
          1,
          1,
          1,
          1,
          1,
          1,
          1,
          1,
          1,
          1,
          1,
          1,
          1,
          1,
          1,
          1,
          1,
          1,
          1,
          1,
          1,
          1,
          1,
          1,
          1,
          1,
          1,
          1,
          1,
          1,
          1,
          1,
          1,
          1,
          1,
          1,
          1,
          1,
          1,
          1,
          1,
          1,
          1,
          1,
          1,
          1,
          1,
          1,
          1,
          1,
          1,
          1,
          1,
          1,
          1,
          1,
          1,
          1,
          1,
          1,
          1,
          1,
          1,
          1,
          1,
          1,
          1,
          1,
          1,
          1,
          1,
          1,
          1,
          1,
          1,
          1,
          1
         ]
        },
        {
         "hoverinfo": "text",
         "hovertext": [
          "<b>Topic 1</b><br>Words: раздражает, это раздражает, это, спасибо, тебе",
          "<b>Topic 1</b><br>Words: боже, боже рейтинге тебе, рейтинге тебе, боже рейтинге, рейтинге тебе спасибо",
          "<b>Topic 1</b><br>Words: стоит благодарности, благодарности хочу, хочу жить, стоит благодарности хочу, благодарности хочу жить",
          "<b>Topic 1</b><br>Words: блин, спасибо, тебе, тебе спасибо, super_ira",
          "<b>Topic 1</b><br>Words: спасибо топ, топ, топ скинул, спасибо топ скинул, скинул",
          "<b>Topic 1</b><br>Words: тебе спасибо, тебе, спасибо, super_ira, ещё",
          "<b>Topic 1</b><br>Words: спасибо заботу, заботу, спасибо, тебе, тебе спасибо",
          "<b>Topic 1</b><br>Words: ещё аналитику, аналитику, ещё, спасибо, тебе",
          "<b>Topic 1</b><br>Words: зря, спасибо, тебе, тебе спасибо, super_ira",
          "<b>Topic 1</b><br>Words: слабонервных, спасибо, тебе, тебе спасибо, super_ira",
          "<b>Topic 1</b><br>Words: поживем, поживем увидим, увидим, спасибо, тебе",
          "<b>Topic 1</b><br>Words: спасибо, тебе, тебе спасибо, super_ira, ещё",
          "<b>Topic 1</b><br>Words: тексте, сути, тексте предложения, сути тексте предложения, сути тексте",
          "<b>Topic 1</b><br>Words: спрос предложение, спрос, предложение, спасибо, тебе",
          "<b>Topic 1</b><br>Words: попрошу немного терпения, непредвиденные сложности, непредвиденные, немного терпения технические, терпения",
          "<b>Topic 1</b><br>Words: отшибаешь, детка, детка отшибаешь, детка отшибаешь память, отшибаешь память",
          "<b>Topic 1</b><br>Words: гладко, гладко стелешь, стелешь, спасибо, тебе",
          "<b>Topic 1</b><br>Words: просто место занято, занято увыувы, увыувы, просто место, место занято",
          "<b>Topic 1</b><br>Words: андреем, будем честными, андреем будем честными, андреем будем, честными",
          "<b>Topic 1</b><br>Words: интрига, спасибо, тебе, тебе спасибо, super_ira",
          "<b>Topic 1</b><br>Words: работу потеряешь бдительность, уедешь работу потеряешь, когдато, когдато уедешь, бдительность",
          "<b>Topic 1</b><br>Words: надейся, спасибо, тебе, тебе спасибо, super_ira",
          "<b>Topic 1</b><br>Words: могу, спасибо, тебе, тебе спасибо, super_ira",
          "<b>Topic 1</b><br>Words: сердце, мое сердце, заставлять выбирать, сердце разбилось смайлик, разбилось смайлик буду",
          "<b>Topic 1</b><br>Words: абьюзивно, спасибо, тебе, тебе спасибо, super_ira",
          "<b>Topic 1</b><br>Words: полиамор извини, полиамор, просто полиамор извини, просто полиамор, извини",
          "<b>Topic 1</b><br>Words: сознание называется, называется, ассертивное сознание называется, ассертивное сознание, ассертивное",
          "<b>Topic 1</b><br>Words: выйду, спасибо, тебе, тебе спасибо, super_ira",
          "<b>Topic 1</b><br>Words: ассертивность захват, захват, ассертивность, спасибо, тебе",
          "<b>Topic 1</b><br>Words: фаза, фаза гипомании, гипомании, звучит фаза, звучит фаза гипомании",
          "<b>Topic 1</b><br>Words: скорее личного, скорее личного опыта, групповой, терапии личной групповой, личного",
          "<b>Topic 1</b><br>Words: знаю, спасибо, тебе, тебе спасибо, super_ira",
          "<b>Topic 1</b><br>Words: недалеко, онлифанса, онлифанса недалеко, спасибо, тебе",
          "<b>Topic 1</b><br>Words: её аналитику, её, аналитику, спасибо, тебе",
          "<b>Topic 1</b><br>Words: super_ira подумай, подумай, super_ira, спасибо, тебе",
          "<b>Topic 1</b><br>Words: никуда, спасибо, тебе, тебе спасибо, super_ira",
          "<b>Topic 1</b><br>Words: нужен пробник, пробник, нужен, спасибо, тебе",
          "<b>Topic 1</b><br>Words: ало, пробник ало, пробник, спасибо, тебе",
          "<b>Topic 1</b><br>Words: форма работает, форма, работает, спасибо, тебе",
          "<b>Topic 1</b><br>Words: хорош, спасибо, тебе, тебе спасибо, super_ira",
          "<b>Topic 1</b><br>Words: знаю начать, начать, знаю, спасибо, тебе",
          "<b>Topic 1</b><br>Words: жилье квартирашеринг, жить одном жилье, перебор, сама предлагай жить, одном жилье квартирашеринг",
          "<b>Topic 1</b><br>Words: получит, спасибо, тебе, тебе спасибо, super_ira",
          "<b>Topic 1</b><br>Words: чат тебе спасибо, чат тебе, оживили, оживили чат, оживили чат тебе",
          "<b>Topic 1</b><br>Words: спасибо super_ira, super_ira высокую планку, super_ira высокую, спасибо super_ira высокую, планку",
          "<b>Topic 1</b><br>Words: спасибо тебе это, тебе это, спасибо тебе, тебе, спасибо",
          "<b>Topic 1</b><br>Words: открытка, super_ira тебе, super_ira тебе открытка, тебе открытка, super_ira",
          "<b>Topic 1</b><br>Words: спасибо, тебе, тебе спасибо, super_ira, ещё",
          "<b>Topic 1</b><br>Words: кирби, кирби подорожал ужас, ужас, подорожал, подорожал ужас",
          "<b>Topic 1</b><br>Words: мимо, спасибо, тебе, тебе спасибо, super_ira",
          "<b>Topic 1</b><br>Words: спасиьо, валерия хотелось, валерия хотелось услышать, хотелось услышать, хотелось услышать спасиьо",
          "<b>Topic 1</b><br>Words: думаешь люди, думаешь люди 200, 200, 200 живут, люди 200 живут",
          "<b>Topic 1</b><br>Words: водой мыть, глаза святой, святой водой, святой, глаза святой водой",
          "<b>Topic 1</b><br>Words: нравится, спасибо, тебе, тебе спасибо, super_ira",
          "<b>Topic 1</b><br>Words: снежная, снежная луна, луна, сегодня снежная, сегодня снежная луна",
          "<b>Topic 1</b><br>Words: превосходстве, регулярно напоминаешь превосходстве, превосходстве женщин мужчинами, превосходстве женщин, мужчинами",
          "<b>Topic 1</b><br>Words: фото лет, фото, лет, спасибо, тебе",
          "<b>Topic 1</b><br>Words: поймал покемона, покемона, поймал, спасибо, тебе",
          "<b>Topic 1</b><br>Words: времени каждого направлений, время времени каждого, время времени, появляются время, появляются время времени",
          "<b>Topic 1</b><br>Words: акселерации регулярно, регулярно появляются, акселерации регулярно появляются, появляются, регулярно",
          "<b>Topic 1</b><br>Words: одного покемона, покемона поймал, одного, одного покемона поймал, покемона",
          "<b>Topic 1</b><br>Words: тебе избегать, очевидных, ловушек, тебе избегать очевидных, очевидных ловушек",
          "<b>Topic 1</b><br>Words: фанаты спасибо, фанаты, самые, хейтеры самые преданные, хейтеры самые",
          "<b>Topic 1</b><br>Words: прекрасный лидер, прекрасный, имхо, лидер, лидер имхо",
          "<b>Topic 1</b><br>Words: какбудто, спасибо, тебе, тебе спасибо, super_ira",
          "<b>Topic 1</b><br>Words: напоминает, абъюзер, внутренний, внутренний абъюзер, абъюзер напоминает",
          "<b>Topic 1</b><br>Words: отмазка желание, придумать чему, чему ещё, чему ещё придраться, желание придумать чему",
          "<b>Topic 1</b><br>Words: ишак, спасибо, тебе, тебе спасибо, super_ira",
          "<b>Topic 1</b><br>Words: худший, вариант, худший вариант, спасибо, тебе",
          "<b>Topic 1</b><br>Words: ишачить, хрен, хрен ишачить, спасибо, тебе",
          "<b>Topic 1</b><br>Words: могу гифки, гифки, могу, спасибо, тебе",
          "<b>Topic 1</b><br>Words: охранник, спасибо, тебе, тебе спасибо, super_ira",
          "<b>Topic 1</b><br>Words: обещаешь, спасибо, тебе, тебе спасибо, super_ira",
          "<b>Topic 1</b><br>Words: стесняюсь, спасибо, тебе, тебе спасибо, super_ira",
          "<b>Topic 1</b><br>Words: курить, кем кальян работе, кем кальян, работе курить, кальян работе курить",
          "<b>Topic 1</b><br>Words: наврядли, такую опытную наврядли, такую опытную, опытную наврядли, опытную",
          "<b>Topic 1</b><br>Words: противный, спасибо, тебе, тебе спасибо, super_ira",
          "<b>Topic 1</b><br>Words: пользоваться, пользоваться сберчатом, сберчатом, заставят пользоваться, заставят",
          "<b>Topic 1</b><br>Words: вкусы специфичны, специфичны, твои вкусы специфичны, вкусы, твои вкусы",
          "<b>Topic 1</b><br>Words: звучит анализы, звучит анализы сдать, анализы, анализы сдать, сдать",
          "<b>Topic 1</b><br>Words: расстраиваться, некому расстраиваться, некому, спасибо, тебе",
          "<b>Topic 1</b><br>Words: подозрения, вызываешь, вызываешь подозрения, спасибо, тебе",
          "<b>Topic 1</b><br>Words: 15, минут 15, маааксимум минут 15, маааксимум минут, маааксимум",
          "<b>Topic 1</b><br>Words: портки, спасибо, тебе, тебе спасибо, super_ira",
          "<b>Topic 1</b><br>Words: утро портков, портков, субботнее утро, субботнее утро портков, субботнее",
          "<b>Topic 1</b><br>Words: знаешь, спасибо, тебе, тебе спасибо, super_ira",
          "<b>Topic 1</b><br>Words: именно соевых, причем именно соевых, причем именно, соевых, причем",
          "<b>Topic 1</b><br>Words: токсично, ппц токсично, ппц, спасибо, тебе",
          "<b>Topic 1</b><br>Words: нюансами общения, небольшими нюансами общения, небольшими нюансами, небольшими, общения",
          "<b>Topic 1</b><br>Words: понедельник сорян, сорян, понедельник, спасибо, тебе",
          "<b>Topic 1</b><br>Words: токсичная, взаимопомощи, негатив злостьспасибо тебе, токсичная атмосфера взаимопомощи, негатив злостьспасибо",
          "<b>Topic 1</b><br>Words: спасибо, тебе, тебе спасибо, super_ira, ещё",
          "<b>Topic 1</b><br>Words: слали какаято команднаядружеская, друга слали, какаято команднаядружеская, какаято команднаядружеская атмосфера, друг",
          "<b>Topic 1</b><br>Words: одобряю, диктатура одобряю, диктатура, спасибо, тебе",
          "<b>Topic 1</b><br>Words: льду господа, поискал, правила крч, правила крч нашел, охуэнно",
          "<b>Topic 1</b><br>Words: понимаю, спасибо, тебе, тебе спасибо, super_ira",
          "<b>Topic 1</b><br>Words: первом пункте правил, первом пункте, первом, пункте правил, пункте",
          "<b>Topic 1</b><br>Words: услышать спасибо почему, спасибо почему помочь, хотел услышать, хотел услышать спасибо, услышать спасибо",
          "<b>Topic 1</b><br>Words: добрая, добрая спасибо, добрая спасибо тебе, спасибо тебе, тебе",
          "<b>Topic 1</b><br>Words: спасибо освободила место, спасибо освободила, освободила место, освободила, место",
          "<b>Topic 1</b><br>Words: токсиком, главным, главным токсиком, спасибо, тебе",
          "<b>Topic 1</b><br>Words: блату передается, блату, передается, спасибо, тебе",
          "<b>Topic 1</b><br>Words: одном, спасибо, тебе, тебе спасибо, super_ira",
          "<b>Topic 1</b><br>Words: это считается, считается, это, спасибо, тебе",
          "<b>Topic 1</b><br>Words: это понастоящему, понастоящему, это, спасибо, тебе",
          "<b>Topic 1</b><br>Words: чата существует, существует, чата, спасибо, тебе",
          "<b>Topic 1</b><br>Words: спасибо, тебе, тебе спасибо, super_ira, ещё",
          "<b>Topic 1</b><br>Words: говорил, спасибо, тебе, тебе спасибо, super_ira",
          "<b>Topic 1</b><br>Words: шутить, нашла кем шутить, нашла кем, нашла, кем шутить",
          "<b>Topic 1</b><br>Words: обострение начинается, обострение, весеннее обострение начинается, щас весеннее, щас весеннее обострение",
          "<b>Topic 1</b><br>Words: походу, круглогодичное походу, круглогодичное, спасибо, тебе",
          "<b>Topic 1</b><br>Words: стесняешься, стесняешься понимаю, понимаю, спасибо, тебе",
          "<b>Topic 1</b><br>Words: поспоришь, спасибо, тебе, тебе спасибо, super_ira",
          "<b>Topic 1</b><br>Words: получится, спасибо, тебе, тебе спасибо, super_ira",
          "<b>Topic 1</b><br>Words: спасибо, тебе, тебе спасибо, super_ira, ещё",
          "<b>Topic 1</b><br>Words: кайф, спасибо, тебе, тебе спасибо, super_ira",
          "<b>Topic 1</b><br>Words: заодно научишься, научишься, заодно, спасибо, тебе",
          "<b>Topic 1</b><br>Words: умею, спасибо, тебе, тебе спасибо, super_ira",
          "<b>Topic 1</b><br>Words: декабрь 23, декабрь, 23, спасибо, тебе",
          "<b>Topic 1</b><br>Words: ещё вместо, вместо, ещё, спасибо, тебе",
          "<b>Topic 1</b><br>Words: сэкономили, время тебе, быстрее работу найдёшь, время тебе сэкономили, быстрее работу",
          "<b>Topic 1</b><br>Words: речь именно, речь именно своих, ожиданиях базар вокзал, вокзал, ожиданиях",
          "<b>Topic 1</b><br>Words: вообще, спасибо, тебе, тебе спасибо, super_ira",
          "<b>Topic 1</b><br>Words: понял спасибо, понял, спасибо, тебе, тебе спасибо",
          "<b>Topic 1</b><br>Words: нужен сопровождаюший пробем, сединеможем договор, заключить, уважением отношусь сединеможем, уважением отношусь"
         ],
         "marker": {
          "color": "#56B4E9"
         },
         "mode": "lines",
         "name": "1_спасибо_тебе_тебе спасибо_super_ira",
         "type": "scatter",
         "x": [
          "2025-02-03T11:57:17",
          "2025-02-03T12:03:41",
          "2025-02-03T12:06:56",
          "2025-02-03T12:10:36",
          "2025-02-03T12:10:42",
          "2025-02-03T12:12:19",
          "2025-02-03T12:12:27",
          "2025-02-03T12:15:36",
          "2025-02-03T12:23:22",
          "2025-02-03T12:41:56",
          "2025-02-03T12:52:23",
          "2025-02-04T11:03:01",
          "2025-02-04T14:05:56",
          "2025-02-04T16:31:00",
          "2025-02-04T16:32:02",
          "2025-02-04T16:45:34",
          "2025-02-04T17:58:24",
          "2025-02-04T18:04:09",
          "2025-02-04T18:05:57",
          "2025-02-04T18:06:22",
          "2025-02-04T18:06:33",
          "2025-02-04T18:10:02",
          "2025-02-04T18:11:25",
          "2025-02-04T18:16:55",
          "2025-02-04T18:19:11",
          "2025-02-04T18:19:38",
          "2025-02-04T18:26:43",
          "2025-02-04T18:27:17",
          "2025-02-04T18:32:24",
          "2025-02-04T18:33:27",
          "2025-02-04T18:35:41",
          "2025-02-04T18:37:46",
          "2025-02-04T19:47:29",
          "2025-02-04T19:48:04",
          "2025-02-04T19:48:05",
          "2025-02-04T19:49:49",
          "2025-02-04T19:51:31",
          "2025-02-04T19:51:44",
          "2025-02-05T18:18:55",
          "2025-02-05T22:05:43",
          "2025-02-06T14:24:45",
          "2025-02-06T15:30:07",
          "2025-02-06T22:04:18",
          "2025-02-08T00:31:11",
          "2025-02-08T13:36:10",
          "2025-02-08T13:37:49",
          "2025-02-08T17:21:17",
          "2025-02-10T12:48:10",
          "2025-02-11T16:46:18",
          "2025-02-11T16:46:28",
          "2025-02-11T16:47:23",
          "2025-02-12T00:45:54",
          "2025-02-12T08:56:17",
          "2025-02-12T09:01:13",
          "2025-02-12T10:14:48",
          "2025-02-13T11:02:30",
          "2025-02-17T09:47:02",
          "2025-02-17T09:52:18",
          "2025-02-17T12:08:13",
          "2025-02-17T12:10:58",
          "2025-02-17T13:11:57",
          "2025-02-17T16:24:10",
          "2025-02-17T16:40:40",
          "2025-02-17T21:09:49",
          "2025-02-19T13:20:12",
          "2025-02-19T13:25:41",
          "2025-02-19T15:00:49",
          "2025-02-20T20:28:48",
          "2025-02-20T20:29:48",
          "2025-02-20T20:32:34",
          "2025-02-20T20:34:01",
          "2025-02-20T20:55:41",
          "2025-02-20T21:10:48",
          "2025-02-20T21:11:11",
          "2025-02-20T22:05:44",
          "2025-02-20T22:19:19",
          "2025-02-20T22:20:12",
          "2025-02-20T22:24:53",
          "2025-02-20T22:26:22",
          "2025-02-20T23:24:25",
          "2025-02-20T23:39:38",
          "2025-02-20T23:42:06",
          "2025-02-21T00:13:46",
          "2025-02-22T14:22:34",
          "2025-02-22T14:23:32",
          "2025-02-22T14:28:34",
          "2025-02-24T10:26:42",
          "2025-02-24T11:20:17",
          "2025-02-24T11:21:06",
          "2025-02-24T11:21:38",
          "2025-02-24T11:23:52",
          "2025-02-24T11:28:07",
          "2025-02-24T11:28:50",
          "2025-02-24T11:42:40",
          "2025-02-24T12:14:35",
          "2025-02-24T12:50:08",
          "2025-02-24T12:53:25",
          "2025-02-24T13:34:06",
          "2025-02-24T13:35:28",
          "2025-02-24T15:48:16",
          "2025-02-24T15:50:01",
          "2025-02-24T15:53:19",
          "2025-02-24T15:53:29",
          "2025-02-24T15:54:10",
          "2025-02-24T15:58:17",
          "2025-02-24T15:58:37",
          "2025-02-24T15:58:44",
          "2025-02-24T16:20:27",
          "2025-02-24T16:21:46",
          "2025-02-24T16:21:53",
          "2025-02-24T16:25:01",
          "2025-02-24T16:38:43",
          "2025-02-24T16:38:57",
          "2025-02-25T19:09:11",
          "2025-02-25T19:11:45",
          "2025-02-25T19:16:39",
          "2025-02-25T19:17:10",
          "2025-02-25T19:24:59",
          "2025-02-26T10:23:44",
          "2025-02-26T11:44:40",
          "2025-02-26T11:45:36",
          "2025-02-26T17:49:04",
          "2025-02-27T10:44:34",
          "2025-02-27T10:58:08",
          "2025-02-27T22:33:36"
         ],
         "y": [
          1,
          1,
          1,
          1,
          1,
          1,
          1,
          1,
          1,
          1,
          1,
          1,
          1,
          1,
          1,
          1,
          1,
          1,
          1,
          1,
          1,
          1,
          1,
          1,
          1,
          1,
          1,
          1,
          1,
          1,
          1,
          1,
          1,
          1,
          1,
          1,
          1,
          1,
          1,
          1,
          1,
          1,
          1,
          1,
          1,
          1,
          1,
          1,
          1,
          1,
          1,
          1,
          1,
          1,
          1,
          1,
          1,
          1,
          1,
          1,
          1,
          1,
          1,
          1,
          1,
          1,
          1,
          1,
          1,
          1,
          1,
          1,
          1,
          1,
          1,
          1,
          1,
          1,
          1,
          1,
          1,
          1,
          1,
          1,
          1,
          1,
          1,
          1,
          1,
          1,
          1,
          1,
          1,
          1,
          1,
          1,
          1,
          1,
          1,
          1,
          1,
          1,
          1,
          1,
          1,
          1,
          1,
          1,
          1,
          1,
          1,
          1,
          1,
          1,
          1,
          1,
          1,
          1,
          1,
          1,
          1,
          1,
          1,
          1,
          1
         ]
        },
        {
         "hoverinfo": "text",
         "hovertext": [
          "<b>Topic 2</b><br>Words: многое, свой уютный, присаживайтесь поудобнее, свой уютный канал, уютный канал",
          "<b>Topic 2</b><br>Words: обложке канала, канала голосовыеподкасты, голосовыеподкасты, голосовыеподкасты будут, канала голосовыеподкасты будут",
          "<b>Topic 2</b><br>Words: данных, аналитик данных, курсов, аналитик, продуктового",
          "<b>Topic 2</b><br>Words: опыт продумываниянастройки компании, интерфейс обычно это, обычно это, когото опыт продумываниянастройки, когото опыт",
          "<b>Topic 2</b><br>Words: тестировщик, хм, тестировщик нахлебник, хм тестировщик нахлебник, хм тестировщик",
          "<b>Topic 2</b><br>Words: каком месте тестировшик, месте тестировшик, тестировшик, каком, каком месте",
          "<b>Topic 2</b><br>Words: зимних, зимних мехах, солнышко, мехах привет, солнышко зимних мехах",
          "<b>Topic 2</b><br>Words: отсылка венеру, венеру мехах, отсылка венеру мехах, венеру, отсылка",
          "<b>Topic 2</b><br>Words: информацией пройденных тестовых, создал тг канал, примере реальных кейсов, примере, чему готовиться примере",
          "<b>Topic 2</b><br>Words: выдал, курсов психологии, психологии какойто хрестоматийный, хрестоматийный пример выдал, хрестоматийный пример",
          "<b>Topic 2</b><br>Words: типа инструменты, инструменты, учился курсах типа, инструменты анализа данных, подавать",
          "<b>Topic 2</b><br>Words: устроился работу, устроился, работу, данных, курсов",
          "<b>Topic 2</b><br>Words: выгружал, ga4, ga4 выгружал сырые, ga4 выгружал, сырые данные когданибудь",
          "<b>Topic 2</b><br>Words: вступление весь, весь карьерный трек, вступление, трек месяцев окончания, вступление весь карьерный",
          "<b>Topic 2</b><br>Words: акселерацию, переходе акселерацию лежит, лежит уроке, сопроводительное письмо акселерацию, прошёл учебник сдал",
          "<b>Topic 2</b><br>Words: вами, практикум, вместе, лет, синьоры практикум стал",
          "<b>Topic 2</b><br>Words: навыкам, яндекс, практикума проводим следующий, потребность таковом, обучении пусть самостоятельно",
          "<b>Topic 2</b><br>Words: стоит ожидать обратной, ожидать обратной связи, обратной связи взяли, взяли тестировать, здравствуйте",
          "<b>Topic 2</b><br>Words: яндекс, ответов, достигнем требуемого, выборки, течение последн",
          "<b>Topic 2</b><br>Words: праздником зайки, зайки, праздником, данных, курсов",
          "<b>Topic 2</b><br>Words: дали, курс кстати, мусульманам рождения дали, доступ курс, дали доступ",
          "<b>Topic 2</b><br>Words: практикума, информацию помощью, познакомились этапами, офисе яндекса, амбассадорами",
          "<b>Topic 2</b><br>Words: кайфую этих перемен, какоголибо бэкграунда айти, стремительно расту грейде, мою жизнь, data science",
          "<b>Topic 2</b><br>Words: обучения, упоминали мастерской время, ребят подскажите, часто курсе упоминали, 3яя обучения",
          "<b>Topic 2</b><br>Words: пошел седьмой, пошел седьмой год, пошел, седьмой год, седьмой",
          "<b>Topic 2</b><br>Words: доброго вечера подскажет, какие добротные, модели сегментации, соурсные модели сегментации, сегментации",
          "<b>Topic 2</b><br>Words: вакансия, джун, стажировки нашел такого, единорога вакансия джун, единорога вакансия",
          "<b>Topic 2</b><br>Words: скидки, id, id выпускника, выпускника, помогут делать жизнь",
          "<b>Topic 2</b><br>Words: это тех, дипломы, получит дипломы, получит дипломы году, тех получит дипломы",
          "<b>Topic 2</b><br>Words: меню попадаем выбор, заказа еды конец, единственная кнопка сайте, меню попадаем, вариантов заказа",
          "<b>Topic 2</b><br>Words: работает заказы дней, считается подпиской такие, промокод работает заказы, такие дела, подпиской такие",
          "<b>Topic 2</b><br>Words: сколько этапов, сколько этапов собеседований, собеседований, этапов собеседований, этапов",
          "<b>Topic 2</b><br>Words: пройти, hr пройти, hr пройти дальше, понравится hr, пройти дальше такого",
          "<b>Topic 2</b><br>Words: это разговор 3040, разговор 3040, разговор 3040 минут, 3040 минут, 3040",
          "<b>Topic 2</b><br>Words: когданибудь собеседовала, сама когданибудь, когданибудь собеседовала людей, сама когданибудь собеседовала, собеседовала",
          "<b>Topic 2</b><br>Words: петпроекты, ёлок разработать бота, портфолио рабочими кейсами, статье, таз",
          "<b>Topic 2</b><br>Words: практикум, опыта, машинному обучению выстроить, специалистом машинному, данных набраться",
          "<b>Topic 2</b><br>Words: продолжаю учиться ds, параллельно, работу da, da параллельно продолжаю, работу da параллельно",
          "<b>Topic 2</b><br>Words: скидывать опросы, учебныхакадемических целей, коллеги подскажите пожалуйста, скидывать, подскажите пожалуйста",
          "<b>Topic 2</b><br>Words: связь, жизни сериал, ксения, рано, её жизни сериал",
          "<b>Topic 2</b><br>Words: группы, удаленных, сообщений, удаленных сообщений группы, профильные группы",
          "<b>Topic 2</b><br>Words: саентистом, группа, профильная группа поиску, дата саентистом курсов, работы дата саентистом",
          "<b>Topic 2</b><br>Words: обсуждать кажется пользы, всем примеры применения, примеры применения, дата обучения, всем примеры",
          "<b>Topic 2</b><br>Words: живет отлично, также несёт, злости, место культивирования, несёт пользы формат",
          "<b>Topic 2</b><br>Words: карьеру аналитика, карьеру, аналитика, данных, курсов",
          "<b>Topic 2</b><br>Words: python разработчик, привет заканчивал, курс python разработчик, разработчик, курс python",
          "<b>Topic 2</b><br>Words: хочешь разработку, разработку, отучился аналитика хочешь, отучился аналитика, аналитика хочешь",
          "<b>Topic 2</b><br>Words: откликнулся вакансию, откликнулся, случайно откликнулся, случайно откликнулся вакансию, вакансию программиста",
          "<b>Topic 2</b><br>Words: закончил python da, закончил python, году закончил python, году закончил, python da",
          "<b>Topic 2</b><br>Words: поэтому зайти нам, трек течение, обучения поэтому зайти, программы карьерного трека, основного обучения поэтому",
          "<b>Topic 2</b><br>Words: карьерный, карьерный трек, трек, указано карьерный трек, курсе предоставляется",
          "<b>Topic 2</b><br>Words: курсы, объёме, курсе, данных, другом объёме курса",
          "<b>Topic 2</b><br>Words: яндекс, курсы, курсы яндекс, яндекс доставки, подарок яндекс практикуму",
          "<b>Topic 2</b><br>Words: коллеги студенты мессенджере, конце курса, мессенджере гиперсссылка, мессенджере, курса делились эксперты",
          "<b>Topic 2</b><br>Words: смежных направлениях, сложный человека, знаниями, привет нуля знаний, знаниями смежных",
          "<b>Topic 2</b><br>Words: заканчивали, данных, курсов, яндекс, привет",
          "<b>Topic 2</b><br>Words: придется ходу, грустно учить придется, курса прям грустно, прям грустно, прям грустно учить",
          "<b>Topic 2</b><br>Words: инженеры данных, выпускались, инженеры, нуля, данных",
          "<b>Topic 2</b><br>Words: пороков команды, пороков, insights, data insights, пять"
         ],
         "marker": {
          "color": "#009E73"
         },
         "mode": "lines",
         "name": "2_данных_курсов_яндекс_привет",
         "type": "scatter",
         "x": [
          "2025-02-03T11:28:38",
          "2025-02-03T12:51:22",
          "2025-02-04T10:51:10",
          "2025-02-04T13:13:49",
          "2025-02-04T13:25:17",
          "2025-02-04T13:52:04",
          "2025-02-04T15:32:40",
          "2025-02-04T15:35:28",
          "2025-02-04T16:06:19",
          "2025-02-04T18:35:12",
          "2025-02-05T19:37:32",
          "2025-02-05T22:01:03",
          "2025-02-06T00:07:18",
          "2025-02-07T18:51:56",
          "2025-02-07T19:20:32",
          "2025-02-08T15:02:23",
          "2025-02-11T14:36:37",
          "2025-02-11T16:45:14",
          "2025-02-13T12:38:00",
          "2025-02-14T13:45:51",
          "2025-02-14T13:48:57",
          "2025-02-17T09:41:21",
          "2025-02-17T09:44:46",
          "2025-02-17T09:46:00",
          "2025-02-17T09:50:22",
          "2025-02-17T23:53:50",
          "2025-02-18T13:27:39",
          "2025-02-19T10:27:04",
          "2025-02-19T10:28:47",
          "2025-02-19T13:22:06",
          "2025-02-19T13:26:24",
          "2025-02-20T22:02:43",
          "2025-02-20T23:41:47",
          "2025-02-21T00:13:24",
          "2025-02-21T00:16:23",
          "2025-02-21T14:03:04",
          "2025-02-21T23:21:21",
          "2025-02-22T09:01:45",
          "2025-02-22T14:22:16",
          "2025-02-22T15:05:25",
          "2025-02-24T10:37:02",
          "2025-02-24T10:39:30",
          "2025-02-24T10:48:56",
          "2025-02-24T11:19:03",
          "2025-02-24T11:27:33",
          "2025-02-24T12:36:36",
          "2025-02-24T12:47:03",
          "2025-02-24T12:50:21",
          "2025-02-26T10:24:11",
          "2025-02-26T10:25:40",
          "2025-02-26T10:27:35",
          "2025-02-26T10:34:18",
          "2025-02-26T11:50:02",
          "2025-02-26T17:57:20",
          "2025-02-27T10:39:08",
          "2025-02-27T10:40:55",
          "2025-02-27T14:08:46",
          "2025-02-27T14:10:05",
          "2025-02-27T20:01:03"
         ],
         "y": [
          1,
          1,
          1,
          1,
          1,
          1,
          1,
          1,
          1,
          1,
          1,
          1,
          1,
          1,
          1,
          1,
          1,
          1,
          1,
          1,
          1,
          1,
          1,
          1,
          1,
          1,
          1,
          1,
          1,
          1,
          1,
          1,
          1,
          1,
          1,
          1,
          1,
          1,
          1,
          1,
          1,
          1,
          1,
          1,
          1,
          1,
          1,
          1,
          1,
          1,
          1,
          1,
          1,
          1,
          1,
          1,
          1,
          1,
          1
         ]
        },
        {
         "hoverinfo": "text",
         "hovertext": [
          "<b>Topic 3</b><br>Words: просили передать, просили, звонили, передать ждут, передать",
          "<b>Topic 3</b><br>Words: ссылка, nda неактива, ссылка nda неактива, неактива, ссылка nda",
          "<b>Topic 3</b><br>Words: ссылка, запросите новую ссылку, ссылка неактивна запросите, могу подписать, могу подписать nda",
          "<b>Topic 3</b><br>Words: ссылка, nda неактивна, ссылка nda неактивна, неактивна, ссылка nda",
          "<b>Topic 3</b><br>Words: написал саппорт, саппорт, написал, ссылка, nda",
          "<b>Topic 3</b><br>Words: ссылка, запросите новую ссылку, ссылка неактивна запросите, могу подписать, могу подписать nda",
          "<b>Topic 3</b><br>Words: ссылка, заявку nda ссылка, nda ссылка неактивна, nda ссылка, отправил заявку",
          "<b>Topic 3</b><br>Words: ссылки готова подтвердить, оставила заявку ссылки, готова подтвердить станет, подтвердить, заявку ссылки готова",
          "<b>Topic 3</b><br>Words: отправила ссылки, ссылки, отправила, ссылка, nda",
          "<b>Topic 3</b><br>Words: ссылка, ссылка nda работает, nda работает, ссылка nda, работает",
          "<b>Topic 3</b><br>Words: готова подписать станет, готова подписать, подписать станет, подписать станет доступной, отправила заявку nda",
          "<b>Topic 3</b><br>Words: дополнительно, готова дополнительно, дополнительно подписать, заполнила заявку nda, заполнила заявку",
          "<b>Topic 3</b><br>Words: nda, ссылка, заявку, неактивна, заявку nda",
          "<b>Topic 3</b><br>Words: отправила заявку ссылки, отправила заявку, заявку ссылки, ссылки, отправила",
          "<b>Topic 3</b><br>Words: nda, ссылка, заявку, неактивна, заявку nda",
          "<b>Topic 3</b><br>Words: пока nda недоступен, отправил пока nda, отправил пока, недоступен, недоступен готов",
          "<b>Topic 3</b><br>Words: отправил заявку, отправил заявку nda, заявку nda, отправил, заявку",
          "<b>Topic 3</b><br>Words: коллеги решают вопрос, решают вопрос nda, коллеги решают, решают вопрос, решают",
          "<b>Topic 3</b><br>Words: ответил, ссылка, nda, заявку, заявку nda",
          "<b>Topic 3</b><br>Words: подписана, ссылка, nda, заявку, заявку nda",
          "<b>Topic 3</b><br>Words: делиться таким сокровищем, готова делиться таким, делиться таким, боюсь получится, боюсь получится построить",
          "<b>Topic 3</b><br>Words: сбор заявок завтра, заявок завтра, заявок, сбор заявок, открыта сбор заявок",
          "<b>Topic 3</b><br>Words: nda вопросов, вопросов, nda, ссылка, заявку",
          "<b>Topic 3</b><br>Words: ссылка, ссылка nda активна, nda активна, активна, ссылка nda",
          "<b>Topic 3</b><br>Words: ссылка, ссылка nda активна, nda активна, активна, ссылка nda",
          "<b>Topic 3</b><br>Words: отправила nda, отправила nda работает, заявку отправила, заявку отправила nda, nda работает",
          "<b>Topic 3</b><br>Words: ссылка, отправил ждем обратной, неактивна заявку равно, ссылка неактивна заявку, неактивна заявку",
          "<b>Topic 3</b><br>Words: данные лишний, лишний головняк, пораньше нда перестал, работать лишние персональные, пораньше нда",
          "<b>Topic 3</b><br>Words: скидка промо коду, ниче поделать скидка, промо коду, промо, поделать",
          "<b>Topic 3</b><br>Words: датасаенс, мог датасаенс, мог, ссылка, nda",
          "<b>Topic 3</b><br>Words: поскромнее, сбере поскромнее, сбере, ссылка, nda",
          "<b>Topic 3</b><br>Words: всякий случай напишу, случай, всякий случай, всякий, случай напишу сб",
          "<b>Topic 3</b><br>Words: валюта, универсальная валюта, универсальная, ссылка, nda",
          "<b>Topic 3</b><br>Words: nda заполнили, заполнили, nda, ссылка, заявку",
          "<b>Topic 3</b><br>Words: день текущей, последний день текущей, команде покидаю, команде покидаю iatcyna, текущей",
          "<b>Topic 3</b><br>Words: каламбургерную, ссылка, nda, заявку, заявку nda",
          "<b>Topic 3</b><br>Words: сегодня получил, пока самое, токсичное общение, общение сегодня получил, получил кати чате",
          "<b>Topic 3</b><br>Words: пишите, пишите ответы, пишите ответы реплаем, реплаем сообщению, реплаем",
          "<b>Topic 3</b><br>Words: лови, ссылка, nda, заявку, заявку nda",
          "<b>Topic 3</b><br>Words: вечером, вечером давай, давай, ссылка, nda",
          "<b>Topic 3</b><br>Words: жду перевода, жду, перевода, ссылка, nda",
          "<b>Topic 3</b><br>Words: такого вопроса, вопроса, такого, ссылка, nda"
         ],
         "marker": {
          "color": "#F0E442"
         },
         "mode": "lines",
         "name": "3_ссылка_nda_заявку_неактивна",
         "type": "scatter",
         "x": [
          "2025-02-03T11:58:06",
          "2025-02-04T10:56:33",
          "2025-02-04T11:19:47",
          "2025-02-04T11:21:32",
          "2025-02-04T11:25:09",
          "2025-02-04T11:31:25",
          "2025-02-04T11:55:42",
          "2025-02-04T12:00:01",
          "2025-02-04T12:01:49",
          "2025-02-04T12:13:52",
          "2025-02-04T12:17:46",
          "2025-02-04T12:33:33",
          "2025-02-04T13:13:06",
          "2025-02-04T13:17:55",
          "2025-02-04T13:51:56",
          "2025-02-04T14:32:56",
          "2025-02-04T14:38:19",
          "2025-02-04T15:36:16",
          "2025-02-04T16:16:22",
          "2025-02-04T16:31:57",
          "2025-02-04T18:18:08",
          "2025-02-05T18:22:10",
          "2025-02-05T23:12:20",
          "2025-02-06T03:40:01",
          "2025-02-06T08:37:31",
          "2025-02-06T09:02:23",
          "2025-02-06T09:36:03",
          "2025-02-06T10:05:20",
          "2025-02-19T13:50:50",
          "2025-02-20T20:30:07",
          "2025-02-20T22:20:10",
          "2025-02-20T22:21:59",
          "2025-02-20T22:22:10",
          "2025-02-21T14:45:33",
          "2025-02-22T09:59:02",
          "2025-02-24T11:04:58",
          "2025-02-24T11:26:33",
          "2025-02-24T13:09:02",
          "2025-02-24T13:46:35",
          "2025-02-25T10:21:17",
          "2025-02-25T19:25:10",
          "2025-02-25T19:38:40"
         ],
         "y": [
          1,
          1,
          1,
          1,
          1,
          1,
          1,
          1,
          1,
          1,
          1,
          1,
          1,
          1,
          1,
          1,
          1,
          1,
          1,
          1,
          1,
          1,
          1,
          1,
          1,
          1,
          1,
          1,
          1,
          1,
          1,
          1,
          1,
          1,
          1,
          1,
          1,
          1,
          1,
          1,
          1,
          1
         ]
        },
        {
         "hoverinfo": "text",
         "hovertext": [
          "<b>Topic 4</b><br>Words: toprepyndxcbot, toprepyndxcbot toprepyndxcbot, toprepyndxcbot toprepyndxcbot toprepyndxcbot, client_id, client_id toprepyndxcbot",
          "<b>Topic 4</b><br>Words: client_id, countdistinct, countdistinct client_id, toprepyndxcbot, toprepyndxcbot toprepyndxcbot",
          "<b>Topic 4</b><br>Words: toprepyndxcbot, toprepyndxcbot toprepyndxcbot, toprepyndxcbot toprepyndxcbot toprepyndxcbot, client_id, client_id toprepyndxcbot",
          "<b>Topic 4</b><br>Words: toprepyndxcbot, toprepyndxcbot toprepyndxcbot, toprepyndxcbot toprepyndxcbot toprepyndxcbot, client_id, client_id toprepyndxcbot",
          "<b>Topic 4</b><br>Words: toprepyndxcbot, toprepyndxcbot toprepyndxcbot, toprepyndxcbot toprepyndxcbot toprepyndxcbot, client_id, client_id toprepyndxcbot",
          "<b>Topic 4</b><br>Words: toprepyndxcbot, toprepyndxcbot toprepyndxcbot, toprepyndxcbot toprepyndxcbot toprepyndxcbot, client_id, client_id toprepyndxcbot",
          "<b>Topic 4</b><br>Words: toprepyndxcbot, toprepyndxcbot toprepyndxcbot, toprepyndxcbot toprepyndxcbot toprepyndxcbot, client_id, client_id toprepyndxcbot",
          "<b>Topic 4</b><br>Words: toprepyndxcbot, toprepyndxcbot toprepyndxcbot, toprepyndxcbot toprepyndxcbot toprepyndxcbot, client_id, client_id toprepyndxcbot",
          "<b>Topic 4</b><br>Words: toprepyndxcbot, toprepyndxcbot toprepyndxcbot, toprepyndxcbot toprepyndxcbot toprepyndxcbot, client_id, client_id toprepyndxcbot",
          "<b>Topic 4</b><br>Words: toprepyndxcbot, toprepyndxcbot toprepyndxcbot, toprepyndxcbot toprepyndxcbot toprepyndxcbot, client_id, client_id toprepyndxcbot",
          "<b>Topic 4</b><br>Words: toprepyndxcbot, toprepyndxcbot toprepyndxcbot, toprepyndxcbot toprepyndxcbot toprepyndxcbot, client_id, client_id toprepyndxcbot",
          "<b>Topic 4</b><br>Words: toprepyndxcbot, toprepyndxcbot toprepyndxcbot, toprepyndxcbot toprepyndxcbot toprepyndxcbot, client_id, client_id toprepyndxcbot",
          "<b>Topic 4</b><br>Words: toprepyndxcbot, toprepyndxcbot toprepyndxcbot, toprepyndxcbot toprepyndxcbot toprepyndxcbot, client_id, client_id toprepyndxcbot",
          "<b>Topic 4</b><br>Words: toprepyndxcbot, toprepyndxcbot toprepyndxcbot, toprepyndxcbot toprepyndxcbot toprepyndxcbot, client_id, client_id toprepyndxcbot",
          "<b>Topic 4</b><br>Words: toprepyndxcbot, toprepyndxcbot toprepyndxcbot, toprepyndxcbot toprepyndxcbot toprepyndxcbot, client_id, client_id toprepyndxcbot",
          "<b>Topic 4</b><br>Words: toprepyndxcbot, toprepyndxcbot toprepyndxcbot, toprepyndxcbot toprepyndxcbot toprepyndxcbot, client_id, client_id toprepyndxcbot",
          "<b>Topic 4</b><br>Words: toprepyndxcbot, toprepyndxcbot toprepyndxcbot, toprepyndxcbot toprepyndxcbot toprepyndxcbot, client_id, client_id toprepyndxcbot",
          "<b>Topic 4</b><br>Words: toprepyndxcbot, toprepyndxcbot toprepyndxcbot, toprepyndxcbot toprepyndxcbot toprepyndxcbot, client_id, client_id toprepyndxcbot",
          "<b>Topic 4</b><br>Words: toprepyndxcbot, toprepyndxcbot toprepyndxcbot, toprepyndxcbot toprepyndxcbot toprepyndxcbot, client_id, client_id toprepyndxcbot",
          "<b>Topic 4</b><br>Words: toprepyndxcbot, toprepyndxcbot toprepyndxcbot, toprepyndxcbot toprepyndxcbot toprepyndxcbot, client_id, client_id toprepyndxcbot",
          "<b>Topic 4</b><br>Words: toprepyndxcbot, toprepyndxcbot toprepyndxcbot, toprepyndxcbot toprepyndxcbot toprepyndxcbot, client_id, client_id toprepyndxcbot",
          "<b>Topic 4</b><br>Words: toprepyndxcbot, toprepyndxcbot toprepyndxcbot, toprepyndxcbot toprepyndxcbot toprepyndxcbot, client_id, client_id toprepyndxcbot",
          "<b>Topic 4</b><br>Words: toprepyndxcbot, toprepyndxcbot toprepyndxcbot, toprepyndxcbot toprepyndxcbot toprepyndxcbot, client_id, client_id toprepyndxcbot",
          "<b>Topic 4</b><br>Words: toprepyndxcbot, toprepyndxcbot toprepyndxcbot, toprepyndxcbot toprepyndxcbot toprepyndxcbot, client_id, client_id toprepyndxcbot",
          "<b>Topic 4</b><br>Words: toprepyndxcbot, toprepyndxcbot toprepyndxcbot, toprepyndxcbot toprepyndxcbot toprepyndxcbot, client_id, client_id toprepyndxcbot",
          "<b>Topic 4</b><br>Words: toprepyndxcbot, toprepyndxcbot toprepyndxcbot, toprepyndxcbot toprepyndxcbot toprepyndxcbot, client_id, client_id toprepyndxcbot",
          "<b>Topic 4</b><br>Words: toprepyndxcbot, toprepyndxcbot toprepyndxcbot, toprepyndxcbot toprepyndxcbot toprepyndxcbot, client_id, client_id toprepyndxcbot",
          "<b>Topic 4</b><br>Words: toprepyndxcbot, toprepyndxcbot toprepyndxcbot, toprepyndxcbot toprepyndxcbot toprepyndxcbot, client_id, client_id toprepyndxcbot",
          "<b>Topic 4</b><br>Words: toprepyndxcbot, toprepyndxcbot toprepyndxcbot, toprepyndxcbot toprepyndxcbot toprepyndxcbot, client_id, client_id toprepyndxcbot",
          "<b>Topic 4</b><br>Words: toprepyndxcbot, toprepyndxcbot toprepyndxcbot, toprepyndxcbot toprepyndxcbot toprepyndxcbot, client_id, client_id toprepyndxcbot",
          "<b>Topic 4</b><br>Words: rabotat381bot, toprepyndxcbot, toprepyndxcbot toprepyndxcbot, toprepyndxcbot toprepyndxcbot toprepyndxcbot, client_id"
         ],
         "marker": {
          "color": "#D55E00"
         },
         "mode": "lines",
         "name": "4_toprepyndxcbot_toprepyndxcbot toprepyn...",
         "type": "scatter",
         "x": [
          "2025-02-03T12:10:16",
          "2025-02-06T14:24:45",
          "2025-02-08T00:28:33",
          "2025-02-08T07:18:16",
          "2025-02-08T10:50:37",
          "2025-02-08T15:02:21",
          "2025-02-08T16:44:04",
          "2025-02-09T23:10:35",
          "2025-02-09T23:34:48",
          "2025-02-10T07:31:55",
          "2025-02-10T09:38:44",
          "2025-02-10T10:21:30",
          "2025-02-10T10:47:49",
          "2025-02-10T11:30:46",
          "2025-02-10T11:36:03",
          "2025-02-10T11:40:49",
          "2025-02-10T12:12:07",
          "2025-02-10T21:06:22",
          "2025-02-12T00:50:27",
          "2025-02-12T06:55:44",
          "2025-02-12T23:55:57",
          "2025-02-13T19:41:12",
          "2025-02-13T22:14:46",
          "2025-02-16T08:23:00",
          "2025-02-16T10:02:25",
          "2025-02-16T12:33:04",
          "2025-02-16T12:33:15",
          "2025-02-17T16:09:59",
          "2025-02-17T18:41:47",
          "2025-02-17T18:42:15",
          "2025-02-24T11:22:50"
         ],
         "y": [
          1,
          1,
          1,
          1,
          1,
          1,
          1,
          1,
          1,
          1,
          1,
          1,
          1,
          1,
          1,
          1,
          1,
          1,
          1,
          1,
          1,
          1,
          1,
          1,
          1,
          1,
          1,
          1,
          1,
          1,
          1
         ]
        },
        {
         "hoverinfo": "text",
         "hovertext": [
          "<b>Topic 5</b><br>Words: немного аналитик обязательно, обязательно исправлю такую, исправлю такую, окрепну немного, окрепну",
          "<b>Topic 5</b><br>Words: проблемами это, делиться проблемами, важная, важная часть, делиться проблемами это",
          "<b>Topic 5</b><br>Words: соискателей знать, соискателей, пытается найти, найти работу, процессу",
          "<b>Topic 5</b><br>Words: собеседованиютестовому зная ждать, ждать, собеседованиютестовому, зная, зная ждать",
          "<b>Topic 5</b><br>Words: собеседованиютестовому зная ждать, ждать, собеседованиютестовому, зная, зная ждать",
          "<b>Topic 5</b><br>Words: люди будут выкладывать, помогая другим, тех мотивирован искать, ответы исчерпывающие тех, ответы исчерпывающие",
          "<b>Topic 5</b><br>Words: описано, отлично описано, отлично, яндекс, ритейл",
          "<b>Topic 5</b><br>Words: яндекс, учусь делать прогнозы, бигтек ритейл, делаю учусь, маркетологи делаю",
          "<b>Topic 5</b><br>Words: боты, боты всё, это боты, это боты всё, всё",
          "<b>Topic 5</b><br>Words: кому нехер делать, рейтинг тех, нехер делать, нехер, тех кому",
          "<b>Topic 5</b><br>Words: подняли подкуп, репутацию подняли, подняли, репутацию подняли подкуп, подкуп",
          "<b>Topic 5</b><br>Words: стена, действительно муж, действительно муж стена, муж, муж стена",
          "<b>Topic 5</b><br>Words: интервью, интервью интервью командой, командой, интервью интервью, интервью командой",
          "<b>Topic 5</b><br>Words: зависит, дают базовые вопросы, базовые вопросы, базовые вопросы ответами, зависит компании гдето",
          "<b>Topic 5</b><br>Words: понравиться, равно главная цель, главная, главная цель, главная цель понравиться",
          "<b>Topic 5</b><br>Words: собирает доп, дополнительное саммари, инфу проходит, инфу проходит базовым, делает",
          "<b>Topic 5</b><br>Words: горе семье, рекрутер это, рекрутер, плохой рекрутер это, плохой рекрутер",
          "<b>Topic 5</b><br>Words: мидлархитектордевопс, уровне мидлархитектордевопс, прикольное, прикольное требования, прикольное требования аналитика",
          "<b>Topic 5</b><br>Words: насколько, харды, работе, доп, найти",
          "<b>Topic 5</b><br>Words: культура, корпоративная культура хз, хотя корпоративная культура, корпоративная культура, хз",
          "<b>Topic 5</b><br>Words: спрашивают, детально, опыт детально, опыт детально спрашивают, детально спрашивают",
          "<b>Topic 5</b><br>Words: самозанятым ии работая, писа, аналитике банке, тех писа стартовал, работая",
          "<b>Topic 5</b><br>Words: ритейл, либо, розничная торговляоптовый ритейл, либо ритейл либо, ритейл это",
          "<b>Topic 5</b><br>Words: накрутивший, работодатель накрутивший вилкусоискатель, работодатель накрутивший, работодатель, вилкусоискатель",
          "<b>Topic 5</b><br>Words: поддержка нетворкинг, нетворкинг, поддержка, яндекс, ритейл",
          "<b>Topic 5</b><br>Words: ориентированные, вакансии ориентированные выпускников, ориентированные выпускников, трек вакансии, карьерный трек вакансии",
          "<b>Topic 5</b><br>Words: занимаюсь аналитики минимум, итоге разработкой занимаюсь, занимаюсь, разработкой занимаюсь аналитики, итоге разработкой",
          "<b>Topic 5</b><br>Words: курьерного, прочитал, прочитал курьерного, сначала прочитал курьерного, сначала прочитал",
          "<b>Topic 5</b><br>Words: яндекс, яндекс лишь помогает, думаю каждый должен, мнения, других яндекс лишь",
          "<b>Topic 5</b><br>Words: пробной сразу, вопрос небольшой процесс, бесплатной, бесплатной пробной, бесплатной пробной сразу"
         ],
         "marker": {
          "color": "#0072B2"
         },
         "mode": "lines",
         "name": "5_яндекс_ритейл_это_тех",
         "type": "scatter",
         "x": [
          "2025-02-03T12:17:25",
          "2025-02-04T14:58:16",
          "2025-02-04T16:10:11",
          "2025-02-04T16:13:24",
          "2025-02-04T16:16:22",
          "2025-02-04T16:21:38",
          "2025-02-04T19:50:12",
          "2025-02-05T22:03:17",
          "2025-02-10T10:35:46",
          "2025-02-10T11:34:44",
          "2025-02-19T15:41:51",
          "2025-02-20T22:08:16",
          "2025-02-20T23:19:48",
          "2025-02-20T23:43:15",
          "2025-02-20T23:45:57",
          "2025-02-20T23:47:16",
          "2025-02-20T23:47:39",
          "2025-02-20T23:49:47",
          "2025-02-21T00:00:35",
          "2025-02-21T00:33:23",
          "2025-02-21T00:40:55",
          "2025-02-22T00:46:27",
          "2025-02-22T09:09:01",
          "2025-02-22T10:28:22",
          "2025-02-24T11:19:35",
          "2025-02-24T11:24:12",
          "2025-02-24T13:23:08",
          "2025-02-26T11:48:31",
          "2025-02-26T17:46:51",
          "2025-02-27T13:25:19"
         ],
         "y": [
          1,
          1,
          1,
          1,
          1,
          1,
          1,
          1,
          1,
          1,
          1,
          1,
          1,
          1,
          1,
          1,
          1,
          1,
          1,
          1,
          1,
          1,
          1,
          1,
          1,
          1,
          1,
          1,
          1,
          1
         ]
        },
        {
         "hoverinfo": "text",
         "hovertext": [
          "<b>Topic 6</b><br>Words: практически, asmr, asmr практически, лс, можешь",
          "<b>Topic 6</b><br>Words: создания каналов пошёл, пик, создания каналов, пик создания каналов, пик создания",
          "<b>Topic 6</b><br>Words: вместо гитхаба, гитхаба оформляют свой, оформляют свой, оформляют свой канал, вместо гитхаба оформляют",
          "<b>Topic 6</b><br>Words: бесполезней гитхаба совета, совета сложно, совета сложно придумать, сложно придумать, сложно",
          "<b>Topic 6</b><br>Words: давай войсы, войсы, давай, лс, можешь",
          "<b>Topic 6</b><br>Words: приходила, каким запросом приходила, запросом приходила, запросом, каким запросом",
          "<b>Topic 6</b><br>Words: напиши личку, напиши, личку, лс, можешь",
          "<b>Topic 6</b><br>Words: сформировать, сформировать утп, утп, лс, можешь",
          "<b>Topic 6</b><br>Words: твои утп, твои утп сформировано, видела твои, сформировано, видела твои утп",
          "<b>Topic 6</b><br>Words: топовый проект предлагают, проект предлагают, замути, предлагают замути, топовый проект",
          "<b>Topic 6</b><br>Words: сходим, уточним ситуацию, ситуацию, ситуацию вернёмся ответом, сервисупартнёру уточним ситуацию",
          "<b>Topic 6</b><br>Words: должность, лс, можешь, напиши, кинуть",
          "<b>Topic 6</b><br>Words: передам твое резюме, этапам банке интересно, банке интересно работать, подскажу этапам, подскажу",
          "<b>Topic 6</b><br>Words: мной мск, мной, мск, лс, можешь",
          "<b>Topic 6</b><br>Words: 3040 мин, секция, вк например, вк например сказать, созвоны 3040 мин",
          "<b>Topic 6</b><br>Words: скажи стукачет, айпи вычислим, стукачет, скажи стукачет айпи, стукачет айпи",
          "<b>Topic 6</b><br>Words: причина, лс, можешь, напиши, вк",
          "<b>Topic 6</b><br>Words: знаю удивлюсь щас, знаю удивлюсь, удивлюсь щас, удивлюсь щас придумал, удивлюсь",
          "<b>Topic 6</b><br>Words: скидывай, кидать, реквизиты, реквизиты кидать, скидывай реквизиты кидать",
          "<b>Topic 6</b><br>Words: нежадный, тонкоинках телегу кинуть, тонкоинках, можешь тонкоинках телегу, можешь тонкоинках",
          "<b>Topic 6</b><br>Words: трамп коинах кинуть, коинах, коинах кинуть, могу трамп коинах, могу трамп",
          "<b>Topic 6</b><br>Words: расскажи, расскажи подробно, подробно, лс, можешь",
          "<b>Topic 6</b><br>Words: этапе написания сопроводительного, написания сопроводительного, этапе написания, этапе, письма",
          "<b>Topic 6</b><br>Words: рассказать, почему можешь, рассказать поподробнее, рассказать поподробнее плиз, можешь рассказать",
          "<b>Topic 6</b><br>Words: можешь лс стремно, можешь лс, лс стремно, стремно, лс",
          "<b>Topic 6</b><br>Words: лень лс, лень, лс, можешь, вк",
          "<b>Topic 6</b><br>Words: клауд, вк клауд сегодня, клауд сегодня вебинар, вебинар, вебинар с3"
         ],
         "marker": {
          "color": "#CC79A7"
         },
         "mode": "lines",
         "name": "6_лс_можешь_гитхаба_утп",
         "type": "scatter",
         "x": [
          "2025-02-03T12:15:56",
          "2025-02-04T16:10:22",
          "2025-02-04T16:11:32",
          "2025-02-04T16:12:25",
          "2025-02-04T16:32:03",
          "2025-02-04T18:37:10",
          "2025-02-04T18:37:21",
          "2025-02-04T19:49:21",
          "2025-02-04T19:52:52",
          "2025-02-06T15:31:58",
          "2025-02-19T13:44:29",
          "2025-02-20T20:18:32",
          "2025-02-20T22:05:14",
          "2025-02-20T22:06:16",
          "2025-02-20T23:44:46",
          "2025-02-24T12:17:23",
          "2025-02-24T15:56:11",
          "2025-02-24T16:20:19",
          "2025-02-25T19:12:05",
          "2025-02-25T19:12:59",
          "2025-02-25T19:13:08",
          "2025-02-26T17:01:44",
          "2025-02-26T17:04:47",
          "2025-02-26T17:05:22",
          "2025-02-26T17:09:46",
          "2025-02-26T17:11:02",
          "2025-02-27T11:57:13"
         ],
         "y": [
          1,
          1,
          1,
          1,
          1,
          1,
          1,
          1,
          1,
          1,
          1,
          1,
          1,
          1,
          1,
          1,
          1,
          1,
          1,
          1,
          1,
          1,
          1,
          1,
          1,
          1,
          1
         ]
        },
        {
         "hoverinfo": "text",
         "hovertext": [
          "<b>Topic 7</b><br>Words: отчитываются, стикеров конструктивная критика, которому отчитываются, позиции пользователя, пользователя котиками залетели",
          "<b>Topic 7</b><br>Words: сергей ответ, будут сбрасывать захотят, ответ очевиден, ответ очевиден люди, захотят",
          "<b>Topic 7</b><br>Words: каналов сегодня исчерпан, исчерпан, лимит, лимит каналов, лимит каналов сегодня",
          "<b>Topic 7</b><br>Words: груп бай сделать, бай сделать, груп, distinct достаточно, distinct достаточно просто",
          "<b>Topic 7</b><br>Words: приятных новостей, предсказание george5555 ожидай, предсказание, ожидай приятных новостей, ожидай приятных",
          "<b>Topic 7</b><br>Words: круасаны, кофе круасаны, кофе, чате, правило",
          "<b>Topic 7</b><br>Words: увидели, кидай круассан, окей, круассан, кофе увидели хотели",
          "<b>Topic 7</b><br>Words: круассаном, кофе круассаном, кофе, чате, правило",
          "<b>Topic 7</b><br>Words: сегодня, такие отвратительные продолжайте, сегодня такие отвратительные, сегодня такие, сегодня почему сегодня",
          "<b>Topic 7</b><br>Words: скидывайте мошенница, скидывайте, мошенница, чате, кофе",
          "<b>Topic 7</b><br>Words: чата, политику, обсуждаем политику, обсуждаем, утро сообщения выше",
          "<b>Topic 7</b><br>Words: чате чат, чате чат поменьше, поменьше знаешь правило, поменьше знаешь, поменьше",
          "<b>Topic 7</b><br>Words: злобы оскорблений, присутствовать чате злобы, сообщение считаю, неуместным тебе, это сообщение считаю",
          "<b>Topic 7</b><br>Words: котики никакой, котики никакой злобы, никакой злобы, котики, никакой",
          "<b>Topic 7</b><br>Words: сообщества бан пыталась, соблюдение правил, предел, ваше право соблюдение, право",
          "<b>Topic 7</b><br>Words: никто отменял, отменял тему закрыть, общечеловеческие, общечеловеческие правила, сообществе",
          "<b>Topic 7</b><br>Words: пор это, удивило появилось правило, политику сих, политику сих пор, сих",
          "<b>Topic 7</b><br>Words: чате байки, байки доброту можешь, доброту можешь, доброту можешь оставить, одном чате байки",
          "<b>Topic 7</b><br>Words: зимнее, чате, кофе, правило, чата",
          "<b>Topic 7</b><br>Words: показывать, показывать будем, будем, чате, кофе",
          "<b>Topic 7</b><br>Words: портить комунибудь настроение, комунибудь настроение это, основное правило, основное правило группы, основное",
          "<b>Topic 7</b><br>Words: яблоко получаешь огурец, огурец, яблоко получаешь, дело, дело продают",
          "<b>Topic 7</b><br>Words: поводу сырости показательно, показательно, показательно выпиливание когорт, когорт общего, общего чата"
         ],
         "marker": {
          "color": "#E69F00"
         },
         "mode": "lines",
         "name": "7_чате_кофе_правило_чата",
         "type": "scatter",
         "x": [
          "2025-02-03T11:59:53",
          "2025-02-04T16:15:19",
          "2025-02-04T19:48:04",
          "2025-02-06T14:25:34",
          "2025-02-10T12:14:23",
          "2025-02-11T23:49:41",
          "2025-02-12T08:21:56",
          "2025-02-12T08:34:27",
          "2025-02-12T09:02:59",
          "2025-02-20T21:11:26",
          "2025-02-24T09:30:12",
          "2025-02-24T10:38:25",
          "2025-02-24T11:16:30",
          "2025-02-24T11:19:23",
          "2025-02-24T11:44:27",
          "2025-02-24T13:04:32",
          "2025-02-24T15:48:53",
          "2025-02-24T15:54:44",
          "2025-02-24T16:22:12",
          "2025-02-25T09:34:24",
          "2025-02-25T19:07:16",
          "2025-02-26T17:49:20",
          "2025-02-27T14:11:43"
         ],
         "y": [
          1,
          1,
          1,
          1,
          1,
          1,
          1,
          1,
          1,
          1,
          1,
          1,
          1,
          1,
          1,
          1,
          1,
          1,
          1,
          1,
          1,
          1,
          1
         ]
        },
        {
         "hoverinfo": "text",
         "hovertext": [
          "<b>Topic 8</b><br>Words: начала борьбу призы, начала борьбу, призы, борьбу призы, борьбу",
          "<b>Topic 8</b><br>Words: увеличила репутацию, увеличила, irina, 70, iliushin 52 увеличила",
          "<b>Topic 8</b><br>Words: ахахаххахаах, ахахахаха, увеличила, увеличила репутацию, репутацию",
          "<b>Topic 8</b><br>Words: жестко, ахахахаха, увеличила, увеличила репутацию, репутацию",
          "<b>Topic 8</b><br>Words: спасибо ире, ире, спасибо, ахахахаха, увеличила репутацию",
          "<b>Topic 8</b><br>Words: ахахахахахахахаха, ахахахаха, увеличила, увеличила репутацию, репутацию",
          "<b>Topic 8</b><br>Words: нашем соревновании, лидирует нашем, ирина, соревновании, ирина прежнему",
          "<b>Topic 8</b><br>Words: ахахахаха, увеличила, увеличила репутацию, репутацию, яндекс",
          "<b>Topic 8</b><br>Words: ахахахаха, увеличила, увеличила репутацию, репутацию, яндекс",
          "<b>Topic 8</b><br>Words: дата аналитик, дата, аналитик, ахахахаха, увеличила",
          "<b>Topic 8</b><br>Words: ахахахаха, увеличила, увеличила репутацию, репутацию, яндекс",
          "<b>Topic 8</b><br>Words: чат, ахахахаха, увеличила, увеличила репутацию, репутацию",
          "<b>Topic 8</b><br>Words: ахахахаха, увеличила, увеличила репутацию, репутацию, яндекс",
          "<b>Topic 8</b><br>Words: ахахахахахаа, ахахахаха, увеличила, увеличила репутацию, репутацию",
          "<b>Topic 8</b><br>Words: ахахахах, ахахахаха, увеличила, увеличила репутацию, репутацию",
          "<b>Topic 8</b><br>Words: яндекс, типичный яндекс, типичный, ахахахаха, увеличила",
          "<b>Topic 8</b><br>Words: ахахахаха, увеличила, увеличила репутацию, репутацию, яндекс",
          "<b>Topic 8</b><br>Words: догонишь, иру догонишь, иру, ахахахаха, увеличила репутацию",
          "<b>Topic 8</b><br>Words: ахахахахаспасибо, илюша, ахахахахаспасибо илюша, ахахахаха, увеличила",
          "<b>Topic 8</b><br>Words: 23 увеличила репутацию, 23 увеличила, алексей савельев, алексей, увеличила репутацию алексей",
          "<b>Topic 8</b><br>Words: верни 6к, верни, 6к, ахахахаха, увеличила",
          "<b>Topic 8</b><br>Words: месяцев знаю, месяцев, знаю, ахахахаха, увеличила"
         ],
         "marker": {
          "color": "#56B4E9"
         },
         "mode": "lines",
         "name": "8_ахахахаха_увеличила репутацию_увеличил...",
         "type": "scatter",
         "x": [
          "2025-02-03T12:04:32",
          "2025-02-04T19:51:15",
          "2025-02-04T19:51:37",
          "2025-02-06T21:52:46",
          "2025-02-08T13:40:28",
          "2025-02-11T23:48:59",
          "2025-02-17T19:23:16",
          "2025-02-19T11:41:59",
          "2025-02-19T15:02:18",
          "2025-02-20T20:56:03",
          "2025-02-22T10:00:40",
          "2025-02-22T14:23:00",
          "2025-02-22T14:23:02",
          "2025-02-22T14:26:28",
          "2025-02-22T14:58:23",
          "2025-02-24T10:14:03",
          "2025-02-24T10:53:23",
          "2025-02-24T13:13:55",
          "2025-02-24T16:24:50",
          "2025-02-25T10:21:24",
          "2025-02-25T19:08:33",
          "2025-02-26T10:25:00"
         ],
         "y": [
          1,
          1,
          1,
          1,
          1,
          1,
          1,
          1,
          1,
          1,
          1,
          1,
          1,
          1,
          1,
          1,
          1,
          1,
          1,
          1,
          1,
          1
         ]
        },
        {
         "hoverinfo": "text",
         "hovertext": [
          "<b>Topic 9</b><br>Words: говори, смотрела говори, смотрела, наверное, дешево чтото",
          "<b>Topic 9</b><br>Words: наверное, мммм попробуй, бля правильно, бля, говори",
          "<b>Topic 9</b><br>Words: дешево, дешево чтото, чтото, наверное, чтото такая история",
          "<b>Topic 9</b><br>Words: такая история, история, такая, наверное, мммм попробуй",
          "<b>Topic 9</b><br>Words: бля, наверное, чтото такая история, бля правильно массовый, бля правильно",
          "<b>Topic 9</b><br>Words: правильно, наверное, чтото такая история, бля, говори наверное",
          "<b>Topic 9</b><br>Words: массовый, наверное, чтото такая история, бля правильно, бля",
          "<b>Topic 9</b><br>Words: сяпас, наверное, ахахахахаха, бля, говори",
          "<b>Topic 9</b><br>Words: вино, вино суши, суши, наверное, дешево чтото",
          "<b>Topic 9</b><br>Words: наверное, мммм попробуй, бля правильно, бля, говори",
          "<b>Topic 9</b><br>Words: мммм, наверное, чтото такая история, бля правильно, бля",
          "<b>Topic 9</b><br>Words: попробуй, наверное, чтото такая история, бля, говори наверное",
          "<b>Topic 9</b><br>Words: наверное, мммм попробуй, бля правильно, бля, говори",
          "<b>Topic 9</b><br>Words: скидавай, наверное, чтото такая история, бля, говори наверное",
          "<b>Topic 9</b><br>Words: илья, наверное, чтото такая история, бля правильно, бля",
          "<b>Topic 9</b><br>Words: ахахахахаха, наверное, чтото такая история, бля правильно, бля",
          "<b>Topic 9</b><br>Words: база, наверное, чтото такая история, бля правильно массовый, бля правильно",
          "<b>Topic 9</b><br>Words: интересует, наверное, чтото такая история, бля, говори наверное",
          "<b>Topic 9</b><br>Words: предположение, просто предположение, просто, наверное, чтото такая история",
          "<b>Topic 9</b><br>Words: ахахаха, наверное, говори, бля правильно, вино суши"
         ],
         "marker": {
          "color": "#009E73"
         },
         "mode": "lines",
         "name": "9_наверное_мммм попробуй_скидавай илья а...",
         "type": "scatter",
         "x": [
          "2025-02-04T18:25:26",
          "2025-02-04T18:29:39",
          "2025-02-04T19:52:16",
          "2025-02-05T21:51:26",
          "2025-02-06T22:04:09",
          "2025-02-06T22:06:50",
          "2025-02-10T10:30:15",
          "2025-02-10T12:01:10",
          "2025-02-12T00:56:49",
          "2025-02-12T01:25:04",
          "2025-02-12T08:21:26",
          "2025-02-20T21:02:39",
          "2025-02-21T14:53:56",
          "2025-02-22T14:22:31",
          "2025-02-22T14:27:24",
          "2025-02-22T14:34:44",
          "2025-02-25T19:17:15",
          "2025-02-25T19:27:56",
          "2025-02-26T10:41:25",
          "2025-02-26T17:11:39"
         ],
         "y": [
          1,
          1,
          1,
          1,
          1,
          1,
          1,
          1,
          1,
          1,
          1,
          1,
          1,
          1,
          1,
          1,
          1,
          1,
          1,
          1
         ]
        },
        {
         "hoverinfo": "text",
         "hovertext": [
          "<b>Topic 10</b><br>Words: самое, это, чат, лично, hr",
          "<b>Topic 10</b><br>Words: провоцируйте, это, чат, лично, hr",
          "<b>Topic 10</b><br>Words: пишут чат, постом, пишут, постом пишут чат, это постом",
          "<b>Topic 10</b><br>Words: та суть, суть, та, это, чат",
          "<b>Topic 10</b><br>Words: говорю бросала, бросала, говорю, это, чат",
          "<b>Topic 10</b><br>Words: это ценам 2000, ценам, ценам 2000, ценам 2000 года, 2000",
          "<b>Topic 10</b><br>Words: история компа, история компа телефона, такая история компа, компа, компа телефона",
          "<b>Topic 10</b><br>Words: катя, катя это нож, спину, катя это, нож",
          "<b>Topic 10</b><br>Words: нашел 2005 год, 2005, 2005 год, нашел 2005, нашел",
          "<b>Topic 10</b><br>Words: скрининг hr, скрининг, hr, это, чат",
          "<b>Topic 10</b><br>Words: забыв приложить ссыль, забыв приложить, ссыль, забыв, ссыль вакансию",
          "<b>Topic 10</b><br>Words: чат аналитиков hr, чат аналитиков, аналитиков hr, аналитиков, hr",
          "<b>Topic 10</b><br>Words: писали посмотрите, писали посмотрите спам, посмотрите спам, посмотрите, спам",
          "<b>Topic 10</b><br>Words: лс договорились, это лс, договорились, это лс договорились, лс",
          "<b>Topic 10</b><br>Words: твой чат, твой, чат, это, лично",
          "<b>Topic 10</b><br>Words: гарант, лично писала увы, это гарант, писала увы это, лично писала",
          "<b>Topic 10</b><br>Words: реплаит мое сообщениея, мое сообщениея, сообщениея, сообщениея лично, сообщениея лично писалалогика",
          "<b>Topic 10</b><br>Words: реплай, лень проверять, это реплай, лень проверять действительно, это невнимательность",
          "<b>Topic 10</b><br>Words: личку, это, чат, лично, hr"
         ],
         "marker": {
          "color": "#F0E442"
         },
         "mode": "lines",
         "name": "10_это_чат_лично_hr",
         "type": "scatter",
         "x": [
          "2025-02-04T11:00:51",
          "2025-02-04T12:14:27",
          "2025-02-04T14:54:51",
          "2025-02-04T14:55:13",
          "2025-02-04T16:25:27",
          "2025-02-04T19:53:10",
          "2025-02-05T23:15:35",
          "2025-02-10T11:32:46",
          "2025-02-20T21:15:30",
          "2025-02-20T23:14:46",
          "2025-02-20T23:36:22",
          "2025-02-20T23:39:31",
          "2025-02-22T09:51:48",
          "2025-02-22T14:22:45",
          "2025-02-22T14:57:54",
          "2025-02-24T16:24:19",
          "2025-02-24T16:26:49",
          "2025-02-24T16:31:36",
          "2025-02-24T16:38:10"
         ],
         "y": [
          1,
          1,
          1,
          1,
          1,
          1,
          1,
          1,
          1,
          1,
          1,
          1,
          1,
          1,
          1,
          1,
          1,
          1,
          1
         ]
        },
        {
         "hoverinfo": "text",
         "hovertext": [
          "<b>Topic 11</b><br>Words: приятно, ой приятно, ой, общаться, нюдсов",
          "<b>Topic 11</b><br>Words: контролирующий, контролирующий тип, привязанности, это контролирующий тип, это контролирующий",
          "<b>Topic 11</b><br>Words: намеки, жизни говорю особенно, возможностям, говорю особенно, возможностям твои намеки",
          "<b>Topic 11</b><br>Words: ой посмотрел знаю, ой посмотрел, посмотрел знаю, ой, посмотрел",
          "<b>Topic 11</b><br>Words: успела, общаться, нюдсов, это просто друзья, посмотрел",
          "<b>Topic 11</b><br>Words: неожиданно, общаться, нюдсов, посмотрел, просто друзья",
          "<b>Topic 11</b><br>Words: планировался такая, планировался, блин вообще планировался, блин вообще, реакция похоже",
          "<b>Topic 11</b><br>Words: попробовал могу удалённо, попробовал могу, попробовал, удалённо, могу удалённо",
          "<b>Topic 11</b><br>Words: сразу поняла, поняла, сразу, общаться, нюдсов",
          "<b>Topic 11</b><br>Words: несмотря, нюдсов видела, тобой общаться, тобой общаться несмотря, продолжаю тобой общаться",
          "<b>Topic 11</b><br>Words: видел, посмотрел перестал, всеми чьих нюдсов, всеми чьих, молчал",
          "<b>Topic 11</b><br>Words: например стал общаться, общаться нюдсов, стал общаться, стал общаться нюдсов, например стал",
          "<b>Topic 11</b><br>Words: сделал исключение иры, иры видишь продолжаю, общаться значит, просто сделал исключение, продолжаю общаться",
          "<b>Topic 11</b><br>Words: представить, блин могу, блин могу представить, могу представить, блин",
          "<b>Topic 11</b><br>Words: это просто друзья, друзья, просто друзья, это просто, просто",
          "<b>Topic 11</b><br>Words: ааа, ааа тебе стоит, волноваться, волноваться это, волноваться это просто",
          "<b>Topic 11</b><br>Words: скажи генгбенге, скажи генгбенге участвовала, генгбенге участвовала, генгбенге, участвовала"
         ],
         "marker": {
          "color": "#D55E00"
         },
         "mode": "lines",
         "name": "11_общаться_нюдсов_это просто друзья_пос...",
         "type": "scatter",
         "x": [
          "2025-02-04T18:18:59",
          "2025-02-04T18:19:03",
          "2025-02-04T18:28:52",
          "2025-02-04T19:39:02",
          "2025-02-09T19:14:33",
          "2025-02-10T13:56:45",
          "2025-02-19T12:58:53",
          "2025-02-20T21:02:17",
          "2025-02-20T22:23:20",
          "2025-02-21T00:41:44",
          "2025-02-21T09:52:55",
          "2025-02-21T09:54:10",
          "2025-02-21T11:09:08",
          "2025-02-22T09:52:10",
          "2025-02-22T14:58:29",
          "2025-02-22T15:00:47",
          "2025-02-24T16:19:53"
         ],
         "y": [
          1,
          1,
          1,
          1,
          1,
          1,
          1,
          1,
          1,
          1,
          1,
          1,
          1,
          1,
          1,
          1,
          1
         ]
        },
        {
         "hoverinfo": "text",
         "hovertext": [
          "<b>Topic 12</b><br>Words: спасибо, спасибо спасибо спасибо, спасибо спасибо, плюсую, плюсую спасибо",
          "<b>Topic 12</b><br>Words: плюсую, спасибо спасибо спасибо, спасибо спасибо, спасибо, плюсую спасибо",
          "<b>Topic 12</b><br>Words: спасибо, спасибо спасибо спасибо, спасибо спасибо, плюсую, плюсую спасибо",
          "<b>Topic 12</b><br>Words: спасибо, спасибо спасибо спасибо, спасибо спасибо, плюсую, плюсую спасибо",
          "<b>Topic 12</b><br>Words: спасибо, спасибо спасибо спасибо, спасибо спасибо, плюсую, плюсую спасибо",
          "<b>Topic 12</b><br>Words: спасибо, спасибо спасибо спасибо, спасибо спасибо, плюсую, плюсую спасибо",
          "<b>Topic 12</b><br>Words: спасибо, спасибо спасибо спасибо, спасибо спасибо, плюсую, плюсую спасибо",
          "<b>Topic 12</b><br>Words: спасибо, спасибо спасибо спасибо, спасибо спасибо, плюсую, плюсую спасибо",
          "<b>Topic 12</b><br>Words: спасибо, спасибо спасибо спасибо, спасибо спасибо, плюсую, плюсую спасибо",
          "<b>Topic 12</b><br>Words: спасибо, спасибо спасибо спасибо, спасибо спасибо, плюсую, плюсую спасибо",
          "<b>Topic 12</b><br>Words: спасибо, спасибо спасибо спасибо, спасибо спасибо, плюсую, плюсую спасибо",
          "<b>Topic 12</b><br>Words: спасибо, спасибо спасибо спасибо, спасибо спасибо, плюсую, плюсую спасибо",
          "<b>Topic 12</b><br>Words: спасибо, спасибо спасибо спасибо, спасибо спасибо, плюсую, плюсую спасибо",
          "<b>Topic 12</b><br>Words: спасибо, спасибо спасибо спасибо, спасибо спасибо, плюсую, плюсую спасибо"
         ],
         "marker": {
          "color": "#0072B2"
         },
         "mode": "lines",
         "name": "12_спасибо спасибо спасибо_спасибо спаси...",
         "type": "scatter",
         "x": [
          "2025-02-03T12:05:52",
          "2025-02-04T11:06:20",
          "2025-02-04T19:51:14",
          "2025-02-08T00:29:49",
          "2025-02-08T17:35:51",
          "2025-02-10T10:22:29",
          "2025-02-10T12:13:23",
          "2025-02-16T12:38:42",
          "2025-02-19T15:43:01",
          "2025-02-20T22:21:53",
          "2025-02-22T15:30:43",
          "2025-02-24T10:54:10",
          "2025-02-25T10:21:23",
          "2025-02-27T11:03:13"
         ],
         "y": [
          1,
          1,
          1,
          1,
          1,
          1,
          1,
          1,
          1,
          1,
          1,
          1,
          1,
          1
         ]
        },
        {
         "hoverinfo": "text",
         "hovertext": [
          "<b>Topic 13</b><br>Words: эээ нууу 10, нууу 10 секундными, эээ, 10 секундными паузами, нужны голосовуки эээ",
          "<b>Topic 13</b><br>Words: против имею, имею, против, андрюх, нууу",
          "<b>Topic 13</b><br>Words: обещали, обещали голосовухи, голосовухи, андрюх, нууу 10 секундными",
          "<b>Topic 13</b><br>Words: необходима, андрюх, эээ нууу 10, нууу 10 секундными, начисляйте везде",
          "<b>Topic 13</b><br>Words: свой словарный, каналы, расширишь свой словарный, расширишь, подпишись",
          "<b>Topic 13</b><br>Words: кавказа, андрюх, эээ нууу 10, начисляйте, начисляйте везде",
          "<b>Topic 13</b><br>Words: андрюх раздуплись, раздуплись, андрюх, эээ нууу 10, начисляйте",
          "<b>Topic 13</b><br>Words: умнее получилось андрюх, казаться умнее, получилось андрюх, казаться умнее получилось, умнее",
          "<b>Topic 13</b><br>Words: начисляйте, буквы, буквы начисляйте, андрюх, имею",
          "<b>Topic 13</b><br>Words: везде минимум собеса, везде минимум, минимум собеса, собеса, везде",
          "<b>Topic 13</b><br>Words: вижу, другого смысла вижу, другого смысла, другого, смысла вижу",
          "<b>Topic 13</b><br>Words: хотя сяп, сяп, хотя, андрюх, эээ нууу 10",
          "<b>Topic 13</b><br>Words: злобы негатива, рассадника злобы негатива, злобы негатива сил, сил моих, сил",
          "<b>Topic 13</b><br>Words: сторону, перехожу, добра, перехожу сторону добра, перехожу сторону"
         ],
         "marker": {
          "color": "#CC79A7"
         },
         "mode": "lines",
         "name": "13_андрюх_нужны голосовуки эээ_нужны гол...",
         "type": "scatter",
         "x": [
          "2025-02-03T11:57:36",
          "2025-02-04T12:07:08",
          "2025-02-04T16:21:52",
          "2025-02-10T11:50:51",
          "2025-02-10T11:55:43",
          "2025-02-12T00:46:49",
          "2025-02-17T09:50:33",
          "2025-02-17T14:12:28",
          "2025-02-19T16:01:35",
          "2025-02-20T23:04:07",
          "2025-02-20T23:45:39",
          "2025-02-24T13:42:39",
          "2025-02-24T15:47:29",
          "2025-02-24T15:51:34"
         ],
         "y": [
          1,
          1,
          1,
          1,
          1,
          1,
          1,
          1,
          1,
          1,
          1,
          1,
          1,
          1
         ]
        },
        {
         "hoverinfo": "text",
         "hovertext": [
          "<b>Topic 14</b><br>Words: нахлебников, ого, ого сколько, ого сколько нахлебников, сколько нахлебников",
          "<b>Topic 14</b><br>Words: пора, давно пора, давно, слишком, ящитаю разбуди 820",
          "<b>Topic 14</b><br>Words: устроили, слишком, ящитаю разбуди 820, кого отобрали слишком, всем написали",
          "<b>Topic 14</b><br>Words: заморозили когото видимо, видимо, заморозили когото, заморозили, когото видимо",
          "<b>Topic 14</b><br>Words: слишком высокую, планку установили ящитаю, высокую планку установили, планку установили, установили",
          "<b>Topic 14</b><br>Words: 820, разбуди 820, разбуди, слишком, написали кого отобрали",
          "<b>Topic 14</b><br>Words: забыл, слишком, ящитаю разбуди 820, написали кого отобрали, всем написали",
          "<b>Topic 14</b><br>Words: везде поразному, поразному, везде, слишком, ящитаю разбуди 820",
          "<b>Topic 14</b><br>Words: кмк инфа, всем написали, кмк, выше стеб, написали кого отобрали",
          "<b>Topic 14</b><br>Words: большой набор, большой набор людей, набор людей наверное, набор людей, набор",
          "<b>Topic 14</b><br>Words: контекста, вытаскивать, вытаскивать контекста, слишком, когото видимо чот",
          "<b>Topic 14</b><br>Words: своему, своему преемнику, преемнику, слишком, написали кого",
          "<b>Topic 14</b><br>Words: поставь, поставь место, место, слишком, всем написали"
         ],
         "marker": {
          "color": "#E69F00"
         },
         "mode": "lines",
         "name": "14_слишком_820_наверное вытаскивать конт...",
         "type": "scatter",
         "x": [
          "2025-02-04T13:18:14",
          "2025-02-04T18:56:22",
          "2025-02-04T18:56:33",
          "2025-02-04T19:53:32",
          "2025-02-08T13:29:46",
          "2025-02-11T23:49:09",
          "2025-02-20T22:21:49",
          "2025-02-20T23:06:34",
          "2025-02-21T14:51:41",
          "2025-02-21T14:53:19",
          "2025-02-24T12:24:28",
          "2025-02-24T15:51:12",
          "2025-02-24T16:16:39"
         ],
         "y": [
          1,
          1,
          1,
          1,
          1,
          1,
          1,
          1,
          1,
          1,
          1,
          1,
          1
         ]
        },
        {
         "hoverinfo": "text",
         "hovertext": [
          "<b>Topic 15</b><br>Words: слушаю, тожеу общего мониторь, вступительную речь, сообщения оставь найди, тожеу",
          "<b>Topic 15</b><br>Words: тожеу общего мониторь, вступительную речь тожеу, сообщения оставь найди, самое смешное, сообщения оставь",
          "<b>Topic 15</b><br>Words: пошерьте, вступительную речь тожеу, сообщения оставь найди, самое смешное, сообщения оставь",
          "<b>Topic 15</b><br>Words: вступительную, готовлю вступительную, готовлю вступительную речь, вступительную речь, готовлю",
          "<b>Topic 15</b><br>Words: тожеу, тожеу общего, общего, тожеу общего мониторь, оставь найди самое",
          "<b>Topic 15</b><br>Words: тожеу общего мониторь, вступительную речь тожеу, сообщения оставь найди, самое смешное, сообщения оставь",
          "<b>Topic 15</b><br>Words: мониторь, мониторь сообщения, сообщения, тожеу общего мониторь, пошерьте готовлю",
          "<b>Topic 15</b><br>Words: оставь, тожеу общего мониторь, пошерьте готовлю, сообщения оставь найди, самое смешное",
          "<b>Topic 15</b><br>Words: найди, тожеу общего мониторь, вступительную речь, пошерьте готовлю вступительную, слушаю пошерьте",
          "<b>Topic 15</b><br>Words: тожеу общего мониторь, вступительную речь тожеу, сообщения оставь найди, самое смешное, сообщения оставь",
          "<b>Topic 15</b><br>Words: самое смешное, смешное получилось, смешное, самое смешное получилось, получилось"
         ],
         "marker": {
          "color": "#56B4E9"
         },
         "mode": "lines",
         "name": "15_вступительную_тожеу_найди самое_остав...",
         "type": "scatter",
         "x": [
          "2025-02-03T12:23:55",
          "2025-02-04T12:15:11",
          "2025-02-04T16:22:10",
          "2025-02-04T16:30:22",
          "2025-02-04T16:32:13",
          "2025-02-10T13:19:11",
          "2025-02-17T10:20:35",
          "2025-02-19T13:19:54",
          "2025-02-20T22:19:46",
          "2025-02-20T23:42:40",
          "2025-02-24T12:49:28"
         ],
         "y": [
          1,
          1,
          1,
          1,
          1,
          1,
          1,
          1,
          1,
          1,
          1
         ]
        },
        {
         "hoverinfo": "text",
         "hovertext": [
          "<b>Topic 16</b><br>Words: гиперсссылка, ссылка, гиперсссылка гиперсссылка, 12 фото, гиперсссылка гиперсссылка эта",
          "<b>Topic 16</b><br>Words: гиперсссылка, ссылка, гиперсссылка гиперсссылка, 12 фото, гиперсссылка гиперсссылка эта",
          "<b>Topic 16</b><br>Words: ссылка, эта ссылка канал, эта ссылка, эта, канал мариян",
          "<b>Topic 16</b><br>Words: тему гиперсссылка, прорабатывали тему гиперсссылка, прорабатывали тему, прорабатывали, тему",
          "<b>Topic 16</b><br>Words: реферальная программа, реферальная, программа, гиперсссылка, ссылка",
          "<b>Topic 16</b><br>Words: короткое видео, видео 12, видео 12 фото, короткое, 12 фото",
          "<b>Topic 16</b><br>Words: попробуй гиперсссылка, попробуй, гиперсссылка, ссылка, гиперсссылка гиперсссылка",
          "<b>Topic 16</b><br>Words: гиперсссылка поучаствовать, гиперсссылка поучаствовать команде, поучаствовать команде, поучаствовать, команде",
          "<b>Topic 16</b><br>Words: гиперсссылка, ссылка, гиперсссылка гиперсссылка, 12 фото, гиперсссылка гиперсссылка эта",
          "<b>Topic 16</b><br>Words: speech гиперсссылка, democracyfree, democracyfree speech, democracyfree speech гиперсссылка, speech",
          "<b>Topic 16</b><br>Words: гиперсссылка, ссылка, гиперсссылка ссылка висит, также прописано, странице выпускника гиперсссылка"
         ],
         "marker": {
          "color": "#009E73"
         },
         "mode": "lines",
         "name": "16_гиперсссылка_ссылка_гиперсссылка гипе...",
         "type": "scatter",
         "x": [
          "2025-02-03T12:37:14",
          "2025-02-04T16:23:10",
          "2025-02-04T16:24:33",
          "2025-02-04T19:49:52",
          "2025-02-04T19:51:17",
          "2025-02-04T19:52:06",
          "2025-02-05T21:25:28",
          "2025-02-08T14:56:41",
          "2025-02-14T13:45:52",
          "2025-02-24T11:49:07",
          "2025-02-24T12:19:43"
         ],
         "y": [
          1,
          1,
          1,
          1,
          1,
          1,
          1,
          1,
          1,
          1,
          1
         ]
        },
        {
         "hoverinfo": "text",
         "hovertext": [
          "<b>Topic 17</b><br>Words: мазохистичный, порыв, мазохистичный порыв, мессенджер команда, мессенджер",
          "<b>Topic 17</b><br>Words: какойто рамках тщеславия, сконтролированный какойто, обычно сконтролированный какойто, обычно сконтролированный, сконтролированный",
          "<b>Topic 17</b><br>Words: яндекспочта, яндекспочта гмейл, гмейл, мессенджер, мессенджер команда",
          "<b>Topic 17</b><br>Words: это скорее дополнительное, это скорее, скорее дополнительное, скорее дополнительное подтверждение, вообще это",
          "<b>Topic 17</b><br>Words: мессенджер команда сфера, джиры, команда сфера вместо, команда сфера, вместо конфы",
          "<b>Topic 17</b><br>Words: мессенджер команда, мессенджер, точнее мессенджер, разбить, мессенджер команда телега",
          "<b>Topic 17</b><br>Words: статусу коллег, статусу, уточню, уточню статусу, уточню статусу коллег",
          "<b>Topic 17</b><br>Words: попахивает обидой, обидой, попахивает, мессенджер команда, мессенджер",
          "<b>Topic 17</b><br>Words: трейдин ресторе, трейдин, трейдин ресторе какойто, ресторе какойто, ресторе",
          "<b>Topic 17</b><br>Words: s3, коннекторы s3 положил, положил оч вкутно, положил оч, положил"
         ],
         "marker": {
          "color": "#F0E442"
         },
         "mode": "lines",
         "name": "17_мессенджер команда_мессенджер_команда...",
         "type": "scatter",
         "x": [
          "2025-02-04T15:37:00",
          "2025-02-04T18:37:44",
          "2025-02-05T22:05:03",
          "2025-02-10T12:04:23",
          "2025-02-20T22:32:28",
          "2025-02-20T22:34:46",
          "2025-02-21T16:45:04",
          "2025-02-24T11:27:06",
          "2025-02-26T17:50:48",
          "2025-02-27T11:56:07"
         ],
         "y": [
          1,
          1,
          1,
          1,
          1,
          1,
          1,
          1,
          1,
          1
         ]
        },
        {
         "hoverinfo": "text",
         "hovertext": [
          "<b>Topic 18</b><br>Words: спасибо пока, спасибо пока топе, топе, пока топе, спасибо",
          "<b>Topic 18</b><br>Words: пожалуйста, спасибо, спасибо спасибо, ура спасибо тебе, дорогой спасибо",
          "<b>Topic 18</b><br>Words: ура, спасибо, спасибо спасибо, ура спасибо тебе, дорогой спасибо",
          "<b>Topic 18</b><br>Words: спасибо, спасибо спасибо, ура спасибо тебе, дорогой спасибо, спасибо спасибо подправила",
          "<b>Topic 18</b><br>Words: тебе спасибо открытку, открытку, спасибо открытку, тебе спасибо, спасибо",
          "<b>Topic 18</b><br>Words: спасибо, спасибо спасибо, ура спасибо тебе, дорогой спасибо, спасибо спасибо подправила",
          "<b>Topic 18</b><br>Words: дорогой, спасибо дорогой, спасибо, спасибо спасибо, спасибо подправила",
          "<b>Topic 18</b><br>Words: спасибо, спасибо спасибо, ура спасибо тебе, дорогой спасибо, спасибо спасибо подправила",
          "<b>Topic 18</b><br>Words: спасибо подправила, подправила, спасибо, спасибо спасибо, ура спасибо тебе",
          "<b>Topic 18</b><br>Words: спасибо, спасибо спасибо, ура спасибо тебе, дорогой спасибо, спасибо спасибо подправила"
         ],
         "marker": {
          "color": "#D55E00"
         },
         "mode": "lines",
         "name": "18_спасибо_спасибо спасибо_дорогой_ура с...",
         "type": "scatter",
         "x": [
          "2025-02-03T12:10:29",
          "2025-02-04T16:04:46",
          "2025-02-04T19:49:57",
          "2025-02-08T00:29:39",
          "2025-02-08T17:35:58",
          "2025-02-11T16:47:04",
          "2025-02-11T23:51:16",
          "2025-02-14T13:48:48",
          "2025-02-19T15:02:08",
          "2025-02-22T15:16:41"
         ],
         "y": [
          1,
          1,
          1,
          1,
          1,
          1,
          1,
          1,
          1,
          1
         ]
        }
       ],
       "layout": {
        "height": 450,
        "hoverlabel": {
         "bgcolor": "white",
         "font": {
          "family": "Rockwell",
          "size": 16
         }
        },
        "legend": {
         "title": {
          "text": "<b>Global Topic Representation"
         }
        },
        "template": {
         "data": {
          "bar": [
           {
            "error_x": {
             "color": "rgb(36,36,36)"
            },
            "error_y": {
             "color": "rgb(36,36,36)"
            },
            "marker": {
             "line": {
              "color": "white",
              "width": 0.5
             },
             "pattern": {
              "fillmode": "overlay",
              "size": 10,
              "solidity": 0.2
             }
            },
            "type": "bar"
           }
          ],
          "barpolar": [
           {
            "marker": {
             "line": {
              "color": "white",
              "width": 0.5
             },
             "pattern": {
              "fillmode": "overlay",
              "size": 10,
              "solidity": 0.2
             }
            },
            "type": "barpolar"
           }
          ],
          "carpet": [
           {
            "aaxis": {
             "endlinecolor": "rgb(36,36,36)",
             "gridcolor": "white",
             "linecolor": "white",
             "minorgridcolor": "white",
             "startlinecolor": "rgb(36,36,36)"
            },
            "baxis": {
             "endlinecolor": "rgb(36,36,36)",
             "gridcolor": "white",
             "linecolor": "white",
             "minorgridcolor": "white",
             "startlinecolor": "rgb(36,36,36)"
            },
            "type": "carpet"
           }
          ],
          "choropleth": [
           {
            "colorbar": {
             "outlinewidth": 1,
             "tickcolor": "rgb(36,36,36)",
             "ticks": "outside"
            },
            "type": "choropleth"
           }
          ],
          "contour": [
           {
            "colorbar": {
             "outlinewidth": 1,
             "tickcolor": "rgb(36,36,36)",
             "ticks": "outside"
            },
            "colorscale": [
             [
              0,
              "#440154"
             ],
             [
              0.1111111111111111,
              "#482878"
             ],
             [
              0.2222222222222222,
              "#3e4989"
             ],
             [
              0.3333333333333333,
              "#31688e"
             ],
             [
              0.4444444444444444,
              "#26828e"
             ],
             [
              0.5555555555555556,
              "#1f9e89"
             ],
             [
              0.6666666666666666,
              "#35b779"
             ],
             [
              0.7777777777777778,
              "#6ece58"
             ],
             [
              0.8888888888888888,
              "#b5de2b"
             ],
             [
              1,
              "#fde725"
             ]
            ],
            "type": "contour"
           }
          ],
          "contourcarpet": [
           {
            "colorbar": {
             "outlinewidth": 1,
             "tickcolor": "rgb(36,36,36)",
             "ticks": "outside"
            },
            "type": "contourcarpet"
           }
          ],
          "heatmap": [
           {
            "colorbar": {
             "outlinewidth": 1,
             "tickcolor": "rgb(36,36,36)",
             "ticks": "outside"
            },
            "colorscale": [
             [
              0,
              "#440154"
             ],
             [
              0.1111111111111111,
              "#482878"
             ],
             [
              0.2222222222222222,
              "#3e4989"
             ],
             [
              0.3333333333333333,
              "#31688e"
             ],
             [
              0.4444444444444444,
              "#26828e"
             ],
             [
              0.5555555555555556,
              "#1f9e89"
             ],
             [
              0.6666666666666666,
              "#35b779"
             ],
             [
              0.7777777777777778,
              "#6ece58"
             ],
             [
              0.8888888888888888,
              "#b5de2b"
             ],
             [
              1,
              "#fde725"
             ]
            ],
            "type": "heatmap"
           }
          ],
          "heatmapgl": [
           {
            "colorbar": {
             "outlinewidth": 1,
             "tickcolor": "rgb(36,36,36)",
             "ticks": "outside"
            },
            "colorscale": [
             [
              0,
              "#440154"
             ],
             [
              0.1111111111111111,
              "#482878"
             ],
             [
              0.2222222222222222,
              "#3e4989"
             ],
             [
              0.3333333333333333,
              "#31688e"
             ],
             [
              0.4444444444444444,
              "#26828e"
             ],
             [
              0.5555555555555556,
              "#1f9e89"
             ],
             [
              0.6666666666666666,
              "#35b779"
             ],
             [
              0.7777777777777778,
              "#6ece58"
             ],
             [
              0.8888888888888888,
              "#b5de2b"
             ],
             [
              1,
              "#fde725"
             ]
            ],
            "type": "heatmapgl"
           }
          ],
          "histogram": [
           {
            "marker": {
             "line": {
              "color": "white",
              "width": 0.6
             }
            },
            "type": "histogram"
           }
          ],
          "histogram2d": [
           {
            "colorbar": {
             "outlinewidth": 1,
             "tickcolor": "rgb(36,36,36)",
             "ticks": "outside"
            },
            "colorscale": [
             [
              0,
              "#440154"
             ],
             [
              0.1111111111111111,
              "#482878"
             ],
             [
              0.2222222222222222,
              "#3e4989"
             ],
             [
              0.3333333333333333,
              "#31688e"
             ],
             [
              0.4444444444444444,
              "#26828e"
             ],
             [
              0.5555555555555556,
              "#1f9e89"
             ],
             [
              0.6666666666666666,
              "#35b779"
             ],
             [
              0.7777777777777778,
              "#6ece58"
             ],
             [
              0.8888888888888888,
              "#b5de2b"
             ],
             [
              1,
              "#fde725"
             ]
            ],
            "type": "histogram2d"
           }
          ],
          "histogram2dcontour": [
           {
            "colorbar": {
             "outlinewidth": 1,
             "tickcolor": "rgb(36,36,36)",
             "ticks": "outside"
            },
            "colorscale": [
             [
              0,
              "#440154"
             ],
             [
              0.1111111111111111,
              "#482878"
             ],
             [
              0.2222222222222222,
              "#3e4989"
             ],
             [
              0.3333333333333333,
              "#31688e"
             ],
             [
              0.4444444444444444,
              "#26828e"
             ],
             [
              0.5555555555555556,
              "#1f9e89"
             ],
             [
              0.6666666666666666,
              "#35b779"
             ],
             [
              0.7777777777777778,
              "#6ece58"
             ],
             [
              0.8888888888888888,
              "#b5de2b"
             ],
             [
              1,
              "#fde725"
             ]
            ],
            "type": "histogram2dcontour"
           }
          ],
          "mesh3d": [
           {
            "colorbar": {
             "outlinewidth": 1,
             "tickcolor": "rgb(36,36,36)",
             "ticks": "outside"
            },
            "type": "mesh3d"
           }
          ],
          "parcoords": [
           {
            "line": {
             "colorbar": {
              "outlinewidth": 1,
              "tickcolor": "rgb(36,36,36)",
              "ticks": "outside"
             }
            },
            "type": "parcoords"
           }
          ],
          "pie": [
           {
            "automargin": true,
            "type": "pie"
           }
          ],
          "scatter": [
           {
            "fillpattern": {
             "fillmode": "overlay",
             "size": 10,
             "solidity": 0.2
            },
            "type": "scatter"
           }
          ],
          "scatter3d": [
           {
            "line": {
             "colorbar": {
              "outlinewidth": 1,
              "tickcolor": "rgb(36,36,36)",
              "ticks": "outside"
             }
            },
            "marker": {
             "colorbar": {
              "outlinewidth": 1,
              "tickcolor": "rgb(36,36,36)",
              "ticks": "outside"
             }
            },
            "type": "scatter3d"
           }
          ],
          "scattercarpet": [
           {
            "marker": {
             "colorbar": {
              "outlinewidth": 1,
              "tickcolor": "rgb(36,36,36)",
              "ticks": "outside"
             }
            },
            "type": "scattercarpet"
           }
          ],
          "scattergeo": [
           {
            "marker": {
             "colorbar": {
              "outlinewidth": 1,
              "tickcolor": "rgb(36,36,36)",
              "ticks": "outside"
             }
            },
            "type": "scattergeo"
           }
          ],
          "scattergl": [
           {
            "marker": {
             "colorbar": {
              "outlinewidth": 1,
              "tickcolor": "rgb(36,36,36)",
              "ticks": "outside"
             }
            },
            "type": "scattergl"
           }
          ],
          "scattermapbox": [
           {
            "marker": {
             "colorbar": {
              "outlinewidth": 1,
              "tickcolor": "rgb(36,36,36)",
              "ticks": "outside"
             }
            },
            "type": "scattermapbox"
           }
          ],
          "scatterpolar": [
           {
            "marker": {
             "colorbar": {
              "outlinewidth": 1,
              "tickcolor": "rgb(36,36,36)",
              "ticks": "outside"
             }
            },
            "type": "scatterpolar"
           }
          ],
          "scatterpolargl": [
           {
            "marker": {
             "colorbar": {
              "outlinewidth": 1,
              "tickcolor": "rgb(36,36,36)",
              "ticks": "outside"
             }
            },
            "type": "scatterpolargl"
           }
          ],
          "scatterternary": [
           {
            "marker": {
             "colorbar": {
              "outlinewidth": 1,
              "tickcolor": "rgb(36,36,36)",
              "ticks": "outside"
             }
            },
            "type": "scatterternary"
           }
          ],
          "surface": [
           {
            "colorbar": {
             "outlinewidth": 1,
             "tickcolor": "rgb(36,36,36)",
             "ticks": "outside"
            },
            "colorscale": [
             [
              0,
              "#440154"
             ],
             [
              0.1111111111111111,
              "#482878"
             ],
             [
              0.2222222222222222,
              "#3e4989"
             ],
             [
              0.3333333333333333,
              "#31688e"
             ],
             [
              0.4444444444444444,
              "#26828e"
             ],
             [
              0.5555555555555556,
              "#1f9e89"
             ],
             [
              0.6666666666666666,
              "#35b779"
             ],
             [
              0.7777777777777778,
              "#6ece58"
             ],
             [
              0.8888888888888888,
              "#b5de2b"
             ],
             [
              1,
              "#fde725"
             ]
            ],
            "type": "surface"
           }
          ],
          "table": [
           {
            "cells": {
             "fill": {
              "color": "rgb(237,237,237)"
             },
             "line": {
              "color": "white"
             }
            },
            "header": {
             "fill": {
              "color": "rgb(217,217,217)"
             },
             "line": {
              "color": "white"
             }
            },
            "type": "table"
           }
          ]
         },
         "layout": {
          "annotationdefaults": {
           "arrowhead": 0,
           "arrowwidth": 1
          },
          "autotypenumbers": "strict",
          "coloraxis": {
           "colorbar": {
            "outlinewidth": 1,
            "tickcolor": "rgb(36,36,36)",
            "ticks": "outside"
           }
          },
          "colorscale": {
           "diverging": [
            [
             0,
             "rgb(103,0,31)"
            ],
            [
             0.1,
             "rgb(178,24,43)"
            ],
            [
             0.2,
             "rgb(214,96,77)"
            ],
            [
             0.3,
             "rgb(244,165,130)"
            ],
            [
             0.4,
             "rgb(253,219,199)"
            ],
            [
             0.5,
             "rgb(247,247,247)"
            ],
            [
             0.6,
             "rgb(209,229,240)"
            ],
            [
             0.7,
             "rgb(146,197,222)"
            ],
            [
             0.8,
             "rgb(67,147,195)"
            ],
            [
             0.9,
             "rgb(33,102,172)"
            ],
            [
             1,
             "rgb(5,48,97)"
            ]
           ],
           "sequential": [
            [
             0,
             "#440154"
            ],
            [
             0.1111111111111111,
             "#482878"
            ],
            [
             0.2222222222222222,
             "#3e4989"
            ],
            [
             0.3333333333333333,
             "#31688e"
            ],
            [
             0.4444444444444444,
             "#26828e"
            ],
            [
             0.5555555555555556,
             "#1f9e89"
            ],
            [
             0.6666666666666666,
             "#35b779"
            ],
            [
             0.7777777777777778,
             "#6ece58"
            ],
            [
             0.8888888888888888,
             "#b5de2b"
            ],
            [
             1,
             "#fde725"
            ]
           ],
           "sequentialminus": [
            [
             0,
             "#440154"
            ],
            [
             0.1111111111111111,
             "#482878"
            ],
            [
             0.2222222222222222,
             "#3e4989"
            ],
            [
             0.3333333333333333,
             "#31688e"
            ],
            [
             0.4444444444444444,
             "#26828e"
            ],
            [
             0.5555555555555556,
             "#1f9e89"
            ],
            [
             0.6666666666666666,
             "#35b779"
            ],
            [
             0.7777777777777778,
             "#6ece58"
            ],
            [
             0.8888888888888888,
             "#b5de2b"
            ],
            [
             1,
             "#fde725"
            ]
           ]
          },
          "colorway": [
           "#1F77B4",
           "#FF7F0E",
           "#2CA02C",
           "#D62728",
           "#9467BD",
           "#8C564B",
           "#E377C2",
           "#7F7F7F",
           "#BCBD22",
           "#17BECF"
          ],
          "font": {
           "color": "rgb(36,36,36)"
          },
          "geo": {
           "bgcolor": "white",
           "lakecolor": "white",
           "landcolor": "white",
           "showlakes": true,
           "showland": true,
           "subunitcolor": "white"
          },
          "hoverlabel": {
           "align": "left"
          },
          "hovermode": "closest",
          "mapbox": {
           "style": "light"
          },
          "paper_bgcolor": "white",
          "plot_bgcolor": "white",
          "polar": {
           "angularaxis": {
            "gridcolor": "rgb(232,232,232)",
            "linecolor": "rgb(36,36,36)",
            "showgrid": false,
            "showline": true,
            "ticks": "outside"
           },
           "bgcolor": "white",
           "radialaxis": {
            "gridcolor": "rgb(232,232,232)",
            "linecolor": "rgb(36,36,36)",
            "showgrid": false,
            "showline": true,
            "ticks": "outside"
           }
          },
          "scene": {
           "xaxis": {
            "backgroundcolor": "white",
            "gridcolor": "rgb(232,232,232)",
            "gridwidth": 2,
            "linecolor": "rgb(36,36,36)",
            "showbackground": true,
            "showgrid": false,
            "showline": true,
            "ticks": "outside",
            "zeroline": false,
            "zerolinecolor": "rgb(36,36,36)"
           },
           "yaxis": {
            "backgroundcolor": "white",
            "gridcolor": "rgb(232,232,232)",
            "gridwidth": 2,
            "linecolor": "rgb(36,36,36)",
            "showbackground": true,
            "showgrid": false,
            "showline": true,
            "ticks": "outside",
            "zeroline": false,
            "zerolinecolor": "rgb(36,36,36)"
           },
           "zaxis": {
            "backgroundcolor": "white",
            "gridcolor": "rgb(232,232,232)",
            "gridwidth": 2,
            "linecolor": "rgb(36,36,36)",
            "showbackground": true,
            "showgrid": false,
            "showline": true,
            "ticks": "outside",
            "zeroline": false,
            "zerolinecolor": "rgb(36,36,36)"
           }
          },
          "shapedefaults": {
           "fillcolor": "black",
           "line": {
            "width": 0
           },
           "opacity": 0.3
          },
          "ternary": {
           "aaxis": {
            "gridcolor": "rgb(232,232,232)",
            "linecolor": "rgb(36,36,36)",
            "showgrid": false,
            "showline": true,
            "ticks": "outside"
           },
           "baxis": {
            "gridcolor": "rgb(232,232,232)",
            "linecolor": "rgb(36,36,36)",
            "showgrid": false,
            "showline": true,
            "ticks": "outside"
           },
           "bgcolor": "white",
           "caxis": {
            "gridcolor": "rgb(232,232,232)",
            "linecolor": "rgb(36,36,36)",
            "showgrid": false,
            "showline": true,
            "ticks": "outside"
           }
          },
          "title": {
           "x": 0.05
          },
          "xaxis": {
           "automargin": true,
           "gridcolor": "rgb(232,232,232)",
           "linecolor": "rgb(36,36,36)",
           "showgrid": false,
           "showline": true,
           "ticks": "outside",
           "title": {
            "standoff": 15
           },
           "zeroline": false,
           "zerolinecolor": "rgb(36,36,36)"
          },
          "yaxis": {
           "automargin": true,
           "gridcolor": "rgb(232,232,232)",
           "linecolor": "rgb(36,36,36)",
           "showgrid": false,
           "showline": true,
           "ticks": "outside",
           "title": {
            "standoff": 15
           },
           "zeroline": false,
           "zerolinecolor": "rgb(36,36,36)"
          }
         }
        },
        "title": {
         "font": {
          "color": "Black",
          "size": 22
         },
         "text": "<b>Topics over Time</b>",
         "x": 0.4,
         "xanchor": "center",
         "y": 0.95,
         "yanchor": "top"
        },
        "width": 1250,
        "xaxis": {
         "autorange": true,
         "range": [
          "2025-02-03 11:28:38",
          "2025-02-27 22:33:36"
         ],
         "showgrid": true,
         "type": "date"
        },
        "yaxis": {
         "autorange": true,
         "range": [
          0.9444444444444444,
          2.0555555555555554
         ],
         "showgrid": true,
         "title": {
          "text": "Frequency"
         },
         "type": "linear"
        }
       }
      },
      "text/html": [
       "<div>                            <div id=\"8647ad7d-4b6e-4e1a-af48-ddd0584f79f3\" class=\"plotly-graph-div\" style=\"height:450px; width:1250px;\"></div>            <script type=\"text/javascript\">                require([\"plotly\"], function(Plotly) {                    window.PLOTLYENV=window.PLOTLYENV || {};                                    if (document.getElementById(\"8647ad7d-4b6e-4e1a-af48-ddd0584f79f3\")) {                    Plotly.newPlot(                        \"8647ad7d-4b6e-4e1a-af48-ddd0584f79f3\",                        [{\"hoverinfo\":\"text\",\"hovertext\":[\"\\u003cb\\u003eTopic 0\\u003c\\u002fb\\u003e\\u003cbr\\u003eWords: канал аналитику, свой канал аналитику, свой канал, аналитику, свой\",\"\\u003cb\\u003eTopic 0\\u003c\\u002fb\\u003e\\u003cbr\\u003eWords: голосовухи пятиминутные, туда голосовухи, будешь туда голосовухи, пятиминутные, голосовухи пятиминутные постить\",\"\\u003cb\\u003eTopic 0\\u003c\\u002fb\\u003e\\u003cbr\\u003eWords: поводу ошибки дизайном, лет цать особенно, устарели, дизайном, времен\",\"\\u003cb\\u003eTopic 0\\u003c\\u002fb\\u003e\\u003cbr\\u003eWords: подкаст, это, просто, ссылка, курс\",\"\\u003cb\\u003eTopic 0\\u003c\\u002fb\\u003e\\u003cbr\\u003eWords: хотел сказать ждут, хотел сказать, сказать ждут мастеркласс, сказать ждут, мастеркласс\",\"\\u003cb\\u003eTopic 0\\u003c\\u002fb\\u003e\\u003cbr\\u003eWords: убивают, далеко, далеко ребята, топ10 далеко ребята, топ10 далеко\",\"\\u003cb\\u003eTopic 0\\u003c\\u002fb\\u003e\\u003cbr\\u003eWords: посмотреть потребность, пост голосовалку, голосовалку, сделать пост, голосовалку посмотреть потребность\",\"\\u003cb\\u003eTopic 0\\u003c\\u002fb\\u003e\\u003cbr\\u003eWords: таких мои, 5ти, таких мои голосовухи, мои голосовухи 5ти, голосовухи 5ти минутные\",\"\\u003cb\\u003eTopic 0\\u003c\\u002fb\\u003e\\u003cbr\\u003eWords: удивлен ещё канала, ещё канала, удивлен, поэтому удивлен, поэтому удивлен ещё\",\"\\u003cb\\u003eTopic 0\\u003c\\u002fb\\u003e\\u003cbr\\u003eWords: самозванца, синдром самозванца, отбрось, отбрось свой, отбрось свой синдром\",\"\\u003cb\\u003eTopic 0\\u003c\\u002fb\\u003e\\u003cbr\\u003eWords: толк, слушаешь мои, канале равно, канале равно слушаешь, слушаешь мои голосовухи\",\"\\u003cb\\u003eTopic 0\\u003c\\u002fb\\u003e\\u003cbr\\u003eWords: начинай, это, просто, ссылка, курс\",\"\\u003cb\\u003eTopic 0\\u003c\\u002fb\\u003e\\u003cbr\\u003eWords: толкаете, понимаете, понимаете толкаете, это, просто\",\"\\u003cb\\u003eTopic 0\\u003c\\u002fb\\u003e\\u003cbr\\u003eWords: выбор это всё, осознанный классный выбор, осознанный классный, осознанный, классный\",\"\\u003cb\\u003eTopic 0\\u003c\\u002fb\\u003e\\u003cbr\\u003eWords: будешь слушать, слушать мои, слушать мои голосовухи, будешь слушать мои, будешь\",\"\\u003cb\\u003eTopic 0\\u003c\\u002fb\\u003e\\u003cbr\\u003eWords: dsникам, дают такую возможность, дают такую, такую возможность, dsникам дают такую\",\"\\u003cb\\u003eTopic 0\\u003c\\u002fb\\u003e\\u003cbr\\u003eWords: ссылка, обозначили, обозначили ссылка, обозначили ссылка nda, nda неактивна\",\"\\u003cb\\u003eTopic 0\\u003c\\u002fb\\u003e\\u003cbr\\u003eWords: вообще неплохо участники, инсайты любом, записывали туда какие, участники записывали туда, участники\",\"\\u003cb\\u003eTopic 0\\u003c\\u002fb\\u003e\\u003cbr\\u003eWords: написал сопровождение, написал сопровождение прежнему, прежнему тишина, сопровождение, сопровождение прежнему\",\"\\u003cb\\u003eTopic 0\\u003c\\u002fb\\u003e\\u003cbr\\u003eWords: годосовухи, годосовухи писали, хочешь годосовухи писали, хочешь годосовухи, хочешь\",\"\\u003cb\\u003eTopic 0\\u003c\\u002fb\\u003e\\u003cbr\\u003eWords: подписывался, зря подписывался, голосовухи зря, голосовухи зря подписывался, зря\",\"\\u003cb\\u003eTopic 0\\u003c\\u002fb\\u003e\\u003cbr\\u003eWords: возможность подписчикам, возможность подписчикам записывать, подписчикам записывать, подписчикам, записывать\",\"\\u003cb\\u003eTopic 0\\u003c\\u002fb\\u003e\\u003cbr\\u003eWords: будешь конвертировать, конвертировать голосовые зачитывать, зачитывать, голосовые зачитывать, конвертировать\",\"\\u003cb\\u003eTopic 0\\u003c\\u002fb\\u003e\\u003cbr\\u003eWords: могли записывать глянуть, могли записывать, планировалось могли, вообще планировалось могли, записывать глянуть настройки\",\"\\u003cb\\u003eTopic 0\\u003c\\u002fb\\u003e\\u003cbr\\u003eWords: курс забить, курс забить неделюкто, подумать, желающих записаться, неделюкто\",\"\\u003cb\\u003eTopic 0\\u003c\\u002fb\\u003e\\u003cbr\\u003eWords: ссылка, написать чат заполнил, является обязательным, условием, условием участия\",\"\\u003cb\\u003eTopic 0\\u003c\\u002fb\\u003e\\u003cbr\\u003eWords: ссылка, написать nda работает, сначала нужно, нужно написать nda, нужно написать\",\"\\u003cb\\u003eTopic 0\\u003c\\u002fb\\u003e\\u003cbr\\u003eWords: мальчик заполнил, мальчик заполнил написал, слышал историю мальчик, заполнил написал умер, заполнил написал\",\"\\u003cb\\u003eTopic 0\\u003c\\u002fb\\u003e\\u003cbr\\u003eWords: отбор, написал прошёл отбор, возможно написал прошёл, возможно написал, прошёл отбор\",\"\\u003cb\\u003eTopic 0\\u003c\\u002fb\\u003e\\u003cbr\\u003eWords: неопределенному кругу лиц, нарушил, нарушил nda раскрыв, проверил нарушил nda, проверил нарушил\",\"\\u003cb\\u003eTopic 0\\u003c\\u002fb\\u003e\\u003cbr\\u003eWords: подписывал, это, просто, ссылка, курс\",\"\\u003cb\\u003eTopic 0\\u003c\\u002fb\\u003e\\u003cbr\\u003eWords: черном, ссылку черном, черном списке, ссылку черном списке, списке\",\"\\u003cb\\u003eTopic 0\\u003c\\u002fb\\u003e\\u003cbr\\u003eWords: какие дела, дела, какие, это, просто\",\"\\u003cb\\u003eTopic 0\\u003c\\u002fb\\u003e\\u003cbr\\u003eWords: удобно, вопрос спасибо, удобно буду смешивать, смешивать какие люди, удобно буду\",\"\\u003cb\\u003eTopic 0\\u003c\\u002fb\\u003e\\u003cbr\\u003eWords: твой, это, просто, ссылка, курс\",\"\\u003cb\\u003eTopic 0\\u003c\\u002fb\\u003e\\u003cbr\\u003eWords: коллективный разум, мотивирован делать, работа причем трудная, работа причем, коллективный разум мотивирован\",\"\\u003cb\\u003eTopic 0\\u003c\\u002fb\\u003e\\u003cbr\\u003eWords: контент, umagalova 12, подписчиков контент, 12 подписчиков, 12 подписчиков контент\",\"\\u003cb\\u003eTopic 0\\u003c\\u002fb\\u003e\\u003cbr\\u003eWords: откуда оно, подготовиться нужно, откуда оно появляться, откуда, подготовиться нужно чтото\",\"\\u003cb\\u003eTopic 0\\u003c\\u002fb\\u003e\\u003cbr\\u003eWords: будут мотивированы сбрасывать, мотивированы сбрасывать это, будут мотивированы, мотивированы, мотивированы сбрасывать\",\"\\u003cb\\u003eTopic 0\\u003c\\u002fb\\u003e\\u003cbr\\u003eWords: мариян канал, мариян, канал, это, просто\",\"\\u003cb\\u003eTopic 0\\u003c\\u002fb\\u003e\\u003cbr\\u003eWords: подготовиться пусто, пусто, подготовиться, это, просто\",\"\\u003cb\\u003eTopic 0\\u003c\\u002fb\\u003e\\u003cbr\\u003eWords: читаешь, люди отписываются, отписываются, отписываются узнала, чат читаешь это\",\"\\u003cb\\u003eTopic 0\\u003c\\u002fb\\u003e\\u003cbr\\u003eWords: ходячий забыл, ходячий, забыл, это, просто\",\"\\u003cb\\u003eTopic 0\\u003c\\u002fb\\u003e\\u003cbr\\u003eWords: одиноко, грустно одиноко, грустно, это, просто\",\"\\u003cb\\u003eTopic 0\\u003c\\u002fb\\u003e\\u003cbr\\u003eWords: мужик бросил, мужик, твой мужик бросил, твой мужик, бросил\",\"\\u003cb\\u003eTopic 0\\u003c\\u002fb\\u003e\\u003cbr\\u003eWords: откачали потери, сообщения снова, откачали, извини откачали потери, извини откачали\",\"\\u003cb\\u003eTopic 0\\u003c\\u002fb\\u003e\\u003cbr\\u003eWords: скинешь денег карту, скинешь денег, скинешь, карту, денег карту\",\"\\u003cb\\u003eTopic 0\\u003c\\u002fb\\u003e\\u003cbr\\u003eWords: наеобманул, это, просто, ссылка, курс\",\"\\u003cb\\u003eTopic 0\\u003c\\u002fb\\u003e\\u003cbr\\u003eWords: откроешь форточку, откроешь, форточку, это, просто\",\"\\u003cb\\u003eTopic 0\\u003c\\u002fb\\u003e\\u003cbr\\u003eWords: это такое, такое, это, просто, ссылка\",\"\\u003cb\\u003eTopic 0\\u003c\\u002fb\\u003e\\u003cbr\\u003eWords: 10 смотрит, смотрит, платит 10 смотрит, пусть платит 10, платит 10\",\"\\u003cb\\u003eTopic 0\\u003c\\u002fb\\u003e\\u003cbr\\u003eWords: миллионы онлайн, оно нам, заниматься, заниматься аналитикой быстро, быстро накопит миллионы\",\"\\u003cb\\u003eTopic 0\\u003c\\u002fb\\u003e\\u003cbr\\u003eWords: скидки будут, скидки, будут, это, просто\",\"\\u003cb\\u003eTopic 0\\u003c\\u002fb\\u003e\\u003cbr\\u003eWords: одним первых, буду одним, буду одним первых, лично буду одним, лично буду\",\"\\u003cb\\u003eTopic 0\\u003c\\u002fb\\u003e\\u003cbr\\u003eWords: аж ушах зазвучало, зазвучало, аж ушах, аж, ушах зазвучало делаешь\",\"\\u003cb\\u003eTopic 0\\u003c\\u002fb\\u003e\\u003cbr\\u003eWords: делать отправил, делать отправил заявку, отправил заявку nda, отправил заявку, делать\",\"\\u003cb\\u003eTopic 0\\u003c\\u002fb\\u003e\\u003cbr\\u003eWords: курса подать заявку, подать, подать заявку, курса подать, курса\",\"\\u003cb\\u003eTopic 0\\u003c\\u002fb\\u003e\\u003cbr\\u003eWords: заново отправлять отправила, отправлять отправила, нужно заново отправлять, нужно заново, отправлять отправила заполнила\",\"\\u003cb\\u003eTopic 0\\u003c\\u002fb\\u003e\\u003cbr\\u003eWords: вчера, нда, форму, работало перезаполнять форму, форму нда заполняю\",\"\\u003cb\\u003eTopic 0\\u003c\\u002fb\\u003e\\u003cbr\\u003eWords: файл, отправить, файл сохраняется подписать, подписать выполнить пункт, выполнить\",\"\\u003cb\\u003eTopic 0\\u003c\\u002fb\\u003e\\u003cbr\\u003eWords: гуглдоках, форма гуглдоках, форма, это, просто\",\"\\u003cb\\u003eTopic 0\\u003c\\u002fb\\u003e\\u003cbr\\u003eWords: распечатывать подписывать, ошибка понятно итоге, телефона такая, понятно итоге ушла, телефона такая ошибка\",\"\\u003cb\\u003eTopic 0\\u003c\\u002fb\\u003e\\u003cbr\\u003eWords: это применить, форму телефона, применить, телефона знаю, телефона знаю это\",\"\\u003cb\\u003eTopic 0\\u003c\\u002fb\\u003e\\u003cbr\\u003eWords: шучу это, код, шучу, backendа, это код\",\"\\u003cb\\u003eTopic 0\\u003c\\u002fb\\u003e\\u003cbr\\u003eWords: форма активна, ндаформу форма активна, попытке зайти ндаформу, попытке зайти, пишет попытке зайти\",\"\\u003cb\\u003eTopic 0\\u003c\\u002fb\\u003e\\u003cbr\\u003eWords: работал чисто, работал чисто аналитик, смысле раньше, смысле раньше работал, раньше работал\",\"\\u003cb\\u003eTopic 0\\u003c\\u002fb\\u003e\\u003cbr\\u003eWords: это, просто, ссылка, курс, nda\",\"\\u003cb\\u003eTopic 0\\u003c\\u002fb\\u003e\\u003cbr\\u003eWords: каким мылом, каким мылом пользуешься, пользуешься, мылом пользуешься, мылом\",\"\\u003cb\\u003eTopic 0\\u003c\\u002fb\\u003e\\u003cbr\\u003eWords: ссылка, та понимаю остальных, активна такая, такая ошибка та, nda активна такая\",\"\\u003cb\\u003eTopic 0\\u003c\\u002fb\\u003e\\u003cbr\\u003eWords: норм кукикеш, кукикеш, сбросить, норм кукикеш попробуйте, кукикеш попробуйте сбросить\",\"\\u003cb\\u003eTopic 0\\u003c\\u002fb\\u003e\\u003cbr\\u003eWords: ссылку nda, ссылку nda поправят, nda поправят, поправят, ссылку\",\"\\u003cb\\u003eTopic 0\\u003c\\u002fb\\u003e\\u003cbr\\u003eWords: перейти, ссылке перейти, подучилось, перейти активна, ссылке перейти активна\",\"\\u003cb\\u003eTopic 0\\u003c\\u002fb\\u003e\\u003cbr\\u003eWords: найди баги, тестировщиком, проблемы nda, начинает, тестирования найди баги\",\"\\u003cb\\u003eTopic 0\\u003c\\u002fb\\u003e\\u003cbr\\u003eWords: пока починили, починили, пока, это, просто\",\"\\u003cb\\u003eTopic 0\\u003c\\u002fb\\u003e\\u003cbr\\u003eWords: тренажер выдает это, тренажер, выдает это, выдает, тренажер выдает\",\"\\u003cb\\u003eTopic 0\\u003c\\u002fb\\u003e\\u003cbr\\u003eWords: онлифанс подписался, онлифанс, подписался, это, просто\",\"\\u003cb\\u003eTopic 0\\u003c\\u002fb\\u003e\\u003cbr\\u003eWords: подписку, платим просто, подписку платим просто, платим, просто получаешь\",\"\\u003cb\\u003eTopic 0\\u003c\\u002fb\\u003e\\u003cbr\\u003eWords: карьерном, карьерном треке, треке, это, просто\",\"\\u003cb\\u003eTopic 0\\u003c\\u002fb\\u003e\\u003cbr\\u003eWords: осталось акселерация, акселерация, осталось, это, просто\",\"\\u003cb\\u003eTopic 0\\u003c\\u002fb\\u003e\\u003cbr\\u003eWords: грешу, грешу этим, этим, это, просто\",\"\\u003cb\\u003eTopic 0\\u003c\\u002fb\\u003e\\u003cbr\\u003eWords: опоздал, закрыта успел, закрыта успел опоздал, опоздал получается, форма закрыта\",\"\\u003cb\\u003eTopic 0\\u003c\\u002fb\\u003e\\u003cbr\\u003eWords: рейтинг, это, просто, ссылка, курс\",\"\\u003cb\\u003eTopic 0\\u003c\\u002fb\\u003e\\u003cbr\\u003eWords: это, просто, ссылка, курс, nda\",\"\\u003cb\\u003eTopic 0\\u003c\\u002fb\\u003e\\u003cbr\\u003eWords: судя всемуспасибо, бот мексиканец, мексиканец судя всемуспасибо, мексиканец, мексиканец судя\",\"\\u003cb\\u003eTopic 0\\u003c\\u002fb\\u003e\\u003cbr\\u003eWords: ума выжил, ума, выжил, это, просто\",\"\\u003cb\\u003eTopic 0\\u003c\\u002fb\\u003e\\u003cbr\\u003eWords: сомневалась, это, просто, ссылка, курс\",\"\\u003cb\\u003eTopic 0\\u003c\\u002fb\\u003e\\u003cbr\\u003eWords: позвонить, это, просто, ссылка, курс\",\"\\u003cb\\u003eTopic 0\\u003c\\u002fb\\u003e\\u003cbr\\u003eWords: развидеть, это, просто, ссылка, курс\",\"\\u003cb\\u003eTopic 0\\u003c\\u002fb\\u003e\\u003cbr\\u003eWords: святая, которая фото, вода это та, вода это, та которая\",\"\\u003cb\\u003eTopic 0\\u003c\\u002fb\\u003e\\u003cbr\\u003eWords: это, просто, ссылка, курс, nda\",\"\\u003cb\\u003eTopic 0\\u003c\\u002fb\\u003e\\u003cbr\\u003eWords: почему финальный колл, почему финальный, колл, финальный, финальный колл\",\"\\u003cb\\u003eTopic 0\\u003c\\u002fb\\u003e\\u003cbr\\u003eWords: жили курса жопа, точно чистой, раньше жили курса, раньше жили, жили курса\",\"\\u003cb\\u003eTopic 0\\u003c\\u002fb\\u003e\\u003cbr\\u003eWords: появиться, это, просто, ссылка, курс\",\"\\u003cb\\u003eTopic 0\\u003c\\u002fb\\u003e\\u003cbr\\u003eWords: поймай, это, просто, ссылка, курс\",\"\\u003cb\\u003eTopic 0\\u003c\\u002fb\\u003e\\u003cbr\\u003eWords: стороне, это, просто, ссылка, курс\",\"\\u003cb\\u003eTopic 0\\u003c\\u002fb\\u003e\\u003cbr\\u003eWords: работает, это, просто, ссылка, курс\",\"\\u003cb\\u003eTopic 0\\u003c\\u002fb\\u003e\\u003cbr\\u003eWords: именно работает, именно, работает, это, просто\",\"\\u003cb\\u003eTopic 0\\u003c\\u002fb\\u003e\\u003cbr\\u003eWords: кнопок карточка открывается, никакой понятен смысл, открывается, квадратикам подсвечиваются, кнопки должны вожу\",\"\\u003cb\\u003eTopic 0\\u003c\\u002fb\\u003e\\u003cbr\\u003eWords: прогружается открываетсяи, виде борды, борды карточками, виде борды карточками, кнопок это\",\"\\u003cb\\u003eTopic 0\\u003c\\u002fb\\u003e\\u003cbr\\u003eWords: проверил снова, снова заработало, проверил снова заработало, проверил, заработало\",\"\\u003cb\\u003eTopic 0\\u003c\\u002fb\\u003e\\u003cbr\\u003eWords: это, просто, ссылка, курс, nda\",\"\\u003cb\\u003eTopic 0\\u003c\\u002fb\\u003e\\u003cbr\\u003eWords: токсиков дата алюмни, измельчало поколение токсиков, поколение, поколение токсиков, дата алюмни\",\"\\u003cb\\u003eTopic 0\\u003c\\u002fb\\u003e\\u003cbr\\u003eWords: алюмнай, это, просто, ссылка, курс\",\"\\u003cb\\u003eTopic 0\\u003c\\u002fb\\u003e\\u003cbr\\u003eWords: две вакансии, вакансии открыты, две вакансии открыты, открыты, вакансии\",\"\\u003cb\\u003eTopic 0\\u003c\\u002fb\\u003e\\u003cbr\\u003eWords: зочем, это, просто, ссылка, курс\",\"\\u003cb\\u003eTopic 0\\u003c\\u002fb\\u003e\\u003cbr\\u003eWords: найдем тебе, кальянщицу, найдем тебе кальянщицу, тебе кальянщицу, найдем\",\"\\u003cb\\u003eTopic 0\\u003c\\u002fb\\u003e\\u003cbr\\u003eWords: ладно, самую классную, тебе самую классную, самую, самую классную найдём\",\"\\u003cb\\u003eTopic 0\\u003c\\u002fb\\u003e\\u003cbr\\u003eWords: сделают, это, просто, ссылка, курс\",\"\\u003cb\\u003eTopic 0\\u003c\\u002fb\\u003e\\u003cbr\\u003eWords: подробности знают ответят, знают, узнаешь, узнаешь иначе, подробности знают\",\"\\u003cb\\u003eTopic 0\\u003c\\u002fb\\u003e\\u003cbr\\u003eWords: добрячки отрабатывали зп, отрабатывали, отрабатывали зп, добрячки отрабатывали, добрячки\",\"\\u003cb\\u003eTopic 0\\u003c\\u002fb\\u003e\\u003cbr\\u003eWords: скажи собес проходил, собес проходил эйчаров, собес проходил, проходил, проходил эйчаров\",\"\\u003cb\\u003eTopic 0\\u003c\\u002fb\\u003e\\u003cbr\\u003eWords: настолько, настолько неинтересный, настолько неинтересный настолько, настолько привлекательный, привлекательный\",\"\\u003cb\\u003eTopic 0\\u003c\\u002fb\\u003e\\u003cbr\\u003eWords: собирались стартовать, вроде собирались стартовать, этому проекту вроде, новости этому, середине февраля\",\"\\u003cb\\u003eTopic 0\\u003c\\u002fb\\u003e\\u003cbr\\u003eWords: предполагаю идет, предполагаю, идет, это, просто\",\"\\u003cb\\u003eTopic 0\\u003c\\u002fb\\u003e\\u003cbr\\u003eWords: пока тишина, кабинете пока тишина, расшарить, тишина добавили, расшарить доступ\",\"\\u003cb\\u003eTopic 0\\u003c\\u002fb\\u003e\\u003cbr\\u003eWords: заполнил, это, просто, ссылка, курс\",\"\\u003cb\\u003eTopic 0\\u003c\\u002fb\\u003e\\u003cbr\\u003eWords: отправить сделал, работаетего подписать прикрепить, прикрепить, подписать прикрепить, работаетего\",\"\\u003cb\\u003eTopic 0\\u003c\\u002fb\\u003e\\u003cbr\\u003eWords: выбрал первое, первое, выбрал, лично выбрал первое, лично выбрал\",\"\\u003cb\\u003eTopic 0\\u003c\\u002fb\\u003e\\u003cbr\\u003eWords: успехи, это, просто, ссылка, курс\",\"\\u003cb\\u003eTopic 0\\u003c\\u002fb\\u003e\\u003cbr\\u003eWords: хочется, смотреть некоторых собесах, некоторых собесах хочется, смотреть некоторых, 10 собесов\",\"\\u003cb\\u003eTopic 0\\u003c\\u002fb\\u003e\\u003cbr\\u003eWords: накручивают, шедевры бывают плюс, направлении, многие, задаешь\",\"\\u003cb\\u003eTopic 0\\u003c\\u002fb\\u003e\\u003cbr\\u003eWords: лев, лев толстой деле, обудамала резюме, толстой деле, простой\",\"\\u003cb\\u003eTopic 0\\u003c\\u002fb\\u003e\\u003cbr\\u003eWords: обманом, первую работу, работу обманом получила, обманом получила, первую работу обманом\",\"\\u003cb\\u003eTopic 0\\u003c\\u002fb\\u003e\\u003cbr\\u003eWords: 28 02, 28, 02, это, просто\",\"\\u003cb\\u003eTopic 0\\u003c\\u002fb\\u003e\\u003cbr\\u003eWords: поздравляю, поздравляю дальше, дальше, это, просто\",\"\\u003cb\\u003eTopic 0\\u003c\\u002fb\\u003e\\u003cbr\\u003eWords: другие чаты, чаты, другие, это, просто\",\"\\u003cb\\u003eTopic 0\\u003c\\u002fb\\u003e\\u003cbr\\u003eWords: говорящим названием, помню говорящим названием, названием тройничок, тройничок, названием\",\"\\u003cb\\u003eTopic 0\\u003c\\u002fb\\u003e\\u003cbr\\u003eWords: синей волне, синей волне осуждения, осуждения, синей, ктото синей волне\",\"\\u003cb\\u003eTopic 0\\u003c\\u002fb\\u003e\\u003cbr\\u003eWords: ага, это, просто, ссылка, курс\",\"\\u003cb\\u003eTopic 0\\u003c\\u002fb\\u003e\\u003cbr\\u003eWords: обучаться открываешь календарь, че обучаться, открываешь, календарь смотришь сегодня, открываешь календарь смотришь\",\"\\u003cb\\u003eTopic 0\\u003c\\u002fb\\u003e\\u003cbr\\u003eWords: добро пожаловать, добро пожаловать каламбурную, добро, пожаловать каламбурную, каламбурную\",\"\\u003cb\\u003eTopic 0\\u003c\\u002fb\\u003e\\u003cbr\\u003eWords: както проанализировать, каждый день, както проанализировать дату, проанализировать дату каждый, дату каждый\",\"\\u003cb\\u003eTopic 0\\u003c\\u002fb\\u003e\\u003cbr\\u003eWords: это, просто, ссылка, курс, nda\",\"\\u003cb\\u003eTopic 0\\u003c\\u002fb\\u003e\\u003cbr\\u003eWords: это, просто, ссылка, курс, nda\",\"\\u003cb\\u003eTopic 0\\u003c\\u002fb\\u003e\\u003cbr\\u003eWords: пиво, пить, пиво пить, это, просто\",\"\\u003cb\\u003eTopic 0\\u003c\\u002fb\\u003e\\u003cbr\\u003eWords: это бот, бот, это, просто, ссылка\",\"\\u003cb\\u003eTopic 0\\u003c\\u002fb\\u003e\\u003cbr\\u003eWords: разработка, это разработка, yonote это разработка, yonote это, yonote\",\"\\u003cb\\u003eTopic 0\\u003c\\u002fb\\u003e\\u003cbr\\u003eWords: душными, тяжко душными аналитиками, аналитиками, душными аналитиками, тяжко душными\",\"\\u003cb\\u003eTopic 0\\u003c\\u002fb\\u003e\\u003cbr\\u003eWords: подкол, знала подкол равно, подкол равно идёшь, идёшь, идёшь поводу\",\"\\u003cb\\u003eTopic 0\\u003c\\u002fb\\u003e\\u003cbr\\u003eWords: поддаешься, это, просто, ссылка, курс\",\"\\u003cb\\u003eTopic 0\\u003c\\u002fb\\u003e\\u003cbr\\u003eWords: это, просто, ссылка, курс, nda\",\"\\u003cb\\u003eTopic 0\\u003c\\u002fb\\u003e\\u003cbr\\u003eWords: эксель считается, эксель, считается, это, просто\",\"\\u003cb\\u003eTopic 0\\u003c\\u002fb\\u003e\\u003cbr\\u003eWords: это почему раньше, почему раньше злая, почему раньше, одном чате сидела, злая тобой одном\",\"\\u003cb\\u003eTopic 0\\u003c\\u002fb\\u003e\\u003cbr\\u003eWords: происходит, это, просто, ссылка, курс\",\"\\u003cb\\u003eTopic 0\\u003c\\u002fb\\u003e\\u003cbr\\u003eWords: мариян umagalova, umagalova, мариян, это, просто\",\"\\u003cb\\u003eTopic 0\\u003c\\u002fb\\u003e\\u003cbr\\u003eWords: топоваянадпись чисто твой, ава топоваянадпись чисто, чисто твой девиз, топоваянадпись чисто, топоваянадпись\",\"\\u003cb\\u003eTopic 0\\u003c\\u002fb\\u003e\\u003cbr\\u003eWords: удалят, думаешь удалят, думаешь, это, просто\",\"\\u003cb\\u003eTopic 0\\u003c\\u002fb\\u003e\\u003cbr\\u003eWords: нехочу людям утра, утра настроение портить, утра настроение, утра, нехочу людям\",\"\\u003cb\\u003eTopic 0\\u003c\\u002fb\\u003e\\u003cbr\\u003eWords: 6к вместо изза, инфляции берешь, 6к вместо, изза инфляции, вместо изза инфляции\",\"\\u003cb\\u003eTopic 0\\u003c\\u002fb\\u003e\\u003cbr\\u003eWords: мск вернулась, вернулась, мск, это, просто\",\"\\u003cb\\u003eTopic 0\\u003c\\u002fb\\u003e\\u003cbr\\u003eWords: должен ща просто, должен ща, ща просто, должен, ща\",\"\\u003cb\\u003eTopic 0\\u003c\\u002fb\\u003e\\u003cbr\\u003eWords: это, просто, ссылка, курс, nda\",\"\\u003cb\\u003eTopic 0\\u003c\\u002fb\\u003e\\u003cbr\\u003eWords: громко, громко сказано, берешь громко, пока никто, берешь громко сказано\",\"\\u003cb\\u003eTopic 0\\u003c\\u002fb\\u003e\\u003cbr\\u003eWords: писать этим, этим вопросам могу, могу узнать твою, твою, вопросам могу узнать\",\"\\u003cb\\u003eTopic 0\\u003c\\u002fb\\u003e\\u003cbr\\u003eWords: программы практикума просто, слово всем, всем писали честнее, всем писали, программы практикума\",\"\\u003cb\\u003eTopic 0\\u003c\\u002fb\\u003e\\u003cbr\\u003eWords: ди залететь обучаясь, млии нужны меньше, хайпово млии нужны, нужны меньше, хайпово млии\",\"\\u003cb\\u003eTopic 0\\u003c\\u002fb\\u003e\\u003cbr\\u003eWords: всё, осталась обманутыми ожиданиями, таким обм, положен итоге обучения, куратору качестве\",\"\\u003cb\\u003eTopic 0\\u003c\\u002fb\\u003e\\u003cbr\\u003eWords: ожиданий, обманутых ожиданий, обманутых, трека правило, правило обманутых ожиданий\",\"\\u003cb\\u003eTopic 0\\u003c\\u002fb\\u003e\\u003cbr\\u003eWords: че работяги, че работяги говорят, работяги говорят, работяги, че\",\"\\u003cb\\u003eTopic 0\\u003c\\u002fb\\u003e\\u003cbr\\u003eWords: дада, дада шо, дада шо работяги, работяги думают, шо\",\"\\u003cb\\u003eTopic 0\\u003c\\u002fb\\u003e\\u003cbr\\u003eWords: половину прошел, ниасилил половину, выгорел херам, прошел выгорел херам, прошел выгорел\",\"\\u003cb\\u003eTopic 0\\u003c\\u002fb\\u003e\\u003cbr\\u003eWords: печаль, популярный, печаль прям, должен старт, почему перенесли\",\"\\u003cb\\u003eTopic 0\\u003c\\u002fb\\u003e\\u003cbr\\u003eWords: какие знания входе, какие знания, входе, знаю какие знания, знаю какие\",\"\\u003cb\\u003eTopic 0\\u003c\\u002fb\\u003e\\u003cbr\\u003eWords: ооп питона, питона, ооп, это, просто\",\"\\u003cb\\u003eTopic 0\\u003c\\u002fb\\u003e\\u003cbr\\u003eWords: ктото, ктото ооп, ооп этих, стиле ктото, ктото функциональном\",\"\\u003cb\\u003eTopic 0\\u003c\\u002fb\\u003e\\u003cbr\\u003eWords: проблема тесты, бывало, тупо принимали, моё время основная, одним заданием\",\"\\u003cb\\u003eTopic 0\\u003c\\u002fb\\u003e\\u003cbr\\u003eWords: понимаю автотесты, гите, попробую понимаю, попробую, автотесты гите\",\"\\u003cb\\u003eTopic 0\\u003c\\u002fb\\u003e\\u003cbr\\u003eWords: тренажере, это, просто, ссылка, курс\",\"\\u003cb\\u003eTopic 0\\u003c\\u002fb\\u003e\\u003cbr\\u003eWords: докер образ окружением, образ, докер образ, докер, окружением нем занимаешься\",\"\\u003cb\\u003eTopic 0\\u003c\\u002fb\\u003e\\u003cbr\\u003eWords: интересно курс, интересно, курс, это, просто\",\"\\u003cb\\u003eTopic 0\\u003c\\u002fb\\u003e\\u003cbr\\u003eWords: курс, сутки жить увы, увы самостоятельно, отвечали вопросы сутки, отвечали вопросы\",\"\\u003cb\\u003eTopic 0\\u003c\\u002fb\\u003e\\u003cbr\\u003eWords: проблем, изза, данные ожидал, переставали проходить проверки, предоставляют довольно\",\"\\u003cb\\u003eTopic 0\\u003c\\u002fb\\u003e\\u003cbr\\u003eWords: использовал закончил, привет прям нуля, нихрена, вымораживали, спринтов пятый\",\"\\u003cb\\u003eTopic 0\\u003c\\u002fb\\u003e\\u003cbr\\u003eWords: сразу вопросы, легче, вопросы отвечали быстрее, вопросы отвечали, стресса претензий практикуму\",\"\\u003cb\\u003eTopic 0\\u003c\\u002fb\\u003e\\u003cbr\\u003eWords: грешишь, это просто возраст, курс грешишь, возраст, возраст курс\",\"\\u003cb\\u003eTopic 0\\u003c\\u002fb\\u003e\\u003cbr\\u003eWords: пойти, тебе просто пойти, тебе просто, просто пойти лес, пойти лес\"],\"marker\":{\"color\":\"#E69F00\"},\"mode\":\"lines\",\"name\":\"0_это_просто_ссылка_курс\",\"x\":[\"2025-02-03T11:52:20\",\"2025-02-03T11:52:37\",\"2025-02-03T11:55:09\",\"2025-02-03T11:56:57\",\"2025-02-03T11:59:48\",\"2025-02-03T12:04:34\",\"2025-02-03T12:14:45\",\"2025-02-03T12:15:23\",\"2025-02-03T12:16:12\",\"2025-02-03T12:17:54\",\"2025-02-03T12:20:00\",\"2025-02-03T12:20:07\",\"2025-02-03T12:20:32\",\"2025-02-03T12:20:52\",\"2025-02-03T12:23:11\",\"2025-02-04T11:07:27\",\"2025-02-04T11:30:03\",\"2025-02-04T11:42:07\",\"2025-02-04T11:49:08\",\"2025-02-04T11:55:05\",\"2025-02-04T12:12:46\",\"2025-02-04T12:14:51\",\"2025-02-04T12:14:57\",\"2025-02-04T12:15:34\",\"2025-02-04T13:22:41\",\"2025-02-04T14:54:20\",\"2025-02-04T14:55:17\",\"2025-02-04T14:55:59\",\"2025-02-04T14:56:45\",\"2025-02-04T15:24:55\",\"2025-02-04T15:25:40\",\"2025-02-04T15:26:57\",\"2025-02-04T16:02:36\",\"2025-02-04T16:04:17\",\"2025-02-04T16:10:49\",\"2025-02-04T16:12:22\",\"2025-02-04T16:14:04\",\"2025-02-04T16:14:32\",\"2025-02-04T16:15:38\",\"2025-02-04T16:16:13\",\"2025-02-04T16:18:00\",\"2025-02-04T16:18:41\",\"2025-02-04T16:18:59\",\"2025-02-04T16:24:21\",\"2025-02-04T16:24:35\",\"2025-02-04T17:57:47\",\"2025-02-04T18:26:08\",\"2025-02-04T18:26:31\",\"2025-02-04T18:27:04\",\"2025-02-04T18:30:57\",\"2025-02-04T19:46:20\",\"2025-02-04T19:48:50\",\"2025-02-04T19:50:39\",\"2025-02-04T19:51:30\",\"2025-02-04T19:57:11\",\"2025-02-05T18:22:25\",\"2025-02-05T18:23:58\",\"2025-02-05T18:30:41\",\"2025-02-05T18:32:23\",\"2025-02-05T18:55:48\",\"2025-02-05T20:09:56\",\"2025-02-05T20:12:35\",\"2025-02-05T21:28:25\",\"2025-02-05T21:29:07\",\"2025-02-05T21:59:31\",\"2025-02-05T22:01:15\",\"2025-02-05T22:02:39\",\"2025-02-05T22:04:50\",\"2025-02-05T22:52:23\",\"2025-02-05T22:56:48\",\"2025-02-06T03:40:17\",\"2025-02-06T07:39:23\",\"2025-02-06T09:10:51\",\"2025-02-06T09:15:52\",\"2025-02-06T14:23:52\",\"2025-02-06T22:01:28\",\"2025-02-06T22:03:37\",\"2025-02-07T19:18:53\",\"2025-02-07T19:19:13\",\"2025-02-08T13:37:32\",\"2025-02-08T23:59:59\",\"2025-02-10T11:33:34\",\"2025-02-10T11:35:59\",\"2025-02-10T12:01:39\",\"2025-02-10T12:02:11\",\"2025-02-10T12:02:48\",\"2025-02-11T23:49:27\",\"2025-02-12T08:44:27\",\"2025-02-12T08:58:52\",\"2025-02-13T17:44:03\",\"2025-02-13T19:44:58\",\"2025-02-14T13:48:21\",\"2025-02-17T10:55:30\",\"2025-02-17T13:18:28\",\"2025-02-17T14:14:43\",\"2025-02-19T10:48:03\",\"2025-02-19T11:41:53\",\"2025-02-19T11:44:15\",\"2025-02-19T12:33:35\",\"2025-02-19T12:36:17\",\"2025-02-19T13:46:14\",\"2025-02-19T13:49:25\",\"2025-02-19T15:01:53\",\"2025-02-20T20:57:20\",\"2025-02-20T22:07:55\",\"2025-02-20T22:18:00\",\"2025-02-20T22:21:05\",\"2025-02-20T22:22:52\",\"2025-02-20T23:38:48\",\"2025-02-20T23:45:32\",\"2025-02-21T00:33:12\",\"2025-02-21T09:57:49\",\"2025-02-21T14:36:37\",\"2025-02-21T14:39:09\",\"2025-02-21T14:43:01\",\"2025-02-21T14:46:04\",\"2025-02-21T14:47:58\",\"2025-02-21T23:35:17\",\"2025-02-22T07:15:17\",\"2025-02-22T09:51:07\",\"2025-02-22T09:53:42\",\"2025-02-22T09:54:57\",\"2025-02-22T09:55:57\",\"2025-02-22T09:58:20\",\"2025-02-22T09:59:25\",\"2025-02-22T14:23:38\",\"2025-02-22T14:57:50\",\"2025-02-24T10:00:50\",\"2025-02-24T10:29:50\",\"2025-02-24T10:51:40\",\"2025-02-24T10:53:21\",\"2025-02-24T10:55:23\",\"2025-02-24T11:16:44\",\"2025-02-24T11:27:52\",\"2025-02-24T11:29:33\",\"2025-02-24T11:39:28\",\"2025-02-24T12:21:59\",\"2025-02-24T13:05:29\",\"2025-02-24T13:14:24\",\"2025-02-24T13:15:21\",\"2025-02-24T13:42:13\",\"2025-02-24T14:43:33\",\"2025-02-24T15:52:43\",\"2025-02-24T16:12:08\",\"2025-02-24T16:17:06\",\"2025-02-24T16:22:09\",\"2025-02-25T10:10:10\",\"2025-02-25T10:13:24\",\"2025-02-25T19:10:02\",\"2025-02-25T19:11:32\",\"2025-02-25T19:15:45\",\"2025-02-25T19:25:51\",\"2025-02-25T19:33:47\",\"2025-02-26T10:22:56\",\"2025-02-26T10:31:34\",\"2025-02-26T10:41:04\",\"2025-02-26T10:59:08\",\"2025-02-26T11:25:31\",\"2025-02-26T17:05:23\",\"2025-02-26T17:10:11\",\"2025-02-27T10:41:14\",\"2025-02-27T10:42:10\",\"2025-02-27T10:42:47\",\"2025-02-27T10:44:24\",\"2025-02-27T10:45:26\",\"2025-02-27T10:46:13\",\"2025-02-27T10:46:44\",\"2025-02-27T10:46:52\",\"2025-02-27T10:55:24\",\"2025-02-27T11:01:50\",\"2025-02-27T11:05:37\",\"2025-02-27T12:12:13\",\"2025-02-27T13:20:39\",\"2025-02-27T13:27:37\",\"2025-02-27T18:27:05\",\"2025-02-27T18:33:30\"],\"y\":[1,1,1,1,1,1,1,1,1,1,1,1,1,2,1,1,1,1,1,1,1,1,1,1,1,1,1,1,1,1,1,1,1,1,1,1,1,1,1,1,1,1,1,1,2,1,1,1,1,1,1,1,1,1,1,1,1,1,1,1,1,1,1,1,1,1,1,1,1,1,1,1,1,1,1,1,1,1,1,1,1,1,1,1,1,1,1,1,1,1,1,1,1,1,1,1,1,1,1,1,1,1,1,1,1,1,1,1,1,1,1,1,1,1,1,1,1,1,1,1,1,1,1,1,1,1,1,1,1,1,1,1,1,1,1,1,1,1,1,1,1,1,1,1,1,1,1,1,1,1,1,1,1,1,1,1,1,1,1,1,1,1,1,1,1,1,1,1,1,1,1,1,1,1,1,1],\"type\":\"scatter\"},{\"hoverinfo\":\"text\",\"hovertext\":[\"\\u003cb\\u003eTopic 1\\u003c\\u002fb\\u003e\\u003cbr\\u003eWords: раздражает, это раздражает, это, спасибо, тебе\",\"\\u003cb\\u003eTopic 1\\u003c\\u002fb\\u003e\\u003cbr\\u003eWords: боже, боже рейтинге тебе, рейтинге тебе, боже рейтинге, рейтинге тебе спасибо\",\"\\u003cb\\u003eTopic 1\\u003c\\u002fb\\u003e\\u003cbr\\u003eWords: стоит благодарности, благодарности хочу, хочу жить, стоит благодарности хочу, благодарности хочу жить\",\"\\u003cb\\u003eTopic 1\\u003c\\u002fb\\u003e\\u003cbr\\u003eWords: блин, спасибо, тебе, тебе спасибо, super_ira\",\"\\u003cb\\u003eTopic 1\\u003c\\u002fb\\u003e\\u003cbr\\u003eWords: спасибо топ, топ, топ скинул, спасибо топ скинул, скинул\",\"\\u003cb\\u003eTopic 1\\u003c\\u002fb\\u003e\\u003cbr\\u003eWords: тебе спасибо, тебе, спасибо, super_ira, ещё\",\"\\u003cb\\u003eTopic 1\\u003c\\u002fb\\u003e\\u003cbr\\u003eWords: спасибо заботу, заботу, спасибо, тебе, тебе спасибо\",\"\\u003cb\\u003eTopic 1\\u003c\\u002fb\\u003e\\u003cbr\\u003eWords: ещё аналитику, аналитику, ещё, спасибо, тебе\",\"\\u003cb\\u003eTopic 1\\u003c\\u002fb\\u003e\\u003cbr\\u003eWords: зря, спасибо, тебе, тебе спасибо, super_ira\",\"\\u003cb\\u003eTopic 1\\u003c\\u002fb\\u003e\\u003cbr\\u003eWords: слабонервных, спасибо, тебе, тебе спасибо, super_ira\",\"\\u003cb\\u003eTopic 1\\u003c\\u002fb\\u003e\\u003cbr\\u003eWords: поживем, поживем увидим, увидим, спасибо, тебе\",\"\\u003cb\\u003eTopic 1\\u003c\\u002fb\\u003e\\u003cbr\\u003eWords: спасибо, тебе, тебе спасибо, super_ira, ещё\",\"\\u003cb\\u003eTopic 1\\u003c\\u002fb\\u003e\\u003cbr\\u003eWords: тексте, сути, тексте предложения, сути тексте предложения, сути тексте\",\"\\u003cb\\u003eTopic 1\\u003c\\u002fb\\u003e\\u003cbr\\u003eWords: спрос предложение, спрос, предложение, спасибо, тебе\",\"\\u003cb\\u003eTopic 1\\u003c\\u002fb\\u003e\\u003cbr\\u003eWords: попрошу немного терпения, непредвиденные сложности, непредвиденные, немного терпения технические, терпения\",\"\\u003cb\\u003eTopic 1\\u003c\\u002fb\\u003e\\u003cbr\\u003eWords: отшибаешь, детка, детка отшибаешь, детка отшибаешь память, отшибаешь память\",\"\\u003cb\\u003eTopic 1\\u003c\\u002fb\\u003e\\u003cbr\\u003eWords: гладко, гладко стелешь, стелешь, спасибо, тебе\",\"\\u003cb\\u003eTopic 1\\u003c\\u002fb\\u003e\\u003cbr\\u003eWords: просто место занято, занято увыувы, увыувы, просто место, место занято\",\"\\u003cb\\u003eTopic 1\\u003c\\u002fb\\u003e\\u003cbr\\u003eWords: андреем, будем честными, андреем будем честными, андреем будем, честными\",\"\\u003cb\\u003eTopic 1\\u003c\\u002fb\\u003e\\u003cbr\\u003eWords: интрига, спасибо, тебе, тебе спасибо, super_ira\",\"\\u003cb\\u003eTopic 1\\u003c\\u002fb\\u003e\\u003cbr\\u003eWords: работу потеряешь бдительность, уедешь работу потеряешь, когдато, когдато уедешь, бдительность\",\"\\u003cb\\u003eTopic 1\\u003c\\u002fb\\u003e\\u003cbr\\u003eWords: надейся, спасибо, тебе, тебе спасибо, super_ira\",\"\\u003cb\\u003eTopic 1\\u003c\\u002fb\\u003e\\u003cbr\\u003eWords: могу, спасибо, тебе, тебе спасибо, super_ira\",\"\\u003cb\\u003eTopic 1\\u003c\\u002fb\\u003e\\u003cbr\\u003eWords: сердце, мое сердце, заставлять выбирать, сердце разбилось смайлик, разбилось смайлик буду\",\"\\u003cb\\u003eTopic 1\\u003c\\u002fb\\u003e\\u003cbr\\u003eWords: абьюзивно, спасибо, тебе, тебе спасибо, super_ira\",\"\\u003cb\\u003eTopic 1\\u003c\\u002fb\\u003e\\u003cbr\\u003eWords: полиамор извини, полиамор, просто полиамор извини, просто полиамор, извини\",\"\\u003cb\\u003eTopic 1\\u003c\\u002fb\\u003e\\u003cbr\\u003eWords: сознание называется, называется, ассертивное сознание называется, ассертивное сознание, ассертивное\",\"\\u003cb\\u003eTopic 1\\u003c\\u002fb\\u003e\\u003cbr\\u003eWords: выйду, спасибо, тебе, тебе спасибо, super_ira\",\"\\u003cb\\u003eTopic 1\\u003c\\u002fb\\u003e\\u003cbr\\u003eWords: ассертивность захват, захват, ассертивность, спасибо, тебе\",\"\\u003cb\\u003eTopic 1\\u003c\\u002fb\\u003e\\u003cbr\\u003eWords: фаза, фаза гипомании, гипомании, звучит фаза, звучит фаза гипомании\",\"\\u003cb\\u003eTopic 1\\u003c\\u002fb\\u003e\\u003cbr\\u003eWords: скорее личного, скорее личного опыта, групповой, терапии личной групповой, личного\",\"\\u003cb\\u003eTopic 1\\u003c\\u002fb\\u003e\\u003cbr\\u003eWords: знаю, спасибо, тебе, тебе спасибо, super_ira\",\"\\u003cb\\u003eTopic 1\\u003c\\u002fb\\u003e\\u003cbr\\u003eWords: недалеко, онлифанса, онлифанса недалеко, спасибо, тебе\",\"\\u003cb\\u003eTopic 1\\u003c\\u002fb\\u003e\\u003cbr\\u003eWords: её аналитику, её, аналитику, спасибо, тебе\",\"\\u003cb\\u003eTopic 1\\u003c\\u002fb\\u003e\\u003cbr\\u003eWords: super_ira подумай, подумай, super_ira, спасибо, тебе\",\"\\u003cb\\u003eTopic 1\\u003c\\u002fb\\u003e\\u003cbr\\u003eWords: никуда, спасибо, тебе, тебе спасибо, super_ira\",\"\\u003cb\\u003eTopic 1\\u003c\\u002fb\\u003e\\u003cbr\\u003eWords: нужен пробник, пробник, нужен, спасибо, тебе\",\"\\u003cb\\u003eTopic 1\\u003c\\u002fb\\u003e\\u003cbr\\u003eWords: ало, пробник ало, пробник, спасибо, тебе\",\"\\u003cb\\u003eTopic 1\\u003c\\u002fb\\u003e\\u003cbr\\u003eWords: форма работает, форма, работает, спасибо, тебе\",\"\\u003cb\\u003eTopic 1\\u003c\\u002fb\\u003e\\u003cbr\\u003eWords: хорош, спасибо, тебе, тебе спасибо, super_ira\",\"\\u003cb\\u003eTopic 1\\u003c\\u002fb\\u003e\\u003cbr\\u003eWords: знаю начать, начать, знаю, спасибо, тебе\",\"\\u003cb\\u003eTopic 1\\u003c\\u002fb\\u003e\\u003cbr\\u003eWords: жилье квартирашеринг, жить одном жилье, перебор, сама предлагай жить, одном жилье квартирашеринг\",\"\\u003cb\\u003eTopic 1\\u003c\\u002fb\\u003e\\u003cbr\\u003eWords: получит, спасибо, тебе, тебе спасибо, super_ira\",\"\\u003cb\\u003eTopic 1\\u003c\\u002fb\\u003e\\u003cbr\\u003eWords: чат тебе спасибо, чат тебе, оживили, оживили чат, оживили чат тебе\",\"\\u003cb\\u003eTopic 1\\u003c\\u002fb\\u003e\\u003cbr\\u003eWords: спасибо super_ira, super_ira высокую планку, super_ira высокую, спасибо super_ira высокую, планку\",\"\\u003cb\\u003eTopic 1\\u003c\\u002fb\\u003e\\u003cbr\\u003eWords: спасибо тебе это, тебе это, спасибо тебе, тебе, спасибо\",\"\\u003cb\\u003eTopic 1\\u003c\\u002fb\\u003e\\u003cbr\\u003eWords: открытка, super_ira тебе, super_ira тебе открытка, тебе открытка, super_ira\",\"\\u003cb\\u003eTopic 1\\u003c\\u002fb\\u003e\\u003cbr\\u003eWords: спасибо, тебе, тебе спасибо, super_ira, ещё\",\"\\u003cb\\u003eTopic 1\\u003c\\u002fb\\u003e\\u003cbr\\u003eWords: кирби, кирби подорожал ужас, ужас, подорожал, подорожал ужас\",\"\\u003cb\\u003eTopic 1\\u003c\\u002fb\\u003e\\u003cbr\\u003eWords: мимо, спасибо, тебе, тебе спасибо, super_ira\",\"\\u003cb\\u003eTopic 1\\u003c\\u002fb\\u003e\\u003cbr\\u003eWords: спасиьо, валерия хотелось, валерия хотелось услышать, хотелось услышать, хотелось услышать спасиьо\",\"\\u003cb\\u003eTopic 1\\u003c\\u002fb\\u003e\\u003cbr\\u003eWords: думаешь люди, думаешь люди 200, 200, 200 живут, люди 200 живут\",\"\\u003cb\\u003eTopic 1\\u003c\\u002fb\\u003e\\u003cbr\\u003eWords: водой мыть, глаза святой, святой водой, святой, глаза святой водой\",\"\\u003cb\\u003eTopic 1\\u003c\\u002fb\\u003e\\u003cbr\\u003eWords: нравится, спасибо, тебе, тебе спасибо, super_ira\",\"\\u003cb\\u003eTopic 1\\u003c\\u002fb\\u003e\\u003cbr\\u003eWords: снежная, снежная луна, луна, сегодня снежная, сегодня снежная луна\",\"\\u003cb\\u003eTopic 1\\u003c\\u002fb\\u003e\\u003cbr\\u003eWords: превосходстве, регулярно напоминаешь превосходстве, превосходстве женщин мужчинами, превосходстве женщин, мужчинами\",\"\\u003cb\\u003eTopic 1\\u003c\\u002fb\\u003e\\u003cbr\\u003eWords: фото лет, фото, лет, спасибо, тебе\",\"\\u003cb\\u003eTopic 1\\u003c\\u002fb\\u003e\\u003cbr\\u003eWords: поймал покемона, покемона, поймал, спасибо, тебе\",\"\\u003cb\\u003eTopic 1\\u003c\\u002fb\\u003e\\u003cbr\\u003eWords: времени каждого направлений, время времени каждого, время времени, появляются время, появляются время времени\",\"\\u003cb\\u003eTopic 1\\u003c\\u002fb\\u003e\\u003cbr\\u003eWords: акселерации регулярно, регулярно появляются, акселерации регулярно появляются, появляются, регулярно\",\"\\u003cb\\u003eTopic 1\\u003c\\u002fb\\u003e\\u003cbr\\u003eWords: одного покемона, покемона поймал, одного, одного покемона поймал, покемона\",\"\\u003cb\\u003eTopic 1\\u003c\\u002fb\\u003e\\u003cbr\\u003eWords: тебе избегать, очевидных, ловушек, тебе избегать очевидных, очевидных ловушек\",\"\\u003cb\\u003eTopic 1\\u003c\\u002fb\\u003e\\u003cbr\\u003eWords: фанаты спасибо, фанаты, самые, хейтеры самые преданные, хейтеры самые\",\"\\u003cb\\u003eTopic 1\\u003c\\u002fb\\u003e\\u003cbr\\u003eWords: прекрасный лидер, прекрасный, имхо, лидер, лидер имхо\",\"\\u003cb\\u003eTopic 1\\u003c\\u002fb\\u003e\\u003cbr\\u003eWords: какбудто, спасибо, тебе, тебе спасибо, super_ira\",\"\\u003cb\\u003eTopic 1\\u003c\\u002fb\\u003e\\u003cbr\\u003eWords: напоминает, абъюзер, внутренний, внутренний абъюзер, абъюзер напоминает\",\"\\u003cb\\u003eTopic 1\\u003c\\u002fb\\u003e\\u003cbr\\u003eWords: отмазка желание, придумать чему, чему ещё, чему ещё придраться, желание придумать чему\",\"\\u003cb\\u003eTopic 1\\u003c\\u002fb\\u003e\\u003cbr\\u003eWords: ишак, спасибо, тебе, тебе спасибо, super_ira\",\"\\u003cb\\u003eTopic 1\\u003c\\u002fb\\u003e\\u003cbr\\u003eWords: худший, вариант, худший вариант, спасибо, тебе\",\"\\u003cb\\u003eTopic 1\\u003c\\u002fb\\u003e\\u003cbr\\u003eWords: ишачить, хрен, хрен ишачить, спасибо, тебе\",\"\\u003cb\\u003eTopic 1\\u003c\\u002fb\\u003e\\u003cbr\\u003eWords: могу гифки, гифки, могу, спасибо, тебе\",\"\\u003cb\\u003eTopic 1\\u003c\\u002fb\\u003e\\u003cbr\\u003eWords: охранник, спасибо, тебе, тебе спасибо, super_ira\",\"\\u003cb\\u003eTopic 1\\u003c\\u002fb\\u003e\\u003cbr\\u003eWords: обещаешь, спасибо, тебе, тебе спасибо, super_ira\",\"\\u003cb\\u003eTopic 1\\u003c\\u002fb\\u003e\\u003cbr\\u003eWords: стесняюсь, спасибо, тебе, тебе спасибо, super_ira\",\"\\u003cb\\u003eTopic 1\\u003c\\u002fb\\u003e\\u003cbr\\u003eWords: курить, кем кальян работе, кем кальян, работе курить, кальян работе курить\",\"\\u003cb\\u003eTopic 1\\u003c\\u002fb\\u003e\\u003cbr\\u003eWords: наврядли, такую опытную наврядли, такую опытную, опытную наврядли, опытную\",\"\\u003cb\\u003eTopic 1\\u003c\\u002fb\\u003e\\u003cbr\\u003eWords: противный, спасибо, тебе, тебе спасибо, super_ira\",\"\\u003cb\\u003eTopic 1\\u003c\\u002fb\\u003e\\u003cbr\\u003eWords: пользоваться, пользоваться сберчатом, сберчатом, заставят пользоваться, заставят\",\"\\u003cb\\u003eTopic 1\\u003c\\u002fb\\u003e\\u003cbr\\u003eWords: вкусы специфичны, специфичны, твои вкусы специфичны, вкусы, твои вкусы\",\"\\u003cb\\u003eTopic 1\\u003c\\u002fb\\u003e\\u003cbr\\u003eWords: звучит анализы, звучит анализы сдать, анализы, анализы сдать, сдать\",\"\\u003cb\\u003eTopic 1\\u003c\\u002fb\\u003e\\u003cbr\\u003eWords: расстраиваться, некому расстраиваться, некому, спасибо, тебе\",\"\\u003cb\\u003eTopic 1\\u003c\\u002fb\\u003e\\u003cbr\\u003eWords: подозрения, вызываешь, вызываешь подозрения, спасибо, тебе\",\"\\u003cb\\u003eTopic 1\\u003c\\u002fb\\u003e\\u003cbr\\u003eWords: 15, минут 15, маааксимум минут 15, маааксимум минут, маааксимум\",\"\\u003cb\\u003eTopic 1\\u003c\\u002fb\\u003e\\u003cbr\\u003eWords: портки, спасибо, тебе, тебе спасибо, super_ira\",\"\\u003cb\\u003eTopic 1\\u003c\\u002fb\\u003e\\u003cbr\\u003eWords: утро портков, портков, субботнее утро, субботнее утро портков, субботнее\",\"\\u003cb\\u003eTopic 1\\u003c\\u002fb\\u003e\\u003cbr\\u003eWords: знаешь, спасибо, тебе, тебе спасибо, super_ira\",\"\\u003cb\\u003eTopic 1\\u003c\\u002fb\\u003e\\u003cbr\\u003eWords: именно соевых, причем именно соевых, причем именно, соевых, причем\",\"\\u003cb\\u003eTopic 1\\u003c\\u002fb\\u003e\\u003cbr\\u003eWords: токсично, ппц токсично, ппц, спасибо, тебе\",\"\\u003cb\\u003eTopic 1\\u003c\\u002fb\\u003e\\u003cbr\\u003eWords: нюансами общения, небольшими нюансами общения, небольшими нюансами, небольшими, общения\",\"\\u003cb\\u003eTopic 1\\u003c\\u002fb\\u003e\\u003cbr\\u003eWords: понедельник сорян, сорян, понедельник, спасибо, тебе\",\"\\u003cb\\u003eTopic 1\\u003c\\u002fb\\u003e\\u003cbr\\u003eWords: токсичная, взаимопомощи, негатив злостьспасибо тебе, токсичная атмосфера взаимопомощи, негатив злостьспасибо\",\"\\u003cb\\u003eTopic 1\\u003c\\u002fb\\u003e\\u003cbr\\u003eWords: спасибо, тебе, тебе спасибо, super_ira, ещё\",\"\\u003cb\\u003eTopic 1\\u003c\\u002fb\\u003e\\u003cbr\\u003eWords: слали какаято команднаядружеская, друга слали, какаято команднаядружеская, какаято команднаядружеская атмосфера, друг\",\"\\u003cb\\u003eTopic 1\\u003c\\u002fb\\u003e\\u003cbr\\u003eWords: одобряю, диктатура одобряю, диктатура, спасибо, тебе\",\"\\u003cb\\u003eTopic 1\\u003c\\u002fb\\u003e\\u003cbr\\u003eWords: льду господа, поискал, правила крч, правила крч нашел, охуэнно\",\"\\u003cb\\u003eTopic 1\\u003c\\u002fb\\u003e\\u003cbr\\u003eWords: понимаю, спасибо, тебе, тебе спасибо, super_ira\",\"\\u003cb\\u003eTopic 1\\u003c\\u002fb\\u003e\\u003cbr\\u003eWords: первом пункте правил, первом пункте, первом, пункте правил, пункте\",\"\\u003cb\\u003eTopic 1\\u003c\\u002fb\\u003e\\u003cbr\\u003eWords: услышать спасибо почему, спасибо почему помочь, хотел услышать, хотел услышать спасибо, услышать спасибо\",\"\\u003cb\\u003eTopic 1\\u003c\\u002fb\\u003e\\u003cbr\\u003eWords: добрая, добрая спасибо, добрая спасибо тебе, спасибо тебе, тебе\",\"\\u003cb\\u003eTopic 1\\u003c\\u002fb\\u003e\\u003cbr\\u003eWords: спасибо освободила место, спасибо освободила, освободила место, освободила, место\",\"\\u003cb\\u003eTopic 1\\u003c\\u002fb\\u003e\\u003cbr\\u003eWords: токсиком, главным, главным токсиком, спасибо, тебе\",\"\\u003cb\\u003eTopic 1\\u003c\\u002fb\\u003e\\u003cbr\\u003eWords: блату передается, блату, передается, спасибо, тебе\",\"\\u003cb\\u003eTopic 1\\u003c\\u002fb\\u003e\\u003cbr\\u003eWords: одном, спасибо, тебе, тебе спасибо, super_ira\",\"\\u003cb\\u003eTopic 1\\u003c\\u002fb\\u003e\\u003cbr\\u003eWords: это считается, считается, это, спасибо, тебе\",\"\\u003cb\\u003eTopic 1\\u003c\\u002fb\\u003e\\u003cbr\\u003eWords: это понастоящему, понастоящему, это, спасибо, тебе\",\"\\u003cb\\u003eTopic 1\\u003c\\u002fb\\u003e\\u003cbr\\u003eWords: чата существует, существует, чата, спасибо, тебе\",\"\\u003cb\\u003eTopic 1\\u003c\\u002fb\\u003e\\u003cbr\\u003eWords: спасибо, тебе, тебе спасибо, super_ira, ещё\",\"\\u003cb\\u003eTopic 1\\u003c\\u002fb\\u003e\\u003cbr\\u003eWords: говорил, спасибо, тебе, тебе спасибо, super_ira\",\"\\u003cb\\u003eTopic 1\\u003c\\u002fb\\u003e\\u003cbr\\u003eWords: шутить, нашла кем шутить, нашла кем, нашла, кем шутить\",\"\\u003cb\\u003eTopic 1\\u003c\\u002fb\\u003e\\u003cbr\\u003eWords: обострение начинается, обострение, весеннее обострение начинается, щас весеннее, щас весеннее обострение\",\"\\u003cb\\u003eTopic 1\\u003c\\u002fb\\u003e\\u003cbr\\u003eWords: походу, круглогодичное походу, круглогодичное, спасибо, тебе\",\"\\u003cb\\u003eTopic 1\\u003c\\u002fb\\u003e\\u003cbr\\u003eWords: стесняешься, стесняешься понимаю, понимаю, спасибо, тебе\",\"\\u003cb\\u003eTopic 1\\u003c\\u002fb\\u003e\\u003cbr\\u003eWords: поспоришь, спасибо, тебе, тебе спасибо, super_ira\",\"\\u003cb\\u003eTopic 1\\u003c\\u002fb\\u003e\\u003cbr\\u003eWords: получится, спасибо, тебе, тебе спасибо, super_ira\",\"\\u003cb\\u003eTopic 1\\u003c\\u002fb\\u003e\\u003cbr\\u003eWords: спасибо, тебе, тебе спасибо, super_ira, ещё\",\"\\u003cb\\u003eTopic 1\\u003c\\u002fb\\u003e\\u003cbr\\u003eWords: кайф, спасибо, тебе, тебе спасибо, super_ira\",\"\\u003cb\\u003eTopic 1\\u003c\\u002fb\\u003e\\u003cbr\\u003eWords: заодно научишься, научишься, заодно, спасибо, тебе\",\"\\u003cb\\u003eTopic 1\\u003c\\u002fb\\u003e\\u003cbr\\u003eWords: умею, спасибо, тебе, тебе спасибо, super_ira\",\"\\u003cb\\u003eTopic 1\\u003c\\u002fb\\u003e\\u003cbr\\u003eWords: декабрь 23, декабрь, 23, спасибо, тебе\",\"\\u003cb\\u003eTopic 1\\u003c\\u002fb\\u003e\\u003cbr\\u003eWords: ещё вместо, вместо, ещё, спасибо, тебе\",\"\\u003cb\\u003eTopic 1\\u003c\\u002fb\\u003e\\u003cbr\\u003eWords: сэкономили, время тебе, быстрее работу найдёшь, время тебе сэкономили, быстрее работу\",\"\\u003cb\\u003eTopic 1\\u003c\\u002fb\\u003e\\u003cbr\\u003eWords: речь именно, речь именно своих, ожиданиях базар вокзал, вокзал, ожиданиях\",\"\\u003cb\\u003eTopic 1\\u003c\\u002fb\\u003e\\u003cbr\\u003eWords: вообще, спасибо, тебе, тебе спасибо, super_ira\",\"\\u003cb\\u003eTopic 1\\u003c\\u002fb\\u003e\\u003cbr\\u003eWords: понял спасибо, понял, спасибо, тебе, тебе спасибо\",\"\\u003cb\\u003eTopic 1\\u003c\\u002fb\\u003e\\u003cbr\\u003eWords: нужен сопровождаюший пробем, сединеможем договор, заключить, уважением отношусь сединеможем, уважением отношусь\"],\"marker\":{\"color\":\"#56B4E9\"},\"mode\":\"lines\",\"name\":\"1_спасибо_тебе_тебе спасибо_super_ira\",\"x\":[\"2025-02-03T11:57:17\",\"2025-02-03T12:03:41\",\"2025-02-03T12:06:56\",\"2025-02-03T12:10:36\",\"2025-02-03T12:10:42\",\"2025-02-03T12:12:19\",\"2025-02-03T12:12:27\",\"2025-02-03T12:15:36\",\"2025-02-03T12:23:22\",\"2025-02-03T12:41:56\",\"2025-02-03T12:52:23\",\"2025-02-04T11:03:01\",\"2025-02-04T14:05:56\",\"2025-02-04T16:31:00\",\"2025-02-04T16:32:02\",\"2025-02-04T16:45:34\",\"2025-02-04T17:58:24\",\"2025-02-04T18:04:09\",\"2025-02-04T18:05:57\",\"2025-02-04T18:06:22\",\"2025-02-04T18:06:33\",\"2025-02-04T18:10:02\",\"2025-02-04T18:11:25\",\"2025-02-04T18:16:55\",\"2025-02-04T18:19:11\",\"2025-02-04T18:19:38\",\"2025-02-04T18:26:43\",\"2025-02-04T18:27:17\",\"2025-02-04T18:32:24\",\"2025-02-04T18:33:27\",\"2025-02-04T18:35:41\",\"2025-02-04T18:37:46\",\"2025-02-04T19:47:29\",\"2025-02-04T19:48:04\",\"2025-02-04T19:48:05\",\"2025-02-04T19:49:49\",\"2025-02-04T19:51:31\",\"2025-02-04T19:51:44\",\"2025-02-05T18:18:55\",\"2025-02-05T22:05:43\",\"2025-02-06T14:24:45\",\"2025-02-06T15:30:07\",\"2025-02-06T22:04:18\",\"2025-02-08T00:31:11\",\"2025-02-08T13:36:10\",\"2025-02-08T13:37:49\",\"2025-02-08T17:21:17\",\"2025-02-10T12:48:10\",\"2025-02-11T16:46:18\",\"2025-02-11T16:46:28\",\"2025-02-11T16:47:23\",\"2025-02-12T00:45:54\",\"2025-02-12T08:56:17\",\"2025-02-12T09:01:13\",\"2025-02-12T10:14:48\",\"2025-02-13T11:02:30\",\"2025-02-17T09:47:02\",\"2025-02-17T09:52:18\",\"2025-02-17T12:08:13\",\"2025-02-17T12:10:58\",\"2025-02-17T13:11:57\",\"2025-02-17T16:24:10\",\"2025-02-17T16:40:40\",\"2025-02-17T21:09:49\",\"2025-02-19T13:20:12\",\"2025-02-19T13:25:41\",\"2025-02-19T15:00:49\",\"2025-02-20T20:28:48\",\"2025-02-20T20:29:48\",\"2025-02-20T20:32:34\",\"2025-02-20T20:34:01\",\"2025-02-20T20:55:41\",\"2025-02-20T21:10:48\",\"2025-02-20T21:11:11\",\"2025-02-20T22:05:44\",\"2025-02-20T22:19:19\",\"2025-02-20T22:20:12\",\"2025-02-20T22:24:53\",\"2025-02-20T22:26:22\",\"2025-02-20T23:24:25\",\"2025-02-20T23:39:38\",\"2025-02-20T23:42:06\",\"2025-02-21T00:13:46\",\"2025-02-22T14:22:34\",\"2025-02-22T14:23:32\",\"2025-02-22T14:28:34\",\"2025-02-24T10:26:42\",\"2025-02-24T11:20:17\",\"2025-02-24T11:21:06\",\"2025-02-24T11:21:38\",\"2025-02-24T11:23:52\",\"2025-02-24T11:28:07\",\"2025-02-24T11:28:50\",\"2025-02-24T11:42:40\",\"2025-02-24T12:14:35\",\"2025-02-24T12:50:08\",\"2025-02-24T12:53:25\",\"2025-02-24T13:34:06\",\"2025-02-24T13:35:28\",\"2025-02-24T15:48:16\",\"2025-02-24T15:50:01\",\"2025-02-24T15:53:19\",\"2025-02-24T15:53:29\",\"2025-02-24T15:54:10\",\"2025-02-24T15:58:17\",\"2025-02-24T15:58:37\",\"2025-02-24T15:58:44\",\"2025-02-24T16:20:27\",\"2025-02-24T16:21:46\",\"2025-02-24T16:21:53\",\"2025-02-24T16:25:01\",\"2025-02-24T16:38:43\",\"2025-02-24T16:38:57\",\"2025-02-25T19:09:11\",\"2025-02-25T19:11:45\",\"2025-02-25T19:16:39\",\"2025-02-25T19:17:10\",\"2025-02-25T19:24:59\",\"2025-02-26T10:23:44\",\"2025-02-26T11:44:40\",\"2025-02-26T11:45:36\",\"2025-02-26T17:49:04\",\"2025-02-27T10:44:34\",\"2025-02-27T10:58:08\",\"2025-02-27T22:33:36\"],\"y\":[1,1,1,1,1,1,1,1,1,1,1,1,1,1,1,1,1,1,1,1,1,1,1,1,1,1,1,1,1,1,1,1,1,1,1,1,1,1,1,1,1,1,1,1,1,1,1,1,1,1,1,1,1,1,1,1,1,1,1,1,1,1,1,1,1,1,1,1,1,1,1,1,1,1,1,1,1,1,1,1,1,1,1,1,1,1,1,1,1,1,1,1,1,1,1,1,1,1,1,1,1,1,1,1,1,1,1,1,1,1,1,1,1,1,1,1,1,1,1,1,1,1,1,1,1],\"type\":\"scatter\"},{\"hoverinfo\":\"text\",\"hovertext\":[\"\\u003cb\\u003eTopic 2\\u003c\\u002fb\\u003e\\u003cbr\\u003eWords: многое, свой уютный, присаживайтесь поудобнее, свой уютный канал, уютный канал\",\"\\u003cb\\u003eTopic 2\\u003c\\u002fb\\u003e\\u003cbr\\u003eWords: обложке канала, канала голосовыеподкасты, голосовыеподкасты, голосовыеподкасты будут, канала голосовыеподкасты будут\",\"\\u003cb\\u003eTopic 2\\u003c\\u002fb\\u003e\\u003cbr\\u003eWords: данных, аналитик данных, курсов, аналитик, продуктового\",\"\\u003cb\\u003eTopic 2\\u003c\\u002fb\\u003e\\u003cbr\\u003eWords: опыт продумываниянастройки компании, интерфейс обычно это, обычно это, когото опыт продумываниянастройки, когото опыт\",\"\\u003cb\\u003eTopic 2\\u003c\\u002fb\\u003e\\u003cbr\\u003eWords: тестировщик, хм, тестировщик нахлебник, хм тестировщик нахлебник, хм тестировщик\",\"\\u003cb\\u003eTopic 2\\u003c\\u002fb\\u003e\\u003cbr\\u003eWords: каком месте тестировшик, месте тестировшик, тестировшик, каком, каком месте\",\"\\u003cb\\u003eTopic 2\\u003c\\u002fb\\u003e\\u003cbr\\u003eWords: зимних, зимних мехах, солнышко, мехах привет, солнышко зимних мехах\",\"\\u003cb\\u003eTopic 2\\u003c\\u002fb\\u003e\\u003cbr\\u003eWords: отсылка венеру, венеру мехах, отсылка венеру мехах, венеру, отсылка\",\"\\u003cb\\u003eTopic 2\\u003c\\u002fb\\u003e\\u003cbr\\u003eWords: информацией пройденных тестовых, создал тг канал, примере реальных кейсов, примере, чему готовиться примере\",\"\\u003cb\\u003eTopic 2\\u003c\\u002fb\\u003e\\u003cbr\\u003eWords: выдал, курсов психологии, психологии какойто хрестоматийный, хрестоматийный пример выдал, хрестоматийный пример\",\"\\u003cb\\u003eTopic 2\\u003c\\u002fb\\u003e\\u003cbr\\u003eWords: типа инструменты, инструменты, учился курсах типа, инструменты анализа данных, подавать\",\"\\u003cb\\u003eTopic 2\\u003c\\u002fb\\u003e\\u003cbr\\u003eWords: устроился работу, устроился, работу, данных, курсов\",\"\\u003cb\\u003eTopic 2\\u003c\\u002fb\\u003e\\u003cbr\\u003eWords: выгружал, ga4, ga4 выгружал сырые, ga4 выгружал, сырые данные когданибудь\",\"\\u003cb\\u003eTopic 2\\u003c\\u002fb\\u003e\\u003cbr\\u003eWords: вступление весь, весь карьерный трек, вступление, трек месяцев окончания, вступление весь карьерный\",\"\\u003cb\\u003eTopic 2\\u003c\\u002fb\\u003e\\u003cbr\\u003eWords: акселерацию, переходе акселерацию лежит, лежит уроке, сопроводительное письмо акселерацию, прошёл учебник сдал\",\"\\u003cb\\u003eTopic 2\\u003c\\u002fb\\u003e\\u003cbr\\u003eWords: вами, практикум, вместе, лет, синьоры практикум стал\",\"\\u003cb\\u003eTopic 2\\u003c\\u002fb\\u003e\\u003cbr\\u003eWords: навыкам, яндекс, практикума проводим следующий, потребность таковом, обучении пусть самостоятельно\",\"\\u003cb\\u003eTopic 2\\u003c\\u002fb\\u003e\\u003cbr\\u003eWords: стоит ожидать обратной, ожидать обратной связи, обратной связи взяли, взяли тестировать, здравствуйте\",\"\\u003cb\\u003eTopic 2\\u003c\\u002fb\\u003e\\u003cbr\\u003eWords: яндекс, ответов, достигнем требуемого, выборки, течение последн\",\"\\u003cb\\u003eTopic 2\\u003c\\u002fb\\u003e\\u003cbr\\u003eWords: праздником зайки, зайки, праздником, данных, курсов\",\"\\u003cb\\u003eTopic 2\\u003c\\u002fb\\u003e\\u003cbr\\u003eWords: дали, курс кстати, мусульманам рождения дали, доступ курс, дали доступ\",\"\\u003cb\\u003eTopic 2\\u003c\\u002fb\\u003e\\u003cbr\\u003eWords: практикума, информацию помощью, познакомились этапами, офисе яндекса, амбассадорами\",\"\\u003cb\\u003eTopic 2\\u003c\\u002fb\\u003e\\u003cbr\\u003eWords: кайфую этих перемен, какоголибо бэкграунда айти, стремительно расту грейде, мою жизнь, data science\",\"\\u003cb\\u003eTopic 2\\u003c\\u002fb\\u003e\\u003cbr\\u003eWords: обучения, упоминали мастерской время, ребят подскажите, часто курсе упоминали, 3яя обучения\",\"\\u003cb\\u003eTopic 2\\u003c\\u002fb\\u003e\\u003cbr\\u003eWords: пошел седьмой, пошел седьмой год, пошел, седьмой год, седьмой\",\"\\u003cb\\u003eTopic 2\\u003c\\u002fb\\u003e\\u003cbr\\u003eWords: доброго вечера подскажет, какие добротные, модели сегментации, соурсные модели сегментации, сегментации\",\"\\u003cb\\u003eTopic 2\\u003c\\u002fb\\u003e\\u003cbr\\u003eWords: вакансия, джун, стажировки нашел такого, единорога вакансия джун, единорога вакансия\",\"\\u003cb\\u003eTopic 2\\u003c\\u002fb\\u003e\\u003cbr\\u003eWords: скидки, id, id выпускника, выпускника, помогут делать жизнь\",\"\\u003cb\\u003eTopic 2\\u003c\\u002fb\\u003e\\u003cbr\\u003eWords: это тех, дипломы, получит дипломы, получит дипломы году, тех получит дипломы\",\"\\u003cb\\u003eTopic 2\\u003c\\u002fb\\u003e\\u003cbr\\u003eWords: меню попадаем выбор, заказа еды конец, единственная кнопка сайте, меню попадаем, вариантов заказа\",\"\\u003cb\\u003eTopic 2\\u003c\\u002fb\\u003e\\u003cbr\\u003eWords: работает заказы дней, считается подпиской такие, промокод работает заказы, такие дела, подпиской такие\",\"\\u003cb\\u003eTopic 2\\u003c\\u002fb\\u003e\\u003cbr\\u003eWords: сколько этапов, сколько этапов собеседований, собеседований, этапов собеседований, этапов\",\"\\u003cb\\u003eTopic 2\\u003c\\u002fb\\u003e\\u003cbr\\u003eWords: пройти, hr пройти, hr пройти дальше, понравится hr, пройти дальше такого\",\"\\u003cb\\u003eTopic 2\\u003c\\u002fb\\u003e\\u003cbr\\u003eWords: это разговор 3040, разговор 3040, разговор 3040 минут, 3040 минут, 3040\",\"\\u003cb\\u003eTopic 2\\u003c\\u002fb\\u003e\\u003cbr\\u003eWords: когданибудь собеседовала, сама когданибудь, когданибудь собеседовала людей, сама когданибудь собеседовала, собеседовала\",\"\\u003cb\\u003eTopic 2\\u003c\\u002fb\\u003e\\u003cbr\\u003eWords: петпроекты, ёлок разработать бота, портфолио рабочими кейсами, статье, таз\",\"\\u003cb\\u003eTopic 2\\u003c\\u002fb\\u003e\\u003cbr\\u003eWords: практикум, опыта, машинному обучению выстроить, специалистом машинному, данных набраться\",\"\\u003cb\\u003eTopic 2\\u003c\\u002fb\\u003e\\u003cbr\\u003eWords: продолжаю учиться ds, параллельно, работу da, da параллельно продолжаю, работу da параллельно\",\"\\u003cb\\u003eTopic 2\\u003c\\u002fb\\u003e\\u003cbr\\u003eWords: скидывать опросы, учебныхакадемических целей, коллеги подскажите пожалуйста, скидывать, подскажите пожалуйста\",\"\\u003cb\\u003eTopic 2\\u003c\\u002fb\\u003e\\u003cbr\\u003eWords: связь, жизни сериал, ксения, рано, её жизни сериал\",\"\\u003cb\\u003eTopic 2\\u003c\\u002fb\\u003e\\u003cbr\\u003eWords: группы, удаленных, сообщений, удаленных сообщений группы, профильные группы\",\"\\u003cb\\u003eTopic 2\\u003c\\u002fb\\u003e\\u003cbr\\u003eWords: саентистом, группа, профильная группа поиску, дата саентистом курсов, работы дата саентистом\",\"\\u003cb\\u003eTopic 2\\u003c\\u002fb\\u003e\\u003cbr\\u003eWords: обсуждать кажется пользы, всем примеры применения, примеры применения, дата обучения, всем примеры\",\"\\u003cb\\u003eTopic 2\\u003c\\u002fb\\u003e\\u003cbr\\u003eWords: живет отлично, также несёт, злости, место культивирования, несёт пользы формат\",\"\\u003cb\\u003eTopic 2\\u003c\\u002fb\\u003e\\u003cbr\\u003eWords: карьеру аналитика, карьеру, аналитика, данных, курсов\",\"\\u003cb\\u003eTopic 2\\u003c\\u002fb\\u003e\\u003cbr\\u003eWords: python разработчик, привет заканчивал, курс python разработчик, разработчик, курс python\",\"\\u003cb\\u003eTopic 2\\u003c\\u002fb\\u003e\\u003cbr\\u003eWords: хочешь разработку, разработку, отучился аналитика хочешь, отучился аналитика, аналитика хочешь\",\"\\u003cb\\u003eTopic 2\\u003c\\u002fb\\u003e\\u003cbr\\u003eWords: откликнулся вакансию, откликнулся, случайно откликнулся, случайно откликнулся вакансию, вакансию программиста\",\"\\u003cb\\u003eTopic 2\\u003c\\u002fb\\u003e\\u003cbr\\u003eWords: закончил python da, закончил python, году закончил python, году закончил, python da\",\"\\u003cb\\u003eTopic 2\\u003c\\u002fb\\u003e\\u003cbr\\u003eWords: поэтому зайти нам, трек течение, обучения поэтому зайти, программы карьерного трека, основного обучения поэтому\",\"\\u003cb\\u003eTopic 2\\u003c\\u002fb\\u003e\\u003cbr\\u003eWords: карьерный, карьерный трек, трек, указано карьерный трек, курсе предоставляется\",\"\\u003cb\\u003eTopic 2\\u003c\\u002fb\\u003e\\u003cbr\\u003eWords: курсы, объёме, курсе, данных, другом объёме курса\",\"\\u003cb\\u003eTopic 2\\u003c\\u002fb\\u003e\\u003cbr\\u003eWords: яндекс, курсы, курсы яндекс, яндекс доставки, подарок яндекс практикуму\",\"\\u003cb\\u003eTopic 2\\u003c\\u002fb\\u003e\\u003cbr\\u003eWords: коллеги студенты мессенджере, конце курса, мессенджере гиперсссылка, мессенджере, курса делились эксперты\",\"\\u003cb\\u003eTopic 2\\u003c\\u002fb\\u003e\\u003cbr\\u003eWords: смежных направлениях, сложный человека, знаниями, привет нуля знаний, знаниями смежных\",\"\\u003cb\\u003eTopic 2\\u003c\\u002fb\\u003e\\u003cbr\\u003eWords: заканчивали, данных, курсов, яндекс, привет\",\"\\u003cb\\u003eTopic 2\\u003c\\u002fb\\u003e\\u003cbr\\u003eWords: придется ходу, грустно учить придется, курса прям грустно, прям грустно, прям грустно учить\",\"\\u003cb\\u003eTopic 2\\u003c\\u002fb\\u003e\\u003cbr\\u003eWords: инженеры данных, выпускались, инженеры, нуля, данных\",\"\\u003cb\\u003eTopic 2\\u003c\\u002fb\\u003e\\u003cbr\\u003eWords: пороков команды, пороков, insights, data insights, пять\"],\"marker\":{\"color\":\"#009E73\"},\"mode\":\"lines\",\"name\":\"2_данных_курсов_яндекс_привет\",\"x\":[\"2025-02-03T11:28:38\",\"2025-02-03T12:51:22\",\"2025-02-04T10:51:10\",\"2025-02-04T13:13:49\",\"2025-02-04T13:25:17\",\"2025-02-04T13:52:04\",\"2025-02-04T15:32:40\",\"2025-02-04T15:35:28\",\"2025-02-04T16:06:19\",\"2025-02-04T18:35:12\",\"2025-02-05T19:37:32\",\"2025-02-05T22:01:03\",\"2025-02-06T00:07:18\",\"2025-02-07T18:51:56\",\"2025-02-07T19:20:32\",\"2025-02-08T15:02:23\",\"2025-02-11T14:36:37\",\"2025-02-11T16:45:14\",\"2025-02-13T12:38:00\",\"2025-02-14T13:45:51\",\"2025-02-14T13:48:57\",\"2025-02-17T09:41:21\",\"2025-02-17T09:44:46\",\"2025-02-17T09:46:00\",\"2025-02-17T09:50:22\",\"2025-02-17T23:53:50\",\"2025-02-18T13:27:39\",\"2025-02-19T10:27:04\",\"2025-02-19T10:28:47\",\"2025-02-19T13:22:06\",\"2025-02-19T13:26:24\",\"2025-02-20T22:02:43\",\"2025-02-20T23:41:47\",\"2025-02-21T00:13:24\",\"2025-02-21T00:16:23\",\"2025-02-21T14:03:04\",\"2025-02-21T23:21:21\",\"2025-02-22T09:01:45\",\"2025-02-22T14:22:16\",\"2025-02-22T15:05:25\",\"2025-02-24T10:37:02\",\"2025-02-24T10:39:30\",\"2025-02-24T10:48:56\",\"2025-02-24T11:19:03\",\"2025-02-24T11:27:33\",\"2025-02-24T12:36:36\",\"2025-02-24T12:47:03\",\"2025-02-24T12:50:21\",\"2025-02-26T10:24:11\",\"2025-02-26T10:25:40\",\"2025-02-26T10:27:35\",\"2025-02-26T10:34:18\",\"2025-02-26T11:50:02\",\"2025-02-26T17:57:20\",\"2025-02-27T10:39:08\",\"2025-02-27T10:40:55\",\"2025-02-27T14:08:46\",\"2025-02-27T14:10:05\",\"2025-02-27T20:01:03\"],\"y\":[1,1,1,1,1,1,1,1,1,1,1,1,1,1,1,1,1,1,1,1,1,1,1,1,1,1,1,1,1,1,1,1,1,1,1,1,1,1,1,1,1,1,1,1,1,1,1,1,1,1,1,1,1,1,1,1,1,1,1],\"type\":\"scatter\"},{\"hoverinfo\":\"text\",\"hovertext\":[\"\\u003cb\\u003eTopic 3\\u003c\\u002fb\\u003e\\u003cbr\\u003eWords: просили передать, просили, звонили, передать ждут, передать\",\"\\u003cb\\u003eTopic 3\\u003c\\u002fb\\u003e\\u003cbr\\u003eWords: ссылка, nda неактива, ссылка nda неактива, неактива, ссылка nda\",\"\\u003cb\\u003eTopic 3\\u003c\\u002fb\\u003e\\u003cbr\\u003eWords: ссылка, запросите новую ссылку, ссылка неактивна запросите, могу подписать, могу подписать nda\",\"\\u003cb\\u003eTopic 3\\u003c\\u002fb\\u003e\\u003cbr\\u003eWords: ссылка, nda неактивна, ссылка nda неактивна, неактивна, ссылка nda\",\"\\u003cb\\u003eTopic 3\\u003c\\u002fb\\u003e\\u003cbr\\u003eWords: написал саппорт, саппорт, написал, ссылка, nda\",\"\\u003cb\\u003eTopic 3\\u003c\\u002fb\\u003e\\u003cbr\\u003eWords: ссылка, запросите новую ссылку, ссылка неактивна запросите, могу подписать, могу подписать nda\",\"\\u003cb\\u003eTopic 3\\u003c\\u002fb\\u003e\\u003cbr\\u003eWords: ссылка, заявку nda ссылка, nda ссылка неактивна, nda ссылка, отправил заявку\",\"\\u003cb\\u003eTopic 3\\u003c\\u002fb\\u003e\\u003cbr\\u003eWords: ссылки готова подтвердить, оставила заявку ссылки, готова подтвердить станет, подтвердить, заявку ссылки готова\",\"\\u003cb\\u003eTopic 3\\u003c\\u002fb\\u003e\\u003cbr\\u003eWords: отправила ссылки, ссылки, отправила, ссылка, nda\",\"\\u003cb\\u003eTopic 3\\u003c\\u002fb\\u003e\\u003cbr\\u003eWords: ссылка, ссылка nda работает, nda работает, ссылка nda, работает\",\"\\u003cb\\u003eTopic 3\\u003c\\u002fb\\u003e\\u003cbr\\u003eWords: готова подписать станет, готова подписать, подписать станет, подписать станет доступной, отправила заявку nda\",\"\\u003cb\\u003eTopic 3\\u003c\\u002fb\\u003e\\u003cbr\\u003eWords: дополнительно, готова дополнительно, дополнительно подписать, заполнила заявку nda, заполнила заявку\",\"\\u003cb\\u003eTopic 3\\u003c\\u002fb\\u003e\\u003cbr\\u003eWords: nda, ссылка, заявку, неактивна, заявку nda\",\"\\u003cb\\u003eTopic 3\\u003c\\u002fb\\u003e\\u003cbr\\u003eWords: отправила заявку ссылки, отправила заявку, заявку ссылки, ссылки, отправила\",\"\\u003cb\\u003eTopic 3\\u003c\\u002fb\\u003e\\u003cbr\\u003eWords: nda, ссылка, заявку, неактивна, заявку nda\",\"\\u003cb\\u003eTopic 3\\u003c\\u002fb\\u003e\\u003cbr\\u003eWords: пока nda недоступен, отправил пока nda, отправил пока, недоступен, недоступен готов\",\"\\u003cb\\u003eTopic 3\\u003c\\u002fb\\u003e\\u003cbr\\u003eWords: отправил заявку, отправил заявку nda, заявку nda, отправил, заявку\",\"\\u003cb\\u003eTopic 3\\u003c\\u002fb\\u003e\\u003cbr\\u003eWords: коллеги решают вопрос, решают вопрос nda, коллеги решают, решают вопрос, решают\",\"\\u003cb\\u003eTopic 3\\u003c\\u002fb\\u003e\\u003cbr\\u003eWords: ответил, ссылка, nda, заявку, заявку nda\",\"\\u003cb\\u003eTopic 3\\u003c\\u002fb\\u003e\\u003cbr\\u003eWords: подписана, ссылка, nda, заявку, заявку nda\",\"\\u003cb\\u003eTopic 3\\u003c\\u002fb\\u003e\\u003cbr\\u003eWords: делиться таким сокровищем, готова делиться таким, делиться таким, боюсь получится, боюсь получится построить\",\"\\u003cb\\u003eTopic 3\\u003c\\u002fb\\u003e\\u003cbr\\u003eWords: сбор заявок завтра, заявок завтра, заявок, сбор заявок, открыта сбор заявок\",\"\\u003cb\\u003eTopic 3\\u003c\\u002fb\\u003e\\u003cbr\\u003eWords: nda вопросов, вопросов, nda, ссылка, заявку\",\"\\u003cb\\u003eTopic 3\\u003c\\u002fb\\u003e\\u003cbr\\u003eWords: ссылка, ссылка nda активна, nda активна, активна, ссылка nda\",\"\\u003cb\\u003eTopic 3\\u003c\\u002fb\\u003e\\u003cbr\\u003eWords: ссылка, ссылка nda активна, nda активна, активна, ссылка nda\",\"\\u003cb\\u003eTopic 3\\u003c\\u002fb\\u003e\\u003cbr\\u003eWords: отправила nda, отправила nda работает, заявку отправила, заявку отправила nda, nda работает\",\"\\u003cb\\u003eTopic 3\\u003c\\u002fb\\u003e\\u003cbr\\u003eWords: ссылка, отправил ждем обратной, неактивна заявку равно, ссылка неактивна заявку, неактивна заявку\",\"\\u003cb\\u003eTopic 3\\u003c\\u002fb\\u003e\\u003cbr\\u003eWords: данные лишний, лишний головняк, пораньше нда перестал, работать лишние персональные, пораньше нда\",\"\\u003cb\\u003eTopic 3\\u003c\\u002fb\\u003e\\u003cbr\\u003eWords: скидка промо коду, ниче поделать скидка, промо коду, промо, поделать\",\"\\u003cb\\u003eTopic 3\\u003c\\u002fb\\u003e\\u003cbr\\u003eWords: датасаенс, мог датасаенс, мог, ссылка, nda\",\"\\u003cb\\u003eTopic 3\\u003c\\u002fb\\u003e\\u003cbr\\u003eWords: поскромнее, сбере поскромнее, сбере, ссылка, nda\",\"\\u003cb\\u003eTopic 3\\u003c\\u002fb\\u003e\\u003cbr\\u003eWords: всякий случай напишу, случай, всякий случай, всякий, случай напишу сб\",\"\\u003cb\\u003eTopic 3\\u003c\\u002fb\\u003e\\u003cbr\\u003eWords: валюта, универсальная валюта, универсальная, ссылка, nda\",\"\\u003cb\\u003eTopic 3\\u003c\\u002fb\\u003e\\u003cbr\\u003eWords: nda заполнили, заполнили, nda, ссылка, заявку\",\"\\u003cb\\u003eTopic 3\\u003c\\u002fb\\u003e\\u003cbr\\u003eWords: день текущей, последний день текущей, команде покидаю, команде покидаю iatcyna, текущей\",\"\\u003cb\\u003eTopic 3\\u003c\\u002fb\\u003e\\u003cbr\\u003eWords: каламбургерную, ссылка, nda, заявку, заявку nda\",\"\\u003cb\\u003eTopic 3\\u003c\\u002fb\\u003e\\u003cbr\\u003eWords: сегодня получил, пока самое, токсичное общение, общение сегодня получил, получил кати чате\",\"\\u003cb\\u003eTopic 3\\u003c\\u002fb\\u003e\\u003cbr\\u003eWords: пишите, пишите ответы, пишите ответы реплаем, реплаем сообщению, реплаем\",\"\\u003cb\\u003eTopic 3\\u003c\\u002fb\\u003e\\u003cbr\\u003eWords: лови, ссылка, nda, заявку, заявку nda\",\"\\u003cb\\u003eTopic 3\\u003c\\u002fb\\u003e\\u003cbr\\u003eWords: вечером, вечером давай, давай, ссылка, nda\",\"\\u003cb\\u003eTopic 3\\u003c\\u002fb\\u003e\\u003cbr\\u003eWords: жду перевода, жду, перевода, ссылка, nda\",\"\\u003cb\\u003eTopic 3\\u003c\\u002fb\\u003e\\u003cbr\\u003eWords: такого вопроса, вопроса, такого, ссылка, nda\"],\"marker\":{\"color\":\"#F0E442\"},\"mode\":\"lines\",\"name\":\"3_ссылка_nda_заявку_неактивна\",\"x\":[\"2025-02-03T11:58:06\",\"2025-02-04T10:56:33\",\"2025-02-04T11:19:47\",\"2025-02-04T11:21:32\",\"2025-02-04T11:25:09\",\"2025-02-04T11:31:25\",\"2025-02-04T11:55:42\",\"2025-02-04T12:00:01\",\"2025-02-04T12:01:49\",\"2025-02-04T12:13:52\",\"2025-02-04T12:17:46\",\"2025-02-04T12:33:33\",\"2025-02-04T13:13:06\",\"2025-02-04T13:17:55\",\"2025-02-04T13:51:56\",\"2025-02-04T14:32:56\",\"2025-02-04T14:38:19\",\"2025-02-04T15:36:16\",\"2025-02-04T16:16:22\",\"2025-02-04T16:31:57\",\"2025-02-04T18:18:08\",\"2025-02-05T18:22:10\",\"2025-02-05T23:12:20\",\"2025-02-06T03:40:01\",\"2025-02-06T08:37:31\",\"2025-02-06T09:02:23\",\"2025-02-06T09:36:03\",\"2025-02-06T10:05:20\",\"2025-02-19T13:50:50\",\"2025-02-20T20:30:07\",\"2025-02-20T22:20:10\",\"2025-02-20T22:21:59\",\"2025-02-20T22:22:10\",\"2025-02-21T14:45:33\",\"2025-02-22T09:59:02\",\"2025-02-24T11:04:58\",\"2025-02-24T11:26:33\",\"2025-02-24T13:09:02\",\"2025-02-24T13:46:35\",\"2025-02-25T10:21:17\",\"2025-02-25T19:25:10\",\"2025-02-25T19:38:40\"],\"y\":[1,1,1,1,1,1,1,1,1,1,1,1,1,1,1,1,1,1,1,1,1,1,1,1,1,1,1,1,1,1,1,1,1,1,1,1,1,1,1,1,1,1],\"type\":\"scatter\"},{\"hoverinfo\":\"text\",\"hovertext\":[\"\\u003cb\\u003eTopic 4\\u003c\\u002fb\\u003e\\u003cbr\\u003eWords: toprepyndxcbot, toprepyndxcbot toprepyndxcbot, toprepyndxcbot toprepyndxcbot toprepyndxcbot, client_id, client_id toprepyndxcbot\",\"\\u003cb\\u003eTopic 4\\u003c\\u002fb\\u003e\\u003cbr\\u003eWords: client_id, countdistinct, countdistinct client_id, toprepyndxcbot, toprepyndxcbot toprepyndxcbot\",\"\\u003cb\\u003eTopic 4\\u003c\\u002fb\\u003e\\u003cbr\\u003eWords: toprepyndxcbot, toprepyndxcbot toprepyndxcbot, toprepyndxcbot toprepyndxcbot toprepyndxcbot, client_id, client_id toprepyndxcbot\",\"\\u003cb\\u003eTopic 4\\u003c\\u002fb\\u003e\\u003cbr\\u003eWords: toprepyndxcbot, toprepyndxcbot toprepyndxcbot, toprepyndxcbot toprepyndxcbot toprepyndxcbot, client_id, client_id toprepyndxcbot\",\"\\u003cb\\u003eTopic 4\\u003c\\u002fb\\u003e\\u003cbr\\u003eWords: toprepyndxcbot, toprepyndxcbot toprepyndxcbot, toprepyndxcbot toprepyndxcbot toprepyndxcbot, client_id, client_id toprepyndxcbot\",\"\\u003cb\\u003eTopic 4\\u003c\\u002fb\\u003e\\u003cbr\\u003eWords: toprepyndxcbot, toprepyndxcbot toprepyndxcbot, toprepyndxcbot toprepyndxcbot toprepyndxcbot, client_id, client_id toprepyndxcbot\",\"\\u003cb\\u003eTopic 4\\u003c\\u002fb\\u003e\\u003cbr\\u003eWords: toprepyndxcbot, toprepyndxcbot toprepyndxcbot, toprepyndxcbot toprepyndxcbot toprepyndxcbot, client_id, client_id toprepyndxcbot\",\"\\u003cb\\u003eTopic 4\\u003c\\u002fb\\u003e\\u003cbr\\u003eWords: toprepyndxcbot, toprepyndxcbot toprepyndxcbot, toprepyndxcbot toprepyndxcbot toprepyndxcbot, client_id, client_id toprepyndxcbot\",\"\\u003cb\\u003eTopic 4\\u003c\\u002fb\\u003e\\u003cbr\\u003eWords: toprepyndxcbot, toprepyndxcbot toprepyndxcbot, toprepyndxcbot toprepyndxcbot toprepyndxcbot, client_id, client_id toprepyndxcbot\",\"\\u003cb\\u003eTopic 4\\u003c\\u002fb\\u003e\\u003cbr\\u003eWords: toprepyndxcbot, toprepyndxcbot toprepyndxcbot, toprepyndxcbot toprepyndxcbot toprepyndxcbot, client_id, client_id toprepyndxcbot\",\"\\u003cb\\u003eTopic 4\\u003c\\u002fb\\u003e\\u003cbr\\u003eWords: toprepyndxcbot, toprepyndxcbot toprepyndxcbot, toprepyndxcbot toprepyndxcbot toprepyndxcbot, client_id, client_id toprepyndxcbot\",\"\\u003cb\\u003eTopic 4\\u003c\\u002fb\\u003e\\u003cbr\\u003eWords: toprepyndxcbot, toprepyndxcbot toprepyndxcbot, toprepyndxcbot toprepyndxcbot toprepyndxcbot, client_id, client_id toprepyndxcbot\",\"\\u003cb\\u003eTopic 4\\u003c\\u002fb\\u003e\\u003cbr\\u003eWords: toprepyndxcbot, toprepyndxcbot toprepyndxcbot, toprepyndxcbot toprepyndxcbot toprepyndxcbot, client_id, client_id toprepyndxcbot\",\"\\u003cb\\u003eTopic 4\\u003c\\u002fb\\u003e\\u003cbr\\u003eWords: toprepyndxcbot, toprepyndxcbot toprepyndxcbot, toprepyndxcbot toprepyndxcbot toprepyndxcbot, client_id, client_id toprepyndxcbot\",\"\\u003cb\\u003eTopic 4\\u003c\\u002fb\\u003e\\u003cbr\\u003eWords: toprepyndxcbot, toprepyndxcbot toprepyndxcbot, toprepyndxcbot toprepyndxcbot toprepyndxcbot, client_id, client_id toprepyndxcbot\",\"\\u003cb\\u003eTopic 4\\u003c\\u002fb\\u003e\\u003cbr\\u003eWords: toprepyndxcbot, toprepyndxcbot toprepyndxcbot, toprepyndxcbot toprepyndxcbot toprepyndxcbot, client_id, client_id toprepyndxcbot\",\"\\u003cb\\u003eTopic 4\\u003c\\u002fb\\u003e\\u003cbr\\u003eWords: toprepyndxcbot, toprepyndxcbot toprepyndxcbot, toprepyndxcbot toprepyndxcbot toprepyndxcbot, client_id, client_id toprepyndxcbot\",\"\\u003cb\\u003eTopic 4\\u003c\\u002fb\\u003e\\u003cbr\\u003eWords: toprepyndxcbot, toprepyndxcbot toprepyndxcbot, toprepyndxcbot toprepyndxcbot toprepyndxcbot, client_id, client_id toprepyndxcbot\",\"\\u003cb\\u003eTopic 4\\u003c\\u002fb\\u003e\\u003cbr\\u003eWords: toprepyndxcbot, toprepyndxcbot toprepyndxcbot, toprepyndxcbot toprepyndxcbot toprepyndxcbot, client_id, client_id toprepyndxcbot\",\"\\u003cb\\u003eTopic 4\\u003c\\u002fb\\u003e\\u003cbr\\u003eWords: toprepyndxcbot, toprepyndxcbot toprepyndxcbot, toprepyndxcbot toprepyndxcbot toprepyndxcbot, client_id, client_id toprepyndxcbot\",\"\\u003cb\\u003eTopic 4\\u003c\\u002fb\\u003e\\u003cbr\\u003eWords: toprepyndxcbot, toprepyndxcbot toprepyndxcbot, toprepyndxcbot toprepyndxcbot toprepyndxcbot, client_id, client_id toprepyndxcbot\",\"\\u003cb\\u003eTopic 4\\u003c\\u002fb\\u003e\\u003cbr\\u003eWords: toprepyndxcbot, toprepyndxcbot toprepyndxcbot, toprepyndxcbot toprepyndxcbot toprepyndxcbot, client_id, client_id toprepyndxcbot\",\"\\u003cb\\u003eTopic 4\\u003c\\u002fb\\u003e\\u003cbr\\u003eWords: toprepyndxcbot, toprepyndxcbot toprepyndxcbot, toprepyndxcbot toprepyndxcbot toprepyndxcbot, client_id, client_id toprepyndxcbot\",\"\\u003cb\\u003eTopic 4\\u003c\\u002fb\\u003e\\u003cbr\\u003eWords: toprepyndxcbot, toprepyndxcbot toprepyndxcbot, toprepyndxcbot toprepyndxcbot toprepyndxcbot, client_id, client_id toprepyndxcbot\",\"\\u003cb\\u003eTopic 4\\u003c\\u002fb\\u003e\\u003cbr\\u003eWords: toprepyndxcbot, toprepyndxcbot toprepyndxcbot, toprepyndxcbot toprepyndxcbot toprepyndxcbot, client_id, client_id toprepyndxcbot\",\"\\u003cb\\u003eTopic 4\\u003c\\u002fb\\u003e\\u003cbr\\u003eWords: toprepyndxcbot, toprepyndxcbot toprepyndxcbot, toprepyndxcbot toprepyndxcbot toprepyndxcbot, client_id, client_id toprepyndxcbot\",\"\\u003cb\\u003eTopic 4\\u003c\\u002fb\\u003e\\u003cbr\\u003eWords: toprepyndxcbot, toprepyndxcbot toprepyndxcbot, toprepyndxcbot toprepyndxcbot toprepyndxcbot, client_id, client_id toprepyndxcbot\",\"\\u003cb\\u003eTopic 4\\u003c\\u002fb\\u003e\\u003cbr\\u003eWords: toprepyndxcbot, toprepyndxcbot toprepyndxcbot, toprepyndxcbot toprepyndxcbot toprepyndxcbot, client_id, client_id toprepyndxcbot\",\"\\u003cb\\u003eTopic 4\\u003c\\u002fb\\u003e\\u003cbr\\u003eWords: toprepyndxcbot, toprepyndxcbot toprepyndxcbot, toprepyndxcbot toprepyndxcbot toprepyndxcbot, client_id, client_id toprepyndxcbot\",\"\\u003cb\\u003eTopic 4\\u003c\\u002fb\\u003e\\u003cbr\\u003eWords: toprepyndxcbot, toprepyndxcbot toprepyndxcbot, toprepyndxcbot toprepyndxcbot toprepyndxcbot, client_id, client_id toprepyndxcbot\",\"\\u003cb\\u003eTopic 4\\u003c\\u002fb\\u003e\\u003cbr\\u003eWords: rabotat381bot, toprepyndxcbot, toprepyndxcbot toprepyndxcbot, toprepyndxcbot toprepyndxcbot toprepyndxcbot, client_id\"],\"marker\":{\"color\":\"#D55E00\"},\"mode\":\"lines\",\"name\":\"4_toprepyndxcbot_toprepyndxcbot toprepyn...\",\"x\":[\"2025-02-03T12:10:16\",\"2025-02-06T14:24:45\",\"2025-02-08T00:28:33\",\"2025-02-08T07:18:16\",\"2025-02-08T10:50:37\",\"2025-02-08T15:02:21\",\"2025-02-08T16:44:04\",\"2025-02-09T23:10:35\",\"2025-02-09T23:34:48\",\"2025-02-10T07:31:55\",\"2025-02-10T09:38:44\",\"2025-02-10T10:21:30\",\"2025-02-10T10:47:49\",\"2025-02-10T11:30:46\",\"2025-02-10T11:36:03\",\"2025-02-10T11:40:49\",\"2025-02-10T12:12:07\",\"2025-02-10T21:06:22\",\"2025-02-12T00:50:27\",\"2025-02-12T06:55:44\",\"2025-02-12T23:55:57\",\"2025-02-13T19:41:12\",\"2025-02-13T22:14:46\",\"2025-02-16T08:23:00\",\"2025-02-16T10:02:25\",\"2025-02-16T12:33:04\",\"2025-02-16T12:33:15\",\"2025-02-17T16:09:59\",\"2025-02-17T18:41:47\",\"2025-02-17T18:42:15\",\"2025-02-24T11:22:50\"],\"y\":[1,1,1,1,1,1,1,1,1,1,1,1,1,1,1,1,1,1,1,1,1,1,1,1,1,1,1,1,1,1,1],\"type\":\"scatter\"},{\"hoverinfo\":\"text\",\"hovertext\":[\"\\u003cb\\u003eTopic 5\\u003c\\u002fb\\u003e\\u003cbr\\u003eWords: немного аналитик обязательно, обязательно исправлю такую, исправлю такую, окрепну немного, окрепну\",\"\\u003cb\\u003eTopic 5\\u003c\\u002fb\\u003e\\u003cbr\\u003eWords: проблемами это, делиться проблемами, важная, важная часть, делиться проблемами это\",\"\\u003cb\\u003eTopic 5\\u003c\\u002fb\\u003e\\u003cbr\\u003eWords: соискателей знать, соискателей, пытается найти, найти работу, процессу\",\"\\u003cb\\u003eTopic 5\\u003c\\u002fb\\u003e\\u003cbr\\u003eWords: собеседованиютестовому зная ждать, ждать, собеседованиютестовому, зная, зная ждать\",\"\\u003cb\\u003eTopic 5\\u003c\\u002fb\\u003e\\u003cbr\\u003eWords: собеседованиютестовому зная ждать, ждать, собеседованиютестовому, зная, зная ждать\",\"\\u003cb\\u003eTopic 5\\u003c\\u002fb\\u003e\\u003cbr\\u003eWords: люди будут выкладывать, помогая другим, тех мотивирован искать, ответы исчерпывающие тех, ответы исчерпывающие\",\"\\u003cb\\u003eTopic 5\\u003c\\u002fb\\u003e\\u003cbr\\u003eWords: описано, отлично описано, отлично, яндекс, ритейл\",\"\\u003cb\\u003eTopic 5\\u003c\\u002fb\\u003e\\u003cbr\\u003eWords: яндекс, учусь делать прогнозы, бигтек ритейл, делаю учусь, маркетологи делаю\",\"\\u003cb\\u003eTopic 5\\u003c\\u002fb\\u003e\\u003cbr\\u003eWords: боты, боты всё, это боты, это боты всё, всё\",\"\\u003cb\\u003eTopic 5\\u003c\\u002fb\\u003e\\u003cbr\\u003eWords: кому нехер делать, рейтинг тех, нехер делать, нехер, тех кому\",\"\\u003cb\\u003eTopic 5\\u003c\\u002fb\\u003e\\u003cbr\\u003eWords: подняли подкуп, репутацию подняли, подняли, репутацию подняли подкуп, подкуп\",\"\\u003cb\\u003eTopic 5\\u003c\\u002fb\\u003e\\u003cbr\\u003eWords: стена, действительно муж, действительно муж стена, муж, муж стена\",\"\\u003cb\\u003eTopic 5\\u003c\\u002fb\\u003e\\u003cbr\\u003eWords: интервью, интервью интервью командой, командой, интервью интервью, интервью командой\",\"\\u003cb\\u003eTopic 5\\u003c\\u002fb\\u003e\\u003cbr\\u003eWords: зависит, дают базовые вопросы, базовые вопросы, базовые вопросы ответами, зависит компании гдето\",\"\\u003cb\\u003eTopic 5\\u003c\\u002fb\\u003e\\u003cbr\\u003eWords: понравиться, равно главная цель, главная, главная цель, главная цель понравиться\",\"\\u003cb\\u003eTopic 5\\u003c\\u002fb\\u003e\\u003cbr\\u003eWords: собирает доп, дополнительное саммари, инфу проходит, инфу проходит базовым, делает\",\"\\u003cb\\u003eTopic 5\\u003c\\u002fb\\u003e\\u003cbr\\u003eWords: горе семье, рекрутер это, рекрутер, плохой рекрутер это, плохой рекрутер\",\"\\u003cb\\u003eTopic 5\\u003c\\u002fb\\u003e\\u003cbr\\u003eWords: мидлархитектордевопс, уровне мидлархитектордевопс, прикольное, прикольное требования, прикольное требования аналитика\",\"\\u003cb\\u003eTopic 5\\u003c\\u002fb\\u003e\\u003cbr\\u003eWords: насколько, харды, работе, доп, найти\",\"\\u003cb\\u003eTopic 5\\u003c\\u002fb\\u003e\\u003cbr\\u003eWords: культура, корпоративная культура хз, хотя корпоративная культура, корпоративная культура, хз\",\"\\u003cb\\u003eTopic 5\\u003c\\u002fb\\u003e\\u003cbr\\u003eWords: спрашивают, детально, опыт детально, опыт детально спрашивают, детально спрашивают\",\"\\u003cb\\u003eTopic 5\\u003c\\u002fb\\u003e\\u003cbr\\u003eWords: самозанятым ии работая, писа, аналитике банке, тех писа стартовал, работая\",\"\\u003cb\\u003eTopic 5\\u003c\\u002fb\\u003e\\u003cbr\\u003eWords: ритейл, либо, розничная торговляоптовый ритейл, либо ритейл либо, ритейл это\",\"\\u003cb\\u003eTopic 5\\u003c\\u002fb\\u003e\\u003cbr\\u003eWords: накрутивший, работодатель накрутивший вилкусоискатель, работодатель накрутивший, работодатель, вилкусоискатель\",\"\\u003cb\\u003eTopic 5\\u003c\\u002fb\\u003e\\u003cbr\\u003eWords: поддержка нетворкинг, нетворкинг, поддержка, яндекс, ритейл\",\"\\u003cb\\u003eTopic 5\\u003c\\u002fb\\u003e\\u003cbr\\u003eWords: ориентированные, вакансии ориентированные выпускников, ориентированные выпускников, трек вакансии, карьерный трек вакансии\",\"\\u003cb\\u003eTopic 5\\u003c\\u002fb\\u003e\\u003cbr\\u003eWords: занимаюсь аналитики минимум, итоге разработкой занимаюсь, занимаюсь, разработкой занимаюсь аналитики, итоге разработкой\",\"\\u003cb\\u003eTopic 5\\u003c\\u002fb\\u003e\\u003cbr\\u003eWords: курьерного, прочитал, прочитал курьерного, сначала прочитал курьерного, сначала прочитал\",\"\\u003cb\\u003eTopic 5\\u003c\\u002fb\\u003e\\u003cbr\\u003eWords: яндекс, яндекс лишь помогает, думаю каждый должен, мнения, других яндекс лишь\",\"\\u003cb\\u003eTopic 5\\u003c\\u002fb\\u003e\\u003cbr\\u003eWords: пробной сразу, вопрос небольшой процесс, бесплатной, бесплатной пробной, бесплатной пробной сразу\"],\"marker\":{\"color\":\"#0072B2\"},\"mode\":\"lines\",\"name\":\"5_яндекс_ритейл_это_тех\",\"x\":[\"2025-02-03T12:17:25\",\"2025-02-04T14:58:16\",\"2025-02-04T16:10:11\",\"2025-02-04T16:13:24\",\"2025-02-04T16:16:22\",\"2025-02-04T16:21:38\",\"2025-02-04T19:50:12\",\"2025-02-05T22:03:17\",\"2025-02-10T10:35:46\",\"2025-02-10T11:34:44\",\"2025-02-19T15:41:51\",\"2025-02-20T22:08:16\",\"2025-02-20T23:19:48\",\"2025-02-20T23:43:15\",\"2025-02-20T23:45:57\",\"2025-02-20T23:47:16\",\"2025-02-20T23:47:39\",\"2025-02-20T23:49:47\",\"2025-02-21T00:00:35\",\"2025-02-21T00:33:23\",\"2025-02-21T00:40:55\",\"2025-02-22T00:46:27\",\"2025-02-22T09:09:01\",\"2025-02-22T10:28:22\",\"2025-02-24T11:19:35\",\"2025-02-24T11:24:12\",\"2025-02-24T13:23:08\",\"2025-02-26T11:48:31\",\"2025-02-26T17:46:51\",\"2025-02-27T13:25:19\"],\"y\":[1,1,1,1,1,1,1,1,1,1,1,1,1,1,1,1,1,1,1,1,1,1,1,1,1,1,1,1,1,1],\"type\":\"scatter\"},{\"hoverinfo\":\"text\",\"hovertext\":[\"\\u003cb\\u003eTopic 6\\u003c\\u002fb\\u003e\\u003cbr\\u003eWords: практически, asmr, asmr практически, лс, можешь\",\"\\u003cb\\u003eTopic 6\\u003c\\u002fb\\u003e\\u003cbr\\u003eWords: создания каналов пошёл, пик, создания каналов, пик создания каналов, пик создания\",\"\\u003cb\\u003eTopic 6\\u003c\\u002fb\\u003e\\u003cbr\\u003eWords: вместо гитхаба, гитхаба оформляют свой, оформляют свой, оформляют свой канал, вместо гитхаба оформляют\",\"\\u003cb\\u003eTopic 6\\u003c\\u002fb\\u003e\\u003cbr\\u003eWords: бесполезней гитхаба совета, совета сложно, совета сложно придумать, сложно придумать, сложно\",\"\\u003cb\\u003eTopic 6\\u003c\\u002fb\\u003e\\u003cbr\\u003eWords: давай войсы, войсы, давай, лс, можешь\",\"\\u003cb\\u003eTopic 6\\u003c\\u002fb\\u003e\\u003cbr\\u003eWords: приходила, каким запросом приходила, запросом приходила, запросом, каким запросом\",\"\\u003cb\\u003eTopic 6\\u003c\\u002fb\\u003e\\u003cbr\\u003eWords: напиши личку, напиши, личку, лс, можешь\",\"\\u003cb\\u003eTopic 6\\u003c\\u002fb\\u003e\\u003cbr\\u003eWords: сформировать, сформировать утп, утп, лс, можешь\",\"\\u003cb\\u003eTopic 6\\u003c\\u002fb\\u003e\\u003cbr\\u003eWords: твои утп, твои утп сформировано, видела твои, сформировано, видела твои утп\",\"\\u003cb\\u003eTopic 6\\u003c\\u002fb\\u003e\\u003cbr\\u003eWords: топовый проект предлагают, проект предлагают, замути, предлагают замути, топовый проект\",\"\\u003cb\\u003eTopic 6\\u003c\\u002fb\\u003e\\u003cbr\\u003eWords: сходим, уточним ситуацию, ситуацию, ситуацию вернёмся ответом, сервисупартнёру уточним ситуацию\",\"\\u003cb\\u003eTopic 6\\u003c\\u002fb\\u003e\\u003cbr\\u003eWords: должность, лс, можешь, напиши, кинуть\",\"\\u003cb\\u003eTopic 6\\u003c\\u002fb\\u003e\\u003cbr\\u003eWords: передам твое резюме, этапам банке интересно, банке интересно работать, подскажу этапам, подскажу\",\"\\u003cb\\u003eTopic 6\\u003c\\u002fb\\u003e\\u003cbr\\u003eWords: мной мск, мной, мск, лс, можешь\",\"\\u003cb\\u003eTopic 6\\u003c\\u002fb\\u003e\\u003cbr\\u003eWords: 3040 мин, секция, вк например, вк например сказать, созвоны 3040 мин\",\"\\u003cb\\u003eTopic 6\\u003c\\u002fb\\u003e\\u003cbr\\u003eWords: скажи стукачет, айпи вычислим, стукачет, скажи стукачет айпи, стукачет айпи\",\"\\u003cb\\u003eTopic 6\\u003c\\u002fb\\u003e\\u003cbr\\u003eWords: причина, лс, можешь, напиши, вк\",\"\\u003cb\\u003eTopic 6\\u003c\\u002fb\\u003e\\u003cbr\\u003eWords: знаю удивлюсь щас, знаю удивлюсь, удивлюсь щас, удивлюсь щас придумал, удивлюсь\",\"\\u003cb\\u003eTopic 6\\u003c\\u002fb\\u003e\\u003cbr\\u003eWords: скидывай, кидать, реквизиты, реквизиты кидать, скидывай реквизиты кидать\",\"\\u003cb\\u003eTopic 6\\u003c\\u002fb\\u003e\\u003cbr\\u003eWords: нежадный, тонкоинках телегу кинуть, тонкоинках, можешь тонкоинках телегу, можешь тонкоинках\",\"\\u003cb\\u003eTopic 6\\u003c\\u002fb\\u003e\\u003cbr\\u003eWords: трамп коинах кинуть, коинах, коинах кинуть, могу трамп коинах, могу трамп\",\"\\u003cb\\u003eTopic 6\\u003c\\u002fb\\u003e\\u003cbr\\u003eWords: расскажи, расскажи подробно, подробно, лс, можешь\",\"\\u003cb\\u003eTopic 6\\u003c\\u002fb\\u003e\\u003cbr\\u003eWords: этапе написания сопроводительного, написания сопроводительного, этапе написания, этапе, письма\",\"\\u003cb\\u003eTopic 6\\u003c\\u002fb\\u003e\\u003cbr\\u003eWords: рассказать, почему можешь, рассказать поподробнее, рассказать поподробнее плиз, можешь рассказать\",\"\\u003cb\\u003eTopic 6\\u003c\\u002fb\\u003e\\u003cbr\\u003eWords: можешь лс стремно, можешь лс, лс стремно, стремно, лс\",\"\\u003cb\\u003eTopic 6\\u003c\\u002fb\\u003e\\u003cbr\\u003eWords: лень лс, лень, лс, можешь, вк\",\"\\u003cb\\u003eTopic 6\\u003c\\u002fb\\u003e\\u003cbr\\u003eWords: клауд, вк клауд сегодня, клауд сегодня вебинар, вебинар, вебинар с3\"],\"marker\":{\"color\":\"#CC79A7\"},\"mode\":\"lines\",\"name\":\"6_лс_можешь_гитхаба_утп\",\"x\":[\"2025-02-03T12:15:56\",\"2025-02-04T16:10:22\",\"2025-02-04T16:11:32\",\"2025-02-04T16:12:25\",\"2025-02-04T16:32:03\",\"2025-02-04T18:37:10\",\"2025-02-04T18:37:21\",\"2025-02-04T19:49:21\",\"2025-02-04T19:52:52\",\"2025-02-06T15:31:58\",\"2025-02-19T13:44:29\",\"2025-02-20T20:18:32\",\"2025-02-20T22:05:14\",\"2025-02-20T22:06:16\",\"2025-02-20T23:44:46\",\"2025-02-24T12:17:23\",\"2025-02-24T15:56:11\",\"2025-02-24T16:20:19\",\"2025-02-25T19:12:05\",\"2025-02-25T19:12:59\",\"2025-02-25T19:13:08\",\"2025-02-26T17:01:44\",\"2025-02-26T17:04:47\",\"2025-02-26T17:05:22\",\"2025-02-26T17:09:46\",\"2025-02-26T17:11:02\",\"2025-02-27T11:57:13\"],\"y\":[1,1,1,1,1,1,1,1,1,1,1,1,1,1,1,1,1,1,1,1,1,1,1,1,1,1,1],\"type\":\"scatter\"},{\"hoverinfo\":\"text\",\"hovertext\":[\"\\u003cb\\u003eTopic 7\\u003c\\u002fb\\u003e\\u003cbr\\u003eWords: отчитываются, стикеров конструктивная критика, которому отчитываются, позиции пользователя, пользователя котиками залетели\",\"\\u003cb\\u003eTopic 7\\u003c\\u002fb\\u003e\\u003cbr\\u003eWords: сергей ответ, будут сбрасывать захотят, ответ очевиден, ответ очевиден люди, захотят\",\"\\u003cb\\u003eTopic 7\\u003c\\u002fb\\u003e\\u003cbr\\u003eWords: каналов сегодня исчерпан, исчерпан, лимит, лимит каналов, лимит каналов сегодня\",\"\\u003cb\\u003eTopic 7\\u003c\\u002fb\\u003e\\u003cbr\\u003eWords: груп бай сделать, бай сделать, груп, distinct достаточно, distinct достаточно просто\",\"\\u003cb\\u003eTopic 7\\u003c\\u002fb\\u003e\\u003cbr\\u003eWords: приятных новостей, предсказание george5555 ожидай, предсказание, ожидай приятных новостей, ожидай приятных\",\"\\u003cb\\u003eTopic 7\\u003c\\u002fb\\u003e\\u003cbr\\u003eWords: круасаны, кофе круасаны, кофе, чате, правило\",\"\\u003cb\\u003eTopic 7\\u003c\\u002fb\\u003e\\u003cbr\\u003eWords: увидели, кидай круассан, окей, круассан, кофе увидели хотели\",\"\\u003cb\\u003eTopic 7\\u003c\\u002fb\\u003e\\u003cbr\\u003eWords: круассаном, кофе круассаном, кофе, чате, правило\",\"\\u003cb\\u003eTopic 7\\u003c\\u002fb\\u003e\\u003cbr\\u003eWords: сегодня, такие отвратительные продолжайте, сегодня такие отвратительные, сегодня такие, сегодня почему сегодня\",\"\\u003cb\\u003eTopic 7\\u003c\\u002fb\\u003e\\u003cbr\\u003eWords: скидывайте мошенница, скидывайте, мошенница, чате, кофе\",\"\\u003cb\\u003eTopic 7\\u003c\\u002fb\\u003e\\u003cbr\\u003eWords: чата, политику, обсуждаем политику, обсуждаем, утро сообщения выше\",\"\\u003cb\\u003eTopic 7\\u003c\\u002fb\\u003e\\u003cbr\\u003eWords: чате чат, чате чат поменьше, поменьше знаешь правило, поменьше знаешь, поменьше\",\"\\u003cb\\u003eTopic 7\\u003c\\u002fb\\u003e\\u003cbr\\u003eWords: злобы оскорблений, присутствовать чате злобы, сообщение считаю, неуместным тебе, это сообщение считаю\",\"\\u003cb\\u003eTopic 7\\u003c\\u002fb\\u003e\\u003cbr\\u003eWords: котики никакой, котики никакой злобы, никакой злобы, котики, никакой\",\"\\u003cb\\u003eTopic 7\\u003c\\u002fb\\u003e\\u003cbr\\u003eWords: сообщества бан пыталась, соблюдение правил, предел, ваше право соблюдение, право\",\"\\u003cb\\u003eTopic 7\\u003c\\u002fb\\u003e\\u003cbr\\u003eWords: никто отменял, отменял тему закрыть, общечеловеческие, общечеловеческие правила, сообществе\",\"\\u003cb\\u003eTopic 7\\u003c\\u002fb\\u003e\\u003cbr\\u003eWords: пор это, удивило появилось правило, политику сих, политику сих пор, сих\",\"\\u003cb\\u003eTopic 7\\u003c\\u002fb\\u003e\\u003cbr\\u003eWords: чате байки, байки доброту можешь, доброту можешь, доброту можешь оставить, одном чате байки\",\"\\u003cb\\u003eTopic 7\\u003c\\u002fb\\u003e\\u003cbr\\u003eWords: зимнее, чате, кофе, правило, чата\",\"\\u003cb\\u003eTopic 7\\u003c\\u002fb\\u003e\\u003cbr\\u003eWords: показывать, показывать будем, будем, чате, кофе\",\"\\u003cb\\u003eTopic 7\\u003c\\u002fb\\u003e\\u003cbr\\u003eWords: портить комунибудь настроение, комунибудь настроение это, основное правило, основное правило группы, основное\",\"\\u003cb\\u003eTopic 7\\u003c\\u002fb\\u003e\\u003cbr\\u003eWords: яблоко получаешь огурец, огурец, яблоко получаешь, дело, дело продают\",\"\\u003cb\\u003eTopic 7\\u003c\\u002fb\\u003e\\u003cbr\\u003eWords: поводу сырости показательно, показательно, показательно выпиливание когорт, когорт общего, общего чата\"],\"marker\":{\"color\":\"#E69F00\"},\"mode\":\"lines\",\"name\":\"7_чате_кофе_правило_чата\",\"x\":[\"2025-02-03T11:59:53\",\"2025-02-04T16:15:19\",\"2025-02-04T19:48:04\",\"2025-02-06T14:25:34\",\"2025-02-10T12:14:23\",\"2025-02-11T23:49:41\",\"2025-02-12T08:21:56\",\"2025-02-12T08:34:27\",\"2025-02-12T09:02:59\",\"2025-02-20T21:11:26\",\"2025-02-24T09:30:12\",\"2025-02-24T10:38:25\",\"2025-02-24T11:16:30\",\"2025-02-24T11:19:23\",\"2025-02-24T11:44:27\",\"2025-02-24T13:04:32\",\"2025-02-24T15:48:53\",\"2025-02-24T15:54:44\",\"2025-02-24T16:22:12\",\"2025-02-25T09:34:24\",\"2025-02-25T19:07:16\",\"2025-02-26T17:49:20\",\"2025-02-27T14:11:43\"],\"y\":[1,1,1,1,1,1,1,1,1,1,1,1,1,1,1,1,1,1,1,1,1,1,1],\"type\":\"scatter\"},{\"hoverinfo\":\"text\",\"hovertext\":[\"\\u003cb\\u003eTopic 8\\u003c\\u002fb\\u003e\\u003cbr\\u003eWords: начала борьбу призы, начала борьбу, призы, борьбу призы, борьбу\",\"\\u003cb\\u003eTopic 8\\u003c\\u002fb\\u003e\\u003cbr\\u003eWords: увеличила репутацию, увеличила, irina, 70, iliushin 52 увеличила\",\"\\u003cb\\u003eTopic 8\\u003c\\u002fb\\u003e\\u003cbr\\u003eWords: ахахаххахаах, ахахахаха, увеличила, увеличила репутацию, репутацию\",\"\\u003cb\\u003eTopic 8\\u003c\\u002fb\\u003e\\u003cbr\\u003eWords: жестко, ахахахаха, увеличила, увеличила репутацию, репутацию\",\"\\u003cb\\u003eTopic 8\\u003c\\u002fb\\u003e\\u003cbr\\u003eWords: спасибо ире, ире, спасибо, ахахахаха, увеличила репутацию\",\"\\u003cb\\u003eTopic 8\\u003c\\u002fb\\u003e\\u003cbr\\u003eWords: ахахахахахахахаха, ахахахаха, увеличила, увеличила репутацию, репутацию\",\"\\u003cb\\u003eTopic 8\\u003c\\u002fb\\u003e\\u003cbr\\u003eWords: нашем соревновании, лидирует нашем, ирина, соревновании, ирина прежнему\",\"\\u003cb\\u003eTopic 8\\u003c\\u002fb\\u003e\\u003cbr\\u003eWords: ахахахаха, увеличила, увеличила репутацию, репутацию, яндекс\",\"\\u003cb\\u003eTopic 8\\u003c\\u002fb\\u003e\\u003cbr\\u003eWords: ахахахаха, увеличила, увеличила репутацию, репутацию, яндекс\",\"\\u003cb\\u003eTopic 8\\u003c\\u002fb\\u003e\\u003cbr\\u003eWords: дата аналитик, дата, аналитик, ахахахаха, увеличила\",\"\\u003cb\\u003eTopic 8\\u003c\\u002fb\\u003e\\u003cbr\\u003eWords: ахахахаха, увеличила, увеличила репутацию, репутацию, яндекс\",\"\\u003cb\\u003eTopic 8\\u003c\\u002fb\\u003e\\u003cbr\\u003eWords: чат, ахахахаха, увеличила, увеличила репутацию, репутацию\",\"\\u003cb\\u003eTopic 8\\u003c\\u002fb\\u003e\\u003cbr\\u003eWords: ахахахаха, увеличила, увеличила репутацию, репутацию, яндекс\",\"\\u003cb\\u003eTopic 8\\u003c\\u002fb\\u003e\\u003cbr\\u003eWords: ахахахахахаа, ахахахаха, увеличила, увеличила репутацию, репутацию\",\"\\u003cb\\u003eTopic 8\\u003c\\u002fb\\u003e\\u003cbr\\u003eWords: ахахахах, ахахахаха, увеличила, увеличила репутацию, репутацию\",\"\\u003cb\\u003eTopic 8\\u003c\\u002fb\\u003e\\u003cbr\\u003eWords: яндекс, типичный яндекс, типичный, ахахахаха, увеличила\",\"\\u003cb\\u003eTopic 8\\u003c\\u002fb\\u003e\\u003cbr\\u003eWords: ахахахаха, увеличила, увеличила репутацию, репутацию, яндекс\",\"\\u003cb\\u003eTopic 8\\u003c\\u002fb\\u003e\\u003cbr\\u003eWords: догонишь, иру догонишь, иру, ахахахаха, увеличила репутацию\",\"\\u003cb\\u003eTopic 8\\u003c\\u002fb\\u003e\\u003cbr\\u003eWords: ахахахахаспасибо, илюша, ахахахахаспасибо илюша, ахахахаха, увеличила\",\"\\u003cb\\u003eTopic 8\\u003c\\u002fb\\u003e\\u003cbr\\u003eWords: 23 увеличила репутацию, 23 увеличила, алексей савельев, алексей, увеличила репутацию алексей\",\"\\u003cb\\u003eTopic 8\\u003c\\u002fb\\u003e\\u003cbr\\u003eWords: верни 6к, верни, 6к, ахахахаха, увеличила\",\"\\u003cb\\u003eTopic 8\\u003c\\u002fb\\u003e\\u003cbr\\u003eWords: месяцев знаю, месяцев, знаю, ахахахаха, увеличила\"],\"marker\":{\"color\":\"#56B4E9\"},\"mode\":\"lines\",\"name\":\"8_ахахахаха_увеличила репутацию_увеличил...\",\"x\":[\"2025-02-03T12:04:32\",\"2025-02-04T19:51:15\",\"2025-02-04T19:51:37\",\"2025-02-06T21:52:46\",\"2025-02-08T13:40:28\",\"2025-02-11T23:48:59\",\"2025-02-17T19:23:16\",\"2025-02-19T11:41:59\",\"2025-02-19T15:02:18\",\"2025-02-20T20:56:03\",\"2025-02-22T10:00:40\",\"2025-02-22T14:23:00\",\"2025-02-22T14:23:02\",\"2025-02-22T14:26:28\",\"2025-02-22T14:58:23\",\"2025-02-24T10:14:03\",\"2025-02-24T10:53:23\",\"2025-02-24T13:13:55\",\"2025-02-24T16:24:50\",\"2025-02-25T10:21:24\",\"2025-02-25T19:08:33\",\"2025-02-26T10:25:00\"],\"y\":[1,1,1,1,1,1,1,1,1,1,1,1,1,1,1,1,1,1,1,1,1,1],\"type\":\"scatter\"},{\"hoverinfo\":\"text\",\"hovertext\":[\"\\u003cb\\u003eTopic 9\\u003c\\u002fb\\u003e\\u003cbr\\u003eWords: говори, смотрела говори, смотрела, наверное, дешево чтото\",\"\\u003cb\\u003eTopic 9\\u003c\\u002fb\\u003e\\u003cbr\\u003eWords: наверное, мммм попробуй, бля правильно, бля, говори\",\"\\u003cb\\u003eTopic 9\\u003c\\u002fb\\u003e\\u003cbr\\u003eWords: дешево, дешево чтото, чтото, наверное, чтото такая история\",\"\\u003cb\\u003eTopic 9\\u003c\\u002fb\\u003e\\u003cbr\\u003eWords: такая история, история, такая, наверное, мммм попробуй\",\"\\u003cb\\u003eTopic 9\\u003c\\u002fb\\u003e\\u003cbr\\u003eWords: бля, наверное, чтото такая история, бля правильно массовый, бля правильно\",\"\\u003cb\\u003eTopic 9\\u003c\\u002fb\\u003e\\u003cbr\\u003eWords: правильно, наверное, чтото такая история, бля, говори наверное\",\"\\u003cb\\u003eTopic 9\\u003c\\u002fb\\u003e\\u003cbr\\u003eWords: массовый, наверное, чтото такая история, бля правильно, бля\",\"\\u003cb\\u003eTopic 9\\u003c\\u002fb\\u003e\\u003cbr\\u003eWords: сяпас, наверное, ахахахахаха, бля, говори\",\"\\u003cb\\u003eTopic 9\\u003c\\u002fb\\u003e\\u003cbr\\u003eWords: вино, вино суши, суши, наверное, дешево чтото\",\"\\u003cb\\u003eTopic 9\\u003c\\u002fb\\u003e\\u003cbr\\u003eWords: наверное, мммм попробуй, бля правильно, бля, говори\",\"\\u003cb\\u003eTopic 9\\u003c\\u002fb\\u003e\\u003cbr\\u003eWords: мммм, наверное, чтото такая история, бля правильно, бля\",\"\\u003cb\\u003eTopic 9\\u003c\\u002fb\\u003e\\u003cbr\\u003eWords: попробуй, наверное, чтото такая история, бля, говори наверное\",\"\\u003cb\\u003eTopic 9\\u003c\\u002fb\\u003e\\u003cbr\\u003eWords: наверное, мммм попробуй, бля правильно, бля, говори\",\"\\u003cb\\u003eTopic 9\\u003c\\u002fb\\u003e\\u003cbr\\u003eWords: скидавай, наверное, чтото такая история, бля, говори наверное\",\"\\u003cb\\u003eTopic 9\\u003c\\u002fb\\u003e\\u003cbr\\u003eWords: илья, наверное, чтото такая история, бля правильно, бля\",\"\\u003cb\\u003eTopic 9\\u003c\\u002fb\\u003e\\u003cbr\\u003eWords: ахахахахаха, наверное, чтото такая история, бля правильно, бля\",\"\\u003cb\\u003eTopic 9\\u003c\\u002fb\\u003e\\u003cbr\\u003eWords: база, наверное, чтото такая история, бля правильно массовый, бля правильно\",\"\\u003cb\\u003eTopic 9\\u003c\\u002fb\\u003e\\u003cbr\\u003eWords: интересует, наверное, чтото такая история, бля, говори наверное\",\"\\u003cb\\u003eTopic 9\\u003c\\u002fb\\u003e\\u003cbr\\u003eWords: предположение, просто предположение, просто, наверное, чтото такая история\",\"\\u003cb\\u003eTopic 9\\u003c\\u002fb\\u003e\\u003cbr\\u003eWords: ахахаха, наверное, говори, бля правильно, вино суши\"],\"marker\":{\"color\":\"#009E73\"},\"mode\":\"lines\",\"name\":\"9_наверное_мммм попробуй_скидавай илья а...\",\"x\":[\"2025-02-04T18:25:26\",\"2025-02-04T18:29:39\",\"2025-02-04T19:52:16\",\"2025-02-05T21:51:26\",\"2025-02-06T22:04:09\",\"2025-02-06T22:06:50\",\"2025-02-10T10:30:15\",\"2025-02-10T12:01:10\",\"2025-02-12T00:56:49\",\"2025-02-12T01:25:04\",\"2025-02-12T08:21:26\",\"2025-02-20T21:02:39\",\"2025-02-21T14:53:56\",\"2025-02-22T14:22:31\",\"2025-02-22T14:27:24\",\"2025-02-22T14:34:44\",\"2025-02-25T19:17:15\",\"2025-02-25T19:27:56\",\"2025-02-26T10:41:25\",\"2025-02-26T17:11:39\"],\"y\":[1,1,1,1,1,1,1,1,1,1,1,1,1,1,1,1,1,1,1,1],\"type\":\"scatter\"},{\"hoverinfo\":\"text\",\"hovertext\":[\"\\u003cb\\u003eTopic 10\\u003c\\u002fb\\u003e\\u003cbr\\u003eWords: самое, это, чат, лично, hr\",\"\\u003cb\\u003eTopic 10\\u003c\\u002fb\\u003e\\u003cbr\\u003eWords: провоцируйте, это, чат, лично, hr\",\"\\u003cb\\u003eTopic 10\\u003c\\u002fb\\u003e\\u003cbr\\u003eWords: пишут чат, постом, пишут, постом пишут чат, это постом\",\"\\u003cb\\u003eTopic 10\\u003c\\u002fb\\u003e\\u003cbr\\u003eWords: та суть, суть, та, это, чат\",\"\\u003cb\\u003eTopic 10\\u003c\\u002fb\\u003e\\u003cbr\\u003eWords: говорю бросала, бросала, говорю, это, чат\",\"\\u003cb\\u003eTopic 10\\u003c\\u002fb\\u003e\\u003cbr\\u003eWords: это ценам 2000, ценам, ценам 2000, ценам 2000 года, 2000\",\"\\u003cb\\u003eTopic 10\\u003c\\u002fb\\u003e\\u003cbr\\u003eWords: история компа, история компа телефона, такая история компа, компа, компа телефона\",\"\\u003cb\\u003eTopic 10\\u003c\\u002fb\\u003e\\u003cbr\\u003eWords: катя, катя это нож, спину, катя это, нож\",\"\\u003cb\\u003eTopic 10\\u003c\\u002fb\\u003e\\u003cbr\\u003eWords: нашел 2005 год, 2005, 2005 год, нашел 2005, нашел\",\"\\u003cb\\u003eTopic 10\\u003c\\u002fb\\u003e\\u003cbr\\u003eWords: скрининг hr, скрининг, hr, это, чат\",\"\\u003cb\\u003eTopic 10\\u003c\\u002fb\\u003e\\u003cbr\\u003eWords: забыв приложить ссыль, забыв приложить, ссыль, забыв, ссыль вакансию\",\"\\u003cb\\u003eTopic 10\\u003c\\u002fb\\u003e\\u003cbr\\u003eWords: чат аналитиков hr, чат аналитиков, аналитиков hr, аналитиков, hr\",\"\\u003cb\\u003eTopic 10\\u003c\\u002fb\\u003e\\u003cbr\\u003eWords: писали посмотрите, писали посмотрите спам, посмотрите спам, посмотрите, спам\",\"\\u003cb\\u003eTopic 10\\u003c\\u002fb\\u003e\\u003cbr\\u003eWords: лс договорились, это лс, договорились, это лс договорились, лс\",\"\\u003cb\\u003eTopic 10\\u003c\\u002fb\\u003e\\u003cbr\\u003eWords: твой чат, твой, чат, это, лично\",\"\\u003cb\\u003eTopic 10\\u003c\\u002fb\\u003e\\u003cbr\\u003eWords: гарант, лично писала увы, это гарант, писала увы это, лично писала\",\"\\u003cb\\u003eTopic 10\\u003c\\u002fb\\u003e\\u003cbr\\u003eWords: реплаит мое сообщениея, мое сообщениея, сообщениея, сообщениея лично, сообщениея лично писалалогика\",\"\\u003cb\\u003eTopic 10\\u003c\\u002fb\\u003e\\u003cbr\\u003eWords: реплай, лень проверять, это реплай, лень проверять действительно, это невнимательность\",\"\\u003cb\\u003eTopic 10\\u003c\\u002fb\\u003e\\u003cbr\\u003eWords: личку, это, чат, лично, hr\"],\"marker\":{\"color\":\"#F0E442\"},\"mode\":\"lines\",\"name\":\"10_это_чат_лично_hr\",\"x\":[\"2025-02-04T11:00:51\",\"2025-02-04T12:14:27\",\"2025-02-04T14:54:51\",\"2025-02-04T14:55:13\",\"2025-02-04T16:25:27\",\"2025-02-04T19:53:10\",\"2025-02-05T23:15:35\",\"2025-02-10T11:32:46\",\"2025-02-20T21:15:30\",\"2025-02-20T23:14:46\",\"2025-02-20T23:36:22\",\"2025-02-20T23:39:31\",\"2025-02-22T09:51:48\",\"2025-02-22T14:22:45\",\"2025-02-22T14:57:54\",\"2025-02-24T16:24:19\",\"2025-02-24T16:26:49\",\"2025-02-24T16:31:36\",\"2025-02-24T16:38:10\"],\"y\":[1,1,1,1,1,1,1,1,1,1,1,1,1,1,1,1,1,1,1],\"type\":\"scatter\"},{\"hoverinfo\":\"text\",\"hovertext\":[\"\\u003cb\\u003eTopic 11\\u003c\\u002fb\\u003e\\u003cbr\\u003eWords: приятно, ой приятно, ой, общаться, нюдсов\",\"\\u003cb\\u003eTopic 11\\u003c\\u002fb\\u003e\\u003cbr\\u003eWords: контролирующий, контролирующий тип, привязанности, это контролирующий тип, это контролирующий\",\"\\u003cb\\u003eTopic 11\\u003c\\u002fb\\u003e\\u003cbr\\u003eWords: намеки, жизни говорю особенно, возможностям, говорю особенно, возможностям твои намеки\",\"\\u003cb\\u003eTopic 11\\u003c\\u002fb\\u003e\\u003cbr\\u003eWords: ой посмотрел знаю, ой посмотрел, посмотрел знаю, ой, посмотрел\",\"\\u003cb\\u003eTopic 11\\u003c\\u002fb\\u003e\\u003cbr\\u003eWords: успела, общаться, нюдсов, это просто друзья, посмотрел\",\"\\u003cb\\u003eTopic 11\\u003c\\u002fb\\u003e\\u003cbr\\u003eWords: неожиданно, общаться, нюдсов, посмотрел, просто друзья\",\"\\u003cb\\u003eTopic 11\\u003c\\u002fb\\u003e\\u003cbr\\u003eWords: планировался такая, планировался, блин вообще планировался, блин вообще, реакция похоже\",\"\\u003cb\\u003eTopic 11\\u003c\\u002fb\\u003e\\u003cbr\\u003eWords: попробовал могу удалённо, попробовал могу, попробовал, удалённо, могу удалённо\",\"\\u003cb\\u003eTopic 11\\u003c\\u002fb\\u003e\\u003cbr\\u003eWords: сразу поняла, поняла, сразу, общаться, нюдсов\",\"\\u003cb\\u003eTopic 11\\u003c\\u002fb\\u003e\\u003cbr\\u003eWords: несмотря, нюдсов видела, тобой общаться, тобой общаться несмотря, продолжаю тобой общаться\",\"\\u003cb\\u003eTopic 11\\u003c\\u002fb\\u003e\\u003cbr\\u003eWords: видел, посмотрел перестал, всеми чьих нюдсов, всеми чьих, молчал\",\"\\u003cb\\u003eTopic 11\\u003c\\u002fb\\u003e\\u003cbr\\u003eWords: например стал общаться, общаться нюдсов, стал общаться, стал общаться нюдсов, например стал\",\"\\u003cb\\u003eTopic 11\\u003c\\u002fb\\u003e\\u003cbr\\u003eWords: сделал исключение иры, иры видишь продолжаю, общаться значит, просто сделал исключение, продолжаю общаться\",\"\\u003cb\\u003eTopic 11\\u003c\\u002fb\\u003e\\u003cbr\\u003eWords: представить, блин могу, блин могу представить, могу представить, блин\",\"\\u003cb\\u003eTopic 11\\u003c\\u002fb\\u003e\\u003cbr\\u003eWords: это просто друзья, друзья, просто друзья, это просто, просто\",\"\\u003cb\\u003eTopic 11\\u003c\\u002fb\\u003e\\u003cbr\\u003eWords: ааа, ааа тебе стоит, волноваться, волноваться это, волноваться это просто\",\"\\u003cb\\u003eTopic 11\\u003c\\u002fb\\u003e\\u003cbr\\u003eWords: скажи генгбенге, скажи генгбенге участвовала, генгбенге участвовала, генгбенге, участвовала\"],\"marker\":{\"color\":\"#D55E00\"},\"mode\":\"lines\",\"name\":\"11_общаться_нюдсов_это просто друзья_пос...\",\"x\":[\"2025-02-04T18:18:59\",\"2025-02-04T18:19:03\",\"2025-02-04T18:28:52\",\"2025-02-04T19:39:02\",\"2025-02-09T19:14:33\",\"2025-02-10T13:56:45\",\"2025-02-19T12:58:53\",\"2025-02-20T21:02:17\",\"2025-02-20T22:23:20\",\"2025-02-21T00:41:44\",\"2025-02-21T09:52:55\",\"2025-02-21T09:54:10\",\"2025-02-21T11:09:08\",\"2025-02-22T09:52:10\",\"2025-02-22T14:58:29\",\"2025-02-22T15:00:47\",\"2025-02-24T16:19:53\"],\"y\":[1,1,1,1,1,1,1,1,1,1,1,1,1,1,1,1,1],\"type\":\"scatter\"},{\"hoverinfo\":\"text\",\"hovertext\":[\"\\u003cb\\u003eTopic 12\\u003c\\u002fb\\u003e\\u003cbr\\u003eWords: спасибо, спасибо спасибо спасибо, спасибо спасибо, плюсую, плюсую спасибо\",\"\\u003cb\\u003eTopic 12\\u003c\\u002fb\\u003e\\u003cbr\\u003eWords: плюсую, спасибо спасибо спасибо, спасибо спасибо, спасибо, плюсую спасибо\",\"\\u003cb\\u003eTopic 12\\u003c\\u002fb\\u003e\\u003cbr\\u003eWords: спасибо, спасибо спасибо спасибо, спасибо спасибо, плюсую, плюсую спасибо\",\"\\u003cb\\u003eTopic 12\\u003c\\u002fb\\u003e\\u003cbr\\u003eWords: спасибо, спасибо спасибо спасибо, спасибо спасибо, плюсую, плюсую спасибо\",\"\\u003cb\\u003eTopic 12\\u003c\\u002fb\\u003e\\u003cbr\\u003eWords: спасибо, спасибо спасибо спасибо, спасибо спасибо, плюсую, плюсую спасибо\",\"\\u003cb\\u003eTopic 12\\u003c\\u002fb\\u003e\\u003cbr\\u003eWords: спасибо, спасибо спасибо спасибо, спасибо спасибо, плюсую, плюсую спасибо\",\"\\u003cb\\u003eTopic 12\\u003c\\u002fb\\u003e\\u003cbr\\u003eWords: спасибо, спасибо спасибо спасибо, спасибо спасибо, плюсую, плюсую спасибо\",\"\\u003cb\\u003eTopic 12\\u003c\\u002fb\\u003e\\u003cbr\\u003eWords: спасибо, спасибо спасибо спасибо, спасибо спасибо, плюсую, плюсую спасибо\",\"\\u003cb\\u003eTopic 12\\u003c\\u002fb\\u003e\\u003cbr\\u003eWords: спасибо, спасибо спасибо спасибо, спасибо спасибо, плюсую, плюсую спасибо\",\"\\u003cb\\u003eTopic 12\\u003c\\u002fb\\u003e\\u003cbr\\u003eWords: спасибо, спасибо спасибо спасибо, спасибо спасибо, плюсую, плюсую спасибо\",\"\\u003cb\\u003eTopic 12\\u003c\\u002fb\\u003e\\u003cbr\\u003eWords: спасибо, спасибо спасибо спасибо, спасибо спасибо, плюсую, плюсую спасибо\",\"\\u003cb\\u003eTopic 12\\u003c\\u002fb\\u003e\\u003cbr\\u003eWords: спасибо, спасибо спасибо спасибо, спасибо спасибо, плюсую, плюсую спасибо\",\"\\u003cb\\u003eTopic 12\\u003c\\u002fb\\u003e\\u003cbr\\u003eWords: спасибо, спасибо спасибо спасибо, спасибо спасибо, плюсую, плюсую спасибо\",\"\\u003cb\\u003eTopic 12\\u003c\\u002fb\\u003e\\u003cbr\\u003eWords: спасибо, спасибо спасибо спасибо, спасибо спасибо, плюсую, плюсую спасибо\"],\"marker\":{\"color\":\"#0072B2\"},\"mode\":\"lines\",\"name\":\"12_спасибо спасибо спасибо_спасибо спаси...\",\"x\":[\"2025-02-03T12:05:52\",\"2025-02-04T11:06:20\",\"2025-02-04T19:51:14\",\"2025-02-08T00:29:49\",\"2025-02-08T17:35:51\",\"2025-02-10T10:22:29\",\"2025-02-10T12:13:23\",\"2025-02-16T12:38:42\",\"2025-02-19T15:43:01\",\"2025-02-20T22:21:53\",\"2025-02-22T15:30:43\",\"2025-02-24T10:54:10\",\"2025-02-25T10:21:23\",\"2025-02-27T11:03:13\"],\"y\":[1,1,1,1,1,1,1,1,1,1,1,1,1,1],\"type\":\"scatter\"},{\"hoverinfo\":\"text\",\"hovertext\":[\"\\u003cb\\u003eTopic 13\\u003c\\u002fb\\u003e\\u003cbr\\u003eWords: эээ нууу 10, нууу 10 секундными, эээ, 10 секундными паузами, нужны голосовуки эээ\",\"\\u003cb\\u003eTopic 13\\u003c\\u002fb\\u003e\\u003cbr\\u003eWords: против имею, имею, против, андрюх, нууу\",\"\\u003cb\\u003eTopic 13\\u003c\\u002fb\\u003e\\u003cbr\\u003eWords: обещали, обещали голосовухи, голосовухи, андрюх, нууу 10 секундными\",\"\\u003cb\\u003eTopic 13\\u003c\\u002fb\\u003e\\u003cbr\\u003eWords: необходима, андрюх, эээ нууу 10, нууу 10 секундными, начисляйте везде\",\"\\u003cb\\u003eTopic 13\\u003c\\u002fb\\u003e\\u003cbr\\u003eWords: свой словарный, каналы, расширишь свой словарный, расширишь, подпишись\",\"\\u003cb\\u003eTopic 13\\u003c\\u002fb\\u003e\\u003cbr\\u003eWords: кавказа, андрюх, эээ нууу 10, начисляйте, начисляйте везде\",\"\\u003cb\\u003eTopic 13\\u003c\\u002fb\\u003e\\u003cbr\\u003eWords: андрюх раздуплись, раздуплись, андрюх, эээ нууу 10, начисляйте\",\"\\u003cb\\u003eTopic 13\\u003c\\u002fb\\u003e\\u003cbr\\u003eWords: умнее получилось андрюх, казаться умнее, получилось андрюх, казаться умнее получилось, умнее\",\"\\u003cb\\u003eTopic 13\\u003c\\u002fb\\u003e\\u003cbr\\u003eWords: начисляйте, буквы, буквы начисляйте, андрюх, имею\",\"\\u003cb\\u003eTopic 13\\u003c\\u002fb\\u003e\\u003cbr\\u003eWords: везде минимум собеса, везде минимум, минимум собеса, собеса, везде\",\"\\u003cb\\u003eTopic 13\\u003c\\u002fb\\u003e\\u003cbr\\u003eWords: вижу, другого смысла вижу, другого смысла, другого, смысла вижу\",\"\\u003cb\\u003eTopic 13\\u003c\\u002fb\\u003e\\u003cbr\\u003eWords: хотя сяп, сяп, хотя, андрюх, эээ нууу 10\",\"\\u003cb\\u003eTopic 13\\u003c\\u002fb\\u003e\\u003cbr\\u003eWords: злобы негатива, рассадника злобы негатива, злобы негатива сил, сил моих, сил\",\"\\u003cb\\u003eTopic 13\\u003c\\u002fb\\u003e\\u003cbr\\u003eWords: сторону, перехожу, добра, перехожу сторону добра, перехожу сторону\"],\"marker\":{\"color\":\"#CC79A7\"},\"mode\":\"lines\",\"name\":\"13_андрюх_нужны голосовуки эээ_нужны гол...\",\"x\":[\"2025-02-03T11:57:36\",\"2025-02-04T12:07:08\",\"2025-02-04T16:21:52\",\"2025-02-10T11:50:51\",\"2025-02-10T11:55:43\",\"2025-02-12T00:46:49\",\"2025-02-17T09:50:33\",\"2025-02-17T14:12:28\",\"2025-02-19T16:01:35\",\"2025-02-20T23:04:07\",\"2025-02-20T23:45:39\",\"2025-02-24T13:42:39\",\"2025-02-24T15:47:29\",\"2025-02-24T15:51:34\"],\"y\":[1,1,1,1,1,1,1,1,1,1,1,1,1,1],\"type\":\"scatter\"},{\"hoverinfo\":\"text\",\"hovertext\":[\"\\u003cb\\u003eTopic 14\\u003c\\u002fb\\u003e\\u003cbr\\u003eWords: нахлебников, ого, ого сколько, ого сколько нахлебников, сколько нахлебников\",\"\\u003cb\\u003eTopic 14\\u003c\\u002fb\\u003e\\u003cbr\\u003eWords: пора, давно пора, давно, слишком, ящитаю разбуди 820\",\"\\u003cb\\u003eTopic 14\\u003c\\u002fb\\u003e\\u003cbr\\u003eWords: устроили, слишком, ящитаю разбуди 820, кого отобрали слишком, всем написали\",\"\\u003cb\\u003eTopic 14\\u003c\\u002fb\\u003e\\u003cbr\\u003eWords: заморозили когото видимо, видимо, заморозили когото, заморозили, когото видимо\",\"\\u003cb\\u003eTopic 14\\u003c\\u002fb\\u003e\\u003cbr\\u003eWords: слишком высокую, планку установили ящитаю, высокую планку установили, планку установили, установили\",\"\\u003cb\\u003eTopic 14\\u003c\\u002fb\\u003e\\u003cbr\\u003eWords: 820, разбуди 820, разбуди, слишком, написали кого отобрали\",\"\\u003cb\\u003eTopic 14\\u003c\\u002fb\\u003e\\u003cbr\\u003eWords: забыл, слишком, ящитаю разбуди 820, написали кого отобрали, всем написали\",\"\\u003cb\\u003eTopic 14\\u003c\\u002fb\\u003e\\u003cbr\\u003eWords: везде поразному, поразному, везде, слишком, ящитаю разбуди 820\",\"\\u003cb\\u003eTopic 14\\u003c\\u002fb\\u003e\\u003cbr\\u003eWords: кмк инфа, всем написали, кмк, выше стеб, написали кого отобрали\",\"\\u003cb\\u003eTopic 14\\u003c\\u002fb\\u003e\\u003cbr\\u003eWords: большой набор, большой набор людей, набор людей наверное, набор людей, набор\",\"\\u003cb\\u003eTopic 14\\u003c\\u002fb\\u003e\\u003cbr\\u003eWords: контекста, вытаскивать, вытаскивать контекста, слишком, когото видимо чот\",\"\\u003cb\\u003eTopic 14\\u003c\\u002fb\\u003e\\u003cbr\\u003eWords: своему, своему преемнику, преемнику, слишком, написали кого\",\"\\u003cb\\u003eTopic 14\\u003c\\u002fb\\u003e\\u003cbr\\u003eWords: поставь, поставь место, место, слишком, всем написали\"],\"marker\":{\"color\":\"#E69F00\"},\"mode\":\"lines\",\"name\":\"14_слишком_820_наверное вытаскивать конт...\",\"x\":[\"2025-02-04T13:18:14\",\"2025-02-04T18:56:22\",\"2025-02-04T18:56:33\",\"2025-02-04T19:53:32\",\"2025-02-08T13:29:46\",\"2025-02-11T23:49:09\",\"2025-02-20T22:21:49\",\"2025-02-20T23:06:34\",\"2025-02-21T14:51:41\",\"2025-02-21T14:53:19\",\"2025-02-24T12:24:28\",\"2025-02-24T15:51:12\",\"2025-02-24T16:16:39\"],\"y\":[1,1,1,1,1,1,1,1,1,1,1,1,1],\"type\":\"scatter\"},{\"hoverinfo\":\"text\",\"hovertext\":[\"\\u003cb\\u003eTopic 15\\u003c\\u002fb\\u003e\\u003cbr\\u003eWords: слушаю, тожеу общего мониторь, вступительную речь, сообщения оставь найди, тожеу\",\"\\u003cb\\u003eTopic 15\\u003c\\u002fb\\u003e\\u003cbr\\u003eWords: тожеу общего мониторь, вступительную речь тожеу, сообщения оставь найди, самое смешное, сообщения оставь\",\"\\u003cb\\u003eTopic 15\\u003c\\u002fb\\u003e\\u003cbr\\u003eWords: пошерьте, вступительную речь тожеу, сообщения оставь найди, самое смешное, сообщения оставь\",\"\\u003cb\\u003eTopic 15\\u003c\\u002fb\\u003e\\u003cbr\\u003eWords: вступительную, готовлю вступительную, готовлю вступительную речь, вступительную речь, готовлю\",\"\\u003cb\\u003eTopic 15\\u003c\\u002fb\\u003e\\u003cbr\\u003eWords: тожеу, тожеу общего, общего, тожеу общего мониторь, оставь найди самое\",\"\\u003cb\\u003eTopic 15\\u003c\\u002fb\\u003e\\u003cbr\\u003eWords: тожеу общего мониторь, вступительную речь тожеу, сообщения оставь найди, самое смешное, сообщения оставь\",\"\\u003cb\\u003eTopic 15\\u003c\\u002fb\\u003e\\u003cbr\\u003eWords: мониторь, мониторь сообщения, сообщения, тожеу общего мониторь, пошерьте готовлю\",\"\\u003cb\\u003eTopic 15\\u003c\\u002fb\\u003e\\u003cbr\\u003eWords: оставь, тожеу общего мониторь, пошерьте готовлю, сообщения оставь найди, самое смешное\",\"\\u003cb\\u003eTopic 15\\u003c\\u002fb\\u003e\\u003cbr\\u003eWords: найди, тожеу общего мониторь, вступительную речь, пошерьте готовлю вступительную, слушаю пошерьте\",\"\\u003cb\\u003eTopic 15\\u003c\\u002fb\\u003e\\u003cbr\\u003eWords: тожеу общего мониторь, вступительную речь тожеу, сообщения оставь найди, самое смешное, сообщения оставь\",\"\\u003cb\\u003eTopic 15\\u003c\\u002fb\\u003e\\u003cbr\\u003eWords: самое смешное, смешное получилось, смешное, самое смешное получилось, получилось\"],\"marker\":{\"color\":\"#56B4E9\"},\"mode\":\"lines\",\"name\":\"15_вступительную_тожеу_найди самое_остав...\",\"x\":[\"2025-02-03T12:23:55\",\"2025-02-04T12:15:11\",\"2025-02-04T16:22:10\",\"2025-02-04T16:30:22\",\"2025-02-04T16:32:13\",\"2025-02-10T13:19:11\",\"2025-02-17T10:20:35\",\"2025-02-19T13:19:54\",\"2025-02-20T22:19:46\",\"2025-02-20T23:42:40\",\"2025-02-24T12:49:28\"],\"y\":[1,1,1,1,1,1,1,1,1,1,1],\"type\":\"scatter\"},{\"hoverinfo\":\"text\",\"hovertext\":[\"\\u003cb\\u003eTopic 16\\u003c\\u002fb\\u003e\\u003cbr\\u003eWords: гиперсссылка, ссылка, гиперсссылка гиперсссылка, 12 фото, гиперсссылка гиперсссылка эта\",\"\\u003cb\\u003eTopic 16\\u003c\\u002fb\\u003e\\u003cbr\\u003eWords: гиперсссылка, ссылка, гиперсссылка гиперсссылка, 12 фото, гиперсссылка гиперсссылка эта\",\"\\u003cb\\u003eTopic 16\\u003c\\u002fb\\u003e\\u003cbr\\u003eWords: ссылка, эта ссылка канал, эта ссылка, эта, канал мариян\",\"\\u003cb\\u003eTopic 16\\u003c\\u002fb\\u003e\\u003cbr\\u003eWords: тему гиперсссылка, прорабатывали тему гиперсссылка, прорабатывали тему, прорабатывали, тему\",\"\\u003cb\\u003eTopic 16\\u003c\\u002fb\\u003e\\u003cbr\\u003eWords: реферальная программа, реферальная, программа, гиперсссылка, ссылка\",\"\\u003cb\\u003eTopic 16\\u003c\\u002fb\\u003e\\u003cbr\\u003eWords: короткое видео, видео 12, видео 12 фото, короткое, 12 фото\",\"\\u003cb\\u003eTopic 16\\u003c\\u002fb\\u003e\\u003cbr\\u003eWords: попробуй гиперсссылка, попробуй, гиперсссылка, ссылка, гиперсссылка гиперсссылка\",\"\\u003cb\\u003eTopic 16\\u003c\\u002fb\\u003e\\u003cbr\\u003eWords: гиперсссылка поучаствовать, гиперсссылка поучаствовать команде, поучаствовать команде, поучаствовать, команде\",\"\\u003cb\\u003eTopic 16\\u003c\\u002fb\\u003e\\u003cbr\\u003eWords: гиперсссылка, ссылка, гиперсссылка гиперсссылка, 12 фото, гиперсссылка гиперсссылка эта\",\"\\u003cb\\u003eTopic 16\\u003c\\u002fb\\u003e\\u003cbr\\u003eWords: speech гиперсссылка, democracyfree, democracyfree speech, democracyfree speech гиперсссылка, speech\",\"\\u003cb\\u003eTopic 16\\u003c\\u002fb\\u003e\\u003cbr\\u003eWords: гиперсссылка, ссылка, гиперсссылка ссылка висит, также прописано, странице выпускника гиперсссылка\"],\"marker\":{\"color\":\"#009E73\"},\"mode\":\"lines\",\"name\":\"16_гиперсссылка_ссылка_гиперсссылка гипе...\",\"x\":[\"2025-02-03T12:37:14\",\"2025-02-04T16:23:10\",\"2025-02-04T16:24:33\",\"2025-02-04T19:49:52\",\"2025-02-04T19:51:17\",\"2025-02-04T19:52:06\",\"2025-02-05T21:25:28\",\"2025-02-08T14:56:41\",\"2025-02-14T13:45:52\",\"2025-02-24T11:49:07\",\"2025-02-24T12:19:43\"],\"y\":[1,1,1,1,1,1,1,1,1,1,1],\"type\":\"scatter\"},{\"hoverinfo\":\"text\",\"hovertext\":[\"\\u003cb\\u003eTopic 17\\u003c\\u002fb\\u003e\\u003cbr\\u003eWords: мазохистичный, порыв, мазохистичный порыв, мессенджер команда, мессенджер\",\"\\u003cb\\u003eTopic 17\\u003c\\u002fb\\u003e\\u003cbr\\u003eWords: какойто рамках тщеславия, сконтролированный какойто, обычно сконтролированный какойто, обычно сконтролированный, сконтролированный\",\"\\u003cb\\u003eTopic 17\\u003c\\u002fb\\u003e\\u003cbr\\u003eWords: яндекспочта, яндекспочта гмейл, гмейл, мессенджер, мессенджер команда\",\"\\u003cb\\u003eTopic 17\\u003c\\u002fb\\u003e\\u003cbr\\u003eWords: это скорее дополнительное, это скорее, скорее дополнительное, скорее дополнительное подтверждение, вообще это\",\"\\u003cb\\u003eTopic 17\\u003c\\u002fb\\u003e\\u003cbr\\u003eWords: мессенджер команда сфера, джиры, команда сфера вместо, команда сфера, вместо конфы\",\"\\u003cb\\u003eTopic 17\\u003c\\u002fb\\u003e\\u003cbr\\u003eWords: мессенджер команда, мессенджер, точнее мессенджер, разбить, мессенджер команда телега\",\"\\u003cb\\u003eTopic 17\\u003c\\u002fb\\u003e\\u003cbr\\u003eWords: статусу коллег, статусу, уточню, уточню статусу, уточню статусу коллег\",\"\\u003cb\\u003eTopic 17\\u003c\\u002fb\\u003e\\u003cbr\\u003eWords: попахивает обидой, обидой, попахивает, мессенджер команда, мессенджер\",\"\\u003cb\\u003eTopic 17\\u003c\\u002fb\\u003e\\u003cbr\\u003eWords: трейдин ресторе, трейдин, трейдин ресторе какойто, ресторе какойто, ресторе\",\"\\u003cb\\u003eTopic 17\\u003c\\u002fb\\u003e\\u003cbr\\u003eWords: s3, коннекторы s3 положил, положил оч вкутно, положил оч, положил\"],\"marker\":{\"color\":\"#F0E442\"},\"mode\":\"lines\",\"name\":\"17_мессенджер команда_мессенджер_команда...\",\"x\":[\"2025-02-04T15:37:00\",\"2025-02-04T18:37:44\",\"2025-02-05T22:05:03\",\"2025-02-10T12:04:23\",\"2025-02-20T22:32:28\",\"2025-02-20T22:34:46\",\"2025-02-21T16:45:04\",\"2025-02-24T11:27:06\",\"2025-02-26T17:50:48\",\"2025-02-27T11:56:07\"],\"y\":[1,1,1,1,1,1,1,1,1,1],\"type\":\"scatter\"},{\"hoverinfo\":\"text\",\"hovertext\":[\"\\u003cb\\u003eTopic 18\\u003c\\u002fb\\u003e\\u003cbr\\u003eWords: спасибо пока, спасибо пока топе, топе, пока топе, спасибо\",\"\\u003cb\\u003eTopic 18\\u003c\\u002fb\\u003e\\u003cbr\\u003eWords: пожалуйста, спасибо, спасибо спасибо, ура спасибо тебе, дорогой спасибо\",\"\\u003cb\\u003eTopic 18\\u003c\\u002fb\\u003e\\u003cbr\\u003eWords: ура, спасибо, спасибо спасибо, ура спасибо тебе, дорогой спасибо\",\"\\u003cb\\u003eTopic 18\\u003c\\u002fb\\u003e\\u003cbr\\u003eWords: спасибо, спасибо спасибо, ура спасибо тебе, дорогой спасибо, спасибо спасибо подправила\",\"\\u003cb\\u003eTopic 18\\u003c\\u002fb\\u003e\\u003cbr\\u003eWords: тебе спасибо открытку, открытку, спасибо открытку, тебе спасибо, спасибо\",\"\\u003cb\\u003eTopic 18\\u003c\\u002fb\\u003e\\u003cbr\\u003eWords: спасибо, спасибо спасибо, ура спасибо тебе, дорогой спасибо, спасибо спасибо подправила\",\"\\u003cb\\u003eTopic 18\\u003c\\u002fb\\u003e\\u003cbr\\u003eWords: дорогой, спасибо дорогой, спасибо, спасибо спасибо, спасибо подправила\",\"\\u003cb\\u003eTopic 18\\u003c\\u002fb\\u003e\\u003cbr\\u003eWords: спасибо, спасибо спасибо, ура спасибо тебе, дорогой спасибо, спасибо спасибо подправила\",\"\\u003cb\\u003eTopic 18\\u003c\\u002fb\\u003e\\u003cbr\\u003eWords: спасибо подправила, подправила, спасибо, спасибо спасибо, ура спасибо тебе\",\"\\u003cb\\u003eTopic 18\\u003c\\u002fb\\u003e\\u003cbr\\u003eWords: спасибо, спасибо спасибо, ура спасибо тебе, дорогой спасибо, спасибо спасибо подправила\"],\"marker\":{\"color\":\"#D55E00\"},\"mode\":\"lines\",\"name\":\"18_спасибо_спасибо спасибо_дорогой_ура с...\",\"x\":[\"2025-02-03T12:10:29\",\"2025-02-04T16:04:46\",\"2025-02-04T19:49:57\",\"2025-02-08T00:29:39\",\"2025-02-08T17:35:58\",\"2025-02-11T16:47:04\",\"2025-02-11T23:51:16\",\"2025-02-14T13:48:48\",\"2025-02-19T15:02:08\",\"2025-02-22T15:16:41\"],\"y\":[1,1,1,1,1,1,1,1,1,1],\"type\":\"scatter\"}],                        {\"template\":{\"data\":{\"barpolar\":[{\"marker\":{\"line\":{\"color\":\"white\",\"width\":0.5},\"pattern\":{\"fillmode\":\"overlay\",\"size\":10,\"solidity\":0.2}},\"type\":\"barpolar\"}],\"bar\":[{\"error_x\":{\"color\":\"rgb(36,36,36)\"},\"error_y\":{\"color\":\"rgb(36,36,36)\"},\"marker\":{\"line\":{\"color\":\"white\",\"width\":0.5},\"pattern\":{\"fillmode\":\"overlay\",\"size\":10,\"solidity\":0.2}},\"type\":\"bar\"}],\"carpet\":[{\"aaxis\":{\"endlinecolor\":\"rgb(36,36,36)\",\"gridcolor\":\"white\",\"linecolor\":\"white\",\"minorgridcolor\":\"white\",\"startlinecolor\":\"rgb(36,36,36)\"},\"baxis\":{\"endlinecolor\":\"rgb(36,36,36)\",\"gridcolor\":\"white\",\"linecolor\":\"white\",\"minorgridcolor\":\"white\",\"startlinecolor\":\"rgb(36,36,36)\"},\"type\":\"carpet\"}],\"choropleth\":[{\"colorbar\":{\"outlinewidth\":1,\"tickcolor\":\"rgb(36,36,36)\",\"ticks\":\"outside\"},\"type\":\"choropleth\"}],\"contourcarpet\":[{\"colorbar\":{\"outlinewidth\":1,\"tickcolor\":\"rgb(36,36,36)\",\"ticks\":\"outside\"},\"type\":\"contourcarpet\"}],\"contour\":[{\"colorbar\":{\"outlinewidth\":1,\"tickcolor\":\"rgb(36,36,36)\",\"ticks\":\"outside\"},\"colorscale\":[[0.0,\"#440154\"],[0.1111111111111111,\"#482878\"],[0.2222222222222222,\"#3e4989\"],[0.3333333333333333,\"#31688e\"],[0.4444444444444444,\"#26828e\"],[0.5555555555555556,\"#1f9e89\"],[0.6666666666666666,\"#35b779\"],[0.7777777777777778,\"#6ece58\"],[0.8888888888888888,\"#b5de2b\"],[1.0,\"#fde725\"]],\"type\":\"contour\"}],\"heatmapgl\":[{\"colorbar\":{\"outlinewidth\":1,\"tickcolor\":\"rgb(36,36,36)\",\"ticks\":\"outside\"},\"colorscale\":[[0.0,\"#440154\"],[0.1111111111111111,\"#482878\"],[0.2222222222222222,\"#3e4989\"],[0.3333333333333333,\"#31688e\"],[0.4444444444444444,\"#26828e\"],[0.5555555555555556,\"#1f9e89\"],[0.6666666666666666,\"#35b779\"],[0.7777777777777778,\"#6ece58\"],[0.8888888888888888,\"#b5de2b\"],[1.0,\"#fde725\"]],\"type\":\"heatmapgl\"}],\"heatmap\":[{\"colorbar\":{\"outlinewidth\":1,\"tickcolor\":\"rgb(36,36,36)\",\"ticks\":\"outside\"},\"colorscale\":[[0.0,\"#440154\"],[0.1111111111111111,\"#482878\"],[0.2222222222222222,\"#3e4989\"],[0.3333333333333333,\"#31688e\"],[0.4444444444444444,\"#26828e\"],[0.5555555555555556,\"#1f9e89\"],[0.6666666666666666,\"#35b779\"],[0.7777777777777778,\"#6ece58\"],[0.8888888888888888,\"#b5de2b\"],[1.0,\"#fde725\"]],\"type\":\"heatmap\"}],\"histogram2dcontour\":[{\"colorbar\":{\"outlinewidth\":1,\"tickcolor\":\"rgb(36,36,36)\",\"ticks\":\"outside\"},\"colorscale\":[[0.0,\"#440154\"],[0.1111111111111111,\"#482878\"],[0.2222222222222222,\"#3e4989\"],[0.3333333333333333,\"#31688e\"],[0.4444444444444444,\"#26828e\"],[0.5555555555555556,\"#1f9e89\"],[0.6666666666666666,\"#35b779\"],[0.7777777777777778,\"#6ece58\"],[0.8888888888888888,\"#b5de2b\"],[1.0,\"#fde725\"]],\"type\":\"histogram2dcontour\"}],\"histogram2d\":[{\"colorbar\":{\"outlinewidth\":1,\"tickcolor\":\"rgb(36,36,36)\",\"ticks\":\"outside\"},\"colorscale\":[[0.0,\"#440154\"],[0.1111111111111111,\"#482878\"],[0.2222222222222222,\"#3e4989\"],[0.3333333333333333,\"#31688e\"],[0.4444444444444444,\"#26828e\"],[0.5555555555555556,\"#1f9e89\"],[0.6666666666666666,\"#35b779\"],[0.7777777777777778,\"#6ece58\"],[0.8888888888888888,\"#b5de2b\"],[1.0,\"#fde725\"]],\"type\":\"histogram2d\"}],\"histogram\":[{\"marker\":{\"line\":{\"color\":\"white\",\"width\":0.6}},\"type\":\"histogram\"}],\"mesh3d\":[{\"colorbar\":{\"outlinewidth\":1,\"tickcolor\":\"rgb(36,36,36)\",\"ticks\":\"outside\"},\"type\":\"mesh3d\"}],\"parcoords\":[{\"line\":{\"colorbar\":{\"outlinewidth\":1,\"tickcolor\":\"rgb(36,36,36)\",\"ticks\":\"outside\"}},\"type\":\"parcoords\"}],\"pie\":[{\"automargin\":true,\"type\":\"pie\"}],\"scatter3d\":[{\"line\":{\"colorbar\":{\"outlinewidth\":1,\"tickcolor\":\"rgb(36,36,36)\",\"ticks\":\"outside\"}},\"marker\":{\"colorbar\":{\"outlinewidth\":1,\"tickcolor\":\"rgb(36,36,36)\",\"ticks\":\"outside\"}},\"type\":\"scatter3d\"}],\"scattercarpet\":[{\"marker\":{\"colorbar\":{\"outlinewidth\":1,\"tickcolor\":\"rgb(36,36,36)\",\"ticks\":\"outside\"}},\"type\":\"scattercarpet\"}],\"scattergeo\":[{\"marker\":{\"colorbar\":{\"outlinewidth\":1,\"tickcolor\":\"rgb(36,36,36)\",\"ticks\":\"outside\"}},\"type\":\"scattergeo\"}],\"scattergl\":[{\"marker\":{\"colorbar\":{\"outlinewidth\":1,\"tickcolor\":\"rgb(36,36,36)\",\"ticks\":\"outside\"}},\"type\":\"scattergl\"}],\"scattermapbox\":[{\"marker\":{\"colorbar\":{\"outlinewidth\":1,\"tickcolor\":\"rgb(36,36,36)\",\"ticks\":\"outside\"}},\"type\":\"scattermapbox\"}],\"scatterpolargl\":[{\"marker\":{\"colorbar\":{\"outlinewidth\":1,\"tickcolor\":\"rgb(36,36,36)\",\"ticks\":\"outside\"}},\"type\":\"scatterpolargl\"}],\"scatterpolar\":[{\"marker\":{\"colorbar\":{\"outlinewidth\":1,\"tickcolor\":\"rgb(36,36,36)\",\"ticks\":\"outside\"}},\"type\":\"scatterpolar\"}],\"scatter\":[{\"fillpattern\":{\"fillmode\":\"overlay\",\"size\":10,\"solidity\":0.2},\"type\":\"scatter\"}],\"scatterternary\":[{\"marker\":{\"colorbar\":{\"outlinewidth\":1,\"tickcolor\":\"rgb(36,36,36)\",\"ticks\":\"outside\"}},\"type\":\"scatterternary\"}],\"surface\":[{\"colorbar\":{\"outlinewidth\":1,\"tickcolor\":\"rgb(36,36,36)\",\"ticks\":\"outside\"},\"colorscale\":[[0.0,\"#440154\"],[0.1111111111111111,\"#482878\"],[0.2222222222222222,\"#3e4989\"],[0.3333333333333333,\"#31688e\"],[0.4444444444444444,\"#26828e\"],[0.5555555555555556,\"#1f9e89\"],[0.6666666666666666,\"#35b779\"],[0.7777777777777778,\"#6ece58\"],[0.8888888888888888,\"#b5de2b\"],[1.0,\"#fde725\"]],\"type\":\"surface\"}],\"table\":[{\"cells\":{\"fill\":{\"color\":\"rgb(237,237,237)\"},\"line\":{\"color\":\"white\"}},\"header\":{\"fill\":{\"color\":\"rgb(217,217,217)\"},\"line\":{\"color\":\"white\"}},\"type\":\"table\"}]},\"layout\":{\"annotationdefaults\":{\"arrowhead\":0,\"arrowwidth\":1},\"autotypenumbers\":\"strict\",\"coloraxis\":{\"colorbar\":{\"outlinewidth\":1,\"tickcolor\":\"rgb(36,36,36)\",\"ticks\":\"outside\"}},\"colorscale\":{\"diverging\":[[0.0,\"rgb(103,0,31)\"],[0.1,\"rgb(178,24,43)\"],[0.2,\"rgb(214,96,77)\"],[0.3,\"rgb(244,165,130)\"],[0.4,\"rgb(253,219,199)\"],[0.5,\"rgb(247,247,247)\"],[0.6,\"rgb(209,229,240)\"],[0.7,\"rgb(146,197,222)\"],[0.8,\"rgb(67,147,195)\"],[0.9,\"rgb(33,102,172)\"],[1.0,\"rgb(5,48,97)\"]],\"sequential\":[[0.0,\"#440154\"],[0.1111111111111111,\"#482878\"],[0.2222222222222222,\"#3e4989\"],[0.3333333333333333,\"#31688e\"],[0.4444444444444444,\"#26828e\"],[0.5555555555555556,\"#1f9e89\"],[0.6666666666666666,\"#35b779\"],[0.7777777777777778,\"#6ece58\"],[0.8888888888888888,\"#b5de2b\"],[1.0,\"#fde725\"]],\"sequentialminus\":[[0.0,\"#440154\"],[0.1111111111111111,\"#482878\"],[0.2222222222222222,\"#3e4989\"],[0.3333333333333333,\"#31688e\"],[0.4444444444444444,\"#26828e\"],[0.5555555555555556,\"#1f9e89\"],[0.6666666666666666,\"#35b779\"],[0.7777777777777778,\"#6ece58\"],[0.8888888888888888,\"#b5de2b\"],[1.0,\"#fde725\"]]},\"colorway\":[\"#1F77B4\",\"#FF7F0E\",\"#2CA02C\",\"#D62728\",\"#9467BD\",\"#8C564B\",\"#E377C2\",\"#7F7F7F\",\"#BCBD22\",\"#17BECF\"],\"font\":{\"color\":\"rgb(36,36,36)\"},\"geo\":{\"bgcolor\":\"white\",\"lakecolor\":\"white\",\"landcolor\":\"white\",\"showlakes\":true,\"showland\":true,\"subunitcolor\":\"white\"},\"hoverlabel\":{\"align\":\"left\"},\"hovermode\":\"closest\",\"mapbox\":{\"style\":\"light\"},\"paper_bgcolor\":\"white\",\"plot_bgcolor\":\"white\",\"polar\":{\"angularaxis\":{\"gridcolor\":\"rgb(232,232,232)\",\"linecolor\":\"rgb(36,36,36)\",\"showgrid\":false,\"showline\":true,\"ticks\":\"outside\"},\"bgcolor\":\"white\",\"radialaxis\":{\"gridcolor\":\"rgb(232,232,232)\",\"linecolor\":\"rgb(36,36,36)\",\"showgrid\":false,\"showline\":true,\"ticks\":\"outside\"}},\"scene\":{\"xaxis\":{\"backgroundcolor\":\"white\",\"gridcolor\":\"rgb(232,232,232)\",\"gridwidth\":2,\"linecolor\":\"rgb(36,36,36)\",\"showbackground\":true,\"showgrid\":false,\"showline\":true,\"ticks\":\"outside\",\"zeroline\":false,\"zerolinecolor\":\"rgb(36,36,36)\"},\"yaxis\":{\"backgroundcolor\":\"white\",\"gridcolor\":\"rgb(232,232,232)\",\"gridwidth\":2,\"linecolor\":\"rgb(36,36,36)\",\"showbackground\":true,\"showgrid\":false,\"showline\":true,\"ticks\":\"outside\",\"zeroline\":false,\"zerolinecolor\":\"rgb(36,36,36)\"},\"zaxis\":{\"backgroundcolor\":\"white\",\"gridcolor\":\"rgb(232,232,232)\",\"gridwidth\":2,\"linecolor\":\"rgb(36,36,36)\",\"showbackground\":true,\"showgrid\":false,\"showline\":true,\"ticks\":\"outside\",\"zeroline\":false,\"zerolinecolor\":\"rgb(36,36,36)\"}},\"shapedefaults\":{\"fillcolor\":\"black\",\"line\":{\"width\":0},\"opacity\":0.3},\"ternary\":{\"aaxis\":{\"gridcolor\":\"rgb(232,232,232)\",\"linecolor\":\"rgb(36,36,36)\",\"showgrid\":false,\"showline\":true,\"ticks\":\"outside\"},\"baxis\":{\"gridcolor\":\"rgb(232,232,232)\",\"linecolor\":\"rgb(36,36,36)\",\"showgrid\":false,\"showline\":true,\"ticks\":\"outside\"},\"bgcolor\":\"white\",\"caxis\":{\"gridcolor\":\"rgb(232,232,232)\",\"linecolor\":\"rgb(36,36,36)\",\"showgrid\":false,\"showline\":true,\"ticks\":\"outside\"}},\"title\":{\"x\":0.05},\"xaxis\":{\"automargin\":true,\"gridcolor\":\"rgb(232,232,232)\",\"linecolor\":\"rgb(36,36,36)\",\"showgrid\":false,\"showline\":true,\"ticks\":\"outside\",\"title\":{\"standoff\":15},\"zeroline\":false,\"zerolinecolor\":\"rgb(36,36,36)\"},\"yaxis\":{\"automargin\":true,\"gridcolor\":\"rgb(232,232,232)\",\"linecolor\":\"rgb(36,36,36)\",\"showgrid\":false,\"showline\":true,\"ticks\":\"outside\",\"title\":{\"standoff\":15},\"zeroline\":false,\"zerolinecolor\":\"rgb(36,36,36)\"}}},\"xaxis\":{\"showgrid\":true},\"yaxis\":{\"showgrid\":true,\"title\":{\"text\":\"Frequency\"}},\"title\":{\"font\":{\"size\":22,\"color\":\"Black\"},\"text\":\"\\u003cb\\u003eTopics over Time\\u003c\\u002fb\\u003e\",\"y\":0.95,\"x\":0.4,\"xanchor\":\"center\",\"yanchor\":\"top\"},\"hoverlabel\":{\"font\":{\"size\":16,\"family\":\"Rockwell\"},\"bgcolor\":\"white\"},\"width\":1250,\"height\":450,\"legend\":{\"title\":{\"text\":\"\\u003cb\\u003eGlobal Topic Representation\"}}},                        {\"responsive\": true}                    ).then(function(){\n",
       "                            \n",
       "var gd = document.getElementById('8647ad7d-4b6e-4e1a-af48-ddd0584f79f3');\n",
       "var x = new MutationObserver(function (mutations, observer) {{\n",
       "        var display = window.getComputedStyle(gd).display;\n",
       "        if (!display || display === 'none') {{\n",
       "            console.log([gd, 'removed!']);\n",
       "            Plotly.purge(gd);\n",
       "            observer.disconnect();\n",
       "        }}\n",
       "}});\n",
       "\n",
       "// Listen for the removal of the full notebook cells\n",
       "var notebookContainer = gd.closest('#notebook-container');\n",
       "if (notebookContainer) {{\n",
       "    x.observe(notebookContainer, {childList: true});\n",
       "}}\n",
       "\n",
       "// Listen for the clearing of the current output cell\n",
       "var outputEl = gd.closest('.output');\n",
       "if (outputEl) {{\n",
       "    x.observe(outputEl, {childList: true});\n",
       "}}\n",
       "\n",
       "                        })                };                });            </script>        </div>"
      ]
     },
     "metadata": {},
     "output_type": "display_data"
    }
   ],
   "source": [
    "%%time\n",
    "timestamps = df_1.df.loc[index_df,:].date.to_list()\n",
    "topics_over_time = bertopic_model.topic_model.topics_over_time(text, timestamps)\n",
    "bertopic_model.topic_model.visualize_topics_over_time(topics_over_time)"
   ]
  },
  {
   "cell_type": "code",
   "execution_count": null,
   "id": "817b2d5e-2cb8-446a-89ee-cfced51b3911",
   "metadata": {},
   "outputs": [],
   "source": []
  }
 ],
 "metadata": {
  "kernelspec": {
   "display_name": "Python 3 (ipykernel)",
   "language": "python",
   "name": "python3"
  },
  "language_info": {
   "codemirror_mode": {
    "name": "ipython",
    "version": 3
   },
   "file_extension": ".py",
   "mimetype": "text/x-python",
   "name": "python",
   "nbconvert_exporter": "python",
   "pygments_lexer": "ipython3",
   "version": "3.12.7"
  }
 },
 "nbformat": 4,
 "nbformat_minor": 5
}
