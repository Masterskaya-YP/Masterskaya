{
  "nbformat": 4,
  "nbformat_minor": 0,
  "metadata": {
    "colab": {
      "provenance": [],
      "toc_visible": true
    },
    "kernelspec": {
      "name": "python3",
      "display_name": "Python 3"
    },
    "language_info": {
      "name": "python"
    }
  },
  "cells": [
    {
      "cell_type": "markdown",
      "source": [
        "# Задача:\n",
        "* от заказчика передан был пример выгрузки из канала https://disk.yandex.ru/d/NcyC_Xp0EyE8ow\n",
        "Что нужно сделать:\n",
        "\n",
        "* распарсить json и положить в структуру pandas DataFrame. Пример того, что ожидается https://drive.google.com/file/d/1Ry4zMi91-qqUVLds2OVCmmG95kH8gllt/view?usp=sharing  \n",
        "\n",
        "каждый участник создает свою ветку и пушит код парсинга"
      ],
      "metadata": {
        "id": "nbCP0H73RVIq"
      }
    },
    {
      "cell_type": "markdown",
      "source": [
        "# Парсинг"
      ],
      "metadata": {
        "id": "fw_wgDZpTju6"
      }
    },
    {
      "cell_type": "code",
      "execution_count": 1,
      "metadata": {
        "id": "wRnigsOp25xU"
      },
      "outputs": [],
      "source": [
        "import json\n",
        "import pandas as pd\n",
        "import os"
      ]
    },
    {
      "cell_type": "code",
      "source": [
        "# робота с Google Диском\n",
        "from google.colab import drive\n",
        "drive.mount('/content/drive')"
      ],
      "metadata": {
        "colab": {
          "base_uri": "https://localhost:8080/"
        },
        "id": "_g3hWbUL3KFD",
        "outputId": "56a40266-d851-4f44-8a8e-7f6ea4efd309"
      },
      "execution_count": 2,
      "outputs": [
        {
          "output_type": "stream",
          "name": "stdout",
          "text": [
            "Drive already mounted at /content/drive; to attempt to forcibly remount, call drive.mount(\"/content/drive\", force_remount=True).\n"
          ]
        }
      ]
    },
    {
      "cell_type": "code",
      "source": [
        "# Путь к json ввожу вручную\n",
        "%cd /content/drive/My Drive/Colab Notebooks/Projects/Master_Ya\n",
        "path_json = os.getcwd() + '/down/маркетинг/result.json'\n",
        "path_json"
      ],
      "metadata": {
        "colab": {
          "base_uri": "https://localhost:8080/",
          "height": 54
        },
        "id": "vnGCFMYf4ZRo",
        "outputId": "b142fc85-41e4-4dc8-bd22-0194041b0441"
      },
      "execution_count": 3,
      "outputs": [
        {
          "output_type": "stream",
          "name": "stdout",
          "text": [
            "/content/drive/My Drive/Colab Notebooks/Projects/Master_Ya\n"
          ]
        },
        {
          "output_type": "execute_result",
          "data": {
            "text/plain": [
              "'/content/drive/My Drive/Colab Notebooks/Projects/Master_Ya/down/маркетинг/result.json'"
            ],
            "application/vnd.google.colaboratory.intrinsic+json": {
              "type": "string"
            }
          },
          "metadata": {},
          "execution_count": 3
        }
      ]
    },
    {
      "cell_type": "code",
      "source": [
        "# Загружаем JSON-файл\n",
        "with open(path_json, 'r', encoding='utf-8') as file:\n",
        "    chat_data = json.load(file)"
      ],
      "metadata": {
        "id": "VlrKRmr43IHO"
      },
      "execution_count": 4,
      "outputs": []
    },
    {
      "cell_type": "code",
      "source": [
        "# Извлекаем сообщения, а также название чата(в JSON-файл один чат) и chat_id\n",
        "messages = chat_data.get('messages', [])\n",
        "chat_name = chat_data.get('name')\n",
        "chat_id = chat_data.get('id')"
      ],
      "metadata": {
        "id": "AF6JRUlW3IEj"
      },
      "execution_count": 5,
      "outputs": []
    },
    {
      "cell_type": "code",
      "source": [
        "# Парсим текстовые сообщения\n",
        "parsed_messages = []\n",
        "for message in messages:\n",
        "    # отсекаем служебные сообщения  type: service\n",
        "    if message.get('type') == 'message':\n",
        "        text = message['text']\n",
        "        parsed_messages.append({\n",
        "            'message_id': message['id'],\n",
        "            'date': message['date'],\n",
        "            'chat_name': chat_name,\n",
        "            'chat_id': chat_id,\n",
        "            'sender_id': message.get('from_id'),\n",
        "            'from': message.get('from', 'Unknown'),\n",
        "            'text': text\n",
        "        })"
      ],
      "metadata": {
        "id": "jeZ3V0K73ICG"
      },
      "execution_count": 6,
      "outputs": []
    },
    {
      "cell_type": "code",
      "source": [
        "# Создаем датафрейм\n",
        "df = pd.DataFrame(parsed_messages)"
      ],
      "metadata": {
        "id": "xHqq6VyO3H_p"
      },
      "execution_count": 7,
      "outputs": []
    },
    {
      "cell_type": "code",
      "source": [
        "df"
      ],
      "metadata": {
        "colab": {
          "base_uri": "https://localhost:8080/",
          "height": 423
        },
        "id": "p4yNrIfr3H8t",
        "outputId": "cebdf66d-0f25-4c89-ab92-473abe3bdae0"
      },
      "execution_count": 8,
      "outputs": [
        {
          "output_type": "execute_result",
          "data": {
            "text/plain": [
              "      message_id                 date                   chat_name     chat_id  \\\n",
              "0          42471  2025-02-01T07:35:54  💬 Marketing Practicum Chat  1782474569   \n",
              "1          42472  2025-02-01T07:40:03  💬 Marketing Practicum Chat  1782474569   \n",
              "2          42473  2025-02-01T07:48:53  💬 Marketing Practicum Chat  1782474569   \n",
              "3          42474  2025-02-01T07:50:31  💬 Marketing Practicum Chat  1782474569   \n",
              "4          42475  2025-02-01T08:12:42  💬 Marketing Practicum Chat  1782474569   \n",
              "...          ...                  ...                         ...         ...   \n",
              "3675       46400  2025-02-27T20:11:04  💬 Marketing Practicum Chat  1782474569   \n",
              "3676       46401  2025-02-27T20:23:08  💬 Marketing Practicum Chat  1782474569   \n",
              "3677       46402  2025-02-27T20:24:44  💬 Marketing Practicum Chat  1782474569   \n",
              "3678       46403  2025-02-27T20:29:44  💬 Marketing Practicum Chat  1782474569   \n",
              "3679       46405  2025-02-27T20:30:53  💬 Marketing Practicum Chat  1782474569   \n",
              "\n",
              "           sender_id                  from  \\\n",
              "0     user1272493086        Pasha Sannikov   \n",
              "1     user1272493086        Pasha Sannikov   \n",
              "2     user1272493086        Pasha Sannikov   \n",
              "3     user1272493086        Pasha Sannikov   \n",
              "4     user1164775873  Данилов | Маркетолог   \n",
              "...              ...                   ...   \n",
              "3675  user1829741608       Алексей Ермолов   \n",
              "3676  user1912824918                     S   \n",
              "3677  user1912824918                     S   \n",
              "3678  user1829741608       Алексей Ермолов   \n",
              "3679  user1912824918                     S   \n",
              "\n",
              "                                                   text  \n",
              "0     [Доброе утро, люди! Это ОК, в РСЯ алгоритмы вы...  \n",
              "1     А вот регионы, в которых живут ITшники с интер...  \n",
              "2     Если смотреть по интересам, то кажется, что ау...  \n",
              "3     А путь пользователя почему-то выглядит так. Ко...  \n",
              "4                                              Опять он  \n",
              "...                                                 ...  \n",
              "3675                                Напишу им, спасибо.  \n",
              "3676  Старые профили не удаляются, номер на который ...  \n",
              "3677  Пишите оператору (позовите пожалуйста оператор...  \n",
              "3678                                Отлично! Благодарю.  \n",
              "3679  Да там часто отвечает бот, поэтому надо добить...  \n",
              "\n",
              "[3680 rows x 7 columns]"
            ],
            "text/html": [
              "\n",
              "  <div id=\"df-6c8ffe03-ab27-4bf2-b216-6bc28762d29c\" class=\"colab-df-container\">\n",
              "    <div>\n",
              "<style scoped>\n",
              "    .dataframe tbody tr th:only-of-type {\n",
              "        vertical-align: middle;\n",
              "    }\n",
              "\n",
              "    .dataframe tbody tr th {\n",
              "        vertical-align: top;\n",
              "    }\n",
              "\n",
              "    .dataframe thead th {\n",
              "        text-align: right;\n",
              "    }\n",
              "</style>\n",
              "<table border=\"1\" class=\"dataframe\">\n",
              "  <thead>\n",
              "    <tr style=\"text-align: right;\">\n",
              "      <th></th>\n",
              "      <th>message_id</th>\n",
              "      <th>date</th>\n",
              "      <th>chat_name</th>\n",
              "      <th>chat_id</th>\n",
              "      <th>sender_id</th>\n",
              "      <th>from</th>\n",
              "      <th>text</th>\n",
              "    </tr>\n",
              "  </thead>\n",
              "  <tbody>\n",
              "    <tr>\n",
              "      <th>0</th>\n",
              "      <td>42471</td>\n",
              "      <td>2025-02-01T07:35:54</td>\n",
              "      <td>💬 Marketing Practicum Chat</td>\n",
              "      <td>1782474569</td>\n",
              "      <td>user1272493086</td>\n",
              "      <td>Pasha Sannikov</td>\n",
              "      <td>[Доброе утро, люди! Это ОК, в РСЯ алгоритмы вы...</td>\n",
              "    </tr>\n",
              "    <tr>\n",
              "      <th>1</th>\n",
              "      <td>42472</td>\n",
              "      <td>2025-02-01T07:40:03</td>\n",
              "      <td>💬 Marketing Practicum Chat</td>\n",
              "      <td>1782474569</td>\n",
              "      <td>user1272493086</td>\n",
              "      <td>Pasha Sannikov</td>\n",
              "      <td>А вот регионы, в которых живут ITшники с интер...</td>\n",
              "    </tr>\n",
              "    <tr>\n",
              "      <th>2</th>\n",
              "      <td>42473</td>\n",
              "      <td>2025-02-01T07:48:53</td>\n",
              "      <td>💬 Marketing Practicum Chat</td>\n",
              "      <td>1782474569</td>\n",
              "      <td>user1272493086</td>\n",
              "      <td>Pasha Sannikov</td>\n",
              "      <td>Если смотреть по интересам, то кажется, что ау...</td>\n",
              "    </tr>\n",
              "    <tr>\n",
              "      <th>3</th>\n",
              "      <td>42474</td>\n",
              "      <td>2025-02-01T07:50:31</td>\n",
              "      <td>💬 Marketing Practicum Chat</td>\n",
              "      <td>1782474569</td>\n",
              "      <td>user1272493086</td>\n",
              "      <td>Pasha Sannikov</td>\n",
              "      <td>А путь пользователя почему-то выглядит так. Ко...</td>\n",
              "    </tr>\n",
              "    <tr>\n",
              "      <th>4</th>\n",
              "      <td>42475</td>\n",
              "      <td>2025-02-01T08:12:42</td>\n",
              "      <td>💬 Marketing Practicum Chat</td>\n",
              "      <td>1782474569</td>\n",
              "      <td>user1164775873</td>\n",
              "      <td>Данилов | Маркетолог</td>\n",
              "      <td>Опять он</td>\n",
              "    </tr>\n",
              "    <tr>\n",
              "      <th>...</th>\n",
              "      <td>...</td>\n",
              "      <td>...</td>\n",
              "      <td>...</td>\n",
              "      <td>...</td>\n",
              "      <td>...</td>\n",
              "      <td>...</td>\n",
              "      <td>...</td>\n",
              "    </tr>\n",
              "    <tr>\n",
              "      <th>3675</th>\n",
              "      <td>46400</td>\n",
              "      <td>2025-02-27T20:11:04</td>\n",
              "      <td>💬 Marketing Practicum Chat</td>\n",
              "      <td>1782474569</td>\n",
              "      <td>user1829741608</td>\n",
              "      <td>Алексей Ермолов</td>\n",
              "      <td>Напишу им, спасибо.</td>\n",
              "    </tr>\n",
              "    <tr>\n",
              "      <th>3676</th>\n",
              "      <td>46401</td>\n",
              "      <td>2025-02-27T20:23:08</td>\n",
              "      <td>💬 Marketing Practicum Chat</td>\n",
              "      <td>1782474569</td>\n",
              "      <td>user1912824918</td>\n",
              "      <td>S</td>\n",
              "      <td>Старые профили не удаляются, номер на который ...</td>\n",
              "    </tr>\n",
              "    <tr>\n",
              "      <th>3677</th>\n",
              "      <td>46402</td>\n",
              "      <td>2025-02-27T20:24:44</td>\n",
              "      <td>💬 Marketing Practicum Chat</td>\n",
              "      <td>1782474569</td>\n",
              "      <td>user1912824918</td>\n",
              "      <td>S</td>\n",
              "      <td>Пишите оператору (позовите пожалуйста оператор...</td>\n",
              "    </tr>\n",
              "    <tr>\n",
              "      <th>3678</th>\n",
              "      <td>46403</td>\n",
              "      <td>2025-02-27T20:29:44</td>\n",
              "      <td>💬 Marketing Practicum Chat</td>\n",
              "      <td>1782474569</td>\n",
              "      <td>user1829741608</td>\n",
              "      <td>Алексей Ермолов</td>\n",
              "      <td>Отлично! Благодарю.</td>\n",
              "    </tr>\n",
              "    <tr>\n",
              "      <th>3679</th>\n",
              "      <td>46405</td>\n",
              "      <td>2025-02-27T20:30:53</td>\n",
              "      <td>💬 Marketing Practicum Chat</td>\n",
              "      <td>1782474569</td>\n",
              "      <td>user1912824918</td>\n",
              "      <td>S</td>\n",
              "      <td>Да там часто отвечает бот, поэтому надо добить...</td>\n",
              "    </tr>\n",
              "  </tbody>\n",
              "</table>\n",
              "<p>3680 rows × 7 columns</p>\n",
              "</div>\n",
              "    <div class=\"colab-df-buttons\">\n",
              "\n",
              "  <div class=\"colab-df-container\">\n",
              "    <button class=\"colab-df-convert\" onclick=\"convertToInteractive('df-6c8ffe03-ab27-4bf2-b216-6bc28762d29c')\"\n",
              "            title=\"Convert this dataframe to an interactive table.\"\n",
              "            style=\"display:none;\">\n",
              "\n",
              "  <svg xmlns=\"http://www.w3.org/2000/svg\" height=\"24px\" viewBox=\"0 -960 960 960\">\n",
              "    <path d=\"M120-120v-720h720v720H120Zm60-500h600v-160H180v160Zm220 220h160v-160H400v160Zm0 220h160v-160H400v160ZM180-400h160v-160H180v160Zm440 0h160v-160H620v160ZM180-180h160v-160H180v160Zm440 0h160v-160H620v160Z\"/>\n",
              "  </svg>\n",
              "    </button>\n",
              "\n",
              "  <style>\n",
              "    .colab-df-container {\n",
              "      display:flex;\n",
              "      gap: 12px;\n",
              "    }\n",
              "\n",
              "    .colab-df-convert {\n",
              "      background-color: #E8F0FE;\n",
              "      border: none;\n",
              "      border-radius: 50%;\n",
              "      cursor: pointer;\n",
              "      display: none;\n",
              "      fill: #1967D2;\n",
              "      height: 32px;\n",
              "      padding: 0 0 0 0;\n",
              "      width: 32px;\n",
              "    }\n",
              "\n",
              "    .colab-df-convert:hover {\n",
              "      background-color: #E2EBFA;\n",
              "      box-shadow: 0px 1px 2px rgba(60, 64, 67, 0.3), 0px 1px 3px 1px rgba(60, 64, 67, 0.15);\n",
              "      fill: #174EA6;\n",
              "    }\n",
              "\n",
              "    .colab-df-buttons div {\n",
              "      margin-bottom: 4px;\n",
              "    }\n",
              "\n",
              "    [theme=dark] .colab-df-convert {\n",
              "      background-color: #3B4455;\n",
              "      fill: #D2E3FC;\n",
              "    }\n",
              "\n",
              "    [theme=dark] .colab-df-convert:hover {\n",
              "      background-color: #434B5C;\n",
              "      box-shadow: 0px 1px 3px 1px rgba(0, 0, 0, 0.15);\n",
              "      filter: drop-shadow(0px 1px 2px rgba(0, 0, 0, 0.3));\n",
              "      fill: #FFFFFF;\n",
              "    }\n",
              "  </style>\n",
              "\n",
              "    <script>\n",
              "      const buttonEl =\n",
              "        document.querySelector('#df-6c8ffe03-ab27-4bf2-b216-6bc28762d29c button.colab-df-convert');\n",
              "      buttonEl.style.display =\n",
              "        google.colab.kernel.accessAllowed ? 'block' : 'none';\n",
              "\n",
              "      async function convertToInteractive(key) {\n",
              "        const element = document.querySelector('#df-6c8ffe03-ab27-4bf2-b216-6bc28762d29c');\n",
              "        const dataTable =\n",
              "          await google.colab.kernel.invokeFunction('convertToInteractive',\n",
              "                                                    [key], {});\n",
              "        if (!dataTable) return;\n",
              "\n",
              "        const docLinkHtml = 'Like what you see? Visit the ' +\n",
              "          '<a target=\"_blank\" href=https://colab.research.google.com/notebooks/data_table.ipynb>data table notebook</a>'\n",
              "          + ' to learn more about interactive tables.';\n",
              "        element.innerHTML = '';\n",
              "        dataTable['output_type'] = 'display_data';\n",
              "        await google.colab.output.renderOutput(dataTable, element);\n",
              "        const docLink = document.createElement('div');\n",
              "        docLink.innerHTML = docLinkHtml;\n",
              "        element.appendChild(docLink);\n",
              "      }\n",
              "    </script>\n",
              "  </div>\n",
              "\n",
              "\n",
              "<div id=\"df-445db08e-95ce-4c42-b925-0dadf17b2e90\">\n",
              "  <button class=\"colab-df-quickchart\" onclick=\"quickchart('df-445db08e-95ce-4c42-b925-0dadf17b2e90')\"\n",
              "            title=\"Suggest charts\"\n",
              "            style=\"display:none;\">\n",
              "\n",
              "<svg xmlns=\"http://www.w3.org/2000/svg\" height=\"24px\"viewBox=\"0 0 24 24\"\n",
              "     width=\"24px\">\n",
              "    <g>\n",
              "        <path d=\"M19 3H5c-1.1 0-2 .9-2 2v14c0 1.1.9 2 2 2h14c1.1 0 2-.9 2-2V5c0-1.1-.9-2-2-2zM9 17H7v-7h2v7zm4 0h-2V7h2v10zm4 0h-2v-4h2v4z\"/>\n",
              "    </g>\n",
              "</svg>\n",
              "  </button>\n",
              "\n",
              "<style>\n",
              "  .colab-df-quickchart {\n",
              "      --bg-color: #E8F0FE;\n",
              "      --fill-color: #1967D2;\n",
              "      --hover-bg-color: #E2EBFA;\n",
              "      --hover-fill-color: #174EA6;\n",
              "      --disabled-fill-color: #AAA;\n",
              "      --disabled-bg-color: #DDD;\n",
              "  }\n",
              "\n",
              "  [theme=dark] .colab-df-quickchart {\n",
              "      --bg-color: #3B4455;\n",
              "      --fill-color: #D2E3FC;\n",
              "      --hover-bg-color: #434B5C;\n",
              "      --hover-fill-color: #FFFFFF;\n",
              "      --disabled-bg-color: #3B4455;\n",
              "      --disabled-fill-color: #666;\n",
              "  }\n",
              "\n",
              "  .colab-df-quickchart {\n",
              "    background-color: var(--bg-color);\n",
              "    border: none;\n",
              "    border-radius: 50%;\n",
              "    cursor: pointer;\n",
              "    display: none;\n",
              "    fill: var(--fill-color);\n",
              "    height: 32px;\n",
              "    padding: 0;\n",
              "    width: 32px;\n",
              "  }\n",
              "\n",
              "  .colab-df-quickchart:hover {\n",
              "    background-color: var(--hover-bg-color);\n",
              "    box-shadow: 0 1px 2px rgba(60, 64, 67, 0.3), 0 1px 3px 1px rgba(60, 64, 67, 0.15);\n",
              "    fill: var(--button-hover-fill-color);\n",
              "  }\n",
              "\n",
              "  .colab-df-quickchart-complete:disabled,\n",
              "  .colab-df-quickchart-complete:disabled:hover {\n",
              "    background-color: var(--disabled-bg-color);\n",
              "    fill: var(--disabled-fill-color);\n",
              "    box-shadow: none;\n",
              "  }\n",
              "\n",
              "  .colab-df-spinner {\n",
              "    border: 2px solid var(--fill-color);\n",
              "    border-color: transparent;\n",
              "    border-bottom-color: var(--fill-color);\n",
              "    animation:\n",
              "      spin 1s steps(1) infinite;\n",
              "  }\n",
              "\n",
              "  @keyframes spin {\n",
              "    0% {\n",
              "      border-color: transparent;\n",
              "      border-bottom-color: var(--fill-color);\n",
              "      border-left-color: var(--fill-color);\n",
              "    }\n",
              "    20% {\n",
              "      border-color: transparent;\n",
              "      border-left-color: var(--fill-color);\n",
              "      border-top-color: var(--fill-color);\n",
              "    }\n",
              "    30% {\n",
              "      border-color: transparent;\n",
              "      border-left-color: var(--fill-color);\n",
              "      border-top-color: var(--fill-color);\n",
              "      border-right-color: var(--fill-color);\n",
              "    }\n",
              "    40% {\n",
              "      border-color: transparent;\n",
              "      border-right-color: var(--fill-color);\n",
              "      border-top-color: var(--fill-color);\n",
              "    }\n",
              "    60% {\n",
              "      border-color: transparent;\n",
              "      border-right-color: var(--fill-color);\n",
              "    }\n",
              "    80% {\n",
              "      border-color: transparent;\n",
              "      border-right-color: var(--fill-color);\n",
              "      border-bottom-color: var(--fill-color);\n",
              "    }\n",
              "    90% {\n",
              "      border-color: transparent;\n",
              "      border-bottom-color: var(--fill-color);\n",
              "    }\n",
              "  }\n",
              "</style>\n",
              "\n",
              "  <script>\n",
              "    async function quickchart(key) {\n",
              "      const quickchartButtonEl =\n",
              "        document.querySelector('#' + key + ' button');\n",
              "      quickchartButtonEl.disabled = true;  // To prevent multiple clicks.\n",
              "      quickchartButtonEl.classList.add('colab-df-spinner');\n",
              "      try {\n",
              "        const charts = await google.colab.kernel.invokeFunction(\n",
              "            'suggestCharts', [key], {});\n",
              "      } catch (error) {\n",
              "        console.error('Error during call to suggestCharts:', error);\n",
              "      }\n",
              "      quickchartButtonEl.classList.remove('colab-df-spinner');\n",
              "      quickchartButtonEl.classList.add('colab-df-quickchart-complete');\n",
              "    }\n",
              "    (() => {\n",
              "      let quickchartButtonEl =\n",
              "        document.querySelector('#df-445db08e-95ce-4c42-b925-0dadf17b2e90 button');\n",
              "      quickchartButtonEl.style.display =\n",
              "        google.colab.kernel.accessAllowed ? 'block' : 'none';\n",
              "    })();\n",
              "  </script>\n",
              "</div>\n",
              "    </div>\n",
              "  </div>\n"
            ],
            "application/vnd.google.colaboratory.intrinsic+json": {
              "type": "dataframe",
              "variable_name": "df",
              "summary": "{\n  \"name\": \"df\",\n  \"rows\": 3680,\n  \"fields\": [\n    {\n      \"column\": \"message_id\",\n      \"properties\": {\n        \"dtype\": \"number\",\n        \"std\": 1137,\n        \"min\": 42471,\n        \"max\": 46405,\n        \"num_unique_values\": 3680,\n        \"samples\": [\n          43622,\n          45420,\n          45046\n        ],\n        \"semantic_type\": \"\",\n        \"description\": \"\"\n      }\n    },\n    {\n      \"column\": \"date\",\n      \"properties\": {\n        \"dtype\": \"object\",\n        \"num_unique_values\": 3650,\n        \"samples\": [\n          \"2025-02-07T17:23:18\",\n          \"2025-02-10T18:15:14\",\n          \"2025-02-02T20:42:00\"\n        ],\n        \"semantic_type\": \"\",\n        \"description\": \"\"\n      }\n    },\n    {\n      \"column\": \"chat_name\",\n      \"properties\": {\n        \"dtype\": \"category\",\n        \"num_unique_values\": 1,\n        \"samples\": [\n          \"\\ud83d\\udcac Marketing Practicum Chat\"\n        ],\n        \"semantic_type\": \"\",\n        \"description\": \"\"\n      }\n    },\n    {\n      \"column\": \"chat_id\",\n      \"properties\": {\n        \"dtype\": \"number\",\n        \"std\": 0,\n        \"min\": 1782474569,\n        \"max\": 1782474569,\n        \"num_unique_values\": 1,\n        \"samples\": [\n          1782474569\n        ],\n        \"semantic_type\": \"\",\n        \"description\": \"\"\n      }\n    },\n    {\n      \"column\": \"sender_id\",\n      \"properties\": {\n        \"dtype\": \"category\",\n        \"num_unique_values\": 88,\n        \"samples\": [\n          \"user6425223466\"\n        ],\n        \"semantic_type\": \"\",\n        \"description\": \"\"\n      }\n    },\n    {\n      \"column\": \"from\",\n      \"properties\": {\n        \"dtype\": \"category\",\n        \"num_unique_values\": 85,\n        \"samples\": [\n          \"Oleg Vladimirovich\"\n        ],\n        \"semantic_type\": \"\",\n        \"description\": \"\"\n      }\n    },\n    {\n      \"column\": \"text\",\n      \"properties\": {\n        \"dtype\": \"object\",\n        \"semantic_type\": \"\",\n        \"description\": \"\"\n      }\n    }\n  ]\n}"
            }
          },
          "metadata": {},
          "execution_count": 8
        }
      ]
    },
    {
      "cell_type": "code",
      "source": [
        "df.head(10).style.set_properties(**{'text-align': 'left', 'white-space': 'pre-wrap'})"
      ],
      "metadata": {
        "colab": {
          "base_uri": "https://localhost:8080/",
          "height": 554
        },
        "id": "EwbNwx73gbBK",
        "outputId": "cdc351a7-66fa-499c-b0b8-61dd283fe66c"
      },
      "execution_count": 9,
      "outputs": [
        {
          "output_type": "execute_result",
          "data": {
            "text/plain": [
              "<pandas.io.formats.style.Styler at 0x7bee24bb2a50>"
            ],
            "text/html": [
              "<style type=\"text/css\">\n",
              "#T_27208_row0_col0, #T_27208_row0_col1, #T_27208_row0_col2, #T_27208_row0_col3, #T_27208_row0_col4, #T_27208_row0_col5, #T_27208_row0_col6, #T_27208_row1_col0, #T_27208_row1_col1, #T_27208_row1_col2, #T_27208_row1_col3, #T_27208_row1_col4, #T_27208_row1_col5, #T_27208_row1_col6, #T_27208_row2_col0, #T_27208_row2_col1, #T_27208_row2_col2, #T_27208_row2_col3, #T_27208_row2_col4, #T_27208_row2_col5, #T_27208_row2_col6, #T_27208_row3_col0, #T_27208_row3_col1, #T_27208_row3_col2, #T_27208_row3_col3, #T_27208_row3_col4, #T_27208_row3_col5, #T_27208_row3_col6, #T_27208_row4_col0, #T_27208_row4_col1, #T_27208_row4_col2, #T_27208_row4_col3, #T_27208_row4_col4, #T_27208_row4_col5, #T_27208_row4_col6, #T_27208_row5_col0, #T_27208_row5_col1, #T_27208_row5_col2, #T_27208_row5_col3, #T_27208_row5_col4, #T_27208_row5_col5, #T_27208_row5_col6, #T_27208_row6_col0, #T_27208_row6_col1, #T_27208_row6_col2, #T_27208_row6_col3, #T_27208_row6_col4, #T_27208_row6_col5, #T_27208_row6_col6, #T_27208_row7_col0, #T_27208_row7_col1, #T_27208_row7_col2, #T_27208_row7_col3, #T_27208_row7_col4, #T_27208_row7_col5, #T_27208_row7_col6, #T_27208_row8_col0, #T_27208_row8_col1, #T_27208_row8_col2, #T_27208_row8_col3, #T_27208_row8_col4, #T_27208_row8_col5, #T_27208_row8_col6, #T_27208_row9_col0, #T_27208_row9_col1, #T_27208_row9_col2, #T_27208_row9_col3, #T_27208_row9_col4, #T_27208_row9_col5, #T_27208_row9_col6 {\n",
              "  text-align: left;\n",
              "  white-space: pre-wrap;\n",
              "}\n",
              "</style>\n",
              "<table id=\"T_27208\" class=\"dataframe\">\n",
              "  <thead>\n",
              "    <tr>\n",
              "      <th class=\"blank level0\" >&nbsp;</th>\n",
              "      <th id=\"T_27208_level0_col0\" class=\"col_heading level0 col0\" >message_id</th>\n",
              "      <th id=\"T_27208_level0_col1\" class=\"col_heading level0 col1\" >date</th>\n",
              "      <th id=\"T_27208_level0_col2\" class=\"col_heading level0 col2\" >chat_name</th>\n",
              "      <th id=\"T_27208_level0_col3\" class=\"col_heading level0 col3\" >chat_id</th>\n",
              "      <th id=\"T_27208_level0_col4\" class=\"col_heading level0 col4\" >sender_id</th>\n",
              "      <th id=\"T_27208_level0_col5\" class=\"col_heading level0 col5\" >from</th>\n",
              "      <th id=\"T_27208_level0_col6\" class=\"col_heading level0 col6\" >text</th>\n",
              "    </tr>\n",
              "  </thead>\n",
              "  <tbody>\n",
              "    <tr>\n",
              "      <th id=\"T_27208_level0_row0\" class=\"row_heading level0 row0\" >0</th>\n",
              "      <td id=\"T_27208_row0_col0\" class=\"data row0 col0\" >42471</td>\n",
              "      <td id=\"T_27208_row0_col1\" class=\"data row0 col1\" >2025-02-01T07:35:54</td>\n",
              "      <td id=\"T_27208_row0_col2\" class=\"data row0 col2\" >💬 Marketing Practicum Chat</td>\n",
              "      <td id=\"T_27208_row0_col3\" class=\"data row0 col3\" >1782474569</td>\n",
              "      <td id=\"T_27208_row0_col4\" class=\"data row0 col4\" >user1272493086</td>\n",
              "      <td id=\"T_27208_row0_col5\" class=\"data row0 col5\" >Pasha Sannikov</td>\n",
              "      <td id=\"T_27208_row0_col6\" class=\"data row0 col6\" >['Доброе утро, люди! Это ОК, в РСЯ алгоритмы выбрали только 1 площадку для объявлений? Объект рекламы - \"консультации для IT компаний\". Почему решили все объявления показывать на ', {'type': 'link', 'text': 'game.yandex.ru'}, ', Я в корректировках рекламной кампании поставил ограничения аудитории по возрасту, от 24 лет... Получается, что все айтишники старше 24 лет обитают в играх Яндекс?']</td>\n",
              "    </tr>\n",
              "    <tr>\n",
              "      <th id=\"T_27208_level0_row1\" class=\"row_heading level0 row1\" >1</th>\n",
              "      <td id=\"T_27208_row1_col0\" class=\"data row1 col0\" >42472</td>\n",
              "      <td id=\"T_27208_row1_col1\" class=\"data row1 col1\" >2025-02-01T07:40:03</td>\n",
              "      <td id=\"T_27208_row1_col2\" class=\"data row1 col2\" >💬 Marketing Practicum Chat</td>\n",
              "      <td id=\"T_27208_row1_col3\" class=\"data row1 col3\" >1782474569</td>\n",
              "      <td id=\"T_27208_row1_col4\" class=\"data row1 col4\" >user1272493086</td>\n",
              "      <td id=\"T_27208_row1_col5\" class=\"data row1 col5\" >Pasha Sannikov</td>\n",
              "      <td id=\"T_27208_row1_col6\" class=\"data row1 col6\" >А вот регионы, в которых живут ITшники с интересом к нашему предложению. Эти люди провели на сайте больше 1 минуты</td>\n",
              "    </tr>\n",
              "    <tr>\n",
              "      <th id=\"T_27208_level0_row2\" class=\"row_heading level0 row2\" >2</th>\n",
              "      <td id=\"T_27208_row2_col0\" class=\"data row2 col0\" >42473</td>\n",
              "      <td id=\"T_27208_row2_col1\" class=\"data row2 col1\" >2025-02-01T07:48:53</td>\n",
              "      <td id=\"T_27208_row2_col2\" class=\"data row2 col2\" >💬 Marketing Practicum Chat</td>\n",
              "      <td id=\"T_27208_row2_col3\" class=\"data row2 col3\" >1782474569</td>\n",
              "      <td id=\"T_27208_row2_col4\" class=\"data row2 col4\" >user1272493086</td>\n",
              "      <td id=\"T_27208_row2_col5\" class=\"data row2 col5\" >Pasha Sannikov</td>\n",
              "      <td id=\"T_27208_row2_col6\" class=\"data row2 col6\" >Если смотреть по интересам, то кажется, что аудитория релевантная</td>\n",
              "    </tr>\n",
              "    <tr>\n",
              "      <th id=\"T_27208_level0_row3\" class=\"row_heading level0 row3\" >3</th>\n",
              "      <td id=\"T_27208_row3_col0\" class=\"data row3 col0\" >42474</td>\n",
              "      <td id=\"T_27208_row3_col1\" class=\"data row3 col1\" >2025-02-01T07:50:31</td>\n",
              "      <td id=\"T_27208_row3_col2\" class=\"data row3 col2\" >💬 Marketing Practicum Chat</td>\n",
              "      <td id=\"T_27208_row3_col3\" class=\"data row3 col3\" >1782474569</td>\n",
              "      <td id=\"T_27208_row3_col4\" class=\"data row3 col4\" >user1272493086</td>\n",
              "      <td id=\"T_27208_row3_col5\" class=\"data row3 col5\" >Pasha Sannikov</td>\n",
              "      <td id=\"T_27208_row3_col6\" class=\"data row3 col6\" >А путь пользователя почему-то выглядит так. Конверсий в заявку нету😭</td>\n",
              "    </tr>\n",
              "    <tr>\n",
              "      <th id=\"T_27208_level0_row4\" class=\"row_heading level0 row4\" >4</th>\n",
              "      <td id=\"T_27208_row4_col0\" class=\"data row4 col0\" >42475</td>\n",
              "      <td id=\"T_27208_row4_col1\" class=\"data row4 col1\" >2025-02-01T08:12:42</td>\n",
              "      <td id=\"T_27208_row4_col2\" class=\"data row4 col2\" >💬 Marketing Practicum Chat</td>\n",
              "      <td id=\"T_27208_row4_col3\" class=\"data row4 col3\" >1782474569</td>\n",
              "      <td id=\"T_27208_row4_col4\" class=\"data row4 col4\" >user1164775873</td>\n",
              "      <td id=\"T_27208_row4_col5\" class=\"data row4 col5\" >Данилов | Маркетолог</td>\n",
              "      <td id=\"T_27208_row4_col6\" class=\"data row4 col6\" >Опять он</td>\n",
              "    </tr>\n",
              "    <tr>\n",
              "      <th id=\"T_27208_level0_row5\" class=\"row_heading level0 row5\" >5</th>\n",
              "      <td id=\"T_27208_row5_col0\" class=\"data row5 col0\" >42476</td>\n",
              "      <td id=\"T_27208_row5_col1\" class=\"data row5 col1\" >2025-02-01T08:12:42</td>\n",
              "      <td id=\"T_27208_row5_col2\" class=\"data row5 col2\" >💬 Marketing Practicum Chat</td>\n",
              "      <td id=\"T_27208_row5_col3\" class=\"data row5 col3\" >1782474569</td>\n",
              "      <td id=\"T_27208_row5_col4\" class=\"data row5 col4\" >user1164775873</td>\n",
              "      <td id=\"T_27208_row5_col5\" class=\"data row5 col5\" >Данилов | Маркетолог</td>\n",
              "      <td id=\"T_27208_row5_col6\" class=\"data row5 col6\" ></td>\n",
              "    </tr>\n",
              "    <tr>\n",
              "      <th id=\"T_27208_level0_row6\" class=\"row_heading level0 row6\" >6</th>\n",
              "      <td id=\"T_27208_row6_col0\" class=\"data row6 col0\" >42477</td>\n",
              "      <td id=\"T_27208_row6_col1\" class=\"data row6 col1\" >2025-02-01T08:15:13</td>\n",
              "      <td id=\"T_27208_row6_col2\" class=\"data row6 col2\" >💬 Marketing Practicum Chat</td>\n",
              "      <td id=\"T_27208_row6_col3\" class=\"data row6 col3\" >1782474569</td>\n",
              "      <td id=\"T_27208_row6_col4\" class=\"data row6 col4\" >user87502689</td>\n",
              "      <td id=\"T_27208_row6_col5\" class=\"data row6 col5\" >Андрей Дамаскин</td>\n",
              "      <td id=\"T_27208_row6_col6\" class=\"data row6 col6\" >Потому и выбрал</td>\n",
              "    </tr>\n",
              "    <tr>\n",
              "      <th id=\"T_27208_level0_row7\" class=\"row_heading level0 row7\" >7</th>\n",
              "      <td id=\"T_27208_row7_col0\" class=\"data row7 col0\" >42478</td>\n",
              "      <td id=\"T_27208_row7_col1\" class=\"data row7 col1\" >2025-02-01T08:15:32</td>\n",
              "      <td id=\"T_27208_row7_col2\" class=\"data row7 col2\" >💬 Marketing Practicum Chat</td>\n",
              "      <td id=\"T_27208_row7_col3\" class=\"data row7 col3\" >1782474569</td>\n",
              "      <td id=\"T_27208_row7_col4\" class=\"data row7 col4\" >user87502689</td>\n",
              "      <td id=\"T_27208_row7_col5\" class=\"data row7 col5\" >Андрей Дамаскин</td>\n",
              "      <td id=\"T_27208_row7_col6\" class=\"data row7 col6\" >Ну если это вся статистика, то пока алгоритм еще ничего не выбрал</td>\n",
              "    </tr>\n",
              "    <tr>\n",
              "      <th id=\"T_27208_level0_row8\" class=\"row_heading level0 row8\" >8</th>\n",
              "      <td id=\"T_27208_row8_col0\" class=\"data row8 col0\" >42479</td>\n",
              "      <td id=\"T_27208_row8_col1\" class=\"data row8 col1\" >2025-02-01T08:16:44</td>\n",
              "      <td id=\"T_27208_row8_col2\" class=\"data row8 col2\" >💬 Marketing Practicum Chat</td>\n",
              "      <td id=\"T_27208_row8_col3\" class=\"data row8 col3\" >1782474569</td>\n",
              "      <td id=\"T_27208_row8_col4\" class=\"data row8 col4\" >user87502689</td>\n",
              "      <td id=\"T_27208_row8_col5\" class=\"data row8 col5\" >Андрей Дамаскин</td>\n",
              "      <td id=\"T_27208_row8_col6\" class=\"data row8 col6\" >Чтобы 34 визита из РСЯ превратились в заявку нужна конверсия на уровне 3%, для необученной РК не реально же</td>\n",
              "    </tr>\n",
              "    <tr>\n",
              "      <th id=\"T_27208_level0_row9\" class=\"row_heading level0 row9\" >9</th>\n",
              "      <td id=\"T_27208_row9_col0\" class=\"data row9 col0\" >42480</td>\n",
              "      <td id=\"T_27208_row9_col1\" class=\"data row9 col1\" >2025-02-01T08:17:32</td>\n",
              "      <td id=\"T_27208_row9_col2\" class=\"data row9 col2\" >💬 Marketing Practicum Chat</td>\n",
              "      <td id=\"T_27208_row9_col3\" class=\"data row9 col3\" >1782474569</td>\n",
              "      <td id=\"T_27208_row9_col4\" class=\"data row9 col4\" >user1164775873</td>\n",
              "      <td id=\"T_27208_row9_col5\" class=\"data row9 col5\" >Данилов | Маркетолог</td>\n",
              "      <td id=\"T_27208_row9_col6\" class=\"data row9 col6\" >Батя привет</td>\n",
              "    </tr>\n",
              "  </tbody>\n",
              "</table>\n"
            ]
          },
          "metadata": {},
          "execution_count": 9
        }
      ]
    },
    {
      "cell_type": "code",
      "source": [],
      "metadata": {
        "id": "Of4Hjj4QTtyB"
      },
      "execution_count": 9,
      "outputs": []
    },
    {
      "cell_type": "markdown",
      "source": [
        "# Кластеризация по reply и по соседним сообщениям с временным threshold`ом"
      ],
      "metadata": {
        "id": "L2q_RPQJT93N"
      }
    },
    {
      "cell_type": "code",
      "source": [
        "# Добавил в парсинг reply_to_message_id\n",
        "parsed_messages = []\n",
        "for message in messages:\n",
        "    if message.get('type') == 'message':\n",
        "        text = message['text']\n",
        "        parsed_messages.append({\n",
        "            'message_id': message['id'],\n",
        "            'date': message['date'],\n",
        "            'chat_name': chat_name,\n",
        "            'chat_id': chat_id,\n",
        "            'sender_id': message.get('from_id'),\n",
        "            'from': message.get('from', 'Unknown'),\n",
        "            'reply_to_message_id': message.get('reply_to_message_id'),\n",
        "            'text': text\n",
        "        })"
      ],
      "metadata": {
        "id": "T-K2cpUfkSkB"
      },
      "execution_count": 10,
      "outputs": []
    },
    {
      "cell_type": "code",
      "source": [
        "df = pd.DataFrame(parsed_messages)"
      ],
      "metadata": {
        "id": "MW7ZoKzaIk8X"
      },
      "execution_count": 11,
      "outputs": []
    },
    {
      "cell_type": "code",
      "source": [
        "# Собирю пары Id сообщений по reply_to_message_id\n",
        "x = []\n",
        "for i in range(len(df)-1, -1, -1):\n",
        "  if not pd.isna(df.loc[i, 'reply_to_message_id']):\n",
        "    x.append([df.loc[i, 'message_id'], df.loc[i, 'reply_to_message_id']])"
      ],
      "metadata": {
        "id": "ZdrDbgiknMhD"
      },
      "execution_count": 12,
      "outputs": []
    },
    {
      "cell_type": "code",
      "source": [
        "df['date'] = pd.to_datetime(df['date'])"
      ],
      "metadata": {
        "id": "xmuVDkZVI-b9"
      },
      "execution_count": 13,
      "outputs": []
    },
    {
      "cell_type": "code",
      "source": [
        "# Добавляю пары соседних сообщений с порогом в полминуты\n",
        "# Порог выбрал в ручную, при таком порого 1500 событий\n",
        "th_minute=0.5\n",
        "for i in range(len(df)-1):\n",
        "  if df.loc[i+1, 'date']-df.loc[i, 'date'] < pd.Timedelta(minutes=th_minute):\n",
        "    x.append([df.loc[i, 'message_id'], df.loc[i+1, 'message_id']])"
      ],
      "metadata": {
        "id": "T5db_Lml4iQr"
      },
      "execution_count": 14,
      "outputs": []
    },
    {
      "cell_type": "code",
      "source": [
        "# Количество пар(связей)\n",
        "len(x)"
      ],
      "metadata": {
        "colab": {
          "base_uri": "https://localhost:8080/"
        },
        "id": "HCCeOJsYI18j",
        "outputId": "f5184926-2fdc-45d4-ba1e-275712242253"
      },
      "execution_count": 15,
      "outputs": [
        {
          "output_type": "execute_result",
          "data": {
            "text/plain": [
              "3809"
            ]
          },
          "metadata": {},
          "execution_count": 15
        }
      ]
    },
    {
      "cell_type": "code",
      "source": [
        "para = pd.DataFrame(x, columns=['one','two'])"
      ],
      "metadata": {
        "id": "ERB8Sh1M74W3"
      },
      "execution_count": 16,
      "outputs": []
    },
    {
      "cell_type": "code",
      "source": [
        "para['two'] = para['two'].astype('int')"
      ],
      "metadata": {
        "id": "J0k28VqF-u5b"
      },
      "execution_count": 17,
      "outputs": []
    },
    {
      "cell_type": "code",
      "source": [
        "para"
      ],
      "metadata": {
        "colab": {
          "base_uri": "https://localhost:8080/",
          "height": 423
        },
        "id": "A87yCY6NDUxo",
        "outputId": "6cf1010e-e4cc-4ed3-eb23-5de5b8d828be"
      },
      "execution_count": 18,
      "outputs": [
        {
          "output_type": "execute_result",
          "data": {
            "text/plain": [
              "        one    two\n",
              "0     46405  46403\n",
              "1     46403  46402\n",
              "2     46401  46394\n",
              "3     46398  46396\n",
              "4     46396  46394\n",
              "...     ...    ...\n",
              "3804  46395  46396\n",
              "3805  46396  46397\n",
              "3806  46397  46398\n",
              "3807  46398  46399\n",
              "3808  46399  46400\n",
              "\n",
              "[3809 rows x 2 columns]"
            ],
            "text/html": [
              "\n",
              "  <div id=\"df-eea55174-577f-499a-bd07-d23ecff64ac3\" class=\"colab-df-container\">\n",
              "    <div>\n",
              "<style scoped>\n",
              "    .dataframe tbody tr th:only-of-type {\n",
              "        vertical-align: middle;\n",
              "    }\n",
              "\n",
              "    .dataframe tbody tr th {\n",
              "        vertical-align: top;\n",
              "    }\n",
              "\n",
              "    .dataframe thead th {\n",
              "        text-align: right;\n",
              "    }\n",
              "</style>\n",
              "<table border=\"1\" class=\"dataframe\">\n",
              "  <thead>\n",
              "    <tr style=\"text-align: right;\">\n",
              "      <th></th>\n",
              "      <th>one</th>\n",
              "      <th>two</th>\n",
              "    </tr>\n",
              "  </thead>\n",
              "  <tbody>\n",
              "    <tr>\n",
              "      <th>0</th>\n",
              "      <td>46405</td>\n",
              "      <td>46403</td>\n",
              "    </tr>\n",
              "    <tr>\n",
              "      <th>1</th>\n",
              "      <td>46403</td>\n",
              "      <td>46402</td>\n",
              "    </tr>\n",
              "    <tr>\n",
              "      <th>2</th>\n",
              "      <td>46401</td>\n",
              "      <td>46394</td>\n",
              "    </tr>\n",
              "    <tr>\n",
              "      <th>3</th>\n",
              "      <td>46398</td>\n",
              "      <td>46396</td>\n",
              "    </tr>\n",
              "    <tr>\n",
              "      <th>4</th>\n",
              "      <td>46396</td>\n",
              "      <td>46394</td>\n",
              "    </tr>\n",
              "    <tr>\n",
              "      <th>...</th>\n",
              "      <td>...</td>\n",
              "      <td>...</td>\n",
              "    </tr>\n",
              "    <tr>\n",
              "      <th>3804</th>\n",
              "      <td>46395</td>\n",
              "      <td>46396</td>\n",
              "    </tr>\n",
              "    <tr>\n",
              "      <th>3805</th>\n",
              "      <td>46396</td>\n",
              "      <td>46397</td>\n",
              "    </tr>\n",
              "    <tr>\n",
              "      <th>3806</th>\n",
              "      <td>46397</td>\n",
              "      <td>46398</td>\n",
              "    </tr>\n",
              "    <tr>\n",
              "      <th>3807</th>\n",
              "      <td>46398</td>\n",
              "      <td>46399</td>\n",
              "    </tr>\n",
              "    <tr>\n",
              "      <th>3808</th>\n",
              "      <td>46399</td>\n",
              "      <td>46400</td>\n",
              "    </tr>\n",
              "  </tbody>\n",
              "</table>\n",
              "<p>3809 rows × 2 columns</p>\n",
              "</div>\n",
              "    <div class=\"colab-df-buttons\">\n",
              "\n",
              "  <div class=\"colab-df-container\">\n",
              "    <button class=\"colab-df-convert\" onclick=\"convertToInteractive('df-eea55174-577f-499a-bd07-d23ecff64ac3')\"\n",
              "            title=\"Convert this dataframe to an interactive table.\"\n",
              "            style=\"display:none;\">\n",
              "\n",
              "  <svg xmlns=\"http://www.w3.org/2000/svg\" height=\"24px\" viewBox=\"0 -960 960 960\">\n",
              "    <path d=\"M120-120v-720h720v720H120Zm60-500h600v-160H180v160Zm220 220h160v-160H400v160Zm0 220h160v-160H400v160ZM180-400h160v-160H180v160Zm440 0h160v-160H620v160ZM180-180h160v-160H180v160Zm440 0h160v-160H620v160Z\"/>\n",
              "  </svg>\n",
              "    </button>\n",
              "\n",
              "  <style>\n",
              "    .colab-df-container {\n",
              "      display:flex;\n",
              "      gap: 12px;\n",
              "    }\n",
              "\n",
              "    .colab-df-convert {\n",
              "      background-color: #E8F0FE;\n",
              "      border: none;\n",
              "      border-radius: 50%;\n",
              "      cursor: pointer;\n",
              "      display: none;\n",
              "      fill: #1967D2;\n",
              "      height: 32px;\n",
              "      padding: 0 0 0 0;\n",
              "      width: 32px;\n",
              "    }\n",
              "\n",
              "    .colab-df-convert:hover {\n",
              "      background-color: #E2EBFA;\n",
              "      box-shadow: 0px 1px 2px rgba(60, 64, 67, 0.3), 0px 1px 3px 1px rgba(60, 64, 67, 0.15);\n",
              "      fill: #174EA6;\n",
              "    }\n",
              "\n",
              "    .colab-df-buttons div {\n",
              "      margin-bottom: 4px;\n",
              "    }\n",
              "\n",
              "    [theme=dark] .colab-df-convert {\n",
              "      background-color: #3B4455;\n",
              "      fill: #D2E3FC;\n",
              "    }\n",
              "\n",
              "    [theme=dark] .colab-df-convert:hover {\n",
              "      background-color: #434B5C;\n",
              "      box-shadow: 0px 1px 3px 1px rgba(0, 0, 0, 0.15);\n",
              "      filter: drop-shadow(0px 1px 2px rgba(0, 0, 0, 0.3));\n",
              "      fill: #FFFFFF;\n",
              "    }\n",
              "  </style>\n",
              "\n",
              "    <script>\n",
              "      const buttonEl =\n",
              "        document.querySelector('#df-eea55174-577f-499a-bd07-d23ecff64ac3 button.colab-df-convert');\n",
              "      buttonEl.style.display =\n",
              "        google.colab.kernel.accessAllowed ? 'block' : 'none';\n",
              "\n",
              "      async function convertToInteractive(key) {\n",
              "        const element = document.querySelector('#df-eea55174-577f-499a-bd07-d23ecff64ac3');\n",
              "        const dataTable =\n",
              "          await google.colab.kernel.invokeFunction('convertToInteractive',\n",
              "                                                    [key], {});\n",
              "        if (!dataTable) return;\n",
              "\n",
              "        const docLinkHtml = 'Like what you see? Visit the ' +\n",
              "          '<a target=\"_blank\" href=https://colab.research.google.com/notebooks/data_table.ipynb>data table notebook</a>'\n",
              "          + ' to learn more about interactive tables.';\n",
              "        element.innerHTML = '';\n",
              "        dataTable['output_type'] = 'display_data';\n",
              "        await google.colab.output.renderOutput(dataTable, element);\n",
              "        const docLink = document.createElement('div');\n",
              "        docLink.innerHTML = docLinkHtml;\n",
              "        element.appendChild(docLink);\n",
              "      }\n",
              "    </script>\n",
              "  </div>\n",
              "\n",
              "\n",
              "<div id=\"df-d9c712c2-1ee4-4bb7-a9e2-83d07a004ea2\">\n",
              "  <button class=\"colab-df-quickchart\" onclick=\"quickchart('df-d9c712c2-1ee4-4bb7-a9e2-83d07a004ea2')\"\n",
              "            title=\"Suggest charts\"\n",
              "            style=\"display:none;\">\n",
              "\n",
              "<svg xmlns=\"http://www.w3.org/2000/svg\" height=\"24px\"viewBox=\"0 0 24 24\"\n",
              "     width=\"24px\">\n",
              "    <g>\n",
              "        <path d=\"M19 3H5c-1.1 0-2 .9-2 2v14c0 1.1.9 2 2 2h14c1.1 0 2-.9 2-2V5c0-1.1-.9-2-2-2zM9 17H7v-7h2v7zm4 0h-2V7h2v10zm4 0h-2v-4h2v4z\"/>\n",
              "    </g>\n",
              "</svg>\n",
              "  </button>\n",
              "\n",
              "<style>\n",
              "  .colab-df-quickchart {\n",
              "      --bg-color: #E8F0FE;\n",
              "      --fill-color: #1967D2;\n",
              "      --hover-bg-color: #E2EBFA;\n",
              "      --hover-fill-color: #174EA6;\n",
              "      --disabled-fill-color: #AAA;\n",
              "      --disabled-bg-color: #DDD;\n",
              "  }\n",
              "\n",
              "  [theme=dark] .colab-df-quickchart {\n",
              "      --bg-color: #3B4455;\n",
              "      --fill-color: #D2E3FC;\n",
              "      --hover-bg-color: #434B5C;\n",
              "      --hover-fill-color: #FFFFFF;\n",
              "      --disabled-bg-color: #3B4455;\n",
              "      --disabled-fill-color: #666;\n",
              "  }\n",
              "\n",
              "  .colab-df-quickchart {\n",
              "    background-color: var(--bg-color);\n",
              "    border: none;\n",
              "    border-radius: 50%;\n",
              "    cursor: pointer;\n",
              "    display: none;\n",
              "    fill: var(--fill-color);\n",
              "    height: 32px;\n",
              "    padding: 0;\n",
              "    width: 32px;\n",
              "  }\n",
              "\n",
              "  .colab-df-quickchart:hover {\n",
              "    background-color: var(--hover-bg-color);\n",
              "    box-shadow: 0 1px 2px rgba(60, 64, 67, 0.3), 0 1px 3px 1px rgba(60, 64, 67, 0.15);\n",
              "    fill: var(--button-hover-fill-color);\n",
              "  }\n",
              "\n",
              "  .colab-df-quickchart-complete:disabled,\n",
              "  .colab-df-quickchart-complete:disabled:hover {\n",
              "    background-color: var(--disabled-bg-color);\n",
              "    fill: var(--disabled-fill-color);\n",
              "    box-shadow: none;\n",
              "  }\n",
              "\n",
              "  .colab-df-spinner {\n",
              "    border: 2px solid var(--fill-color);\n",
              "    border-color: transparent;\n",
              "    border-bottom-color: var(--fill-color);\n",
              "    animation:\n",
              "      spin 1s steps(1) infinite;\n",
              "  }\n",
              "\n",
              "  @keyframes spin {\n",
              "    0% {\n",
              "      border-color: transparent;\n",
              "      border-bottom-color: var(--fill-color);\n",
              "      border-left-color: var(--fill-color);\n",
              "    }\n",
              "    20% {\n",
              "      border-color: transparent;\n",
              "      border-left-color: var(--fill-color);\n",
              "      border-top-color: var(--fill-color);\n",
              "    }\n",
              "    30% {\n",
              "      border-color: transparent;\n",
              "      border-left-color: var(--fill-color);\n",
              "      border-top-color: var(--fill-color);\n",
              "      border-right-color: var(--fill-color);\n",
              "    }\n",
              "    40% {\n",
              "      border-color: transparent;\n",
              "      border-right-color: var(--fill-color);\n",
              "      border-top-color: var(--fill-color);\n",
              "    }\n",
              "    60% {\n",
              "      border-color: transparent;\n",
              "      border-right-color: var(--fill-color);\n",
              "    }\n",
              "    80% {\n",
              "      border-color: transparent;\n",
              "      border-right-color: var(--fill-color);\n",
              "      border-bottom-color: var(--fill-color);\n",
              "    }\n",
              "    90% {\n",
              "      border-color: transparent;\n",
              "      border-bottom-color: var(--fill-color);\n",
              "    }\n",
              "  }\n",
              "</style>\n",
              "\n",
              "  <script>\n",
              "    async function quickchart(key) {\n",
              "      const quickchartButtonEl =\n",
              "        document.querySelector('#' + key + ' button');\n",
              "      quickchartButtonEl.disabled = true;  // To prevent multiple clicks.\n",
              "      quickchartButtonEl.classList.add('colab-df-spinner');\n",
              "      try {\n",
              "        const charts = await google.colab.kernel.invokeFunction(\n",
              "            'suggestCharts', [key], {});\n",
              "      } catch (error) {\n",
              "        console.error('Error during call to suggestCharts:', error);\n",
              "      }\n",
              "      quickchartButtonEl.classList.remove('colab-df-spinner');\n",
              "      quickchartButtonEl.classList.add('colab-df-quickchart-complete');\n",
              "    }\n",
              "    (() => {\n",
              "      let quickchartButtonEl =\n",
              "        document.querySelector('#df-d9c712c2-1ee4-4bb7-a9e2-83d07a004ea2 button');\n",
              "      quickchartButtonEl.style.display =\n",
              "        google.colab.kernel.accessAllowed ? 'block' : 'none';\n",
              "    })();\n",
              "  </script>\n",
              "</div>\n",
              "    </div>\n",
              "  </div>\n"
            ],
            "application/vnd.google.colaboratory.intrinsic+json": {
              "type": "dataframe",
              "variable_name": "para",
              "summary": "{\n  \"name\": \"para\",\n  \"rows\": 3809,\n  \"fields\": [\n    {\n      \"column\": \"one\",\n      \"properties\": {\n        \"dtype\": \"number\",\n        \"std\": 1134,\n        \"min\": 42475,\n        \"max\": 46405,\n        \"num_unique_values\": 2873,\n        \"samples\": [\n          45076,\n          42845,\n          44146\n        ],\n        \"semantic_type\": \"\",\n        \"description\": \"\"\n      }\n    },\n    {\n      \"column\": \"two\",\n      \"properties\": {\n        \"dtype\": \"number\",\n        \"std\": 1135,\n        \"min\": 42471,\n        \"max\": 46403,\n        \"num_unique_values\": 2711,\n        \"samples\": [\n          46293,\n          45457,\n          45282\n        ],\n        \"semantic_type\": \"\",\n        \"description\": \"\"\n      }\n    }\n  ]\n}"
            }
          },
          "metadata": {},
          "execution_count": 18
        }
      ]
    },
    {
      "cell_type": "code",
      "source": [
        "para.loc[0, 'one']"
      ],
      "metadata": {
        "colab": {
          "base_uri": "https://localhost:8080/"
        },
        "id": "0MOMQZbHCzHA",
        "outputId": "83a92d59-5f65-48e6-9241-61fb0efc43ae"
      },
      "execution_count": 19,
      "outputs": [
        {
          "output_type": "execute_result",
          "data": {
            "text/plain": [
              "np.int64(46405)"
            ]
          },
          "metadata": {},
          "execution_count": 19
        }
      ]
    },
    {
      "cell_type": "code",
      "source": [
        "# Составляем списки id сообщений в диалоги с помощью networkx\n",
        "import networkx as nx\n",
        "\n",
        "# Создаем граф из пар значений\n",
        "G = nx.Graph()\n",
        "for _, row in para.iterrows():\n",
        "    G.add_edge(row['one'], row['two'])\n",
        "\n",
        "# Находим связные компоненты\n",
        "connected_components = list(nx.connected_components(G))\n",
        "\n",
        "# Преобразуем в список списков и сортируем каждый подсписок\n",
        "result = [sorted(list(component)) for component in connected_components]\n",
        "\n",
        "# Сортируем общий список по первому элементу каждого подсписка\n",
        "result.sort(key=lambda x: x[0])\n",
        "\n",
        "print(result[1:3])"
      ],
      "metadata": {
        "colab": {
          "base_uri": "https://localhost:8080/"
        },
        "id": "9UKqdQoZGbej",
        "outputId": "25e99a5b-88c5-49f0-9bf2-6e84da05e1ba"
      },
      "execution_count": 20,
      "outputs": [
        {
          "output_type": "stream",
          "name": "stdout",
          "text": [
            "[[np.int64(42473), np.int64(42477), np.int64(42478), np.int64(42480), np.int64(42481)], [np.int64(42475), np.int64(42476), np.int64(42554)]]\n"
          ]
        }
      ]
    },
    {
      "cell_type": "code",
      "source": [
        "# Количество диалогов\n",
        "len(result)"
      ],
      "metadata": {
        "colab": {
          "base_uri": "https://localhost:8080/"
        },
        "id": "CONZuLJwJqd1",
        "outputId": "46d7daba-853d-4144-df7b-8f86d7bcda10"
      },
      "execution_count": 21,
      "outputs": [
        {
          "output_type": "execute_result",
          "data": {
            "text/plain": [
              "341"
            ]
          },
          "metadata": {},
          "execution_count": 21
        }
      ]
    },
    {
      "cell_type": "code",
      "source": [
        "# Количество сообщений попавших в диалоги\n",
        "total = sum(len(sublist) for sublist in result)\n",
        "total"
      ],
      "metadata": {
        "colab": {
          "base_uri": "https://localhost:8080/"
        },
        "id": "CRK0l5zeKuk0",
        "outputId": "46b681a1-13a0-4646-ab22-2975d7dbf05d"
      },
      "execution_count": 22,
      "outputs": [
        {
          "output_type": "execute_result",
          "data": {
            "text/plain": [
              "3459"
            ]
          },
          "metadata": {},
          "execution_count": 22
        }
      ]
    },
    {
      "cell_type": "code",
      "source": [
        "# Количество сообщенией в наибольшем диалоге\n",
        "total = max(len(sublist) for sublist in result)\n",
        "total"
      ],
      "metadata": {
        "colab": {
          "base_uri": "https://localhost:8080/"
        },
        "id": "IczaTr3yeoi-",
        "outputId": "d5f1c566-baa4-49c9-8647-378ce0acfeb8"
      },
      "execution_count": 23,
      "outputs": [
        {
          "output_type": "execute_result",
          "data": {
            "text/plain": [
              "103"
            ]
          },
          "metadata": {},
          "execution_count": 23
        }
      ]
    },
    {
      "cell_type": "code",
      "source": [
        "# Сортирую\n",
        "sorted_result = sorted(result, key=lambda x: len(x), reverse=True)"
      ],
      "metadata": {
        "id": "uz5W0mfFeogR"
      },
      "execution_count": 24,
      "outputs": []
    },
    {
      "cell_type": "code",
      "source": [
        "# Топ 10 диалогов\n",
        "sorted_result = sorted_result[0:10]"
      ],
      "metadata": {
        "id": "vhlE4AZeWuUh"
      },
      "execution_count": 25,
      "outputs": []
    },
    {
      "cell_type": "code",
      "source": [
        "# Отображаю 10 место\n",
        "cluster_10 = df.loc[df['message_id'].isin(sorted_result[9]), 'text']#.tolist()\n",
        "print('Количество сообщений в диалоге ', len(cluster_10))\n",
        "with pd.option_context('display.max_colwidth', 200):\n",
        "    print(cluster_10)"
      ],
      "metadata": {
        "id": "GlePohcQeoYU",
        "colab": {
          "base_uri": "https://localhost:8080/"
        },
        "outputId": "30223425-01d8-48d5-9efe-49c3bb6de5f7"
      },
      "execution_count": 26,
      "outputs": [
        {
          "output_type": "stream",
          "name": "stdout",
          "text": [
            "Количество сообщений в диалоге  51\n",
            "1509                                                                                                                        А пока сижу я такой, листаю и вижу эти \"глаза\" \\nДумал такое банят, но видимо нет 😅\n",
            "1510                                                                                              Слишком читерский креатив, ибо на другое смотреть сложно 😅😂Что скажете коллеги? одобряемс? или фу так делать?\n",
            "1511                                                                                                                                                                          пресс вижу, спортиком занимается?\n",
            "1512                                                                                                                                                                                       Либо пфотоджопсиком.\n",
            "1513    Простите, что я опять о своем... Директ всю неделю гнал мусорный трафик. Видимо, \"вумные алгоритмы\" так хорошо учатся. В пятницу поставил кучу минус   корректировок по полу, возрасту,  устройствам...\n",
            "1514                                                                                Мегамаркет очень любит такие кревасы на грани, смотришь и вообще голые люди, присмотришься — чуть заметное боди в цвет тела\n",
            "1515                                                                                                                                                                                              На грани фола\n",
            "1516                                                                                              Самообладание надо прокачать чтобы можно было смотреть на что угодно в любой ситуации, обстановке и окруженим\n",
            "1517                                                                                                                                                                                наркоманы они. че поделаешь\n",
            "1518                                                                                                                                                             Пол, возраст, гео, все не поможет. Какие цели?\n",
            "1519                                                                                                        Если \"наркоманы\" считают, что вот такое на грани продает, то что поделать, будут юзать до посинения\n",
            "1520    на сайте есть карусель кейсов.  цели - посетитель долистал до 3 кейса портфолио и так показал свой интерес к предложению. до лидов еще не дошли, потому что конверсия по лидам совсем не принесла ре...\n",
            "1521                                                                                                                                                                               продает ли? вот в чем вопрос\n",
            "1522                                                                                                                                                                   И с покерфейсом. (Холодом, прагматизмом)\n",
            "1523                        минус-корректировки по полу, возрасту и гео помогли отсечь мусорный трафик. точно стало меньше его. Если раньше на 1 визит приходилось больше 2 кликов, то сейчас = 1,2 - 1,4 клика\n",
            "1524    за все время в маркетинге понял, что проблема российского маркетинга в том, что тут слишком много \"гуманитариев\", минимум логики, зато \"красиво\".\\n\\nЕсли на новогоднем стриме человек из Яндекс Дир...\n",
            "1525                                                                                                                                                                                     Простая цель для ботов\n",
            "1526                                                                                                                                                                     пока еще не достигли ни боты, ни люди)\n",
            "1527                                                                                                                                                                  Они на нее учатся и достигают без проблем\n",
            "1528                                                                                                                                                                                           Какой CTR и СРС?\n",
            "1529                                                                                                                                                               CTR  = 0,11% CPC 36 рублей. Сегодня запустил\n",
            "1530                                                                                                                                                                                           завтра посмотрим\n",
            "1531                                                                                                                                                                                                Ну это норм\n",
            "1532                                                                                                                                      Просто когда там CTR 2% и клики по 5 рублей, то вот тут уже вопросики\n",
            "1533                                                                                                                    В начале же ей надо обучиться искать целевую аудиторию среди буквально миллионов юзеров\n",
            "1534                                                                                                                     Согласен. Понимаю это и, конечно, нужно подождать. если приходят, действительно, юзеры\n",
            "1535                                                                                                                                                                  Но это первая рк? Или были другие до нее?\n",
            "1536    Даже при 36 рублях за клик приходят боты. Например, есть первый визит юзера  длительностью 8 секунд, в котором посетитель сразу нажал на кнопку формы заявки. Я не знаю людей, которые при первом по...\n",
            "1537                                                                              Была другая. CTR 0.3%, CPC = 7.51 - эта  кампания как раз привлекла мусорного трафика намного больше, чем целевых посетителей\n",
            "1538    По логам на хосте найди такие посещения, ищи похожие и есть ли закономерности, посмотри поведение по вебвизору, на форме нужны поля ловушки, чтобы понять что это бот, даже полуавтоматические боты ...\n",
            "1540                                                                                                                                                                                         Спасибо за совет 👍\n",
            "1541    [Вот в юзер агентах слова которые могут скликивать рекламу и некоторые ищут что взломать\\npython-requests\\nPython\\nApacheBench\\nApache-HttpClient\\nPHP/\\ngo-resty\\nвзлом\\n, {'type': 'link', 'text':...\n",
            "1542                                                                                                                                          Ты совсем от ботов не избавишься никогда, даже когда все обучится\n",
            "1543                                                                                                                                А есть ли какие-то формы доступные на условном js которые боты не понимают?\n",
            "1544                                                                                                       Для ботов оставить форму обычную, для людей ту, которую боты не видят в коде явно как форму с полями\n",
            "1547                                                         Есть такой вариант, если нет возможности поработать с js и css то тоже вариант.\\nСтавишь её первую по порядку в коде, прячешь, на неё ловишь ботов\n",
            "1548                                                                                                                                                                   Но все равно выглядит норм, на удивление\n",
            "1549                                                                                                                                                                     Главное цель в метрику повесить на нее\n",
            "1550                                                                                                                                                                          Чтобы боты думали, что это профит\n",
            "1551                                                                                                                                            Зачем? Я их записываю в файл, ну и автоматом заодно блокируются\n",
            "1552                                                                        Ну я их на 404 специально подготовленную где написано что спам не пройдёт с точки зрения банальной эрудиции не правильно так делать\n",
            "1553                                                                                                                                                                          Боты ищут где отправки целей идут\n",
            "1554                                                                                                                            Не ищут ничего, нет у меня целей на формах, они по js работают в момент sucsess\n",
            "1555                                                                                                                                      Им нужно достигать целей чтобы казаться норм трафом и норм площадками\n",
            "1556                                                                   Настраиваешь цель на одну кнопку, через неделю боты ее давят, настраиваешь на другую и снимаешь с первой, боты через неделю вторую давят\n",
            "1557                                                                                                                                                            Их цель казаться хорошим конверсионным трафиком\n",
            "1558                                                                                                                                     Возможно, но прямых целей практически нет или совсем мало, а боты есть\n",
            "1559                                                                                                              Есть отдельная категория ботов, которая ходит на сайты и проверяет где отправка js-целей идет\n",
            "1560                                                                                                                                                                     вот сканеров я блокирую по юзер агенту\n",
            "1561                                                                                                                                                                                   Они не всегда отличаются\n",
            "1562                                                                                                                                                Да вот с такими возится приходится и по одному ИП выщемлять\n",
            "Name: text, dtype: object\n"
          ]
        }
      ]
    },
    {
      "cell_type": "markdown",
      "source": [
        "Вывод: Провел кластеризацию по reply и по соседним сообщениям с временным threshold`ом. Порог по времени пол минуты. Получил 341 диалог. Выделил самые длинные (10шт). 103 собщения в самом большом, 51 в маленьком. Метрику оценил пока только визульно(почитал сообщения в диалоге). Связь между сообщениями прослеживается."
      ],
      "metadata": {
        "id": "D8Ku81f1YICZ"
      }
    },
    {
      "cell_type": "markdown",
      "source": [
        "# Кластеризация по всплескам активности по времени"
      ],
      "metadata": {
        "id": "jcsk72c2Y_V9"
      }
    },
    {
      "cell_type": "code",
      "source": [
        "df"
      ],
      "metadata": {
        "colab": {
          "base_uri": "https://localhost:8080/",
          "height": 423
        },
        "id": "nWyqDTJuZWJJ",
        "outputId": "fbbf80d2-de86-4ae0-9460-42a040fa618e"
      },
      "execution_count": 27,
      "outputs": [
        {
          "output_type": "execute_result",
          "data": {
            "text/plain": [
              "      message_id                date                   chat_name     chat_id  \\\n",
              "0          42471 2025-02-01 07:35:54  💬 Marketing Practicum Chat  1782474569   \n",
              "1          42472 2025-02-01 07:40:03  💬 Marketing Practicum Chat  1782474569   \n",
              "2          42473 2025-02-01 07:48:53  💬 Marketing Practicum Chat  1782474569   \n",
              "3          42474 2025-02-01 07:50:31  💬 Marketing Practicum Chat  1782474569   \n",
              "4          42475 2025-02-01 08:12:42  💬 Marketing Practicum Chat  1782474569   \n",
              "...          ...                 ...                         ...         ...   \n",
              "3675       46400 2025-02-27 20:11:04  💬 Marketing Practicum Chat  1782474569   \n",
              "3676       46401 2025-02-27 20:23:08  💬 Marketing Practicum Chat  1782474569   \n",
              "3677       46402 2025-02-27 20:24:44  💬 Marketing Practicum Chat  1782474569   \n",
              "3678       46403 2025-02-27 20:29:44  💬 Marketing Practicum Chat  1782474569   \n",
              "3679       46405 2025-02-27 20:30:53  💬 Marketing Practicum Chat  1782474569   \n",
              "\n",
              "           sender_id                  from  reply_to_message_id  \\\n",
              "0     user1272493086        Pasha Sannikov                  NaN   \n",
              "1     user1272493086        Pasha Sannikov                  NaN   \n",
              "2     user1272493086        Pasha Sannikov                  NaN   \n",
              "3     user1272493086        Pasha Sannikov                  NaN   \n",
              "4     user1164775873  Данилов | Маркетолог                  NaN   \n",
              "...              ...                   ...                  ...   \n",
              "3675  user1829741608       Алексей Ермолов                  NaN   \n",
              "3676  user1912824918                     S              46394.0   \n",
              "3677  user1912824918                     S                  NaN   \n",
              "3678  user1829741608       Алексей Ермолов              46402.0   \n",
              "3679  user1912824918                     S              46403.0   \n",
              "\n",
              "                                                   text  \n",
              "0     [Доброе утро, люди! Это ОК, в РСЯ алгоритмы вы...  \n",
              "1     А вот регионы, в которых живут ITшники с интер...  \n",
              "2     Если смотреть по интересам, то кажется, что ау...  \n",
              "3     А путь пользователя почему-то выглядит так. Ко...  \n",
              "4                                              Опять он  \n",
              "...                                                 ...  \n",
              "3675                                Напишу им, спасибо.  \n",
              "3676  Старые профили не удаляются, номер на который ...  \n",
              "3677  Пишите оператору (позовите пожалуйста оператор...  \n",
              "3678                                Отлично! Благодарю.  \n",
              "3679  Да там часто отвечает бот, поэтому надо добить...  \n",
              "\n",
              "[3680 rows x 8 columns]"
            ],
            "text/html": [
              "\n",
              "  <div id=\"df-4e16d26c-7d48-4ba1-8f0d-f3e3eb247f5a\" class=\"colab-df-container\">\n",
              "    <div>\n",
              "<style scoped>\n",
              "    .dataframe tbody tr th:only-of-type {\n",
              "        vertical-align: middle;\n",
              "    }\n",
              "\n",
              "    .dataframe tbody tr th {\n",
              "        vertical-align: top;\n",
              "    }\n",
              "\n",
              "    .dataframe thead th {\n",
              "        text-align: right;\n",
              "    }\n",
              "</style>\n",
              "<table border=\"1\" class=\"dataframe\">\n",
              "  <thead>\n",
              "    <tr style=\"text-align: right;\">\n",
              "      <th></th>\n",
              "      <th>message_id</th>\n",
              "      <th>date</th>\n",
              "      <th>chat_name</th>\n",
              "      <th>chat_id</th>\n",
              "      <th>sender_id</th>\n",
              "      <th>from</th>\n",
              "      <th>reply_to_message_id</th>\n",
              "      <th>text</th>\n",
              "    </tr>\n",
              "  </thead>\n",
              "  <tbody>\n",
              "    <tr>\n",
              "      <th>0</th>\n",
              "      <td>42471</td>\n",
              "      <td>2025-02-01 07:35:54</td>\n",
              "      <td>💬 Marketing Practicum Chat</td>\n",
              "      <td>1782474569</td>\n",
              "      <td>user1272493086</td>\n",
              "      <td>Pasha Sannikov</td>\n",
              "      <td>NaN</td>\n",
              "      <td>[Доброе утро, люди! Это ОК, в РСЯ алгоритмы вы...</td>\n",
              "    </tr>\n",
              "    <tr>\n",
              "      <th>1</th>\n",
              "      <td>42472</td>\n",
              "      <td>2025-02-01 07:40:03</td>\n",
              "      <td>💬 Marketing Practicum Chat</td>\n",
              "      <td>1782474569</td>\n",
              "      <td>user1272493086</td>\n",
              "      <td>Pasha Sannikov</td>\n",
              "      <td>NaN</td>\n",
              "      <td>А вот регионы, в которых живут ITшники с интер...</td>\n",
              "    </tr>\n",
              "    <tr>\n",
              "      <th>2</th>\n",
              "      <td>42473</td>\n",
              "      <td>2025-02-01 07:48:53</td>\n",
              "      <td>💬 Marketing Practicum Chat</td>\n",
              "      <td>1782474569</td>\n",
              "      <td>user1272493086</td>\n",
              "      <td>Pasha Sannikov</td>\n",
              "      <td>NaN</td>\n",
              "      <td>Если смотреть по интересам, то кажется, что ау...</td>\n",
              "    </tr>\n",
              "    <tr>\n",
              "      <th>3</th>\n",
              "      <td>42474</td>\n",
              "      <td>2025-02-01 07:50:31</td>\n",
              "      <td>💬 Marketing Practicum Chat</td>\n",
              "      <td>1782474569</td>\n",
              "      <td>user1272493086</td>\n",
              "      <td>Pasha Sannikov</td>\n",
              "      <td>NaN</td>\n",
              "      <td>А путь пользователя почему-то выглядит так. Ко...</td>\n",
              "    </tr>\n",
              "    <tr>\n",
              "      <th>4</th>\n",
              "      <td>42475</td>\n",
              "      <td>2025-02-01 08:12:42</td>\n",
              "      <td>💬 Marketing Practicum Chat</td>\n",
              "      <td>1782474569</td>\n",
              "      <td>user1164775873</td>\n",
              "      <td>Данилов | Маркетолог</td>\n",
              "      <td>NaN</td>\n",
              "      <td>Опять он</td>\n",
              "    </tr>\n",
              "    <tr>\n",
              "      <th>...</th>\n",
              "      <td>...</td>\n",
              "      <td>...</td>\n",
              "      <td>...</td>\n",
              "      <td>...</td>\n",
              "      <td>...</td>\n",
              "      <td>...</td>\n",
              "      <td>...</td>\n",
              "      <td>...</td>\n",
              "    </tr>\n",
              "    <tr>\n",
              "      <th>3675</th>\n",
              "      <td>46400</td>\n",
              "      <td>2025-02-27 20:11:04</td>\n",
              "      <td>💬 Marketing Practicum Chat</td>\n",
              "      <td>1782474569</td>\n",
              "      <td>user1829741608</td>\n",
              "      <td>Алексей Ермолов</td>\n",
              "      <td>NaN</td>\n",
              "      <td>Напишу им, спасибо.</td>\n",
              "    </tr>\n",
              "    <tr>\n",
              "      <th>3676</th>\n",
              "      <td>46401</td>\n",
              "      <td>2025-02-27 20:23:08</td>\n",
              "      <td>💬 Marketing Practicum Chat</td>\n",
              "      <td>1782474569</td>\n",
              "      <td>user1912824918</td>\n",
              "      <td>S</td>\n",
              "      <td>46394.0</td>\n",
              "      <td>Старые профили не удаляются, номер на который ...</td>\n",
              "    </tr>\n",
              "    <tr>\n",
              "      <th>3677</th>\n",
              "      <td>46402</td>\n",
              "      <td>2025-02-27 20:24:44</td>\n",
              "      <td>💬 Marketing Practicum Chat</td>\n",
              "      <td>1782474569</td>\n",
              "      <td>user1912824918</td>\n",
              "      <td>S</td>\n",
              "      <td>NaN</td>\n",
              "      <td>Пишите оператору (позовите пожалуйста оператор...</td>\n",
              "    </tr>\n",
              "    <tr>\n",
              "      <th>3678</th>\n",
              "      <td>46403</td>\n",
              "      <td>2025-02-27 20:29:44</td>\n",
              "      <td>💬 Marketing Practicum Chat</td>\n",
              "      <td>1782474569</td>\n",
              "      <td>user1829741608</td>\n",
              "      <td>Алексей Ермолов</td>\n",
              "      <td>46402.0</td>\n",
              "      <td>Отлично! Благодарю.</td>\n",
              "    </tr>\n",
              "    <tr>\n",
              "      <th>3679</th>\n",
              "      <td>46405</td>\n",
              "      <td>2025-02-27 20:30:53</td>\n",
              "      <td>💬 Marketing Practicum Chat</td>\n",
              "      <td>1782474569</td>\n",
              "      <td>user1912824918</td>\n",
              "      <td>S</td>\n",
              "      <td>46403.0</td>\n",
              "      <td>Да там часто отвечает бот, поэтому надо добить...</td>\n",
              "    </tr>\n",
              "  </tbody>\n",
              "</table>\n",
              "<p>3680 rows × 8 columns</p>\n",
              "</div>\n",
              "    <div class=\"colab-df-buttons\">\n",
              "\n",
              "  <div class=\"colab-df-container\">\n",
              "    <button class=\"colab-df-convert\" onclick=\"convertToInteractive('df-4e16d26c-7d48-4ba1-8f0d-f3e3eb247f5a')\"\n",
              "            title=\"Convert this dataframe to an interactive table.\"\n",
              "            style=\"display:none;\">\n",
              "\n",
              "  <svg xmlns=\"http://www.w3.org/2000/svg\" height=\"24px\" viewBox=\"0 -960 960 960\">\n",
              "    <path d=\"M120-120v-720h720v720H120Zm60-500h600v-160H180v160Zm220 220h160v-160H400v160Zm0 220h160v-160H400v160ZM180-400h160v-160H180v160Zm440 0h160v-160H620v160ZM180-180h160v-160H180v160Zm440 0h160v-160H620v160Z\"/>\n",
              "  </svg>\n",
              "    </button>\n",
              "\n",
              "  <style>\n",
              "    .colab-df-container {\n",
              "      display:flex;\n",
              "      gap: 12px;\n",
              "    }\n",
              "\n",
              "    .colab-df-convert {\n",
              "      background-color: #E8F0FE;\n",
              "      border: none;\n",
              "      border-radius: 50%;\n",
              "      cursor: pointer;\n",
              "      display: none;\n",
              "      fill: #1967D2;\n",
              "      height: 32px;\n",
              "      padding: 0 0 0 0;\n",
              "      width: 32px;\n",
              "    }\n",
              "\n",
              "    .colab-df-convert:hover {\n",
              "      background-color: #E2EBFA;\n",
              "      box-shadow: 0px 1px 2px rgba(60, 64, 67, 0.3), 0px 1px 3px 1px rgba(60, 64, 67, 0.15);\n",
              "      fill: #174EA6;\n",
              "    }\n",
              "\n",
              "    .colab-df-buttons div {\n",
              "      margin-bottom: 4px;\n",
              "    }\n",
              "\n",
              "    [theme=dark] .colab-df-convert {\n",
              "      background-color: #3B4455;\n",
              "      fill: #D2E3FC;\n",
              "    }\n",
              "\n",
              "    [theme=dark] .colab-df-convert:hover {\n",
              "      background-color: #434B5C;\n",
              "      box-shadow: 0px 1px 3px 1px rgba(0, 0, 0, 0.15);\n",
              "      filter: drop-shadow(0px 1px 2px rgba(0, 0, 0, 0.3));\n",
              "      fill: #FFFFFF;\n",
              "    }\n",
              "  </style>\n",
              "\n",
              "    <script>\n",
              "      const buttonEl =\n",
              "        document.querySelector('#df-4e16d26c-7d48-4ba1-8f0d-f3e3eb247f5a button.colab-df-convert');\n",
              "      buttonEl.style.display =\n",
              "        google.colab.kernel.accessAllowed ? 'block' : 'none';\n",
              "\n",
              "      async function convertToInteractive(key) {\n",
              "        const element = document.querySelector('#df-4e16d26c-7d48-4ba1-8f0d-f3e3eb247f5a');\n",
              "        const dataTable =\n",
              "          await google.colab.kernel.invokeFunction('convertToInteractive',\n",
              "                                                    [key], {});\n",
              "        if (!dataTable) return;\n",
              "\n",
              "        const docLinkHtml = 'Like what you see? Visit the ' +\n",
              "          '<a target=\"_blank\" href=https://colab.research.google.com/notebooks/data_table.ipynb>data table notebook</a>'\n",
              "          + ' to learn more about interactive tables.';\n",
              "        element.innerHTML = '';\n",
              "        dataTable['output_type'] = 'display_data';\n",
              "        await google.colab.output.renderOutput(dataTable, element);\n",
              "        const docLink = document.createElement('div');\n",
              "        docLink.innerHTML = docLinkHtml;\n",
              "        element.appendChild(docLink);\n",
              "      }\n",
              "    </script>\n",
              "  </div>\n",
              "\n",
              "\n",
              "<div id=\"df-eccb9ccc-2c68-425e-884f-9000b205ef47\">\n",
              "  <button class=\"colab-df-quickchart\" onclick=\"quickchart('df-eccb9ccc-2c68-425e-884f-9000b205ef47')\"\n",
              "            title=\"Suggest charts\"\n",
              "            style=\"display:none;\">\n",
              "\n",
              "<svg xmlns=\"http://www.w3.org/2000/svg\" height=\"24px\"viewBox=\"0 0 24 24\"\n",
              "     width=\"24px\">\n",
              "    <g>\n",
              "        <path d=\"M19 3H5c-1.1 0-2 .9-2 2v14c0 1.1.9 2 2 2h14c1.1 0 2-.9 2-2V5c0-1.1-.9-2-2-2zM9 17H7v-7h2v7zm4 0h-2V7h2v10zm4 0h-2v-4h2v4z\"/>\n",
              "    </g>\n",
              "</svg>\n",
              "  </button>\n",
              "\n",
              "<style>\n",
              "  .colab-df-quickchart {\n",
              "      --bg-color: #E8F0FE;\n",
              "      --fill-color: #1967D2;\n",
              "      --hover-bg-color: #E2EBFA;\n",
              "      --hover-fill-color: #174EA6;\n",
              "      --disabled-fill-color: #AAA;\n",
              "      --disabled-bg-color: #DDD;\n",
              "  }\n",
              "\n",
              "  [theme=dark] .colab-df-quickchart {\n",
              "      --bg-color: #3B4455;\n",
              "      --fill-color: #D2E3FC;\n",
              "      --hover-bg-color: #434B5C;\n",
              "      --hover-fill-color: #FFFFFF;\n",
              "      --disabled-bg-color: #3B4455;\n",
              "      --disabled-fill-color: #666;\n",
              "  }\n",
              "\n",
              "  .colab-df-quickchart {\n",
              "    background-color: var(--bg-color);\n",
              "    border: none;\n",
              "    border-radius: 50%;\n",
              "    cursor: pointer;\n",
              "    display: none;\n",
              "    fill: var(--fill-color);\n",
              "    height: 32px;\n",
              "    padding: 0;\n",
              "    width: 32px;\n",
              "  }\n",
              "\n",
              "  .colab-df-quickchart:hover {\n",
              "    background-color: var(--hover-bg-color);\n",
              "    box-shadow: 0 1px 2px rgba(60, 64, 67, 0.3), 0 1px 3px 1px rgba(60, 64, 67, 0.15);\n",
              "    fill: var(--button-hover-fill-color);\n",
              "  }\n",
              "\n",
              "  .colab-df-quickchart-complete:disabled,\n",
              "  .colab-df-quickchart-complete:disabled:hover {\n",
              "    background-color: var(--disabled-bg-color);\n",
              "    fill: var(--disabled-fill-color);\n",
              "    box-shadow: none;\n",
              "  }\n",
              "\n",
              "  .colab-df-spinner {\n",
              "    border: 2px solid var(--fill-color);\n",
              "    border-color: transparent;\n",
              "    border-bottom-color: var(--fill-color);\n",
              "    animation:\n",
              "      spin 1s steps(1) infinite;\n",
              "  }\n",
              "\n",
              "  @keyframes spin {\n",
              "    0% {\n",
              "      border-color: transparent;\n",
              "      border-bottom-color: var(--fill-color);\n",
              "      border-left-color: var(--fill-color);\n",
              "    }\n",
              "    20% {\n",
              "      border-color: transparent;\n",
              "      border-left-color: var(--fill-color);\n",
              "      border-top-color: var(--fill-color);\n",
              "    }\n",
              "    30% {\n",
              "      border-color: transparent;\n",
              "      border-left-color: var(--fill-color);\n",
              "      border-top-color: var(--fill-color);\n",
              "      border-right-color: var(--fill-color);\n",
              "    }\n",
              "    40% {\n",
              "      border-color: transparent;\n",
              "      border-right-color: var(--fill-color);\n",
              "      border-top-color: var(--fill-color);\n",
              "    }\n",
              "    60% {\n",
              "      border-color: transparent;\n",
              "      border-right-color: var(--fill-color);\n",
              "    }\n",
              "    80% {\n",
              "      border-color: transparent;\n",
              "      border-right-color: var(--fill-color);\n",
              "      border-bottom-color: var(--fill-color);\n",
              "    }\n",
              "    90% {\n",
              "      border-color: transparent;\n",
              "      border-bottom-color: var(--fill-color);\n",
              "    }\n",
              "  }\n",
              "</style>\n",
              "\n",
              "  <script>\n",
              "    async function quickchart(key) {\n",
              "      const quickchartButtonEl =\n",
              "        document.querySelector('#' + key + ' button');\n",
              "      quickchartButtonEl.disabled = true;  // To prevent multiple clicks.\n",
              "      quickchartButtonEl.classList.add('colab-df-spinner');\n",
              "      try {\n",
              "        const charts = await google.colab.kernel.invokeFunction(\n",
              "            'suggestCharts', [key], {});\n",
              "      } catch (error) {\n",
              "        console.error('Error during call to suggestCharts:', error);\n",
              "      }\n",
              "      quickchartButtonEl.classList.remove('colab-df-spinner');\n",
              "      quickchartButtonEl.classList.add('colab-df-quickchart-complete');\n",
              "    }\n",
              "    (() => {\n",
              "      let quickchartButtonEl =\n",
              "        document.querySelector('#df-eccb9ccc-2c68-425e-884f-9000b205ef47 button');\n",
              "      quickchartButtonEl.style.display =\n",
              "        google.colab.kernel.accessAllowed ? 'block' : 'none';\n",
              "    })();\n",
              "  </script>\n",
              "</div>\n",
              "    </div>\n",
              "  </div>\n"
            ],
            "application/vnd.google.colaboratory.intrinsic+json": {
              "type": "dataframe",
              "variable_name": "df",
              "summary": "{\n  \"name\": \"df\",\n  \"rows\": 3680,\n  \"fields\": [\n    {\n      \"column\": \"message_id\",\n      \"properties\": {\n        \"dtype\": \"number\",\n        \"std\": 1137,\n        \"min\": 42471,\n        \"max\": 46405,\n        \"num_unique_values\": 3680,\n        \"samples\": [\n          43622,\n          45420,\n          45046\n        ],\n        \"semantic_type\": \"\",\n        \"description\": \"\"\n      }\n    },\n    {\n      \"column\": \"date\",\n      \"properties\": {\n        \"dtype\": \"date\",\n        \"min\": \"2025-02-01 07:35:54\",\n        \"max\": \"2025-02-27 20:30:53\",\n        \"num_unique_values\": 3650,\n        \"samples\": [\n          \"2025-02-07 17:23:18\",\n          \"2025-02-10 18:15:14\",\n          \"2025-02-02 20:42:00\"\n        ],\n        \"semantic_type\": \"\",\n        \"description\": \"\"\n      }\n    },\n    {\n      \"column\": \"chat_name\",\n      \"properties\": {\n        \"dtype\": \"category\",\n        \"num_unique_values\": 1,\n        \"samples\": [\n          \"\\ud83d\\udcac Marketing Practicum Chat\"\n        ],\n        \"semantic_type\": \"\",\n        \"description\": \"\"\n      }\n    },\n    {\n      \"column\": \"chat_id\",\n      \"properties\": {\n        \"dtype\": \"number\",\n        \"std\": 0,\n        \"min\": 1782474569,\n        \"max\": 1782474569,\n        \"num_unique_values\": 1,\n        \"samples\": [\n          1782474569\n        ],\n        \"semantic_type\": \"\",\n        \"description\": \"\"\n      }\n    },\n    {\n      \"column\": \"sender_id\",\n      \"properties\": {\n        \"dtype\": \"category\",\n        \"num_unique_values\": 88,\n        \"samples\": [\n          \"user6425223466\"\n        ],\n        \"semantic_type\": \"\",\n        \"description\": \"\"\n      }\n    },\n    {\n      \"column\": \"from\",\n      \"properties\": {\n        \"dtype\": \"category\",\n        \"num_unique_values\": 85,\n        \"samples\": [\n          \"Oleg Vladimirovich\"\n        ],\n        \"semantic_type\": \"\",\n        \"description\": \"\"\n      }\n    },\n    {\n      \"column\": \"reply_to_message_id\",\n      \"properties\": {\n        \"dtype\": \"number\",\n        \"std\": 1127.5307012137655,\n        \"min\": 42471.0,\n        \"max\": 46403.0,\n        \"num_unique_values\": 1806,\n        \"samples\": [\n          45385.0\n        ],\n        \"semantic_type\": \"\",\n        \"description\": \"\"\n      }\n    },\n    {\n      \"column\": \"text\",\n      \"properties\": {\n        \"dtype\": \"object\",\n        \"semantic_type\": \"\",\n        \"description\": \"\"\n      }\n    }\n  ]\n}"
            }
          },
          "metadata": {},
          "execution_count": 27
        }
      ]
    },
    {
      "cell_type": "markdown",
      "source": [
        "1. Линейный график сообщений по дням (агрегация по дням)"
      ],
      "metadata": {
        "id": "rQVbUlrQeH0g"
      }
    },
    {
      "cell_type": "code",
      "source": [
        "import matplotlib.pyplot as plt\n",
        "import seaborn as sns\n",
        "\n",
        "# Группируем по дате (без времени) и считаем количество сообщений\n",
        "daily_counts = df['date'].dt.floor('D').value_counts().sort_index()\n",
        "\n",
        "# Настраиваем график\n",
        "plt.figure(figsize=(12, 6))\n",
        "daily_counts.plot(kind='line', marker='o', color='blue', linestyle='-')\n",
        "\n",
        "# Добавляем подписи\n",
        "plt.title('Активность сообщений по дням', fontsize=14)\n",
        "plt.xlabel('Дата', fontsize=12)\n",
        "plt.ylabel('Количество сообщений', fontsize=12)\n",
        "plt.grid(True, linestyle='--', alpha=0.7)\n",
        "plt.tight_layout()\n",
        "plt.show()"
      ],
      "metadata": {
        "colab": {
          "base_uri": "https://localhost:8080/",
          "height": 607
        },
        "id": "kNX-pJ_JdzVc",
        "outputId": "f6b8baf6-5b96-4ebc-9ea7-ab31e86e5d20"
      },
      "execution_count": 28,
      "outputs": [
        {
          "output_type": "display_data",
          "data": {
            "text/plain": [
              "<Figure size 1200x600 with 1 Axes>"
            ],
            "image/png": "[encoded data removed]"
          },
          "metadata": {}
        }
      ]
    },
    {
      "cell_type": "code",
      "source": [
        "import matplotlib.pyplot as plt\n",
        "import matplotlib.dates as mdates\n",
        "from matplotlib.dates import DateFormatter, HourLocator, MinuteLocator\n",
        "\n",
        "# Выбираем только первый день\n",
        "first_day = df['date'].dt.date.min()\n",
        "df_day = df[df['date'].dt.date == first_day].copy()\n",
        "\n",
        "# Настройка стиля\n",
        "plt.figure(figsize=(15, 5))\n",
        "\n",
        "# Создаем график\n",
        "ax = plt.gca()\n",
        "\n",
        "# Вариант 1: Точечный график (каждое сообщение как точка)\n",
        "ax.plot(df_day['date'],\n",
        "        [1]*len(df_day),  # Все точки на y=1\n",
        "        marker='o',\n",
        "        markersize=5,\n",
        "        linestyle='',\n",
        "        alpha=0.7,\n",
        "        color='royalblue')\n",
        "\n",
        "# Настройка временной оси\n",
        "ax.xaxis.set_major_locator(HourLocator(interval=1))  # Основные деления - каждый час\n",
        "ax.xaxis.set_major_formatter(DateFormatter('%H:%M'))  # Формат времени\n",
        "\n",
        "# Подписи и оформление\n",
        "plt.title(f'Активность сообщений за {first_day.strftime(\"%d.%m.%Y\")}', fontsize=16, pad=20)\n",
        "plt.xlabel('Время', fontsize=12)\n",
        "plt.ylabel('Сообщения', fontsize=12)\n",
        "plt.grid(True, which='both', linestyle='--', alpha=0.3)\n",
        "plt.ylim(0.8, 1.2)  # Для точечного графика\n",
        "\n",
        "plt.legend()\n",
        "plt.xticks(rotation=45)\n",
        "plt.tight_layout()\n",
        "plt.show()"
      ],
      "metadata": {
        "colab": {
          "base_uri": "https://localhost:8080/",
          "height": 543
        },
        "id": "tqkMy_pSe7WB",
        "outputId": "ae86ac71-118c-4901-aa6f-2c819b4d758d"
      },
      "execution_count": 29,
      "outputs": [
        {
          "output_type": "stream",
          "name": "stderr",
          "text": [
            "<ipython-input-29-43154eed6413>:35: UserWarning: No artists with labels found to put in legend.  Note that artists whose label start with an underscore are ignored when legend() is called with no argument.\n",
            "  plt.legend()\n"
          ]
        },
        {
          "output_type": "display_data",
          "data": {
            "text/plain": [
              "<Figure size 1500x500 with 1 Axes>"
            ],
            "image/png": "[encoded data removed]"
          },
          "metadata": {}
        }
      ]
    },
    {
      "cell_type": "markdown",
      "source": [
        "Пороговое значения всплеска"
      ],
      "metadata": {
        "id": "fOY15rjmmmrm"
      }
    },
    {
      "cell_type": "code",
      "source": [
        "threshold_vspl = 30"
      ],
      "metadata": {
        "id": "L16rpXN2iPeK"
      },
      "execution_count": 30,
      "outputs": []
    },
    {
      "cell_type": "code",
      "source": [
        "# Добавляю пары соседних сообщений с порогом в 30 минут (в прошлом методе было 30 секунд)\n",
        "# Порог выбрал вручную, глядя на графики активности сообщений\n",
        "threshold_vspl = 30\n",
        "y = []\n",
        "for i in range(len(df)-1):\n",
        "  if df.loc[i+1, 'date']-df.loc[i, 'date'] < pd.Timedelta(minutes=threshold_vspl):\n",
        "    y.append([df.loc[i, 'message_id'], df.loc[i+1, 'message_id']])\n",
        "len(y)"
      ],
      "metadata": {
        "colab": {
          "base_uri": "https://localhost:8080/"
        },
        "id": "O978o-1BnGer",
        "outputId": "b961a880-8cf0-4f27-bc71-8715495d26d7"
      },
      "execution_count": 31,
      "outputs": [
        {
          "output_type": "execute_result",
          "data": {
            "text/plain": [
              "3466"
            ]
          },
          "metadata": {},
          "execution_count": 31
        }
      ]
    },
    {
      "cell_type": "code",
      "source": [
        "para_vspl = pd.DataFrame(y, columns=['one','two'])\n",
        "para_vspl"
      ],
      "metadata": {
        "colab": {
          "base_uri": "https://localhost:8080/",
          "height": 423
        },
        "id": "l1de0RbcpMel",
        "outputId": "fee72801-1720-4b5e-a21a-4a2736e7f69c"
      },
      "execution_count": 32,
      "outputs": [
        {
          "output_type": "execute_result",
          "data": {
            "text/plain": [
              "        one    two\n",
              "0     42471  42472\n",
              "1     42472  42473\n",
              "2     42473  42474\n",
              "3     42474  42475\n",
              "4     42475  42476\n",
              "...     ...    ...\n",
              "3461  46399  46400\n",
              "3462  46400  46401\n",
              "3463  46401  46402\n",
              "3464  46402  46403\n",
              "3465  46403  46405\n",
              "\n",
              "[3466 rows x 2 columns]"
            ],
            "text/html": [
              "\n",
              "  <div id=\"df-2420f791-ee99-4cbf-9bc7-f7bcbd238a07\" class=\"colab-df-container\">\n",
              "    <div>\n",
              "<style scoped>\n",
              "    .dataframe tbody tr th:only-of-type {\n",
              "        vertical-align: middle;\n",
              "    }\n",
              "\n",
              "    .dataframe tbody tr th {\n",
              "        vertical-align: top;\n",
              "    }\n",
              "\n",
              "    .dataframe thead th {\n",
              "        text-align: right;\n",
              "    }\n",
              "</style>\n",
              "<table border=\"1\" class=\"dataframe\">\n",
              "  <thead>\n",
              "    <tr style=\"text-align: right;\">\n",
              "      <th></th>\n",
              "      <th>one</th>\n",
              "      <th>two</th>\n",
              "    </tr>\n",
              "  </thead>\n",
              "  <tbody>\n",
              "    <tr>\n",
              "      <th>0</th>\n",
              "      <td>42471</td>\n",
              "      <td>42472</td>\n",
              "    </tr>\n",
              "    <tr>\n",
              "      <th>1</th>\n",
              "      <td>42472</td>\n",
              "      <td>42473</td>\n",
              "    </tr>\n",
              "    <tr>\n",
              "      <th>2</th>\n",
              "      <td>42473</td>\n",
              "      <td>42474</td>\n",
              "    </tr>\n",
              "    <tr>\n",
              "      <th>3</th>\n",
              "      <td>42474</td>\n",
              "      <td>42475</td>\n",
              "    </tr>\n",
              "    <tr>\n",
              "      <th>4</th>\n",
              "      <td>42475</td>\n",
              "      <td>42476</td>\n",
              "    </tr>\n",
              "    <tr>\n",
              "      <th>...</th>\n",
              "      <td>...</td>\n",
              "      <td>...</td>\n",
              "    </tr>\n",
              "    <tr>\n",
              "      <th>3461</th>\n",
              "      <td>46399</td>\n",
              "      <td>46400</td>\n",
              "    </tr>\n",
              "    <tr>\n",
              "      <th>3462</th>\n",
              "      <td>46400</td>\n",
              "      <td>46401</td>\n",
              "    </tr>\n",
              "    <tr>\n",
              "      <th>3463</th>\n",
              "      <td>46401</td>\n",
              "      <td>46402</td>\n",
              "    </tr>\n",
              "    <tr>\n",
              "      <th>3464</th>\n",
              "      <td>46402</td>\n",
              "      <td>46403</td>\n",
              "    </tr>\n",
              "    <tr>\n",
              "      <th>3465</th>\n",
              "      <td>46403</td>\n",
              "      <td>46405</td>\n",
              "    </tr>\n",
              "  </tbody>\n",
              "</table>\n",
              "<p>3466 rows × 2 columns</p>\n",
              "</div>\n",
              "    <div class=\"colab-df-buttons\">\n",
              "\n",
              "  <div class=\"colab-df-container\">\n",
              "    <button class=\"colab-df-convert\" onclick=\"convertToInteractive('df-2420f791-ee99-4cbf-9bc7-f7bcbd238a07')\"\n",
              "            title=\"Convert this dataframe to an interactive table.\"\n",
              "            style=\"display:none;\">\n",
              "\n",
              "  <svg xmlns=\"http://www.w3.org/2000/svg\" height=\"24px\" viewBox=\"0 -960 960 960\">\n",
              "    <path d=\"M120-120v-720h720v720H120Zm60-500h600v-160H180v160Zm220 220h160v-160H400v160Zm0 220h160v-160H400v160ZM180-400h160v-160H180v160Zm440 0h160v-160H620v160ZM180-180h160v-160H180v160Zm440 0h160v-160H620v160Z\"/>\n",
              "  </svg>\n",
              "    </button>\n",
              "\n",
              "  <style>\n",
              "    .colab-df-container {\n",
              "      display:flex;\n",
              "      gap: 12px;\n",
              "    }\n",
              "\n",
              "    .colab-df-convert {\n",
              "      background-color: #E8F0FE;\n",
              "      border: none;\n",
              "      border-radius: 50%;\n",
              "      cursor: pointer;\n",
              "      display: none;\n",
              "      fill: #1967D2;\n",
              "      height: 32px;\n",
              "      padding: 0 0 0 0;\n",
              "      width: 32px;\n",
              "    }\n",
              "\n",
              "    .colab-df-convert:hover {\n",
              "      background-color: #E2EBFA;\n",
              "      box-shadow: 0px 1px 2px rgba(60, 64, 67, 0.3), 0px 1px 3px 1px rgba(60, 64, 67, 0.15);\n",
              "      fill: #174EA6;\n",
              "    }\n",
              "\n",
              "    .colab-df-buttons div {\n",
              "      margin-bottom: 4px;\n",
              "    }\n",
              "\n",
              "    [theme=dark] .colab-df-convert {\n",
              "      background-color: #3B4455;\n",
              "      fill: #D2E3FC;\n",
              "    }\n",
              "\n",
              "    [theme=dark] .colab-df-convert:hover {\n",
              "      background-color: #434B5C;\n",
              "      box-shadow: 0px 1px 3px 1px rgba(0, 0, 0, 0.15);\n",
              "      filter: drop-shadow(0px 1px 2px rgba(0, 0, 0, 0.3));\n",
              "      fill: #FFFFFF;\n",
              "    }\n",
              "  </style>\n",
              "\n",
              "    <script>\n",
              "      const buttonEl =\n",
              "        document.querySelector('#df-2420f791-ee99-4cbf-9bc7-f7bcbd238a07 button.colab-df-convert');\n",
              "      buttonEl.style.display =\n",
              "        google.colab.kernel.accessAllowed ? 'block' : 'none';\n",
              "\n",
              "      async function convertToInteractive(key) {\n",
              "        const element = document.querySelector('#df-2420f791-ee99-4cbf-9bc7-f7bcbd238a07');\n",
              "        const dataTable =\n",
              "          await google.colab.kernel.invokeFunction('convertToInteractive',\n",
              "                                                    [key], {});\n",
              "        if (!dataTable) return;\n",
              "\n",
              "        const docLinkHtml = 'Like what you see? Visit the ' +\n",
              "          '<a target=\"_blank\" href=https://colab.research.google.com/notebooks/data_table.ipynb>data table notebook</a>'\n",
              "          + ' to learn more about interactive tables.';\n",
              "        element.innerHTML = '';\n",
              "        dataTable['output_type'] = 'display_data';\n",
              "        await google.colab.output.renderOutput(dataTable, element);\n",
              "        const docLink = document.createElement('div');\n",
              "        docLink.innerHTML = docLinkHtml;\n",
              "        element.appendChild(docLink);\n",
              "      }\n",
              "    </script>\n",
              "  </div>\n",
              "\n",
              "\n",
              "<div id=\"df-2993cc60-9afe-449d-ad10-10fe3da156d5\">\n",
              "  <button class=\"colab-df-quickchart\" onclick=\"quickchart('df-2993cc60-9afe-449d-ad10-10fe3da156d5')\"\n",
              "            title=\"Suggest charts\"\n",
              "            style=\"display:none;\">\n",
              "\n",
              "<svg xmlns=\"http://www.w3.org/2000/svg\" height=\"24px\"viewBox=\"0 0 24 24\"\n",
              "     width=\"24px\">\n",
              "    <g>\n",
              "        <path d=\"M19 3H5c-1.1 0-2 .9-2 2v14c0 1.1.9 2 2 2h14c1.1 0 2-.9 2-2V5c0-1.1-.9-2-2-2zM9 17H7v-7h2v7zm4 0h-2V7h2v10zm4 0h-2v-4h2v4z\"/>\n",
              "    </g>\n",
              "</svg>\n",
              "  </button>\n",
              "\n",
              "<style>\n",
              "  .colab-df-quickchart {\n",
              "      --bg-color: #E8F0FE;\n",
              "      --fill-color: #1967D2;\n",
              "      --hover-bg-color: #E2EBFA;\n",
              "      --hover-fill-color: #174EA6;\n",
              "      --disabled-fill-color: #AAA;\n",
              "      --disabled-bg-color: #DDD;\n",
              "  }\n",
              "\n",
              "  [theme=dark] .colab-df-quickchart {\n",
              "      --bg-color: #3B4455;\n",
              "      --fill-color: #D2E3FC;\n",
              "      --hover-bg-color: #434B5C;\n",
              "      --hover-fill-color: #FFFFFF;\n",
              "      --disabled-bg-color: #3B4455;\n",
              "      --disabled-fill-color: #666;\n",
              "  }\n",
              "\n",
              "  .colab-df-quickchart {\n",
              "    background-color: var(--bg-color);\n",
              "    border: none;\n",
              "    border-radius: 50%;\n",
              "    cursor: pointer;\n",
              "    display: none;\n",
              "    fill: var(--fill-color);\n",
              "    height: 32px;\n",
              "    padding: 0;\n",
              "    width: 32px;\n",
              "  }\n",
              "\n",
              "  .colab-df-quickchart:hover {\n",
              "    background-color: var(--hover-bg-color);\n",
              "    box-shadow: 0 1px 2px rgba(60, 64, 67, 0.3), 0 1px 3px 1px rgba(60, 64, 67, 0.15);\n",
              "    fill: var(--button-hover-fill-color);\n",
              "  }\n",
              "\n",
              "  .colab-df-quickchart-complete:disabled,\n",
              "  .colab-df-quickchart-complete:disabled:hover {\n",
              "    background-color: var(--disabled-bg-color);\n",
              "    fill: var(--disabled-fill-color);\n",
              "    box-shadow: none;\n",
              "  }\n",
              "\n",
              "  .colab-df-spinner {\n",
              "    border: 2px solid var(--fill-color);\n",
              "    border-color: transparent;\n",
              "    border-bottom-color: var(--fill-color);\n",
              "    animation:\n",
              "      spin 1s steps(1) infinite;\n",
              "  }\n",
              "\n",
              "  @keyframes spin {\n",
              "    0% {\n",
              "      border-color: transparent;\n",
              "      border-bottom-color: var(--fill-color);\n",
              "      border-left-color: var(--fill-color);\n",
              "    }\n",
              "    20% {\n",
              "      border-color: transparent;\n",
              "      border-left-color: var(--fill-color);\n",
              "      border-top-color: var(--fill-color);\n",
              "    }\n",
              "    30% {\n",
              "      border-color: transparent;\n",
              "      border-left-color: var(--fill-color);\n",
              "      border-top-color: var(--fill-color);\n",
              "      border-right-color: var(--fill-color);\n",
              "    }\n",
              "    40% {\n",
              "      border-color: transparent;\n",
              "      border-right-color: var(--fill-color);\n",
              "      border-top-color: var(--fill-color);\n",
              "    }\n",
              "    60% {\n",
              "      border-color: transparent;\n",
              "      border-right-color: var(--fill-color);\n",
              "    }\n",
              "    80% {\n",
              "      border-color: transparent;\n",
              "      border-right-color: var(--fill-color);\n",
              "      border-bottom-color: var(--fill-color);\n",
              "    }\n",
              "    90% {\n",
              "      border-color: transparent;\n",
              "      border-bottom-color: var(--fill-color);\n",
              "    }\n",
              "  }\n",
              "</style>\n",
              "\n",
              "  <script>\n",
              "    async function quickchart(key) {\n",
              "      const quickchartButtonEl =\n",
              "        document.querySelector('#' + key + ' button');\n",
              "      quickchartButtonEl.disabled = true;  // To prevent multiple clicks.\n",
              "      quickchartButtonEl.classList.add('colab-df-spinner');\n",
              "      try {\n",
              "        const charts = await google.colab.kernel.invokeFunction(\n",
              "            'suggestCharts', [key], {});\n",
              "      } catch (error) {\n",
              "        console.error('Error during call to suggestCharts:', error);\n",
              "      }\n",
              "      quickchartButtonEl.classList.remove('colab-df-spinner');\n",
              "      quickchartButtonEl.classList.add('colab-df-quickchart-complete');\n",
              "    }\n",
              "    (() => {\n",
              "      let quickchartButtonEl =\n",
              "        document.querySelector('#df-2993cc60-9afe-449d-ad10-10fe3da156d5 button');\n",
              "      quickchartButtonEl.style.display =\n",
              "        google.colab.kernel.accessAllowed ? 'block' : 'none';\n",
              "    })();\n",
              "  </script>\n",
              "</div>\n",
              "    </div>\n",
              "  </div>\n"
            ],
            "application/vnd.google.colaboratory.intrinsic+json": {
              "type": "dataframe",
              "variable_name": "para_vspl",
              "summary": "{\n  \"name\": \"para_vspl\",\n  \"rows\": 3466,\n  \"fields\": [\n    {\n      \"column\": \"one\",\n      \"properties\": {\n        \"dtype\": \"number\",\n        \"std\": 1139,\n        \"min\": 42471,\n        \"max\": 46403,\n        \"num_unique_values\": 3466,\n        \"samples\": [\n          45410,\n          42926,\n          46017\n        ],\n        \"semantic_type\": \"\",\n        \"description\": \"\"\n      }\n    },\n    {\n      \"column\": \"two\",\n      \"properties\": {\n        \"dtype\": \"number\",\n        \"std\": 1139,\n        \"min\": 42472,\n        \"max\": 46405,\n        \"num_unique_values\": 3466,\n        \"samples\": [\n          45411,\n          42927,\n          46018\n        ],\n        \"semantic_type\": \"\",\n        \"description\": \"\"\n      }\n    }\n  ]\n}"
            }
          },
          "metadata": {},
          "execution_count": 32
        }
      ]
    },
    {
      "cell_type": "code",
      "source": [
        "# Составляем списки id сообщений в диалоги с помощью networkx\n",
        "G = nx.Graph()\n",
        "for _, row in para_vspl.iterrows():\n",
        "    G.add_edge(row['one'], row['two'])\n",
        "connected_components = list(nx.connected_components(G))\n",
        "result = [sorted(list(component)) for component in connected_components]\n",
        "result.sort(key=lambda x: x[0])\n",
        "print(result[1:3])"
      ],
      "metadata": {
        "colab": {
          "base_uri": "https://localhost:8080/"
        },
        "id": "C6QI8Mmfpwqx",
        "outputId": "5710cfa3-52e5-40d9-ec1c-24e22d50a35b"
      },
      "execution_count": 33,
      "outputs": [
        {
          "output_type": "stream",
          "name": "stdout",
          "text": [
            "[[np.int64(42543), np.int64(42544), np.int64(42545), np.int64(42546), np.int64(42547), np.int64(42548), np.int64(42549)], [np.int64(42554), np.int64(42555), np.int64(42556), np.int64(42557), np.int64(42558), np.int64(42559), np.int64(42560), np.int64(42561), np.int64(42562), np.int64(42563), np.int64(42564)]]\n"
          ]
        }
      ]
    },
    {
      "cell_type": "code",
      "source": [
        "# Количество диалогов\n",
        "len(result)"
      ],
      "metadata": {
        "colab": {
          "base_uri": "https://localhost:8080/"
        },
        "id": "_UuEWLA_pq6v",
        "outputId": "11b038c7-af7d-4ab9-a2cf-c6b9b6f8bf11"
      },
      "execution_count": 34,
      "outputs": [
        {
          "output_type": "execute_result",
          "data": {
            "text/plain": [
              "153"
            ]
          },
          "metadata": {},
          "execution_count": 34
        }
      ]
    },
    {
      "cell_type": "code",
      "source": [
        "# Количество сообщений попавших в диалоги\n",
        "total = sum(len(sublist) for sublist in result)\n",
        "total"
      ],
      "metadata": {
        "colab": {
          "base_uri": "https://localhost:8080/"
        },
        "id": "tAGyd6z_qZhh",
        "outputId": "02129338-920c-492b-dfc2-15718217eece"
      },
      "execution_count": 35,
      "outputs": [
        {
          "output_type": "execute_result",
          "data": {
            "text/plain": [
              "3619"
            ]
          },
          "metadata": {},
          "execution_count": 35
        }
      ]
    },
    {
      "cell_type": "code",
      "source": [
        "# Количество сообщенией в наибольшем диалоге\n",
        "total = max(len(sublist) for sublist in result)\n",
        "total"
      ],
      "metadata": {
        "colab": {
          "base_uri": "https://localhost:8080/"
        },
        "id": "11tmrdzfql9W",
        "outputId": "e26477d9-89ae-4799-c3f3-f0922e865911"
      },
      "execution_count": 36,
      "outputs": [
        {
          "output_type": "execute_result",
          "data": {
            "text/plain": [
              "206"
            ]
          },
          "metadata": {},
          "execution_count": 36
        }
      ]
    },
    {
      "cell_type": "code",
      "source": [
        "# Сортирую\n",
        "result_vspl = sorted(result, key=lambda x: len(x), reverse=True)\n",
        "result_vspl = result_vspl[0:10]"
      ],
      "metadata": {
        "id": "_VrDHH9qql6r"
      },
      "execution_count": 37,
      "outputs": []
    },
    {
      "cell_type": "code",
      "source": [
        "# Отображаю 10 место\n",
        "cluster_10 = df.loc[df['message_id'].isin(result_vspl[9]), 'text']#.tolist()\n",
        "print('Количество сообщений в диалоге ', len(cluster_10))\n",
        "with pd.option_context('display.max_colwidth', 200):\n",
        "    print(cluster_10)"
      ],
      "metadata": {
        "colab": {
          "base_uri": "https://localhost:8080/"
        },
        "id": "t5G1t40Uql3v",
        "outputId": "e0ad6f2c-bca1-4113-b25f-183938ec94f9"
      },
      "execution_count": 38,
      "outputs": [
        {
          "output_type": "stream",
          "name": "stdout",
          "text": [
            "Количество сообщений в диалоге  79\n",
            "2565                                                                                                                                                                                                 Через гтм?\n",
            "2566                                                                                                                                                                                        Через oncontextmenu\n",
            "2567                                                                                                                                                                 Очень интересно, но не понятно 😂👍пример бы\n",
            "2568                                                                                                                                                             oncontextmenu(ym(000000,'reachGoal','pochta'))\n",
            "2569                                                                                                                                                                              Это если совсем просто делать\n",
            "                                                                                                         ...                                                                                                   \n",
            "2639                                                                                                                                                               В WordPress есть же панель администратора?:)\n",
            "2640                                                                                                                                                   Мммм, если они так саму админку называют, то наверное да\n",
            "2641                                                                                     Но тут важный момент, что скорее всего нет отдельного доступа только на Элементор, хотя как они там настроили не знаю)\n",
            "2642                                                                                                                                                                  Спасибо. Завтра буду разбираться в этом )\n",
            "2643    Добрый вечер, дайте совет, какую выбрать стратегию, бизнес доставка суши … уже все заезженно … , куча конкурентов, всякие сервисы по еде, я просто не знаю с чего начать. Ковыряю сижу пока ключи и ...\n",
            "Name: text, Length: 79, dtype: object\n"
          ]
        }
      ]
    },
    {
      "cell_type": "markdown",
      "source": [
        "Вывод: Провел кластеризацию по всплескам активности. Порог по временногу интервалу между соседними сообщениями 30 минут. Получил 153 диалога. Выделил самые длинные (10шт). 206 собщений в самом большом, 79 в маленьком. Метрику оценил пока только визульно(почитал сообщения в диалоге)."
      ],
      "metadata": {
        "id": "L-9qhvI_rSGi"
      }
    },
    {
      "cell_type": "markdown",
      "source": [
        "# Кластеризация через ембеденги N-грамм."
      ],
      "metadata": {
        "id": "o6EnwBgnsGuQ"
      }
    },
    {
      "cell_type": "markdown",
      "source": [
        "Код пока не написал. Идея такая. Через rubert получаю ембеденги. Суммирую по N штук и получаю ембеденги N-грамм. N это гиперпараметр (2,3,4,5 шт). Ищу соседние N-граммы среди всех сообщение. Соседство N-грамм, а также количество соседних N-грамм, это тоже гиперпараметр. По порогам собираю диалоги. Связь между сообщениями прослеживается."
      ],
      "metadata": {
        "id": "V6baT2PRsV9d"
      }
    },
    {
      "cell_type": "code",
      "source": [],
      "metadata": {
        "id": "j0ix5wdbql0X"
      },
      "execution_count": 38,
      "outputs": []
    }
  ]
}