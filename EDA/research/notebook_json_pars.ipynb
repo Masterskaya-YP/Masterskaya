{
 "cells": [
  {
   "cell_type": "markdown",
   "metadata": {},
   "source": [
    "# Парсинг json файла"
   ]
  },
  {
   "cell_type": "markdown",
   "metadata": {},
   "source": [
    "## Библиотеки"
   ]
  },
  {
   "cell_type": "code",
   "execution_count": 1,
   "metadata": {},
   "outputs": [],
   "source": [
    "import json\n",
    "import pandas as pd\n",
    "import numpy as np\n",
    "import os\n",
    "\n",
    "os.chdir(r'C:\\Users\\Aleksandr\\Downloads\\Masterskaya')"
   ]
  },
  {
   "cell_type": "markdown",
   "metadata": {},
   "source": [
    "# Чтение файла"
   ]
  },
  {
   "cell_type": "code",
   "execution_count": 2,
   "metadata": {},
   "outputs": [],
   "source": [
    "def load_and_process_json(file_path):\n",
    "    # Чтение JSON файла\n",
    "    with open(file_path, 'r', encoding='utf-8') as file:\n",
    "        data = json.load(file)\n",
    "    \n",
    "    # Преобразование данных в DataFrame\n",
    "    df = pd.DataFrame(data)\n",
    "    \n",
    "    # Переименование колонки 'id' в 'id_first'\n",
    "    df.rename(columns={'id': 'id_first'}, inplace=True)\n",
    "    \n",
    "    # Нормализация вложенных данных (колонка 'messages')\n",
    "    messages_df = pd.json_normalize(df['messages'])\n",
    "    \n",
    "    # Объединение данных\n",
    "    result_df = pd.concat([df.drop(columns=['messages']), messages_df], axis=1)\n",
    "    \n",
    "    return result_df"
   ]
  },
  {
   "cell_type": "code",
   "execution_count": 3,
   "metadata": {},
   "outputs": [],
   "source": [
    "# Загрузка и обработка первого JSON файла\n",
    "df_1 = load_and_process_json('./data/дата/result.json')\n",
    "\n",
    "# Загрузка и обработка второго JSON файла\n",
    "df_2 = load_and_process_json('./data/менеджмент/result.json')\n",
    "\n",
    "df_3 = load_and_process_json('./data/маркетинг/result.json')"
   ]
  },
  {
   "cell_type": "code",
   "execution_count": 4,
   "metadata": {},
   "outputs": [
    {
     "name": "stdout",
     "output_type": "stream",
     "text": [
      "True\n",
      "True\n",
      "True\n"
     ]
    }
   ],
   "source": [
    "print(df_1.index.is_unique)\n",
    "print(df_2.index.is_unique)\n",
    "print(df_3.index.is_unique)"
   ]
  },
  {
   "cell_type": "code",
   "execution_count": 5,
   "metadata": {},
   "outputs": [
    {
     "name": "stdout",
     "output_type": "stream",
     "text": [
      "\n",
      "Данные сохранены в файл: ./EDA/research/datasets\\Data Practicum Chat.csv\n"
     ]
    }
   ],
   "source": [
    "output_dir = './EDA/research/datasets'\n",
    "output_file_name = 'Data Practicum Chat.csv'\n",
    "output_path = os.path.join(output_dir, output_file_name)\n",
    "\n",
    "# Сохранение в CSV файл\n",
    "df_1.to_csv(output_path, index=False, encoding='utf-8')\n",
    "print(f\"\\nДанные сохранены в файл: {output_path}\")"
   ]
  },
  {
   "cell_type": "code",
   "execution_count": 6,
   "metadata": {},
   "outputs": [
    {
     "name": "stdout",
     "output_type": "stream",
     "text": [
      "\n",
      "Данные сохранены в файл: ./EDA/research/datasets\\MANAGEMENT ALUMNI PRACTICUM.csv\n"
     ]
    }
   ],
   "source": [
    "output_file_name = 'MANAGEMENT ALUMNI PRACTICUM.csv'\n",
    "output_path = os.path.join(output_dir, output_file_name)\n",
    "\n",
    "# Сохранение в CSV файл\n",
    "df_2.to_csv(output_path, index=False, encoding='utf-8')\n",
    "print(f\"\\nДанные сохранены в файл: {output_path}\")"
   ]
  },
  {
   "cell_type": "code",
   "execution_count": 7,
   "metadata": {},
   "outputs": [
    {
     "name": "stdout",
     "output_type": "stream",
     "text": [
      "\n",
      "Данные сохранены в файл: ./EDA/research/datasets\\Marketing Practicum Chat.csv\n"
     ]
    }
   ],
   "source": [
    "output_file_name = 'Marketing Practicum Chat.csv'\n",
    "output_path = os.path.join(output_dir, output_file_name)\n",
    "\n",
    "# Сохранение в CSV файл\n",
    "df_3.to_csv(output_path, index=False, encoding='utf-8')\n",
    "print(f\"\\nДанные сохранены в файл: {output_path}\")"
   ]
  }
 ],
 "metadata": {
  "kernelspec": {
   "display_name": "base",
   "language": "python",
   "name": "python3"
  },
  "language_info": {
   "codemirror_mode": {
    "name": "ipython",
    "version": 3
   },
   "file_extension": ".py",
   "mimetype": "text/x-python",
   "name": "python",
   "nbconvert_exporter": "python",
   "pygments_lexer": "ipython3",
   "version": "3.12.3"
  }
 },
 "nbformat": 4,
 "nbformat_minor": 2
}
