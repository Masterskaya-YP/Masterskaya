{
 "cells": [
  {
   "cell_type": "markdown",
   "id": "1f0d1778-92b8-47c4-8884-8fd845214b69",
   "metadata": {},
   "source": [
    "#### 1. Импорты + insttall  Bertopic + загрузка  russian_stopwords\n"
   ]
  },
  {
   "cell_type": "markdown",
   "id": "9917bea3-95f7-43cc-9ee7-907c3c847f99",
   "metadata": {},
   "source": [
    "Корректная работа ноутбука предполагает установку папки модуля, являющейся пакетом, в каталог, содержащий этот ноутбук, а также наличие файла .env для хранения переменных окружения.\n",
    "YC_API_KEY = '......'  для yndexgpt\n",
    "FOLDER_ID  = '......'  id  фодера в yandexcloud\n",
    "\n",
    "Yandex Foundation Models\tText generation\t\n",
    "0,20 ₽ 1k*unit\t3 декабря 2024 г. (Стоимость генерации)"
   ]
  },
  {
   "cell_type": "code",
   "execution_count": 1,
   "id": "93d2190f-23ad-4008-b97a-fdaade0a94b7",
   "metadata": {},
   "outputs": [
    {
     "name": "stderr",
     "output_type": "stream",
     "text": [
      "C:\\Users\\dmitr\\anaconda3\\envs\\env_NLP\\Lib\\site-packages\\pydantic\\_internal\\_fields.py:132: UserWarning: Field \"model_uri\" in _BaseYandexGPT has conflict with protected namespace \"model_\".\n",
      "\n",
      "You may be able to resolve this warning by setting `model_config['protected_namespaces'] = ()`.\n",
      "  warnings.warn(\n",
      "C:\\Users\\dmitr\\anaconda3\\envs\\env_NLP\\Lib\\site-packages\\pydantic\\_internal\\_fields.py:132: UserWarning: Field \"model_name\" in _BaseYandexGPT has conflict with protected namespace \"model_\".\n",
      "\n",
      "You may be able to resolve this warning by setting `model_config['protected_namespaces'] = ()`.\n",
      "  warnings.warn(\n",
      "C:\\Users\\dmitr\\anaconda3\\envs\\env_NLP\\Lib\\site-packages\\pydantic\\_internal\\_fields.py:132: UserWarning: Field \"model_version\" in _BaseYandexGPT has conflict with protected namespace \"model_\".\n",
      "\n",
      "You may be able to resolve this warning by setting `model_config['protected_namespaces'] = ()`.\n",
      "  warnings.warn(\n"
     ]
    },
    {
     "name": "stdout",
     "output_type": "stream",
     "text": [
      "WARNING:tensorflow:From C:\\Users\\dmitr\\anaconda3\\envs\\env_NLP\\Lib\\site-packages\\tf_keras\\src\\losses.py:2976: The name tf.losses.sparse_softmax_cross_entropy is deprecated. Please use tf.compat.v1.losses.sparse_softmax_cross_entropy instead.\n",
      "\n"
     ]
    }
   ],
   "source": [
    "import warnings\n",
    "import nltk\n",
    "import torch\n",
    "import  numpy as np\n",
    "import re\n",
    "import pandas as pd\n",
    "import os\n",
    "import tiktoken\n",
    "\n",
    "from langchain_community.chat_models import ChatYandexGPT\n",
    "from langchain_core.prompts import ChatPromptTemplate\n",
    "\n",
    "from dotenv import load_dotenv,find_dotenv\n",
    "from typing import Optional\n",
    "\n",
    "from transformers import AutoTokenizer, pipeline\n",
    "from pathlib import Path\n",
    "from nltk.corpus import stopwords \n",
    "\n",
    "from  module import DictToDataFrameParser, InitBertopic\n",
    "\n",
    "warnings.filterwarnings('ignore', category=UserWarning, module='transformers')\n",
    "warnings.filterwarnings('ignore', category=FutureWarning, module='transformers')"
   ]
  },
  {
   "cell_type": "markdown",
   "id": "489bafd7-4b27-463a-972c-2f9aacde7364",
   "metadata": {},
   "source": [
    "DictDictToDataFrameParser:<br>\n",
    "def __init__(self, path: Path, columns: Optional[dict[str, str]] = None):<br>\n",
    "path - путь  *json\n",
    "\n",
    "атрибуты:\n",
    "- path (Path): Путь к JSON-файлу, из которого будет загружен словарь.\n",
    "- columns (dict): Словарь, где ключи соответствуют ключам из JSON-структуры, \n",
    "                    а значения — названиям столбцов в первичном DataFrame.\n",
    "- result_dict (dict): Десериализованный словарь, полученный из JSON-файла.\n",
    "- df (DataFrame): DataFrame, созданный на основе данных из result_dict и columns\n",
    "- name: Название чата\n",
    "\n",
    "InitBertopic:\n",
    "\n",
    " def __init__(self,\n",
    "             nr_topics: Optional[int] = None,\n",
    "             top_n_words: int = 10,   \n",
    "             model: Optional[str] = None, \n",
    "             umap_dict: Optional[dict] = None, \n",
    "             hdbscan_dict: Optional[dict] = None,\n",
    "             vectorizer_dict: Optional[dict] = None, \n",
    "             tf_idf_dict: Optional[dict] = None) -> None:\n",
    "\n",
    "Инициализирует Bertopic c заданными парамтрами,\n",
    "атрибут:\n",
    "- topic_mode - инициализированная модель Bertopic\n",
    "- bertopic_dict - словарь спарметрами инициализированной модели\n",
    "\n",
    "методы работы  berttopic:\n",
    "**name_model** = InitBertopic(...)\n",
    "\n",
    "- **name_model**.topic_model.fit_transform(text: list[str]) - кластеризация\n",
    "- **name_model**.topic_model.get_topic_info() - результат\n",
    "- **name_model**.topic_model.get_topic([int]) - ключевые слова топика\n",
    "- **name_model**.topic_model.get_topic_freq() -датафрейм с меткой кластера и частотой"
   ]
  },
  {
   "cell_type": "code",
   "execution_count": 2,
   "id": "24d850d2-ad58-4795-8ebd-a563189cdaf0",
   "metadata": {},
   "outputs": [],
   "source": [
    "\n",
    "# stop words для 'Vectorizers in BERTopic'\n",
    "try:\n",
    "    russian_stopwords = stopwords.words(\"russian\") \n",
    "except:\n",
    "    nltk.download(\"stopwords\")\n",
    "    russian_stopwords = stopwords.words(\"russian\")"
   ]
  },
  {
   "cell_type": "code",
   "execution_count": null,
   "id": "1352a1be-05fe-46b1-a094-cd51bdb3ebf7",
   "metadata": {},
   "outputs": [],
   "source": []
  },
  {
   "cell_type": "code",
   "execution_count": 3,
   "id": "89467e2d-0b1b-4ade-ae6e-fe1f0f0fae11",
   "metadata": {},
   "outputs": [
    {
     "data": {
      "text/plain": [
       "True"
      ]
     },
     "execution_count": 3,
     "metadata": {},
     "output_type": "execute_result"
    }
   ],
   "source": [
    "# Проверка наличия .env  в  каталоге  проекта и установка переменных окружения True - успех!\n",
    "load_dotenv(find_dotenv())"
   ]
  },
  {
   "cell_type": "code",
   "execution_count": 4,
   "id": "70096a0d-b88f-4d6d-a7c0-97dfc13446ae",
   "metadata": {},
   "outputs": [],
   "source": [
    "pattern  = r'[^\\w,.\\!? ]'\n",
    "def cleaned_string(string: str, pattern: str = pattern) -> str: \n",
    "    '''\n",
    "    По умолчанию  удаляются все символы, не являющиеся буквами, цифрами, пробелами и знаками \n",
    "                   препинания.\n",
    "    Замена гиперссылок на  подстроку \"гиперссылка\"\n",
    "    '''\n",
    "    # Вопрос к ревью - замена  гипрссылок на ключевое слово гипрессылка стоит ли???\n",
    "    string = re.sub(r'https?://\\S+', 'гиперсссылка', string)\n",
    "    return re.sub(pattern, '', string).strip()"
   ]
  },
  {
   "cell_type": "code",
   "execution_count": 4,
   "id": "98f63fe1-3dda-4c55-8941-857973e0d477",
   "metadata": {},
   "outputs": [],
   "source": [
    "#Для подготовки текста принята гипотеза (вопрос к ревью — как проверить?): текстовые признаки в наблюдениях являются зависимыми.\n",
    "#Признаки, составляющие цепочку ответов (например, родительское сообщение и ответы на него), принадлежат одному кластеру.\n",
    "#Для кластеризации выбираются независимые признаки, а также те, которые в результате среза не имеют ссылки на родительский признак,\n",
    "#включая ответные сообщения на родительские сообщения, которые были удалены.\n",
    "\n",
    "\n",
    "def text_preparation( df: pd.DataFrame, len_text: str = 3) -> tuple[list[int],list[str]]:\n",
    "    ''' Подготавливает текстовые данные для передачи в BERTopic:\n",
    "        применяет к каждому тексту функцию `cleaned_string`,\n",
    "        и возвращает два списка:\n",
    "        - список индексов для кластеризации,\n",
    "        - очищенные строки (тексты), которые можно передать в модель.\n",
    "        len_text -минимальная длина текста\n",
    "    '''\n",
    "    # Вопрос  ревью -каое значение len_text выбрать? (длина в символах не в словах!!!)\n",
    "    if not isinstance(df, pd.DataFrame):\n",
    "       raise TypeError(\"Expected DataFrame, got another type.\")\n",
    "    if  'text'not in df.columns:\n",
    "       raise KeyError(\"Column 'text' is missing in the DataFrame\")\n",
    "    # Если в JSON есть reply_to_message_id, столбец будет типа int. (явно был приведен в DictDictToDataFrameParser)   \n",
    "    if  'reply_to_message_id' in  df.columns and df_1.df.reply_to_message_id.dtype =='int64':  \n",
    "        # список  значений df.reply_to_message_id  для которых нет исходного сообщения\n",
    "        set_replay = set(df_1.df.reply_to_message_id)  - set(df_1.df.message_id) - {-1}\n",
    "        df_without_replay = df_1.df.query('reply_to_message_id == -1 or reply_to_message_id in @set_replay')\n",
    "        \n",
    "        text = list(df_without_replay[df_without_replay['text'].str.len() >= len_text]['text'].items())\n",
    "    else:\n",
    "        text = list(df_1.df[df_1.df['text'].str.len() >= len_text]['text'].items())\n",
    "           \n",
    "    \n",
    "    return  map(list,zip(*text)) \n",
    "    "
   ]
  },
  {
   "cell_type": "markdown",
   "id": "b174b216-dd20-468f-9050-187eb61537ea",
   "metadata": {},
   "source": [
    "### 2. Загрузка данных "
   ]
  },
  {
   "cell_type": "code",
   "execution_count": 5,
   "id": "54dac6d5-0087-4267-84b9-b6a2a832628d",
   "metadata": {},
   "outputs": [
    {
     "data": {
      "text/plain": [
       "[(WindowsPath('C:/Users/dmitr/project_loc/masterskay/Masterskaya/data/example/result.json'),\n",
       "  'id_path:0'),\n",
       " (WindowsPath('C:/Users/dmitr/project_loc/masterskay/Masterskaya/data/дата/result.json'),\n",
       "  'id_path:1'),\n",
       " (WindowsPath('C:/Users/dmitr/project_loc/masterskay/Masterskaya/data/маркетинг/result.json'),\n",
       "  'id_path:2'),\n",
       " (WindowsPath('C:/Users/dmitr/project_loc/masterskay/Masterskaya/data/менеджмент/result.json'),\n",
       "  'id_path:3')]"
      ]
     },
     "execution_count": 5,
     "metadata": {},
     "output_type": "execute_result"
    }
   ],
   "source": [
    "folder_ignore = '.ipynb_checkpoints'\n",
    "path_list =[  i for i  in Path.cwd().rglob('*.json') if folder_ignore not in list(i.parent.parts) ]\n",
    "\n",
    "# Список путей к файлам с json (парсим  рабочий каталог+ все  внего вложенные, кроме  '.ipynb_checkpoints')\n",
    "[ (path_list, f'id_path:{i}')   for i, path_list      in enumerate(path_list)]"
   ]
  },
  {
   "cell_type": "markdown",
   "id": "37ea1245-9e3a-40a2-8234-7e512d9c8326",
   "metadata": {},
   "source": [
    "**Число  в кортеже ( Path, int)  потребуется для выбора нужного файла .json**"
   ]
  },
  {
   "cell_type": "code",
   "execution_count": 6,
   "id": "6d848ef6-097a-4bcc-b422-e59255f88722",
   "metadata": {},
   "outputs": [
    {
     "name": "stdin",
     "output_type": "stream",
     "text": [
      "Введи id_path (число от 0 до 3) и  Enter нажми 2\n"
     ]
    }
   ],
   "source": [
    "INDEX =len(path_list)\n",
    "while INDEX >= len(path_list) or INDEX <0:\n",
    "    INDEX = int(input(f'Введи id_path (число от 0 до {len(path_list)-1}) и  Enter нажми'))\n",
    "    if INDEX >= len(path_list):\n",
    "        print( 'Введенное значение превышает допустимый диапазон')"
   ]
  },
  {
   "cell_type": "code",
   "execution_count": 7,
   "id": "615ec038-b222-4a8e-8230-4e65bf58bc81",
   "metadata": {},
   "outputs": [
    {
     "data": {
      "text/plain": [
       "'💬 Marketing Practicum Chat'"
      ]
     },
     "execution_count": 7,
     "metadata": {},
     "output_type": "execute_result"
    }
   ],
   "source": [
    "df_1 = DictToDataFrameParser(path_list[INDEX])\n",
    "df_1.name"
   ]
  },
  {
   "cell_type": "code",
   "execution_count": 259,
   "id": "11c549bb-77b8-4984-87dd-9b613d54b2e9",
   "metadata": {},
   "outputs": [
    {
     "data": {
      "text/html": [
       "<div>\n",
       "<style scoped>\n",
       "    .dataframe tbody tr th:only-of-type {\n",
       "        vertical-align: middle;\n",
       "    }\n",
       "\n",
       "    .dataframe tbody tr th {\n",
       "        vertical-align: top;\n",
       "    }\n",
       "\n",
       "    .dataframe thead th {\n",
       "        text-align: right;\n",
       "    }\n",
       "</style>\n",
       "<table border=\"1\" class=\"dataframe\">\n",
       "  <thead>\n",
       "    <tr style=\"text-align: right;\">\n",
       "      <th></th>\n",
       "      <th>date</th>\n",
       "      <th>chat_name</th>\n",
       "      <th>chat_id</th>\n",
       "      <th>sender_id</th>\n",
       "      <th>sender_type</th>\n",
       "      <th>message_id</th>\n",
       "      <th>type</th>\n",
       "      <th>reply_to_message_id</th>\n",
       "      <th>user_name</th>\n",
       "      <th>first_name</th>\n",
       "      <th>last_name</th>\n",
       "      <th>text</th>\n",
       "    </tr>\n",
       "  </thead>\n",
       "  <tbody>\n",
       "    <tr>\n",
       "      <th>0</th>\n",
       "      <td>2025-02-01 07:35:54</td>\n",
       "      <td>💬 Marketing Practicum Chat</td>\n",
       "      <td>1782474569</td>\n",
       "      <td>1272493086</td>\n",
       "      <td>user</td>\n",
       "      <td>42471</td>\n",
       "      <td>message</td>\n",
       "      <td>-1</td>\n",
       "      <td>Pasha Sannikov</td>\n",
       "      <td>Pasha</td>\n",
       "      <td>Sannikov</td>\n",
       "      <td>Доброе утро, люди! Это ОК, в РСЯ алгоритмы выб...</td>\n",
       "    </tr>\n",
       "    <tr>\n",
       "      <th>1</th>\n",
       "      <td>2025-02-01 07:40:03</td>\n",
       "      <td>💬 Marketing Practicum Chat</td>\n",
       "      <td>1782474569</td>\n",
       "      <td>1272493086</td>\n",
       "      <td>user</td>\n",
       "      <td>42472</td>\n",
       "      <td>message</td>\n",
       "      <td>-1</td>\n",
       "      <td>Pasha Sannikov</td>\n",
       "      <td>Pasha</td>\n",
       "      <td>Sannikov</td>\n",
       "      <td>А вот регионы, в которых живут ITшники с интер...</td>\n",
       "    </tr>\n",
       "    <tr>\n",
       "      <th>2</th>\n",
       "      <td>2025-02-01 07:48:53</td>\n",
       "      <td>💬 Marketing Practicum Chat</td>\n",
       "      <td>1782474569</td>\n",
       "      <td>1272493086</td>\n",
       "      <td>user</td>\n",
       "      <td>42473</td>\n",
       "      <td>message</td>\n",
       "      <td>-1</td>\n",
       "      <td>Pasha Sannikov</td>\n",
       "      <td>Pasha</td>\n",
       "      <td>Sannikov</td>\n",
       "      <td>Если смотреть по интересам, то кажется, что ау...</td>\n",
       "    </tr>\n",
       "    <tr>\n",
       "      <th>3</th>\n",
       "      <td>2025-02-01 07:50:31</td>\n",
       "      <td>💬 Marketing Practicum Chat</td>\n",
       "      <td>1782474569</td>\n",
       "      <td>1272493086</td>\n",
       "      <td>user</td>\n",
       "      <td>42474</td>\n",
       "      <td>message</td>\n",
       "      <td>-1</td>\n",
       "      <td>Pasha Sannikov</td>\n",
       "      <td>Pasha</td>\n",
       "      <td>Sannikov</td>\n",
       "      <td>А путь пользователя почему-то выглядит так. Ко...</td>\n",
       "    </tr>\n",
       "    <tr>\n",
       "      <th>4</th>\n",
       "      <td>2025-02-01 08:12:42</td>\n",
       "      <td>💬 Marketing Practicum Chat</td>\n",
       "      <td>1782474569</td>\n",
       "      <td>1164775873</td>\n",
       "      <td>user</td>\n",
       "      <td>42475</td>\n",
       "      <td>message</td>\n",
       "      <td>-1</td>\n",
       "      <td>Данилов | Маркетолог</td>\n",
       "      <td>Данилов</td>\n",
       "      <td>|</td>\n",
       "      <td>Опять он</td>\n",
       "    </tr>\n",
       "  </tbody>\n",
       "</table>\n",
       "</div>"
      ],
      "text/plain": [
       "                 date                   chat_name     chat_id   sender_id  \\\n",
       "0 2025-02-01 07:35:54  💬 Marketing Practicum Chat  1782474569  1272493086   \n",
       "1 2025-02-01 07:40:03  💬 Marketing Practicum Chat  1782474569  1272493086   \n",
       "2 2025-02-01 07:48:53  💬 Marketing Practicum Chat  1782474569  1272493086   \n",
       "3 2025-02-01 07:50:31  💬 Marketing Practicum Chat  1782474569  1272493086   \n",
       "4 2025-02-01 08:12:42  💬 Marketing Practicum Chat  1782474569  1164775873   \n",
       "\n",
       "  sender_type  message_id     type  reply_to_message_id             user_name  \\\n",
       "0        user       42471  message                   -1        Pasha Sannikov   \n",
       "1        user       42472  message                   -1        Pasha Sannikov   \n",
       "2        user       42473  message                   -1        Pasha Sannikov   \n",
       "3        user       42474  message                   -1        Pasha Sannikov   \n",
       "4        user       42475  message                   -1  Данилов | Маркетолог   \n",
       "\n",
       "  first_name last_name                                               text  \n",
       "0      Pasha  Sannikov  Доброе утро, люди! Это ОК, в РСЯ алгоритмы выб...  \n",
       "1      Pasha  Sannikov  А вот регионы, в которых живут ITшники с интер...  \n",
       "2      Pasha  Sannikov  Если смотреть по интересам, то кажется, что ау...  \n",
       "3      Pasha  Sannikov  А путь пользователя почему-то выглядит так. Ко...  \n",
       "4    Данилов         |                                           Опять он  "
      ]
     },
     "execution_count": 259,
     "metadata": {},
     "output_type": "execute_result"
    }
   ],
   "source": [
    "df_1.df.head(5)"
   ]
  },
  {
   "cell_type": "code",
   "execution_count": 260,
   "id": "df203e8c-8160-40f5-a992-810e5b7bb3ce",
   "metadata": {},
   "outputs": [
    {
     "data": {
      "text/plain": [
       "(3680, 12)"
      ]
     },
     "execution_count": 260,
     "metadata": {},
     "output_type": "execute_result"
    }
   ],
   "source": [
    "df_1.df.shape"
   ]
  },
  {
   "cell_type": "code",
   "execution_count": 14,
   "id": "c650d75a-9e58-4371-9f2a-9639867e82fd",
   "metadata": {},
   "outputs": [],
   "source": [
    "LEN_TEXT = 3 \n",
    "index_df, text = text_preparation(df_1.df, len_text= LEN_TEXT)\n",
    "assert len(text) == len(index_df), (f'Lengths do not match: {len(text)} != {len(index_df)}')"
   ]
  },
  {
   "cell_type": "markdown",
   "id": "a947d96a-b793-4f5d-9bc8-760cbb79c834",
   "metadata": {},
   "source": [
    "index_df - список индексов для разметки  df (некоторые тексты не вошли  в итоговый корпус)"
   ]
  },
  {
   "cell_type": "markdown",
   "id": "a15a88a7-2718-487d-8060-844ab8790d17",
   "metadata": {},
   "source": [
    "### 3. Bertopic, инициализация,  пробный topic modeling."
   ]
  },
  {
   "cell_type": "markdown",
   "id": "32720bdd-b62a-4dd3-9264-c3eba6cfa29d",
   "metadata": {},
   "source": [
    "submodels of Bertopic:\n",
    "1. Embedding Models\n",
    "2. Dimensionality Reduction(UMAP)\n",
    "3. Clustering (HDBSCAN)\n",
    "4. Vectorizers(CountVectorizer)\n",
    "5. c-TF-IDF (TF-IDF was adjusted to work on a cluster/categorical/topic level instead of a document level)  \n",
    "6. Fine-tune Topics"
   ]
  },
  {
   "cell_type": "code",
   "execution_count": 16,
   "id": "bc9a3c0e-0938-4033-b2ee-2beedcf4d548",
   "metadata": {},
   "outputs": [],
   "source": [
    "# модель для Embedding Models\n",
    "# model = 'sentence-transformers/paraphrase-multilingual-MiniLM-L12-v2'\n",
    "model = \"DeepPavlov/rubert-base-cased-conversational\"\n",
    "#параметры модели понижения размерности\n",
    "umap_dict = dict(n_neighbors=3, n_components=5, min_dist=0.0, metric='cosine')\n",
    "#параметры модели кластеризации\n",
    "hdbscan_dict = dict(min_cluster_size=10, metric='euclidean', cluster_selection_method='eom', prediction_data=True)\n",
    "#параметры для Vectorizers\n",
    "vectorizer_dict = dict(stop_words=russian_stopwords, ngram_range=(1, 3), min_df=1)\n",
    "#параметры для TF_IDF\n",
    "tf_idf_dict = dict(seed_words=[\"ссылка\", \"яндекс\", \"практикум\", \"стажировка\", \"курсы\",'вакансия'],\n",
    "                   seed_multiplier=2\n",
    "                  )\n",
    "                  \n",
    "# nr_topics - количество  тем(ориентировочно)\n",
    "# top_n_words - количество наиболее значимых слов для каждой темы.\n",
    "\n"
   ]
  },
  {
   "cell_type": "code",
   "execution_count": 17,
   "id": "5ee3a00d-9e31-4c70-8c42-d24b2512d622",
   "metadata": {},
   "outputs": [
    {
     "name": "stderr",
     "output_type": "stream",
     "text": [
      "Some weights of the model checkpoint at DeepPavlov/rubert-base-cased-conversational were not used when initializing BertModel: ['cls.predictions.bias', 'cls.predictions.decoder.bias', 'cls.predictions.decoder.weight', 'cls.predictions.transform.LayerNorm.bias', 'cls.predictions.transform.LayerNorm.weight', 'cls.predictions.transform.dense.bias', 'cls.predictions.transform.dense.weight', 'cls.seq_relationship.bias', 'cls.seq_relationship.weight']\n",
      "- This IS expected if you are initializing BertModel from the checkpoint of a model trained on another task or with another architecture (e.g. initializing a BertForSequenceClassification model from a BertForPreTraining model).\n",
      "- This IS NOT expected if you are initializing BertModel from the checkpoint of a model that you expect to be exactly identical (initializing a BertForSequenceClassification model from a BertForSequenceClassification model).\n"
     ]
    }
   ],
   "source": [
    "NR_TOPIC = 10\n",
    "TOP_N_WORDS =15\n",
    "bertopic_model = InitBertopic(nr_topics=NR_TOPIC,\n",
    "               top_n_words=TOP_N_WORDS,\n",
    "               model=model,\n",
    "               umap_dict=umap_dict, \n",
    "               hdbscan_dict=hdbscan_dict, \n",
    "               vectorizer_dict=vectorizer_dict, \n",
    "               tf_idf_dict=tf_idf_dict)"
   ]
  },
  {
   "cell_type": "code",
   "execution_count": 18,
   "id": "f4bdd049-72cd-42cd-b55c-e5dc945b7d9a",
   "metadata": {},
   "outputs": [
    {
     "data": {
      "text/plain": [
       "{'embedding_model': <module.bertopic_setup.CustomEmbedder at 0x1f64c400d10>,\n",
       " 'nr_topics': 10,\n",
       " 'top_n_words': 15,\n",
       " 'umap_model': UMAP(metric='cosine', min_dist=0.0, n_components=5, n_neighbors=3),\n",
       " 'hdbscan_model': HDBSCAN(min_cluster_size=10, prediction_data=True),\n",
       " 'vectorizer_model': CountVectorizer(ngram_range=(1, 3),\n",
       "                 stop_words=['и', 'в', 'во', 'не', 'что', 'он', 'на', 'я', 'с',\n",
       "                             'со', 'как', 'а', 'то', 'все', 'она', 'так', 'его',\n",
       "                             'но', 'да', 'ты', 'к', 'у', 'же', 'вы', 'за', 'бы',\n",
       "                             'по', 'только', 'ее', 'мне', ...]),\n",
       " 'ctfidf_model': ClassTfidfTransformer(seed_words=['ссылка', 'яндекс', 'практикум', 'стажировка',\n",
       "                                   'курсы', 'вакансия'])}"
      ]
     },
     "execution_count": 18,
     "metadata": {},
     "output_type": "execute_result"
    }
   ],
   "source": [
    "bertopic_model.bertopic_dict"
   ]
  },
  {
   "cell_type": "code",
   "execution_count": 19,
   "id": "01659824-2923-486c-aba9-62efba35c59a",
   "metadata": {},
   "outputs": [
    {
     "name": "stdout",
     "output_type": "stream",
     "text": [
      "CPU times: total: 5min 22s\n",
      "Wall time: 3min 2s\n"
     ]
    }
   ],
   "source": [
    "%%time\n",
    "topics, probs = bertopic_model.topic_model.fit_transform(text)"
   ]
  },
  {
   "cell_type": "code",
   "execution_count": 280,
   "id": "3df99b5e-b930-4ba3-a358-039e49dce085",
   "metadata": {},
   "outputs": [
    {
     "data": {
      "text/html": [
       "<div>\n",
       "<style scoped>\n",
       "    .dataframe tbody tr th:only-of-type {\n",
       "        vertical-align: middle;\n",
       "    }\n",
       "\n",
       "    .dataframe tbody tr th {\n",
       "        vertical-align: top;\n",
       "    }\n",
       "\n",
       "    .dataframe thead th {\n",
       "        text-align: right;\n",
       "    }\n",
       "</style>\n",
       "<table border=\"1\" class=\"dataframe\">\n",
       "  <thead>\n",
       "    <tr style=\"text-align: right;\">\n",
       "      <th></th>\n",
       "      <th>Topic</th>\n",
       "      <th>Count</th>\n",
       "    </tr>\n",
       "  </thead>\n",
       "  <tbody>\n",
       "    <tr>\n",
       "      <th>0</th>\n",
       "      <td>0</td>\n",
       "      <td>443</td>\n",
       "    </tr>\n",
       "    <tr>\n",
       "      <th>1</th>\n",
       "      <td>-1</td>\n",
       "      <td>325</td>\n",
       "    </tr>\n",
       "    <tr>\n",
       "      <th>2</th>\n",
       "      <td>1</td>\n",
       "      <td>276</td>\n",
       "    </tr>\n",
       "    <tr>\n",
       "      <th>4</th>\n",
       "      <td>2</td>\n",
       "      <td>109</td>\n",
       "    </tr>\n",
       "    <tr>\n",
       "      <th>3</th>\n",
       "      <td>3</td>\n",
       "      <td>48</td>\n",
       "    </tr>\n",
       "    <tr>\n",
       "      <th>5</th>\n",
       "      <td>4</td>\n",
       "      <td>33</td>\n",
       "    </tr>\n",
       "    <tr>\n",
       "      <th>6</th>\n",
       "      <td>5</td>\n",
       "      <td>23</td>\n",
       "    </tr>\n",
       "    <tr>\n",
       "      <th>8</th>\n",
       "      <td>6</td>\n",
       "      <td>13</td>\n",
       "    </tr>\n",
       "    <tr>\n",
       "      <th>7</th>\n",
       "      <td>7</td>\n",
       "      <td>11</td>\n",
       "    </tr>\n",
       "    <tr>\n",
       "      <th>9</th>\n",
       "      <td>8</td>\n",
       "      <td>11</td>\n",
       "    </tr>\n",
       "  </tbody>\n",
       "</table>\n",
       "</div>"
      ],
      "text/plain": [
       "   Topic  Count\n",
       "0      0    443\n",
       "1     -1    325\n",
       "2      1    276\n",
       "4      2    109\n",
       "3      3     48\n",
       "5      4     33\n",
       "6      5     23\n",
       "8      6     13\n",
       "7      7     11\n",
       "9      8     11"
      ]
     },
     "execution_count": 280,
     "metadata": {},
     "output_type": "execute_result"
    }
   ],
   "source": [
    "bertopic_model.topic_model.get_topic_freq()"
   ]
  },
  {
   "cell_type": "code",
   "execution_count": null,
   "id": "bde68dbb-82df-4621-b934-61ed7ed88355",
   "metadata": {},
   "outputs": [],
   "source": []
  },
  {
   "cell_type": "code",
   "execution_count": 20,
   "id": "72652809-4838-4bcc-a4ff-c4386319bf6c",
   "metadata": {},
   "outputs": [
    {
     "data": {
      "text/html": [
       "<div>\n",
       "<style scoped>\n",
       "    .dataframe tbody tr th:only-of-type {\n",
       "        vertical-align: middle;\n",
       "    }\n",
       "\n",
       "    .dataframe tbody tr th {\n",
       "        vertical-align: top;\n",
       "    }\n",
       "\n",
       "    .dataframe thead th {\n",
       "        text-align: right;\n",
       "    }\n",
       "</style>\n",
       "<table border=\"1\" class=\"dataframe\">\n",
       "  <thead>\n",
       "    <tr style=\"text-align: right;\">\n",
       "      <th></th>\n",
       "      <th>date</th>\n",
       "      <th>chat_name</th>\n",
       "      <th>chat_id</th>\n",
       "      <th>sender_id</th>\n",
       "      <th>sender_type</th>\n",
       "      <th>message_id</th>\n",
       "      <th>type</th>\n",
       "      <th>reply_to_message_id</th>\n",
       "      <th>user_name</th>\n",
       "      <th>first_name</th>\n",
       "      <th>last_name</th>\n",
       "      <th>text</th>\n",
       "      <th>topic</th>\n",
       "      <th>probs</th>\n",
       "    </tr>\n",
       "  </thead>\n",
       "  <tbody>\n",
       "    <tr>\n",
       "      <th>2493</th>\n",
       "      <td>2025-02-17 16:52:46</td>\n",
       "      <td>💬 Marketing Practicum Chat</td>\n",
       "      <td>1782474569</td>\n",
       "      <td>87502689</td>\n",
       "      <td>user</td>\n",
       "      <td>45100</td>\n",
       "      <td>message</td>\n",
       "      <td>-1</td>\n",
       "      <td>Андрей Дамаскин</td>\n",
       "      <td>Андрей</td>\n",
       "      <td>Дамаскин</td>\n",
       "      <td>В общем на сайте 3 счетчика Метрики!</td>\n",
       "      <td>0.0</td>\n",
       "      <td>1.0</td>\n",
       "    </tr>\n",
       "    <tr>\n",
       "      <th>2577</th>\n",
       "      <td>2025-02-18 17:08:59</td>\n",
       "      <td>💬 Marketing Practicum Chat</td>\n",
       "      <td>1782474569</td>\n",
       "      <td>5392944830</td>\n",
       "      <td>user</td>\n",
       "      <td>45192</td>\n",
       "      <td>message</td>\n",
       "      <td>45191</td>\n",
       "      <td>Олег</td>\n",
       "      <td>Олег</td>\n",
       "      <td></td>\n",
       "      <td>Но я не такой дурак, нашёл блокнот 😁</td>\n",
       "      <td>NaN</td>\n",
       "      <td>0.0</td>\n",
       "    </tr>\n",
       "    <tr>\n",
       "      <th>2468</th>\n",
       "      <td>2025-02-17 16:36:46</td>\n",
       "      <td>💬 Marketing Practicum Chat</td>\n",
       "      <td>1782474569</td>\n",
       "      <td>5392944830</td>\n",
       "      <td>user</td>\n",
       "      <td>45075</td>\n",
       "      <td>message</td>\n",
       "      <td>45072</td>\n",
       "      <td>Олег</td>\n",
       "      <td>Олег</td>\n",
       "      <td></td>\n",
       "      <td>Они так и думают 😁 зачастую</td>\n",
       "      <td>NaN</td>\n",
       "      <td>0.0</td>\n",
       "    </tr>\n",
       "    <tr>\n",
       "      <th>2052</th>\n",
       "      <td>2025-02-13 11:33:45</td>\n",
       "      <td>💬 Marketing Practicum Chat</td>\n",
       "      <td>1782474569</td>\n",
       "      <td>87502689</td>\n",
       "      <td>user</td>\n",
       "      <td>44627</td>\n",
       "      <td>message</td>\n",
       "      <td>-1</td>\n",
       "      <td>Андрей Дамаскин</td>\n",
       "      <td>Андрей</td>\n",
       "      <td>Дамаскин</td>\n",
       "      <td>Потому что без качественных изменений на сайте...</td>\n",
       "      <td>1.0</td>\n",
       "      <td>1.0</td>\n",
       "    </tr>\n",
       "    <tr>\n",
       "      <th>727</th>\n",
       "      <td>2025-02-05 14:29:04</td>\n",
       "      <td>💬 Marketing Practicum Chat</td>\n",
       "      <td>1782474569</td>\n",
       "      <td>5392944830</td>\n",
       "      <td>user</td>\n",
       "      <td>43236</td>\n",
       "      <td>message</td>\n",
       "      <td>43235</td>\n",
       "      <td>Олег</td>\n",
       "      <td>Олег</td>\n",
       "      <td></td>\n",
       "      <td>ЦРМ передаст офлайн конверсию в метрику</td>\n",
       "      <td>NaN</td>\n",
       "      <td>0.0</td>\n",
       "    </tr>\n",
       "  </tbody>\n",
       "</table>\n",
       "</div>"
      ],
      "text/plain": [
       "                    date                   chat_name     chat_id   sender_id  \\\n",
       "2493 2025-02-17 16:52:46  💬 Marketing Practicum Chat  1782474569    87502689   \n",
       "2577 2025-02-18 17:08:59  💬 Marketing Practicum Chat  1782474569  5392944830   \n",
       "2468 2025-02-17 16:36:46  💬 Marketing Practicum Chat  1782474569  5392944830   \n",
       "2052 2025-02-13 11:33:45  💬 Marketing Practicum Chat  1782474569    87502689   \n",
       "727  2025-02-05 14:29:04  💬 Marketing Practicum Chat  1782474569  5392944830   \n",
       "\n",
       "     sender_type  message_id     type  reply_to_message_id        user_name  \\\n",
       "2493        user       45100  message                   -1  Андрей Дамаскин   \n",
       "2577        user       45192  message                45191             Олег   \n",
       "2468        user       45075  message                45072             Олег   \n",
       "2052        user       44627  message                   -1  Андрей Дамаскин   \n",
       "727         user       43236  message                43235             Олег   \n",
       "\n",
       "     first_name last_name                                               text  \\\n",
       "2493     Андрей  Дамаскин               В общем на сайте 3 счетчика Метрики!   \n",
       "2577       Олег                         Но я не такой дурак, нашёл блокнот 😁   \n",
       "2468       Олег                                  Они так и думают 😁 зачастую   \n",
       "2052     Андрей  Дамаскин  Потому что без качественных изменений на сайте...   \n",
       "727        Олег                      ЦРМ передаст офлайн конверсию в метрику   \n",
       "\n",
       "      topic  probs  \n",
       "2493    0.0    1.0  \n",
       "2577    NaN    0.0  \n",
       "2468    NaN    0.0  \n",
       "2052    1.0    1.0  \n",
       "727     NaN    0.0  "
      ]
     },
     "execution_count": 20,
     "metadata": {},
     "output_type": "execute_result"
    }
   ],
   "source": [
    "# добавляем  в дтатфрейм( изменяем атрибут .df)\n",
    "#столбцы topic - номер  кластера, probs - вероятность принадлежности к кластеру (важность?)\n",
    "# Для зависмых текстов probs = 0 ( заглушка для дальнейшего отбора токенов d LLM, если  вокно не укладываемся)\n",
    "\n",
    "if 'topic' in df_1.df.columns:\n",
    "    df_1.df = df_1.df.drop(columns=['topic', 'probs'], errors='ignore')\n",
    "df_1.df = df_1.df.join(pd.DataFrame({'topic': topics,'probs':np.round(probs,3)}, index=index_df))\n",
    "df_1.df['probs'] = df_1.df['probs'].fillna(0)\n",
    "df_1.df.sample(5)   \n",
    "    "
   ]
  },
  {
   "cell_type": "markdown",
   "id": "41db3b8b-3a3c-4714-ba9b-828488389890",
   "metadata": {},
   "source": [
    "Алгоритм разметки зависимых сообщений с использованием полученных кластеров сталкивается с трудностью: некоторые сообщения ссылаются не на родительское сообщение, а на сообщение в цепочке ответов, которое, в свою очередь, также ещё не размечено\n",
    "\n",
    "Наблюдается  что то вроде рекурсии  сначала размечаются ссобщения '1 уровня'  затем цикл повторяется и размечаютя сообщения  'второго уровня'  и так далее  критерий   ['topic'].sna()sum()перестает меняться.\n",
    "Создаем словарь, где ключами являются номера топиков, а значениями — списки ID-сообщений, входящих в соответствующие кластеры. Если для какого-либо сообщения существует поле reply_message, и его ID присутствует в списке значений по соответствующему ключу, то этому сообщению присваивается значение этого ключа.\n",
    "Проверяется условие: если количество  пропусков не изменилось значит процесс разметки окончен.\n",
    "\n",
    "(Код тяжелый,  хотел бы более легкого ршения)"
   ]
  },
  {
   "cell_type": "code",
   "execution_count": 21,
   "id": "84fe7f63-c97a-4cd8-aa4d-ee6b731ad965",
   "metadata": {},
   "outputs": [
    {
     "data": {
      "text/plain": [
       "2388"
      ]
     },
     "execution_count": 21,
     "metadata": {},
     "output_type": "execute_result"
    }
   ],
   "source": [
    "df_1.df.topic.isna().sum()"
   ]
  },
  {
   "cell_type": "code",
   "execution_count": 22,
   "id": "080d5d00-1389-4006-915c-a0eaf009684d",
   "metadata": {},
   "outputs": [],
   "source": [
    "\n",
    "while True:\n",
    "    term = df_1.df['topic'].isna().sum()\n",
    "    dict_1 = { i: df_1.df[df_1.df['topic'] == i]['message_id'].to_list() for i in  df_1.df.topic.dropna().unique()}\n",
    "    for i in dict_1:\n",
    "        df_1.df.loc[df_1.df['reply_to_message_id'].isin(dict_1[i]),'topic'] = i\n",
    "    \n",
    "    # Если количество NaN значений не изменилось, выходим из цикла\n",
    "    if  term == df_1.df['topic'].isna().sum():\n",
    "        break\n",
    "    "
   ]
  },
  {
   "cell_type": "code",
   "execution_count": 23,
   "id": "ccd855b2-9e0e-4db1-a630-8d4db6619d14",
   "metadata": {},
   "outputs": [
    {
     "data": {
      "text/plain": [
       "163"
      ]
     },
     "execution_count": 23,
     "metadata": {},
     "output_type": "execute_result"
    }
   ],
   "source": [
    "# короткие  строки\n",
    "df_1.df.topic.isna().sum()"
   ]
  },
  {
   "cell_type": "markdown",
   "id": "be39dfcf-4e14-462a-8a69-607a098d7d02",
   "metadata": {},
   "source": [
    "### 4. LLM выделение темы из корпуса текстов"
   ]
  },
  {
   "cell_type": "code",
   "execution_count": null,
   "id": "af87d895-df92-47af-a48f-44c187174ce8",
   "metadata": {},
   "outputs": [],
   "source": []
  },
  {
   "cell_type": "code",
   "execution_count": 26,
   "id": "15b6acc8-6613-4721-ad6d-89586d5266bb",
   "metadata": {},
   "outputs": [],
   "source": [
    "system_message = '''Выдели основную тему из приведённого текста.\n",
    "Начни с краткого и ёмкого названия темы (от 5 до 10 слов), точно отражающего суть текста.\n",
    "Затем выдели ключевые слова и фразы (5–10).\n",
    "В конце сформулируй главную мысль.\n",
    "Не добавляй лишнего текста.'''\n",
    "\n",
    "user_message = \"{text} \\nФормат ответа: {{'Основная тема': '...', 'ключевые слова': [...], 'Главная мысль': '...'}}\""
   ]
  },
  {
   "cell_type": "markdown",
   "id": "3d7cfe4d-d70c-43cb-9482-51acc42a5fee",
   "metadata": {},
   "source": [
    "Выделение темы реализовано  с использованием  класса TopicLLMLL:\n",
    "\n",
    "Выбрана модель ChatYandexGPT ( поддерживаются сообщения формата LangChain )\n",
    "def __init__(self, task: str, format_user_messages: str):\n",
    "task - ситемное  сообщение, format_user_messages - сообщение пользователя.\n",
    "Реализован  магический метод __call__  парметр датафрейм  с обязательными полями 'topic',  'text'\n",
    "В дальнейшем планируется вынести в TopicLLMll  в отдельный модуль"
   ]
  },
  {
   "cell_type": "code",
   "execution_count": 33,
   "id": "5eab259a-7c93-436e-8e8d-a40148946d6f",
   "metadata": {},
   "outputs": [],
   "source": [
    "class TopicLLMll():\n",
    "    def __init__(self, task: str, format_user_messages: str, max_tokens: int = 8000):\n",
    "        self.max_tokens = max_tokens\n",
    "        self.task = task\n",
    "        self.format = format_user_messages\n",
    "    system_message ='{task}'\n",
    "    user_message = '{text}\\n {format_user_messages}'\n",
    "    user_message = user_message = \"{text} \"\n",
    "    \n",
    "    prompt_template = ChatPromptTemplate.from_messages([\n",
    "        ('system', system_message),('user',user_message)])\n",
    "   \n",
    "    \n",
    "    enc = tiktoken.get_encoding(\"cl100k_base\")\n",
    "    \n",
    "    if os.getenv('FOLDER_ID') and os.getenv('YC_API_KEY'):\n",
    "        chat_model = ChatYandexGPT(folder_id = os.getenv('FOLDER_ID'))\n",
    "    else: \n",
    "        raise  ValueError(\"Both environment variables must be set: FOLDER_ID and YC_API_KEY\")\n",
    "\n",
    "    def __call__(self, df_top: pd.DataFrame):\n",
    "        df_top =df_top.dropna()\n",
    "        df_top = df_top.sort_values(by='probs', ascending=False)\n",
    "        topic=[]\n",
    "        for i in df_top['topic'].unique():\n",
    "            \n",
    "            text = ' '.join(df_top[df_top['topic']== i ]['text'].to_list())\n",
    "            text = self.count_cut_text(text, self.max_tokens)\n",
    "            \n",
    "            prompt = self.prompt_template.invoke({'task': self.task, 'text':text})\n",
    "            topic.append((self.chat_model.invoke(prompt).content, i))\n",
    "        return topic\n",
    "                         \n",
    "    \n",
    "    def count_cut_text(self, text, max_tokens ):\n",
    "        tokens = self.enc.encode(text)[:max_tokens]\n",
    "        return self.enc.decode(tokens)\n",
    "    "
   ]
  },
  {
   "cell_type": "code",
   "execution_count": 34,
   "id": "caa55e6b-0ee3-4d10-945e-35bf32213772",
   "metadata": {},
   "outputs": [],
   "source": [
    "llm_model =TopicLLMll(system_message, user_message)"
   ]
  },
  {
   "cell_type": "code",
   "execution_count": 35,
   "id": "9721358d-84ee-4655-a720-627190fce6a8",
   "metadata": {},
   "outputs": [],
   "source": [
    "topic_list = llm_model(df_1.df)"
   ]
  },
  {
   "cell_type": "code",
   "execution_count": 39,
   "id": "12539d80-7238-4257-ab70-bbc6fe6f122c",
   "metadata": {},
   "outputs": [],
   "source": [
    "df_topic_list = pd.DataFrame(topic_list, columns=['name_topic', 'num_topic']) \\\n",
    "    .set_index('num_topic') \\\n",
    "    .join(df_1.df['topic'].value_counts().rename('Topic_Frequency')) \\\n",
    "    .reset_index()"
   ]
  },
  {
   "cell_type": "code",
   "execution_count": 43,
   "id": "391058c7-43f4-4d30-a818-e87a76da11a7",
   "metadata": {},
   "outputs": [
    {
     "data": {
      "text/html": [
       "<div>\n",
       "<style scoped>\n",
       "    .dataframe tbody tr th:only-of-type {\n",
       "        vertical-align: middle;\n",
       "    }\n",
       "\n",
       "    .dataframe tbody tr th {\n",
       "        vertical-align: top;\n",
       "    }\n",
       "\n",
       "    .dataframe thead th {\n",
       "        text-align: right;\n",
       "    }\n",
       "</style>\n",
       "<table border=\"1\" class=\"dataframe\">\n",
       "  <thead>\n",
       "    <tr style=\"text-align: right;\">\n",
       "      <th></th>\n",
       "      <th>num_topic</th>\n",
       "      <th>name_topic</th>\n",
       "      <th>Topic_Frequency</th>\n",
       "    </tr>\n",
       "  </thead>\n",
       "  <tbody>\n",
       "    <tr>\n",
       "      <th>1</th>\n",
       "      <td>0.0</td>\n",
       "      <td>**Название темы:** «Маркетинг и реклама».\\n\\n**Ключевые слова и фразы:**\\n* реклама;\\n* маркетинг;\\n* конверсия;\\n* трафик;\\n* боты;\\n* анализ данных;\\n* таргетирование.\\n\\n**Главная мысль:** обсуждение различных аспектов маркетинга и рекламы, включая стратегии привлечения трафика, использование ботов, анализ данных и таргетирование аудитории.</td>\n",
       "      <td>1623</td>\n",
       "    </tr>\n",
       "    <tr>\n",
       "      <th>0</th>\n",
       "      <td>1.0</td>\n",
       "      <td>**Тема текста:** обсуждение различных аспектов интернет-маркетинга, рекламы и продвижения в сети.\\n\\n**Ключевые слова и фразы:**\\n* интернет-маркетинг;\\n* реклама;\\n* Яндекс Директ;\\n* Google Analytics;\\n* DeepSeek;\\n* ChatGPT;\\n* продвижение в сети;\\n* лиды;\\n* CTR;\\n* конверсия.\\n\\n**Главная мысль:** текст представляет собой набор сообщений и обсуждений на тему интернет-маркетинга и рекламы, в которых участники делятся опытом, советами и мнениями по улучшению эффективности своих кампаний и привлечению клиентов.</td>\n",
       "      <td>760</td>\n",
       "    </tr>\n",
       "    <tr>\n",
       "      <th>9</th>\n",
       "      <td>-1.0</td>\n",
       "      <td>**Название темы:** «Маркетинг и реклама в современном бизнесе».\\n\\n**Ключевые слова и фразы:**\\n* маркетинг;\\n* реклама;\\n* Яндекс Директ;\\n* бизнес;\\n* продажи;\\n* продвижение.\\n\\n**Главная мысль:** в современном бизнесе большое внимание уделяется маркетингу и рекламе как основным инструментам продвижения товаров и услуг. Обсуждаются различные аспекты рекламы, включая использование Яндекс Директ и других платформ для привлечения клиентов.</td>\n",
       "      <td>539</td>\n",
       "    </tr>\n",
       "    <tr>\n",
       "      <th>6</th>\n",
       "      <td>2.0</td>\n",
       "      <td>**Тема:** обсуждение проблем и вопросов, связанных с настройкой и использованием рекламных инструментов в интернете.\\n\\n**Ключевые слова и фразы:**\\n* Яндекс Директ;\\n* Метрика;\\n* вебвизор;\\n* ретаргетинг;\\n* Google Ads;\\n* Яндекс Аудитории;\\n* CRM;\\n* идентификация пользователей;\\n* настройка рекламы;\\n* учёт конверсий.\\n\\n**Главная мысль:** участники обсуждения делятся опытом и знаниями по настройке и использованию рекламных инструментов в интернете, обсуждают проблемы и находят решения.</td>\n",
       "      <td>232</td>\n",
       "    </tr>\n",
       "    <tr>\n",
       "      <th>5</th>\n",
       "      <td>4.0</td>\n",
       "      <td>**Основная тема текста:** привлечение новых участников в исследование и программу карьерного развития Практикума.\\n\\n**Ключевые слова и фразы:**\\n* исследование;\\n* анкетирование;\\n* карьерное развитие;\\n* программа;\\n* трудоустройство;\\n* фриланс.\\n\\n**Главная мысль:** команда Практикума проводит исследование и приглашает выпускников курсов присоединиться к программе карьерного развития для поиска работы или выхода на фриланс.</td>\n",
       "      <td>124</td>\n",
       "    </tr>\n",
       "    <tr>\n",
       "      <th>3</th>\n",
       "      <td>5.0</td>\n",
       "      <td>**Тема:** поиск специалистов и обсуждение маркетинговых стратегий.\\n\\n**Ключевые слова и фразы:** директолог, SEO-специалист, маркетолог, таргет, лидогенерация, CRM, реклама в Telegram, хакатон, медиаплан.\\n\\n**Главная мысль:** в обсуждении участвуют специалисты и маркетологи, которые ищут коллег для совместной работы над проектами, делятся опытом и обсуждают актуальные вопросы в сфере маркетинга.</td>\n",
       "      <td>86</td>\n",
       "    </tr>\n",
       "    <tr>\n",
       "      <th>2</th>\n",
       "      <td>3.0</td>\n",
       "      <td>В интернете есть много сайтов с информацией на эту тему. [Посмотрите, что нашлось в поиске](https://ya.ru)</td>\n",
       "      <td>76</td>\n",
       "    </tr>\n",
       "    <tr>\n",
       "      <th>8</th>\n",
       "      <td>6.0</td>\n",
       "      <td>**Тема:** работа с веб-инструментами и программирование.\\n\\n**Ключевые слова и фразы:**\\n* WordPress;\\n* Метрика;\\n* JavaScript;\\n* Python;\\n* программирование;\\n* веб-инструменты.\\n\\n**Главная мысль:** текст содержит информацию о работе с различными веб-инструментами и программировании, включая установку счётчиков Метрики на сайт и примеры кода на JavaScript.</td>\n",
       "      <td>36</td>\n",
       "    </tr>\n",
       "    <tr>\n",
       "      <th>4</th>\n",
       "      <td>7.0</td>\n",
       "      <td>**Тема:** обсуждение идентификаторов в сервисах Яндекса.\\n\\n**Ключевые слова и фразы:**\\n* код;\\n* yclid;\\n* uid;\\n* копилот;\\n* php;\\n* уникальные номера;\\n* Яндекс.\\n\\n**Главная мысль:** в тексте обсуждаются идентификаторы, используемые в сервисах Яндекса, и их роль в программировании и отслеживании действий пользователей.</td>\n",
       "      <td>27</td>\n",
       "    </tr>\n",
       "    <tr>\n",
       "      <th>7</th>\n",
       "      <td>8.0</td>\n",
       "      <td>**Тема:** завершение общения и пожелание спокойной ночи.\\n\\n**Ключевые слова и фразы:**\\n* завершение общения;\\n* пожелание спокойной ночи;\\n* идти на боковую.\\n\\n**Главная мысль:** автор прощается с участниками общения и желает им спокойной ночи.</td>\n",
       "      <td>14</td>\n",
       "    </tr>\n",
       "  </tbody>\n",
       "</table>\n",
       "</div>"
      ],
      "text/plain": [
       "   num_topic  \\\n",
       "1        0.0   \n",
       "0        1.0   \n",
       "9       -1.0   \n",
       "6        2.0   \n",
       "5        4.0   \n",
       "3        5.0   \n",
       "2        3.0   \n",
       "8        6.0   \n",
       "4        7.0   \n",
       "7        8.0   \n",
       "\n",
       "                                                                                                                                                                                                                                                                                                                                                                                                                                                                                                                               name_topic  \\\n",
       "1                                                                                                                                                                               **Название темы:** «Маркетинг и реклама».\\n\\n**Ключевые слова и фразы:**\\n* реклама;\\n* маркетинг;\\n* конверсия;\\n* трафик;\\n* боты;\\n* анализ данных;\\n* таргетирование.\\n\\n**Главная мысль:** обсуждение различных аспектов маркетинга и рекламы, включая стратегии привлечения трафика, использование ботов, анализ данных и таргетирование аудитории.   \n",
       "0  **Тема текста:** обсуждение различных аспектов интернет-маркетинга, рекламы и продвижения в сети.\\n\\n**Ключевые слова и фразы:**\\n* интернет-маркетинг;\\n* реклама;\\n* Яндекс Директ;\\n* Google Analytics;\\n* DeepSeek;\\n* ChatGPT;\\n* продвижение в сети;\\n* лиды;\\n* CTR;\\n* конверсия.\\n\\n**Главная мысль:** текст представляет собой набор сообщений и обсуждений на тему интернет-маркетинга и рекламы, в которых участники делятся опытом, советами и мнениями по улучшению эффективности своих кампаний и привлечению клиентов.   \n",
       "9                                                                             **Название темы:** «Маркетинг и реклама в современном бизнесе».\\n\\n**Ключевые слова и фразы:**\\n* маркетинг;\\n* реклама;\\n* Яндекс Директ;\\n* бизнес;\\n* продажи;\\n* продвижение.\\n\\n**Главная мысль:** в современном бизнесе большое внимание уделяется маркетингу и рекламе как основным инструментам продвижения товаров и услуг. Обсуждаются различные аспекты рекламы, включая использование Яндекс Директ и других платформ для привлечения клиентов.   \n",
       "6                         **Тема:** обсуждение проблем и вопросов, связанных с настройкой и использованием рекламных инструментов в интернете.\\n\\n**Ключевые слова и фразы:**\\n* Яндекс Директ;\\n* Метрика;\\n* вебвизор;\\n* ретаргетинг;\\n* Google Ads;\\n* Яндекс Аудитории;\\n* CRM;\\n* идентификация пользователей;\\n* настройка рекламы;\\n* учёт конверсий.\\n\\n**Главная мысль:** участники обсуждения делятся опытом и знаниями по настройке и использованию рекламных инструментов в интернете, обсуждают проблемы и находят решения.   \n",
       "5                                                                                         **Основная тема текста:** привлечение новых участников в исследование и программу карьерного развития Практикума.\\n\\n**Ключевые слова и фразы:**\\n* исследование;\\n* анкетирование;\\n* карьерное развитие;\\n* программа;\\n* трудоустройство;\\n* фриланс.\\n\\n**Главная мысль:** команда Практикума проводит исследование и приглашает выпускников курсов присоединиться к программе карьерного развития для поиска работы или выхода на фриланс.   \n",
       "3                                                                                                                        **Тема:** поиск специалистов и обсуждение маркетинговых стратегий.\\n\\n**Ключевые слова и фразы:** директолог, SEO-специалист, маркетолог, таргет, лидогенерация, CRM, реклама в Telegram, хакатон, медиаплан.\\n\\n**Главная мысль:** в обсуждении участвуют специалисты и маркетологи, которые ищут коллег для совместной работы над проектами, делятся опытом и обсуждают актуальные вопросы в сфере маркетинга.   \n",
       "2                                                                                                                                                                                                                                                                                                                                                                                                                              В интернете есть много сайтов с информацией на эту тему. [Посмотрите, что нашлось в поиске](https://ya.ru)   \n",
       "8                                                                                                                                                              **Тема:** работа с веб-инструментами и программирование.\\n\\n**Ключевые слова и фразы:**\\n* WordPress;\\n* Метрика;\\n* JavaScript;\\n* Python;\\n* программирование;\\n* веб-инструменты.\\n\\n**Главная мысль:** текст содержит информацию о работе с различными веб-инструментами и программировании, включая установку счётчиков Метрики на сайт и примеры кода на JavaScript.   \n",
       "4                                                                                                                                                                                                  **Тема:** обсуждение идентификаторов в сервисах Яндекса.\\n\\n**Ключевые слова и фразы:**\\n* код;\\n* yclid;\\n* uid;\\n* копилот;\\n* php;\\n* уникальные номера;\\n* Яндекс.\\n\\n**Главная мысль:** в тексте обсуждаются идентификаторы, используемые в сервисах Яндекса, и их роль в программировании и отслеживании действий пользователей.   \n",
       "7                                                                                                                                                                                                                                                                                 **Тема:** завершение общения и пожелание спокойной ночи.\\n\\n**Ключевые слова и фразы:**\\n* завершение общения;\\n* пожелание спокойной ночи;\\n* идти на боковую.\\n\\n**Главная мысль:** автор прощается с участниками общения и желает им спокойной ночи.   \n",
       "\n",
       "   Topic_Frequency  \n",
       "1             1623  \n",
       "0              760  \n",
       "9              539  \n",
       "6              232  \n",
       "5              124  \n",
       "3               86  \n",
       "2               76  \n",
       "8               36  \n",
       "4               27  \n",
       "7               14  "
      ]
     },
     "metadata": {},
     "output_type": "display_data"
    }
   ],
   "source": [
    "with pd.option_context ('display.max_colwidth', None):\n",
    "    display( df_topic_list.sort_values(by = 'Topic_Frequency', ascending=False))"
   ]
  },
  {
   "cell_type": "markdown",
   "id": "2a28ab4f-cbe3-411f-ae5a-6bbbc73dceb9",
   "metadata": {},
   "source": [
    "Кластер -1.0 BERTopic оценивает как мусорный — без выраженной тематической структуры. "
   ]
  },
  {
   "cell_type": "markdown",
   "id": "348a2038-5cfb-461b-aee1-e159f972d353",
   "metadata": {},
   "source": [
    "Предметом  исследовния и настройки могут являться:\n",
    "- первичная обработка текста(  оценка  важности сообщений,  отбор сообщений для кластеризации,  создание синтетических сообщений\n",
    "                             для центровки кластеров);\n",
    "- выбор модели для получения эмбеддингов;\n",
    "- Настройка редьюкции размерности;\n",
    "- Кластеризация: выбор алгоритма (HDBSCAN, KMeans и др.) и его параметров;\n",
    "- выбор LLM : сравнение локальных (бюджетных) и облачных (API) решений с точки зрения качества, скорости и затрат;\n",
    "- Prompt Engineering \n"
   ]
  },
  {
   "cell_type": "markdown",
   "id": "22068a15-1837-4444-b039-75e9ddcd69f6",
   "metadata": {},
   "source": [
    "Отзывы, замечания предложения ревьера:\n",
    "\n",
    "\n",
    "\n",
    "\n",
    "\n",
    "\n",
    "\n",
    "\n",
    "\n",
    "\n",
    "\n",
    "\n"
   ]
  },
  {
   "cell_type": "code",
   "execution_count": 38,
   "id": "8196664c-a109-47fe-89bb-a29059b1ff4e",
   "metadata": {},
   "outputs": [],
   "source": []
  },
  {
   "cell_type": "code",
   "execution_count": null,
   "id": "22770d25-c152-488e-82cd-8ec3e6c84e8f",
   "metadata": {},
   "outputs": [],
   "source": []
  }
 ],
 "metadata": {
  "kernelspec": {
   "display_name": "Python 3 (ipykernel)",
   "language": "python",
   "name": "python3"
  },
  "language_info": {
   "codemirror_mode": {
    "name": "ipython",
    "version": 3
   },
   "file_extension": ".py",
   "mimetype": "text/x-python",
   "name": "python",
   "nbconvert_exporter": "python",
   "pygments_lexer": "ipython3",
   "version": "3.12.7"
  }
 },
 "nbformat": 4,
 "nbformat_minor": 5
}
