{
 "cells": [
  {
   "cell_type": "markdown",
   "metadata": {},
   "source": [
    "# Парсинг json файла"
   ]
  },
  {
   "cell_type": "markdown",
   "metadata": {},
   "source": [
    "## Библиотеки"
   ]
  },
  {
   "cell_type": "code",
   "execution_count": 1,
   "metadata": {},
   "outputs": [],
   "source": [
    "import json\n",
    "import pandas as pd"
   ]
  },
  {
   "cell_type": "markdown",
   "metadata": {},
   "source": [
    "## Чтение файла"
   ]
  },
  {
   "cell_type": "code",
   "execution_count": 6,
   "metadata": {},
   "outputs": [
    {
     "name": "stdout",
     "output_type": "stream",
     "text": [
      "                          name             type          id  \\\n",
      "0  MANAGEMENT ALUMNI PRACTICUM  private_channel  1586396652   \n",
      "1  MANAGEMENT ALUMNI PRACTICUM  private_channel  1586396652   \n",
      "2  MANAGEMENT ALUMNI PRACTICUM  private_channel  1586396652   \n",
      "3  MANAGEMENT ALUMNI PRACTICUM  private_channel  1586396652   \n",
      "4  MANAGEMENT ALUMNI PRACTICUM  private_channel  1586396652   \n",
      "\n",
      "                                            messages  \n",
      "0  {'id': 856, 'type': 'message', 'date': '2025-0...  \n",
      "1  {'id': 857, 'type': 'message', 'date': '2025-0...  \n",
      "2  {'id': 858, 'type': 'message', 'date': '2025-0...  \n",
      "3  {'id': 859, 'type': 'message', 'date': '2025-0...  \n",
      "4  {'id': 860, 'type': 'message', 'date': '2025-0...  \n"
     ]
    }
   ],
   "source": [
    "# Чтение JSON файла\n",
    "with open(r'C:\\Users\\Aleksandr\\Downloads\\Masterskaya\\data\\example\\result.json', 'r', encoding='utf-8') as file:\n",
    "    data = json.load(file)\n",
    "\n",
    "# Преобразование данных в DataFrame\n",
    "df = pd.DataFrame(data)\n",
    "\n",
    "# Вывод первых нескольких строк DataFrame\n",
    "print(df.head())\n",
    "\n",
    "# Сохранение в CSV файл (если необходимо)\n",
    "df.to_csv(r'C:\\Users\\Aleksandr\\Downloads\\Masterskaya\\def_Klyusnik_A\\download\\messages.csv', index=False)"
   ]
  },
  {
   "cell_type": "code",
   "execution_count": null,
   "metadata": {},
   "outputs": [],
   "source": []
  }
 ],
 "metadata": {
  "kernelspec": {
   "display_name": "base",
   "language": "python",
   "name": "python3"
  },
  "language_info": {
   "codemirror_mode": {
    "name": "ipython",
    "version": 3
   },
   "file_extension": ".py",
   "mimetype": "text/x-python",
   "name": "python",
   "nbconvert_exporter": "python",
   "pygments_lexer": "ipython3",
   "version": "3.12.8"
  }
 },
 "nbformat": 4,
 "nbformat_minor": 2
}
