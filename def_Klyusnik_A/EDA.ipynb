{
 "cells": [
  {
   "cell_type": "markdown",
   "metadata": {},
   "source": [
    "# Разведочный анализ данных"
   ]
  },
  {
   "cell_type": "markdown",
   "metadata": {},
   "source": [
    "## Описание"
   ]
  },
  {
   "cell_type": "markdown",
   "metadata": {},
   "source": [
    "Основная задача проекта – выявить ключевые темы обсуждений у 18 активных чатов и каналов выпускных сообществ Яндекс Практикума, определить, какие из них наиболее интересны аудитории, и на основе этого формировать информативные дайджесты для выпускников.\n",
    "\n",
    "**Контекст**\n",
    "\n",
    "- необходимо провести первичный анализ сообщений,\n",
    "\n",
    "**Что нужно сделать?**\n",
    "\n",
    "1. кто пишет часто\n",
    "2. в какое время чаще всего пишут пользователи\n",
    "3. сколько пишут сообщений сколько\n",
    "4. анализ времени → пики активности, дни недели.\n",
    "5. подумать, что можно еще посчитать полезного\n",
    "\n",
    "**Результат:**\n",
    "\n",
    "- код .py, .ipynb\n",
    "- csv/xlsx файл со статистикой"
   ]
  },
  {
   "cell_type": "markdown",
   "metadata": {},
   "source": [
    "## Библиотеки"
   ]
  },
  {
   "cell_type": "code",
   "execution_count": 2,
   "metadata": {},
   "outputs": [],
   "source": [
    "import logging\n",
    "import os\n",
    "import warnings\n",
    "\n",
    "import matplotlib as mpl\n",
    "import matplotlib.pyplot as plt\n",
    "import numpy as np\n",
    "import pandas as pd\n",
    "import seaborn as sns\n",
    "import shap\n",
    "from scipy import stats\n",
    "from scipy.optimize import minimize\n",
    "from scipy.stats import mstats\n",
    "from statsmodels.tsa.seasonal import seasonal_decompose\n",
    "from statsmodels.tsa.statespace.sarimax import SARIMAX\n",
    "\n",
    "# Настройка параметров matplotlib\n",
    "mpl.rcParams.update(mpl.rcParamsDefault)\n",
    "\n",
    "# Настройка логирования\n",
    "logging.basicConfig(level=logging.INFO)\n",
    "logger = logging.getLogger(__name__)\n",
    "\n",
    "# Игнорирование предупреждений\n",
    "warnings.filterwarnings('ignore')\n",
    "\n",
    "# Настройка стиля seaborn\n",
    "sns.set_context(\"notebook\", font_scale=1.2)\n",
    "sns.set_style(\"whitegrid\")\n",
    "\n",
    "# Включение отображения графиков в Jupyter Notebook\n",
    "%matplotlib inline"
   ]
  },
  {
   "cell_type": "markdown",
   "metadata": {},
   "source": [
    "## Загрузка датасетов"
   ]
  },
  {
   "cell_type": "code",
   "execution_count": 3,
   "metadata": {},
   "outputs": [
    {
     "name": "stdout",
     "output_type": "stream",
     "text": [
      "Загрузка df: (13, 18) загрузка df_1: (1007, 36)\n"
     ]
    }
   ],
   "source": [
    "df = pd.read_csv('..\\def_Klyusnik_A\\output\\processed_messages.csv')\n",
    "df_1 = pd.read_csv('..\\def_Klyusnik_A\\output\\processed_messages_1.csv')\n",
    "\n",
    "print('Загрузка df:', df.shape, 'загрузка df_1:', df_1.shape)"
   ]
  },
  {
   "cell_type": "markdown",
   "metadata": {},
   "source": [
    "## Df Первый датасет представленный заказчиком"
   ]
  },
  {
   "cell_type": "code",
   "execution_count": 4,
   "metadata": {},
   "outputs": [
    {
     "name": "stdout",
     "output_type": "stream",
     "text": [
      "<class 'pandas.core.frame.DataFrame'>\n",
      "RangeIndex: 13 entries, 0 to 12\n",
      "Data columns (total 18 columns):\n",
      " #   Column           Non-Null Count  Dtype  \n",
      "---  ------           --------------  -----  \n",
      " 0   name             13 non-null     object \n",
      " 1   type             13 non-null     object \n",
      " 2   id_first         13 non-null     int64  \n",
      " 3   id               13 non-null     int64  \n",
      " 4   type.1           13 non-null     object \n",
      " 5   date             13 non-null     object \n",
      " 6   date_unixtime    13 non-null     int64  \n",
      " 7   edited           13 non-null     object \n",
      " 8   edited_unixtime  13 non-null     int64  \n",
      " 9   from             13 non-null     object \n",
      " 10  from_id          13 non-null     object \n",
      " 11  text             13 non-null     object \n",
      " 12  text_entities    13 non-null     object \n",
      " 13  reactions        13 non-null     object \n",
      " 14  photo            9 non-null      object \n",
      " 15  photo_file_size  9 non-null      float64\n",
      " 16  width            9 non-null      float64\n",
      " 17  height           9 non-null      float64\n",
      "dtypes: float64(3), int64(4), object(11)\n",
      "memory usage: 2.0+ KB\n"
     ]
    }
   ],
   "source": [
    "df.info()"
   ]
  },
  {
   "cell_type": "code",
   "execution_count": 5,
   "metadata": {},
   "outputs": [
    {
     "data": {
      "text/html": [
       "<div>\n",
       "<style scoped>\n",
       "    .dataframe tbody tr th:only-of-type {\n",
       "        vertical-align: middle;\n",
       "    }\n",
       "\n",
       "    .dataframe tbody tr th {\n",
       "        vertical-align: top;\n",
       "    }\n",
       "\n",
       "    .dataframe thead th {\n",
       "        text-align: right;\n",
       "    }\n",
       "</style>\n",
       "<table border=\"1\" class=\"dataframe\">\n",
       "  <thead>\n",
       "    <tr style=\"text-align: right;\">\n",
       "      <th></th>\n",
       "      <th>name</th>\n",
       "      <th>type</th>\n",
       "      <th>id_first</th>\n",
       "      <th>id</th>\n",
       "      <th>type.1</th>\n",
       "      <th>date</th>\n",
       "      <th>date_unixtime</th>\n",
       "      <th>edited</th>\n",
       "      <th>edited_unixtime</th>\n",
       "      <th>from</th>\n",
       "      <th>from_id</th>\n",
       "      <th>text</th>\n",
       "      <th>text_entities</th>\n",
       "      <th>reactions</th>\n",
       "      <th>photo</th>\n",
       "      <th>photo_file_size</th>\n",
       "      <th>width</th>\n",
       "      <th>height</th>\n",
       "    </tr>\n",
       "  </thead>\n",
       "  <tbody>\n",
       "    <tr>\n",
       "      <th>0</th>\n",
       "      <td>MANAGEMENT ALUMNI PRACTICUM</td>\n",
       "      <td>private_channel</td>\n",
       "      <td>1586396652</td>\n",
       "      <td>856</td>\n",
       "      <td>message</td>\n",
       "      <td>2025-02-01T14:06:16</td>\n",
       "      <td>1738407976</td>\n",
       "      <td>2025-02-01T14:07:41</td>\n",
       "      <td>1738408061</td>\n",
       "      <td>MANAGEMENT ALUMNI PRACTICUM</td>\n",
       "      <td>channel1586396652</td>\n",
       "      <td>[{'type': 'bold', 'text': '💥'}, {'type': 'bold...</td>\n",
       "      <td>[{'type': 'bold', 'text': '💥'}, {'type': 'bold...</td>\n",
       "      <td>[{'type': 'emoji', 'count': 6, 'emoji': '👍'}, ...</td>\n",
       "      <td>NaN</td>\n",
       "      <td>NaN</td>\n",
       "      <td>NaN</td>\n",
       "      <td>NaN</td>\n",
       "    </tr>\n",
       "    <tr>\n",
       "      <th>1</th>\n",
       "      <td>MANAGEMENT ALUMNI PRACTICUM</td>\n",
       "      <td>private_channel</td>\n",
       "      <td>1586396652</td>\n",
       "      <td>857</td>\n",
       "      <td>message</td>\n",
       "      <td>2025-02-02T14:07:55</td>\n",
       "      <td>1738494475</td>\n",
       "      <td>2025-02-03T13:05:36</td>\n",
       "      <td>1738577136</td>\n",
       "      <td>MANAGEMENT ALUMNI PRACTICUM</td>\n",
       "      <td>channel1586396652</td>\n",
       "      <td>[{'type': 'bold', 'text': '💭 Переговорный клуб...</td>\n",
       "      <td>[{'type': 'bold', 'text': '💭 Переговорный клуб...</td>\n",
       "      <td>[{'type': 'emoji', 'count': 8, 'emoji': '🔥'}, ...</td>\n",
       "      <td>photos/photo_368@02-02-2025_14-07-55.jpg</td>\n",
       "      <td>130046.0</td>\n",
       "      <td>1280.0</td>\n",
       "      <td>1280.0</td>\n",
       "    </tr>\n",
       "    <tr>\n",
       "      <th>2</th>\n",
       "      <td>MANAGEMENT ALUMNI PRACTICUM</td>\n",
       "      <td>private_channel</td>\n",
       "      <td>1586396652</td>\n",
       "      <td>858</td>\n",
       "      <td>message</td>\n",
       "      <td>2025-02-03T14:04:43</td>\n",
       "      <td>1738580683</td>\n",
       "      <td>2025-02-03T14:10:35</td>\n",
       "      <td>1738581035</td>\n",
       "      <td>MANAGEMENT ALUMNI PRACTICUM</td>\n",
       "      <td>channel1586396652</td>\n",
       "      <td>[{'type': 'bold', 'text': 'У Практикума новый ...</td>\n",
       "      <td>[{'type': 'bold', 'text': 'У Практикума новый ...</td>\n",
       "      <td>[{'type': 'emoji', 'count': 11, 'emoji': '🔥'},...</td>\n",
       "      <td>NaN</td>\n",
       "      <td>NaN</td>\n",
       "      <td>NaN</td>\n",
       "      <td>NaN</td>\n",
       "    </tr>\n",
       "    <tr>\n",
       "      <th>3</th>\n",
       "      <td>MANAGEMENT ALUMNI PRACTICUM</td>\n",
       "      <td>private_channel</td>\n",
       "      <td>1586396652</td>\n",
       "      <td>859</td>\n",
       "      <td>message</td>\n",
       "      <td>2025-02-04T19:02:42</td>\n",
       "      <td>1738684962</td>\n",
       "      <td>2025-02-04T19:08:41</td>\n",
       "      <td>1738685321</td>\n",
       "      <td>MANAGEMENT ALUMNI PRACTICUM</td>\n",
       "      <td>channel1586396652</td>\n",
       "      <td>[{'type': 'bold', 'text': 'Прямой эфир с Олей ...</td>\n",
       "      <td>[{'type': 'bold', 'text': 'Прямой эфир с Олей ...</td>\n",
       "      <td>[{'type': 'emoji', 'count': 8, 'emoji': '👍'}, ...</td>\n",
       "      <td>photos/photo_369@04-02-2025_19-02-42.jpg</td>\n",
       "      <td>108894.0</td>\n",
       "      <td>1280.0</td>\n",
       "      <td>1280.0</td>\n",
       "    </tr>\n",
       "    <tr>\n",
       "      <th>4</th>\n",
       "      <td>MANAGEMENT ALUMNI PRACTICUM</td>\n",
       "      <td>private_channel</td>\n",
       "      <td>1586396652</td>\n",
       "      <td>860</td>\n",
       "      <td>message</td>\n",
       "      <td>2025-02-07T14:07:55</td>\n",
       "      <td>1738926475</td>\n",
       "      <td>2025-02-07T14:09:14</td>\n",
       "      <td>1738926554</td>\n",
       "      <td>MANAGEMENT ALUMNI PRACTICUM</td>\n",
       "      <td>channel1586396652</td>\n",
       "      <td>[{'type': 'bold', 'text': 'Питчинг: как презен...</td>\n",
       "      <td>[{'type': 'bold', 'text': 'Питчинг: как презен...</td>\n",
       "      <td>[{'type': 'emoji', 'count': 11, 'emoji': '🔥'},...</td>\n",
       "      <td>NaN</td>\n",
       "      <td>NaN</td>\n",
       "      <td>NaN</td>\n",
       "      <td>NaN</td>\n",
       "    </tr>\n",
       "  </tbody>\n",
       "</table>\n",
       "</div>"
      ],
      "text/plain": [
       "                          name             type    id_first   id   type.1  \\\n",
       "0  MANAGEMENT ALUMNI PRACTICUM  private_channel  1586396652  856  message   \n",
       "1  MANAGEMENT ALUMNI PRACTICUM  private_channel  1586396652  857  message   \n",
       "2  MANAGEMENT ALUMNI PRACTICUM  private_channel  1586396652  858  message   \n",
       "3  MANAGEMENT ALUMNI PRACTICUM  private_channel  1586396652  859  message   \n",
       "4  MANAGEMENT ALUMNI PRACTICUM  private_channel  1586396652  860  message   \n",
       "\n",
       "                  date  date_unixtime               edited  edited_unixtime  \\\n",
       "0  2025-02-01T14:06:16     1738407976  2025-02-01T14:07:41       1738408061   \n",
       "1  2025-02-02T14:07:55     1738494475  2025-02-03T13:05:36       1738577136   \n",
       "2  2025-02-03T14:04:43     1738580683  2025-02-03T14:10:35       1738581035   \n",
       "3  2025-02-04T19:02:42     1738684962  2025-02-04T19:08:41       1738685321   \n",
       "4  2025-02-07T14:07:55     1738926475  2025-02-07T14:09:14       1738926554   \n",
       "\n",
       "                          from            from_id  \\\n",
       "0  MANAGEMENT ALUMNI PRACTICUM  channel1586396652   \n",
       "1  MANAGEMENT ALUMNI PRACTICUM  channel1586396652   \n",
       "2  MANAGEMENT ALUMNI PRACTICUM  channel1586396652   \n",
       "3  MANAGEMENT ALUMNI PRACTICUM  channel1586396652   \n",
       "4  MANAGEMENT ALUMNI PRACTICUM  channel1586396652   \n",
       "\n",
       "                                                text  \\\n",
       "0  [{'type': 'bold', 'text': '💥'}, {'type': 'bold...   \n",
       "1  [{'type': 'bold', 'text': '💭 Переговорный клуб...   \n",
       "2  [{'type': 'bold', 'text': 'У Практикума новый ...   \n",
       "3  [{'type': 'bold', 'text': 'Прямой эфир с Олей ...   \n",
       "4  [{'type': 'bold', 'text': 'Питчинг: как презен...   \n",
       "\n",
       "                                       text_entities  \\\n",
       "0  [{'type': 'bold', 'text': '💥'}, {'type': 'bold...   \n",
       "1  [{'type': 'bold', 'text': '💭 Переговорный клуб...   \n",
       "2  [{'type': 'bold', 'text': 'У Практикума новый ...   \n",
       "3  [{'type': 'bold', 'text': 'Прямой эфир с Олей ...   \n",
       "4  [{'type': 'bold', 'text': 'Питчинг: как презен...   \n",
       "\n",
       "                                           reactions  \\\n",
       "0  [{'type': 'emoji', 'count': 6, 'emoji': '👍'}, ...   \n",
       "1  [{'type': 'emoji', 'count': 8, 'emoji': '🔥'}, ...   \n",
       "2  [{'type': 'emoji', 'count': 11, 'emoji': '🔥'},...   \n",
       "3  [{'type': 'emoji', 'count': 8, 'emoji': '👍'}, ...   \n",
       "4  [{'type': 'emoji', 'count': 11, 'emoji': '🔥'},...   \n",
       "\n",
       "                                      photo  photo_file_size   width  height  \n",
       "0                                       NaN              NaN     NaN     NaN  \n",
       "1  photos/photo_368@02-02-2025_14-07-55.jpg         130046.0  1280.0  1280.0  \n",
       "2                                       NaN              NaN     NaN     NaN  \n",
       "3  photos/photo_369@04-02-2025_19-02-42.jpg         108894.0  1280.0  1280.0  \n",
       "4                                       NaN              NaN     NaN     NaN  "
      ]
     },
     "execution_count": 5,
     "metadata": {},
     "output_type": "execute_result"
    }
   ],
   "source": [
    "df.head(5)"
   ]
  },
  {
   "cell_type": "code",
   "execution_count": 6,
   "metadata": {},
   "outputs": [
    {
     "data": {
      "text/html": [
       "<div>\n",
       "<style scoped>\n",
       "    .dataframe tbody tr th:only-of-type {\n",
       "        vertical-align: middle;\n",
       "    }\n",
       "\n",
       "    .dataframe tbody tr th {\n",
       "        vertical-align: top;\n",
       "    }\n",
       "\n",
       "    .dataframe thead th {\n",
       "        text-align: right;\n",
       "    }\n",
       "</style>\n",
       "<table border=\"1\" class=\"dataframe\">\n",
       "  <thead>\n",
       "    <tr style=\"text-align: right;\">\n",
       "      <th></th>\n",
       "      <th>count</th>\n",
       "      <th>mean</th>\n",
       "      <th>std</th>\n",
       "      <th>min</th>\n",
       "      <th>25%</th>\n",
       "      <th>50%</th>\n",
       "      <th>75%</th>\n",
       "      <th>max</th>\n",
       "    </tr>\n",
       "  </thead>\n",
       "  <tbody>\n",
       "    <tr>\n",
       "      <th>id_first</th>\n",
       "      <td>13.0</td>\n",
       "      <td>1.586397e+09</td>\n",
       "      <td>0.000000</td>\n",
       "      <td>1.586397e+09</td>\n",
       "      <td>1.586397e+09</td>\n",
       "      <td>1.586397e+09</td>\n",
       "      <td>1.586397e+09</td>\n",
       "      <td>1.586397e+09</td>\n",
       "    </tr>\n",
       "    <tr>\n",
       "      <th>id</th>\n",
       "      <td>13.0</td>\n",
       "      <td>8.620000e+02</td>\n",
       "      <td>3.894440</td>\n",
       "      <td>8.560000e+02</td>\n",
       "      <td>8.590000e+02</td>\n",
       "      <td>8.620000e+02</td>\n",
       "      <td>8.650000e+02</td>\n",
       "      <td>8.680000e+02</td>\n",
       "    </tr>\n",
       "    <tr>\n",
       "      <th>date_unixtime</th>\n",
       "      <td>13.0</td>\n",
       "      <td>1.739319e+09</td>\n",
       "      <td>708246.072971</td>\n",
       "      <td>1.738408e+09</td>\n",
       "      <td>1.738685e+09</td>\n",
       "      <td>1.739186e+09</td>\n",
       "      <td>1.739877e+09</td>\n",
       "      <td>1.740560e+09</td>\n",
       "    </tr>\n",
       "    <tr>\n",
       "      <th>edited_unixtime</th>\n",
       "      <td>13.0</td>\n",
       "      <td>1.739326e+09</td>\n",
       "      <td>700785.169874</td>\n",
       "      <td>1.738408e+09</td>\n",
       "      <td>1.738685e+09</td>\n",
       "      <td>1.739186e+09</td>\n",
       "      <td>1.739877e+09</td>\n",
       "      <td>1.740561e+09</td>\n",
       "    </tr>\n",
       "    <tr>\n",
       "      <th>photo_file_size</th>\n",
       "      <td>9.0</td>\n",
       "      <td>1.302191e+05</td>\n",
       "      <td>17649.220255</td>\n",
       "      <td>9.600600e+04</td>\n",
       "      <td>1.257000e+05</td>\n",
       "      <td>1.328580e+05</td>\n",
       "      <td>1.452550e+05</td>\n",
       "      <td>1.460310e+05</td>\n",
       "    </tr>\n",
       "    <tr>\n",
       "      <th>width</th>\n",
       "      <td>9.0</td>\n",
       "      <td>1.257778e+03</td>\n",
       "      <td>66.666667</td>\n",
       "      <td>1.080000e+03</td>\n",
       "      <td>1.280000e+03</td>\n",
       "      <td>1.280000e+03</td>\n",
       "      <td>1.280000e+03</td>\n",
       "      <td>1.280000e+03</td>\n",
       "    </tr>\n",
       "    <tr>\n",
       "      <th>height</th>\n",
       "      <td>9.0</td>\n",
       "      <td>1.252000e+03</td>\n",
       "      <td>65.084560</td>\n",
       "      <td>1.080000e+03</td>\n",
       "      <td>1.260000e+03</td>\n",
       "      <td>1.280000e+03</td>\n",
       "      <td>1.280000e+03</td>\n",
       "      <td>1.280000e+03</td>\n",
       "    </tr>\n",
       "  </tbody>\n",
       "</table>\n",
       "</div>"
      ],
      "text/plain": [
       "                 count          mean            std           min  \\\n",
       "id_first          13.0  1.586397e+09       0.000000  1.586397e+09   \n",
       "id                13.0  8.620000e+02       3.894440  8.560000e+02   \n",
       "date_unixtime     13.0  1.739319e+09  708246.072971  1.738408e+09   \n",
       "edited_unixtime   13.0  1.739326e+09  700785.169874  1.738408e+09   \n",
       "photo_file_size    9.0  1.302191e+05   17649.220255  9.600600e+04   \n",
       "width              9.0  1.257778e+03      66.666667  1.080000e+03   \n",
       "height             9.0  1.252000e+03      65.084560  1.080000e+03   \n",
       "\n",
       "                          25%           50%           75%           max  \n",
       "id_first         1.586397e+09  1.586397e+09  1.586397e+09  1.586397e+09  \n",
       "id               8.590000e+02  8.620000e+02  8.650000e+02  8.680000e+02  \n",
       "date_unixtime    1.738685e+09  1.739186e+09  1.739877e+09  1.740560e+09  \n",
       "edited_unixtime  1.738685e+09  1.739186e+09  1.739877e+09  1.740561e+09  \n",
       "photo_file_size  1.257000e+05  1.328580e+05  1.452550e+05  1.460310e+05  \n",
       "width            1.280000e+03  1.280000e+03  1.280000e+03  1.280000e+03  \n",
       "height           1.260000e+03  1.280000e+03  1.280000e+03  1.280000e+03  "
      ]
     },
     "execution_count": 6,
     "metadata": {},
     "output_type": "execute_result"
    }
   ],
   "source": [
    "df.describe().T"
   ]
  },
  {
   "cell_type": "code",
   "execution_count": 7,
   "metadata": {},
   "outputs": [
    {
     "name": "stdout",
     "output_type": "stream",
     "text": [
      "name - 0%\n",
      "type - 0%\n",
      "id_first - 0%\n",
      "id - 0%\n",
      "type.1 - 0%\n",
      "date - 0%\n",
      "date_unixtime - 0%\n",
      "edited - 0%\n",
      "edited_unixtime - 0%\n",
      "from - 0%\n",
      "from_id - 0%\n",
      "text - 0%\n",
      "text_entities - 0%\n",
      "reactions - 0%\n",
      "photo - 31%\n",
      "photo_file_size - 31%\n",
      "width - 31%\n",
      "height - 31%\n"
     ]
    }
   ],
   "source": [
    "for col in df.columns:\n",
    "    pct_missing = np.mean(df[col].isnull())\n",
    "    print('{} - {}%'.format(col, round(pct_missing*100)))"
   ]
  },
  {
   "cell_type": "markdown",
   "metadata": {},
   "source": [
    "**Общее количество записей:** 13\n",
    "\n",
    "**Количество колонок:** 18\n",
    "\n",
    "**Пропуски:**\n",
    "\n",
    "Колонки photo, photo_file_size, width, и height имеют пропуски (9 ненулевых значений из 13).\n",
    "Остальные колонки не содержат пропусков.\n",
    "\n",
    "**Типы данных:**\n",
    "\n",
    "- 4 колонки имеют тип int64.\n",
    "- 3 колонки имеют тип float64.\n",
    "- 11 колонок имеют тип object (строковые данные).\n",
    "\n",
    "**Статистические характеристики:**\n",
    "\n",
    "- Колонка id_first имеет постоянное значение (1.586397e+09).\n",
    "- Колонка id варьируется от 856 до 868.\n",
    "- Временные метки (date_unixtime и edited_unixtime) имеют схожие значения, с небольшими колебаниями.\n",
    "- Для колонок photo_file_size, width и height доступны статистические данные только для 9 записей, что указывает на наличие пропусков."
   ]
  },
  {
   "cell_type": "markdown",
   "metadata": {},
   "source": [
    "### name"
   ]
  },
  {
   "cell_type": "code",
   "execution_count": 8,
   "metadata": {},
   "outputs": [
    {
     "data": {
      "text/plain": [
       "array(['MANAGEMENT ALUMNI PRACTICUM'], dtype=object)"
      ]
     },
     "execution_count": 8,
     "metadata": {},
     "output_type": "execute_result"
    }
   ],
   "source": [
    "df['name'].unique()"
   ]
  },
  {
   "cell_type": "markdown",
   "metadata": {},
   "source": [
    "**Анализ одного чата**"
   ]
  },
  {
   "cell_type": "markdown",
   "metadata": {},
   "source": [
    "### type"
   ]
  },
  {
   "cell_type": "code",
   "execution_count": 10,
   "metadata": {},
   "outputs": [
    {
     "data": {
      "text/plain": [
       "array(['private_channel'], dtype=object)"
      ]
     },
     "execution_count": 10,
     "metadata": {},
     "output_type": "execute_result"
    }
   ],
   "source": [
    "df['type'].unique()"
   ]
  },
  {
   "cell_type": "markdown",
   "metadata": {},
   "source": [
    "**Только приватный канал менеджмента**"
   ]
  },
  {
   "cell_type": "markdown",
   "metadata": {},
   "source": [
    "### id_first"
   ]
  },
  {
   "cell_type": "code",
   "execution_count": 11,
   "metadata": {},
   "outputs": [
    {
     "data": {
      "text/plain": [
       "array([1586396652], dtype=int64)"
      ]
     },
     "execution_count": 11,
     "metadata": {},
     "output_type": "execute_result"
    }
   ],
   "source": [
    "df['id_first'].unique() "
   ]
  },
  {
   "cell_type": "markdown",
   "metadata": {},
   "source": [
    "**Данный id - сам канал**"
   ]
  },
  {
   "cell_type": "markdown",
   "metadata": {},
   "source": [
    "### id"
   ]
  },
  {
   "cell_type": "code",
   "execution_count": 12,
   "metadata": {},
   "outputs": [
    {
     "data": {
      "text/plain": [
       "array([856, 857, 858, 859, 860, 861, 862, 863, 864, 865, 866, 867, 868],\n",
       "      dtype=int64)"
      ]
     },
     "execution_count": 12,
     "metadata": {},
     "output_type": "execute_result"
    }
   ],
   "source": [
    "df['id'].unique() "
   ]
  },
  {
   "cell_type": "markdown",
   "metadata": {},
   "source": [
    "**Каждое сообщение идет с присвоением своего id**"
   ]
  },
  {
   "cell_type": "markdown",
   "metadata": {},
   "source": [
    "### type.1"
   ]
  },
  {
   "cell_type": "code",
   "execution_count": 13,
   "metadata": {},
   "outputs": [
    {
     "data": {
      "text/plain": [
       "array(['message'], dtype=object)"
      ]
     },
     "execution_count": 13,
     "metadata": {},
     "output_type": "execute_result"
    }
   ],
   "source": [
    "\n",
    "df['type.1'].unique() "
   ]
  },
  {
   "cell_type": "markdown",
   "metadata": {},
   "source": [
    "**Маркировка типа сообщения. В других датасетах оно может отличаться**"
   ]
  },
  {
   "cell_type": "markdown",
   "metadata": {},
   "source": [
    "## date"
   ]
  },
  {
   "cell_type": "code",
   "execution_count": 14,
   "metadata": {},
   "outputs": [],
   "source": [
    "df['date'] = pd.to_datetime(df['date'])\n",
    "\n",
    "df['date_only'] = df['date'].dt.date\n",
    "\n",
    "# Извлечение дня недели\n",
    "df['day_of_week'] = df['date'].dt.day_name()  # или df['date'].dt.weekday для числового представления (0=понедельник, 6=воскресенье)\n",
    "\n",
    "# Извлечение времени\n",
    "df['time_only'] = df['date'].dt.time"
   ]
  },
  {
   "cell_type": "code",
   "execution_count": 15,
   "metadata": {},
   "outputs": [
    {
     "data": {
      "text/plain": [
       "0     2025-02-01\n",
       "1     2025-02-02\n",
       "2     2025-02-03\n",
       "3     2025-02-04\n",
       "4     2025-02-07\n",
       "5     2025-02-08\n",
       "6     2025-02-10\n",
       "7     2025-02-13\n",
       "8     2025-02-17\n",
       "9     2025-02-18\n",
       "10    2025-02-20\n",
       "11    2025-02-21\n",
       "12    2025-02-26\n",
       "Name: date_only, dtype: object"
      ]
     },
     "execution_count": 15,
     "metadata": {},
     "output_type": "execute_result"
    }
   ],
   "source": [
    "df['date_only'] "
   ]
  },
  {
   "cell_type": "markdown",
   "metadata": {},
   "source": [
    "**Всго 12 дней февраля**"
   ]
  },
  {
   "cell_type": "code",
   "execution_count": 16,
   "metadata": {},
   "outputs": [
    {
     "data": {
      "text/plain": [
       "0      Saturday\n",
       "1        Sunday\n",
       "2        Monday\n",
       "3       Tuesday\n",
       "4        Friday\n",
       "5      Saturday\n",
       "6        Monday\n",
       "7      Thursday\n",
       "8        Monday\n",
       "9       Tuesday\n",
       "10     Thursday\n",
       "11       Friday\n",
       "12    Wednesday\n",
       "Name: day_of_week, dtype: object"
      ]
     },
     "execution_count": 16,
     "metadata": {},
     "output_type": "execute_result"
    }
   ],
   "source": [
    "df['day_of_week']"
   ]
  },
  {
   "cell_type": "code",
   "execution_count": null,
   "metadata": {},
   "outputs": [],
   "source": []
  }
 ],
 "metadata": {
  "kernelspec": {
   "display_name": "base",
   "language": "python",
   "name": "python3"
  },
  "language_info": {
   "codemirror_mode": {
    "name": "ipython",
    "version": 3
   },
   "file_extension": ".py",
   "mimetype": "text/x-python",
   "name": "python",
   "nbconvert_exporter": "python",
   "pygments_lexer": "ipython3",
   "version": "3.12.8"
  }
 },
 "nbformat": 4,
 "nbformat_minor": 2
}
